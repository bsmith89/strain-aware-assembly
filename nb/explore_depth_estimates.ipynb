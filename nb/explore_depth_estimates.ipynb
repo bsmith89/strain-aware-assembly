{
 "cells": [
  {
   "cell_type": "markdown",
   "id": "256dbb9c-01e3-4ffa-b833-0b37eb2b084a",
   "metadata": {},
   "source": [
    "# Preamble"
   ]
  },
  {
   "cell_type": "code",
   "execution_count": 1,
   "id": "90bf91ec-244d-4d49-b7fb-aeff874385c3",
   "metadata": {
    "execution": {
     "iopub.execute_input": "2024-11-20T16:27:14.766551Z",
     "iopub.status.busy": "2024-11-20T16:27:14.766294Z",
     "iopub.status.idle": "2024-11-20T16:27:14.913982Z",
     "shell.execute_reply": "2024-11-20T16:27:14.913088Z",
     "shell.execute_reply.started": "2024-11-20T16:27:14.766524Z"
    },
    "tags": []
   },
   "outputs": [
    {
     "name": "stdout",
     "output_type": "stream",
     "text": [
      "Wed Nov 20 08:27:14 PST 2024\n"
     ]
    }
   ],
   "source": [
    "!date"
   ]
  },
  {
   "cell_type": "code",
   "execution_count": 2,
   "id": "7f2d7010-7734-43dc-9c3c-1582398ccadc",
   "metadata": {
    "execution": {
     "iopub.execute_input": "2024-11-20T16:27:14.915449Z",
     "iopub.status.busy": "2024-11-20T16:27:14.915188Z",
     "iopub.status.idle": "2024-11-20T16:27:14.954670Z",
     "shell.execute_reply": "2024-11-20T16:27:14.954048Z",
     "shell.execute_reply.started": "2024-11-20T16:27:14.915418Z"
    },
    "tags": []
   },
   "outputs": [],
   "source": [
    "%load_ext autoreload\n",
    "%load_ext line_profiler"
   ]
  },
  {
   "cell_type": "code",
   "execution_count": 3,
   "id": "69fae838-7c7a-4932-a93c-6187743a9c2e",
   "metadata": {
    "execution": {
     "iopub.execute_input": "2024-11-20T16:27:14.955831Z",
     "iopub.status.busy": "2024-11-20T16:27:14.955509Z",
     "iopub.status.idle": "2024-11-20T16:27:14.959181Z",
     "shell.execute_reply": "2024-11-20T16:27:14.958632Z",
     "shell.execute_reply.started": "2024-11-20T16:27:14.955812Z"
    },
    "tags": []
   },
   "outputs": [],
   "source": [
    "import logging\n",
    "\n",
    "logging.basicConfig(level=logging.INFO, force=True)"
   ]
  },
  {
   "cell_type": "code",
   "execution_count": 4,
   "id": "d0c7e1d4-2f9d-42c0-b374-b99c73f4efe7",
   "metadata": {
    "execution": {
     "iopub.execute_input": "2024-11-20T16:27:14.961366Z",
     "iopub.status.busy": "2024-11-20T16:27:14.960820Z",
     "iopub.status.idle": "2024-11-20T16:27:14.971012Z",
     "shell.execute_reply": "2024-11-20T16:27:14.970437Z",
     "shell.execute_reply.started": "2024-11-20T16:27:14.961346Z"
    },
    "tags": []
   },
   "outputs": [],
   "source": [
    "import os as _os\n",
    "\n",
    "_os.chdir(_os.environ[\"PROJECT_ROOT\"])"
   ]
  },
  {
   "cell_type": "code",
   "execution_count": 5,
   "id": "40369256-bb97-47f1-9a99-b1b04b38fb2f",
   "metadata": {
    "execution": {
     "iopub.execute_input": "2024-11-20T16:27:14.972037Z",
     "iopub.status.busy": "2024-11-20T16:27:14.971853Z",
     "iopub.status.idle": "2024-11-20T16:27:20.855659Z",
     "shell.execute_reply": "2024-11-20T16:27:20.854664Z",
     "shell.execute_reply.started": "2024-11-20T16:27:14.972018Z"
    },
    "tags": []
   },
   "outputs": [],
   "source": [
    "import os\n",
    "from contextlib import contextmanager\n",
    "from itertools import chain, product\n",
    "from multiprocessing import Pool\n",
    "\n",
    "import fastcluster\n",
    "import graph_tool as gt\n",
    "import graph_tool.draw\n",
    "import matplotlib as mpl\n",
    "import matplotlib.pyplot as plt\n",
    "import numpy as np\n",
    "import pandas as pd\n",
    "import scipy as sp\n",
    "import seaborn as sns\n",
    "import strainzip as sz\n",
    "import strainzip.app.unzip\n",
    "import xarray as xr\n",
    "from graph_tool.util import find_edge\n",
    "from scipy.cluster.hierarchy import fcluster, linkage\n",
    "from strainzip.pandas_util import idxwhere\n",
    "from tqdm import tqdm\n",
    "\n",
    "import lib.plot"
   ]
  },
  {
   "cell_type": "markdown",
   "id": "aa058442-89c7-43ef-9a6c-79f978567f84",
   "metadata": {},
   "source": [
    "# Params"
   ]
  },
  {
   "cell_type": "markdown",
   "id": "ce3b51d8-bbeb-4097-82f7-e5da9ca1bfe5",
   "metadata": {},
   "source": [
    "## Plotting"
   ]
  },
  {
   "cell_type": "code",
   "execution_count": 6,
   "id": "70bc86f6-f4e7-400a-b037-c359560b2011",
   "metadata": {
    "execution": {
     "iopub.execute_input": "2024-11-20T16:27:20.857428Z",
     "iopub.status.busy": "2024-11-20T16:27:20.856780Z",
     "iopub.status.idle": "2024-11-20T16:27:20.861728Z",
     "shell.execute_reply": "2024-11-20T16:27:20.861086Z",
     "shell.execute_reply.started": "2024-11-20T16:27:20.857401Z"
    }
   },
   "outputs": [],
   "source": [
    "mpl.rcParams[\"figure.dpi\"] = 100\n",
    "# sns.set_context('talk')"
   ]
  },
  {
   "cell_type": "code",
   "execution_count": 7,
   "id": "87c27033-a602-491d-a52e-38cc693a4fbd",
   "metadata": {
    "execution": {
     "iopub.execute_input": "2024-11-20T16:27:20.863206Z",
     "iopub.status.busy": "2024-11-20T16:27:20.862715Z",
     "iopub.status.idle": "2024-11-20T16:27:20.876024Z",
     "shell.execute_reply": "2024-11-20T16:27:20.875242Z",
     "shell.execute_reply.started": "2024-11-20T16:27:20.863180Z"
    },
    "tags": []
   },
   "outputs": [],
   "source": [
    "# Plotting parameters\n",
    "\n",
    "length_bins = np.logspace(0, 6.5, num=51)\n",
    "depth_bins = np.logspace(-1, 4, num=51)\n",
    "\n",
    "draw_graphs = True"
   ]
  },
  {
   "cell_type": "markdown",
   "id": "ff9da7ba-a4dc-45af-b390-635e72da4a4d",
   "metadata": {},
   "source": [
    "## Which assembly / output dir"
   ]
  },
  {
   "cell_type": "code",
   "execution_count": 8,
   "id": "6dd75351-d876-4934-bbbd-e36000ba46d7",
   "metadata": {
    "execution": {
     "iopub.execute_input": "2024-11-20T16:27:20.877395Z",
     "iopub.status.busy": "2024-11-20T16:27:20.877009Z",
     "iopub.status.idle": "2024-11-20T16:27:20.889642Z",
     "shell.execute_reply": "2024-11-20T16:27:20.888931Z",
     "shell.execute_reply.started": "2024-11-20T16:27:20.877367Z"
    },
    "tags": []
   },
   "outputs": [],
   "source": [
    "k = 111\n",
    "group = \"btheta_mixture1\"\n",
    "graph_type = f\"k{k}-withmegahit3-droptips\"\n",
    "smoothing = \"smoothed-6\"\n",
    "deconv = \"norm-nobal-nocull-10-10\"\n",
    "clust_params = \"e50-n20000-d20\"\n",
    "marker_model = 'TIGR02013'"
   ]
  },
  {
   "cell_type": "markdown",
   "id": "1e8ae29c-ecb2-47ee-b925-19c81ad0843c",
   "metadata": {},
   "source": [
    "# StrainZip"
   ]
  },
  {
   "cell_type": "markdown",
   "id": "0d192c5d-0349-402e-a491-775b9282ce7a",
   "metadata": {},
   "source": [
    "## Depth"
   ]
  },
  {
   "cell_type": "code",
   "execution_count": 9,
   "id": "a0136162-4074-4dd3-be5d-09bf4c27770c",
   "metadata": {
    "execution": {
     "iopub.execute_input": "2024-11-20T16:27:20.891020Z",
     "iopub.status.busy": "2024-11-20T16:27:20.890652Z",
     "iopub.status.idle": "2024-11-20T16:27:21.047392Z",
     "shell.execute_reply": "2024-11-20T16:27:21.046637Z",
     "shell.execute_reply.started": "2024-11-20T16:27:20.890994Z"
    },
    "tags": []
   },
   "outputs": [
    {
     "name": "stdout",
     "output_type": "stream",
     "text": [
      "CPU times: user 125 ms, sys: 17.5 ms, total: 142 ms\n",
      "Wall time: 143 ms\n"
     ]
    }
   ],
   "source": [
    "%%time\n",
    "final_graph = sz.io.load_graph(\n",
    "    f\"data/group/{group}/r.proc.ggcat-{graph_type}.notips-2.{smoothing}.unzip-{deconv}.sz\"\n",
    ")\n",
    "final_results = sz.results.extract_vertex_data(final_graph)\n",
    "\n",
    "vertex_depth = sz.results.depth_table(final_graph, final_graph.get_vertices()).T\n",
    "vertex_length = pd.Series(final_graph.vp[\"length\"], index=final_graph.get_vertices())"
   ]
  },
  {
   "cell_type": "markdown",
   "id": "af89e7b7-3d95-4569-b06f-1b7a44c7467b",
   "metadata": {},
   "source": [
    "## Gene metadata"
   ]
  },
  {
   "cell_type": "code",
   "execution_count": 10,
   "id": "97aec964-b8aa-4945-84e3-972cc9c59cfd",
   "metadata": {
    "execution": {
     "iopub.execute_input": "2024-11-20T16:27:21.048672Z",
     "iopub.status.busy": "2024-11-20T16:27:21.048439Z",
     "iopub.status.idle": "2024-11-20T16:27:21.204902Z",
     "shell.execute_reply": "2024-11-20T16:27:21.204228Z",
     "shell.execute_reply.started": "2024-11-20T16:27:21.048648Z"
    }
   },
   "outputs": [
    {
     "data": {
      "text/html": [
       "<div>\n",
       "<style scoped>\n",
       "    .dataframe tbody tr th:only-of-type {\n",
       "        vertical-align: middle;\n",
       "    }\n",
       "\n",
       "    .dataframe tbody tr th {\n",
       "        vertical-align: top;\n",
       "    }\n",
       "\n",
       "    .dataframe thead th {\n",
       "        text-align: right;\n",
       "    }\n",
       "</style>\n",
       "<table border=\"1\" class=\"dataframe\">\n",
       "  <thead>\n",
       "    <tr style=\"text-align: right;\">\n",
       "      <th></th>\n",
       "      <th>contig</th>\n",
       "      <th>left</th>\n",
       "      <th>right</th>\n",
       "      <th>orf</th>\n",
       "      <th>score</th>\n",
       "      <th>strand</th>\n",
       "      <th>vertex</th>\n",
       "    </tr>\n",
       "  </thead>\n",
       "  <tbody>\n",
       "    <tr>\n",
       "      <th>0</th>\n",
       "      <td>1002_966</td>\n",
       "      <td>0</td>\n",
       "      <td>108</td>\n",
       "      <td>1002_966[0-108]+</td>\n",
       "      <td>0</td>\n",
       "      <td>+</td>\n",
       "      <td>1002</td>\n",
       "    </tr>\n",
       "    <tr>\n",
       "      <th>1</th>\n",
       "      <td>1002_966</td>\n",
       "      <td>0</td>\n",
       "      <td>108</td>\n",
       "      <td>1002_966[0-108]+</td>\n",
       "      <td>0</td>\n",
       "      <td>+</td>\n",
       "      <td>966</td>\n",
       "    </tr>\n",
       "    <tr>\n",
       "      <th>2</th>\n",
       "      <td>1002_966</td>\n",
       "      <td>243</td>\n",
       "      <td>1635</td>\n",
       "      <td>1002_966[243-1635]-</td>\n",
       "      <td>0</td>\n",
       "      <td>-</td>\n",
       "      <td>1002</td>\n",
       "    </tr>\n",
       "    <tr>\n",
       "      <th>3</th>\n",
       "      <td>1002_966</td>\n",
       "      <td>243</td>\n",
       "      <td>1635</td>\n",
       "      <td>1002_966[243-1635]-</td>\n",
       "      <td>0</td>\n",
       "      <td>-</td>\n",
       "      <td>966</td>\n",
       "    </tr>\n",
       "    <tr>\n",
       "      <th>4</th>\n",
       "      <td>1002_966</td>\n",
       "      <td>1877</td>\n",
       "      <td>2057</td>\n",
       "      <td>1002_966[1877-2057]+</td>\n",
       "      <td>0</td>\n",
       "      <td>+</td>\n",
       "      <td>1002</td>\n",
       "    </tr>\n",
       "    <tr>\n",
       "      <th>...</th>\n",
       "      <td>...</td>\n",
       "      <td>...</td>\n",
       "      <td>...</td>\n",
       "      <td>...</td>\n",
       "      <td>...</td>\n",
       "      <td>...</td>\n",
       "      <td>...</td>\n",
       "    </tr>\n",
       "    <tr>\n",
       "      <th>56023</th>\n",
       "      <td>996_1030</td>\n",
       "      <td>245</td>\n",
       "      <td>443</td>\n",
       "      <td>996_1030[245-443]-</td>\n",
       "      <td>0</td>\n",
       "      <td>-</td>\n",
       "      <td>1030</td>\n",
       "    </tr>\n",
       "    <tr>\n",
       "      <th>56024</th>\n",
       "      <td>99_65</td>\n",
       "      <td>0</td>\n",
       "      <td>162</td>\n",
       "      <td>99_65[0-162]+</td>\n",
       "      <td>0</td>\n",
       "      <td>+</td>\n",
       "      <td>99</td>\n",
       "    </tr>\n",
       "    <tr>\n",
       "      <th>56025</th>\n",
       "      <td>99_65</td>\n",
       "      <td>0</td>\n",
       "      <td>162</td>\n",
       "      <td>99_65[0-162]+</td>\n",
       "      <td>0</td>\n",
       "      <td>+</td>\n",
       "      <td>65</td>\n",
       "    </tr>\n",
       "    <tr>\n",
       "      <th>56026</th>\n",
       "      <td>9_0</td>\n",
       "      <td>95</td>\n",
       "      <td>221</td>\n",
       "      <td>9_0[95-221]-</td>\n",
       "      <td>0</td>\n",
       "      <td>-</td>\n",
       "      <td>9</td>\n",
       "    </tr>\n",
       "    <tr>\n",
       "      <th>56027</th>\n",
       "      <td>9_0</td>\n",
       "      <td>95</td>\n",
       "      <td>221</td>\n",
       "      <td>9_0[95-221]-</td>\n",
       "      <td>0</td>\n",
       "      <td>-</td>\n",
       "      <td>0</td>\n",
       "    </tr>\n",
       "  </tbody>\n",
       "</table>\n",
       "<p>56028 rows × 7 columns</p>\n",
       "</div>"
      ],
      "text/plain": [
       "         contig  left  right                   orf  score strand  vertex\n",
       "0      1002_966     0    108      1002_966[0-108]+      0      +    1002\n",
       "1      1002_966     0    108      1002_966[0-108]+      0      +     966\n",
       "2      1002_966   243   1635   1002_966[243-1635]-      0      -    1002\n",
       "3      1002_966   243   1635   1002_966[243-1635]-      0      -     966\n",
       "4      1002_966  1877   2057  1002_966[1877-2057]+      0      +    1002\n",
       "...         ...   ...    ...                   ...    ...    ...     ...\n",
       "56023  996_1030   245    443    996_1030[245-443]-      0      -    1030\n",
       "56024     99_65     0    162         99_65[0-162]+      0      +      99\n",
       "56025     99_65     0    162         99_65[0-162]+      0      +      65\n",
       "56026       9_0    95    221          9_0[95-221]-      0      -       9\n",
       "56027       9_0    95    221          9_0[95-221]-      0      -       0\n",
       "\n",
       "[56028 rows x 7 columns]"
      ]
     },
     "execution_count": 10,
     "metadata": {},
     "output_type": "execute_result"
    }
   ],
   "source": [
    "strainzip_gene = (\n",
    "    pd.read_table(\n",
    "        f\"data/group/{group}/r.proc.ggcat-{graph_type}.notips-2.{smoothing}.unzip-{deconv}.prodigal.bed\",\n",
    "        names=[\"contig\", \"left\", \"right\", \"orf\", \"score\", \"strand\"],\n",
    "    )\n",
    "    .assign(vertex=lambda x: x.contig.str.split(\"_\"))\n",
    "    .explode('vertex')\n",
    "    .astype({'vertex': int})\n",
    "    .reset_index(drop=True)\n",
    ")\n",
    "strainzip_gene"
   ]
  },
  {
   "cell_type": "code",
   "execution_count": 11,
   "id": "08fe6680-65b5-45e4-b46f-07a35b34a2da",
   "metadata": {
    "execution": {
     "iopub.execute_input": "2024-11-20T16:27:21.206387Z",
     "iopub.status.busy": "2024-11-20T16:27:21.206021Z",
     "iopub.status.idle": "2024-11-20T16:27:21.224016Z",
     "shell.execute_reply": "2024-11-20T16:27:21.223361Z",
     "shell.execute_reply.started": "2024-11-20T16:27:21.206361Z"
    }
   },
   "outputs": [
    {
     "name": "stdout",
     "output_type": "stream",
     "text": [
      "['2104_2113[1320-5133]-', '2226_2162[2-2867]-', '2312_2613[2-2867]-', '2436_2444[2-2867]-']\n"
     ]
    },
    {
     "data": {
      "text/plain": [
       "0    42.382561\n",
       "1    42.039448\n",
       "2    42.283470\n",
       "3    42.527854\n",
       "4    42.811361\n",
       "dtype: float64"
      ]
     },
     "execution_count": 11,
     "metadata": {},
     "output_type": "execute_result"
    }
   ],
   "source": [
    "strainzip_marker_gene_list = (\n",
    "    pd.read_table(\n",
    "        f\"data/group/{group}/r.proc.ggcat-{graph_type}.notips-2.{smoothing}.unzip-{deconv}.cds.tran.hmmer-{marker_model}-ga.tsv\",\n",
    "        names=[\"orf\", \"gene_name\", \"bitscore\"],\n",
    "    )\n",
    "    .orf.tolist()\n",
    ")\n",
    "\n",
    "\n",
    "\n",
    "print(strainzip_marker_gene_list)\n",
    "\n",
    "total_strainzip_marker_depth = vertex_depth.loc[strainzip_gene[lambda x: x.orf.isin(strainzip_marker_gene_list)].vertex].sum()\n",
    "normalized_vertex_depth = vertex_depth.divide(total_strainzip_marker_depth)\n",
    "total_strainzip_marker_depth"
   ]
  },
  {
   "cell_type": "markdown",
   "id": "34b18a14-94cb-4d74-8979-da65e2b7425c",
   "metadata": {},
   "source": [
    "## Gene-wise"
   ]
  },
  {
   "cell_type": "code",
   "execution_count": 12,
   "id": "5c035469-5bcd-4ded-b40b-79301457241f",
   "metadata": {
    "execution": {
     "iopub.execute_input": "2024-11-20T16:27:21.225296Z",
     "iopub.status.busy": "2024-11-20T16:27:21.225049Z",
     "iopub.status.idle": "2024-11-20T16:27:21.239846Z",
     "shell.execute_reply": "2024-11-20T16:27:21.239175Z",
     "shell.execute_reply.started": "2024-11-20T16:27:21.225271Z"
    }
   },
   "outputs": [
    {
     "data": {
      "text/html": [
       "<div>\n",
       "<style scoped>\n",
       "    .dataframe tbody tr th:only-of-type {\n",
       "        vertical-align: middle;\n",
       "    }\n",
       "\n",
       "    .dataframe tbody tr th {\n",
       "        vertical-align: top;\n",
       "    }\n",
       "\n",
       "    .dataframe thead th {\n",
       "        text-align: right;\n",
       "    }\n",
       "</style>\n",
       "<table border=\"1\" class=\"dataframe\">\n",
       "  <thead>\n",
       "    <tr style=\"text-align: right;\">\n",
       "      <th></th>\n",
       "      <th>0</th>\n",
       "      <th>1</th>\n",
       "      <th>2</th>\n",
       "      <th>3</th>\n",
       "      <th>4</th>\n",
       "    </tr>\n",
       "  </thead>\n",
       "  <tbody>\n",
       "    <tr>\n",
       "      <th>0</th>\n",
       "      <td>0.519080</td>\n",
       "      <td>0.001424</td>\n",
       "      <td>0.248116</td>\n",
       "      <td>0.127509</td>\n",
       "      <td>0.373251</td>\n",
       "    </tr>\n",
       "    <tr>\n",
       "      <th>1</th>\n",
       "      <td>0.519080</td>\n",
       "      <td>0.001424</td>\n",
       "      <td>0.248116</td>\n",
       "      <td>0.127509</td>\n",
       "      <td>0.373251</td>\n",
       "    </tr>\n",
       "    <tr>\n",
       "      <th>2</th>\n",
       "      <td>0.519080</td>\n",
       "      <td>0.001424</td>\n",
       "      <td>0.248116</td>\n",
       "      <td>0.127509</td>\n",
       "      <td>0.373251</td>\n",
       "    </tr>\n",
       "    <tr>\n",
       "      <th>3</th>\n",
       "      <td>0.519080</td>\n",
       "      <td>0.001424</td>\n",
       "      <td>0.248116</td>\n",
       "      <td>0.127509</td>\n",
       "      <td>0.373251</td>\n",
       "    </tr>\n",
       "    <tr>\n",
       "      <th>4</th>\n",
       "      <td>0.519080</td>\n",
       "      <td>0.001424</td>\n",
       "      <td>0.248116</td>\n",
       "      <td>0.127509</td>\n",
       "      <td>0.373251</td>\n",
       "    </tr>\n",
       "    <tr>\n",
       "      <th>...</th>\n",
       "      <td>...</td>\n",
       "      <td>...</td>\n",
       "      <td>...</td>\n",
       "      <td>...</td>\n",
       "      <td>...</td>\n",
       "    </tr>\n",
       "    <tr>\n",
       "      <th>56023</th>\n",
       "      <td>0.483413</td>\n",
       "      <td>0.003272</td>\n",
       "      <td>0.151914</td>\n",
       "      <td>0.134055</td>\n",
       "      <td>0.384736</td>\n",
       "    </tr>\n",
       "    <tr>\n",
       "      <th>56024</th>\n",
       "      <td>0.000634</td>\n",
       "      <td>0.511098</td>\n",
       "      <td>0.241657</td>\n",
       "      <td>0.351077</td>\n",
       "      <td>0.131156</td>\n",
       "    </tr>\n",
       "    <tr>\n",
       "      <th>56025</th>\n",
       "      <td>0.000634</td>\n",
       "      <td>0.511098</td>\n",
       "      <td>0.241657</td>\n",
       "      <td>0.351077</td>\n",
       "      <td>0.131156</td>\n",
       "    </tr>\n",
       "    <tr>\n",
       "      <th>56026</th>\n",
       "      <td>0.000066</td>\n",
       "      <td>0.497385</td>\n",
       "      <td>0.341324</td>\n",
       "      <td>0.404858</td>\n",
       "      <td>0.115233</td>\n",
       "    </tr>\n",
       "    <tr>\n",
       "      <th>56027</th>\n",
       "      <td>0.000066</td>\n",
       "      <td>0.497385</td>\n",
       "      <td>0.341324</td>\n",
       "      <td>0.404858</td>\n",
       "      <td>0.115233</td>\n",
       "    </tr>\n",
       "  </tbody>\n",
       "</table>\n",
       "<p>56028 rows × 5 columns</p>\n",
       "</div>"
      ],
      "text/plain": [
       "              0         1         2         3         4\n",
       "0      0.519080  0.001424  0.248116  0.127509  0.373251\n",
       "1      0.519080  0.001424  0.248116  0.127509  0.373251\n",
       "2      0.519080  0.001424  0.248116  0.127509  0.373251\n",
       "3      0.519080  0.001424  0.248116  0.127509  0.373251\n",
       "4      0.519080  0.001424  0.248116  0.127509  0.373251\n",
       "...         ...       ...       ...       ...       ...\n",
       "56023  0.483413  0.003272  0.151914  0.134055  0.384736\n",
       "56024  0.000634  0.511098  0.241657  0.351077  0.131156\n",
       "56025  0.000634  0.511098  0.241657  0.351077  0.131156\n",
       "56026  0.000066  0.497385  0.341324  0.404858  0.115233\n",
       "56027  0.000066  0.497385  0.341324  0.404858  0.115233\n",
       "\n",
       "[56028 rows x 5 columns]"
      ]
     },
     "execution_count": 12,
     "metadata": {},
     "output_type": "execute_result"
    }
   ],
   "source": [
    "strainzip_normalized_gene_depth = normalized_vertex_depth.loc[strainzip_gene.vertex].reset_index(drop=True)\n",
    "strainzip_normalized_gene_depth"
   ]
  },
  {
   "cell_type": "code",
   "execution_count": 13,
   "id": "7b2c6179-b40b-40c4-988e-95fd16675bad",
   "metadata": {
    "execution": {
     "iopub.execute_input": "2024-11-20T16:27:21.243510Z",
     "iopub.status.busy": "2024-11-20T16:27:21.243118Z",
     "iopub.status.idle": "2024-11-20T16:27:22.351595Z",
     "shell.execute_reply": "2024-11-20T16:27:22.350917Z",
     "shell.execute_reply.started": "2024-11-20T16:27:21.243485Z"
    }
   },
   "outputs": [
    {
     "data": {
      "text/plain": [
       "Text(0.5, 0, 'Normalized Gene Depth\\n(mean over reads from all samples)')"
      ]
     },
     "execution_count": 13,
     "metadata": {},
     "output_type": "execute_result"
    },
    {
     "data": {
      "image/png": "[encoded data removed]",
      "text/plain": [
       "<Figure size 640x480 with 1 Axes>"
      ]
     },
     "metadata": {},
     "output_type": "display_data"
    }
   ],
   "source": [
    "bins = [0] + list(np.logspace(-5, 3, num=100))\n",
    "plt.hist(strainzip_normalized_gene_depth.mean(1), bins=bins)\n",
    "plt.xscale(\"log\")\n",
    "plt.xlabel(\"Normalized Gene Depth\\n(mean over reads from all samples)\")"
   ]
  },
  {
   "cell_type": "code",
   "execution_count": 14,
   "id": "5c055ad8-f745-46bf-b113-abc1ae5a4295",
   "metadata": {
    "execution": {
     "iopub.execute_input": "2024-11-20T16:27:22.352777Z",
     "iopub.status.busy": "2024-11-20T16:27:22.352537Z",
     "iopub.status.idle": "2024-11-20T16:27:23.209752Z",
     "shell.execute_reply": "2024-11-20T16:27:23.209103Z",
     "shell.execute_reply.started": "2024-11-20T16:27:22.352751Z"
    }
   },
   "outputs": [
    {
     "data": {
      "text/plain": [
       "Text(0.5, 0, 'Normalized Gene Depth\\n(maximum over reads from all samples)')"
      ]
     },
     "execution_count": 14,
     "metadata": {},
     "output_type": "execute_result"
    },
    {
     "data": {
      "image/png": "[encoded data removed]",
      "text/plain": [
       "<Figure size 640x480 with 1 Axes>"
      ]
     },
     "metadata": {},
     "output_type": "display_data"
    }
   ],
   "source": [
    "bins = [0] + list(np.logspace(-5, 3, num=100))\n",
    "plt.hist(strainzip_normalized_gene_depth.max(1), bins=bins)\n",
    "plt.xscale(\"log\")\n",
    "plt.xlabel(\"Normalized Gene Depth\\n(maximum over reads from all samples)\")"
   ]
  },
  {
   "cell_type": "code",
   "execution_count": 15,
   "id": "0b875849-8e1c-4b8f-a65d-f919b4633b10",
   "metadata": {
    "execution": {
     "iopub.execute_input": "2024-11-20T16:27:23.211129Z",
     "iopub.status.busy": "2024-11-20T16:27:23.210737Z",
     "iopub.status.idle": "2024-11-20T16:27:24.057749Z",
     "shell.execute_reply": "2024-11-20T16:27:24.057093Z",
     "shell.execute_reply.started": "2024-11-20T16:27:23.211104Z"
    }
   },
   "outputs": [
    {
     "data": {
      "text/plain": [
       "Text(0.5, 0, 'Normalized Gene Depth\\n(Mixed sample)')"
      ]
     },
     "execution_count": 15,
     "metadata": {},
     "output_type": "execute_result"
    },
    {
     "data": {
      "image/png": "[encoded data removed]",
      "text/plain": [
       "<Figure size 640x480 with 1 Axes>"
      ]
     },
     "metadata": {},
     "output_type": "display_data"
    }
   ],
   "source": [
    "bins = [0] + list(np.logspace(-5, 3, num=100))\n",
    "plt.hist(strainzip_normalized_gene_depth.iloc[:, 3], bins=bins)\n",
    "plt.xscale(\"log\")\n",
    "plt.xlabel(\"Normalized Gene Depth\\n(Mixed sample)\")"
   ]
  },
  {
   "cell_type": "code",
   "execution_count": 16,
   "id": "d4987a07-6218-4e8c-9df0-ced2ea19469c",
   "metadata": {
    "execution": {
     "iopub.execute_input": "2024-11-20T16:27:24.059162Z",
     "iopub.status.busy": "2024-11-20T16:27:24.058766Z",
     "iopub.status.idle": "2024-11-20T16:27:24.749121Z",
     "shell.execute_reply": "2024-11-20T16:27:24.748477Z",
     "shell.execute_reply.started": "2024-11-20T16:27:24.059128Z"
    }
   },
   "outputs": [
    {
     "data": {
      "text/plain": [
       "<matplotlib.legend.Legend at 0x7fb4ccc6d010>"
      ]
     },
     "execution_count": 16,
     "metadata": {},
     "output_type": "execute_result"
    },
    {
     "data": {
      "image/png": "[encoded data removed]",
      "text/plain": [
       "<Figure size 640x480 with 1 Axes>"
      ]
     },
     "metadata": {},
     "output_type": "display_data"
    }
   ],
   "source": [
    "d = (\n",
    "    strainzip_normalized_gene_depth.mean(1)\n",
    "    .to_frame(name=\"mean_normalized_depth\")\n",
    "    .sort_values('mean_normalized_depth')\n",
    "    .assign(rank=lambda x: x.mean_normalized_depth.rank())\n",
    ")\n",
    "\n",
    "plt.plot(\n",
    "    \"rank\", \"mean_normalized_depth\", data=d, label=\"depth\"\n",
    ")\n",
    "plt.xlabel(\"depth rank\")\n",
    "plt.ylabel(\"normalized depth (mean)\")\n",
    "# plt.plot(\"mean_normalized_depth\", \"length_cumsum\", data=d)\n",
    "plt.yscale(\"log\")\n",
    "plt.legend()\n",
    "# plt.xscale(\"logit\")"
   ]
  },
  {
   "cell_type": "code",
   "execution_count": 17,
   "id": "c075d11c-3cae-4392-b4b4-3bd40699a991",
   "metadata": {
    "execution": {
     "iopub.execute_input": "2024-11-20T16:27:24.750483Z",
     "iopub.status.busy": "2024-11-20T16:27:24.750093Z",
     "iopub.status.idle": "2024-11-20T16:27:25.401115Z",
     "shell.execute_reply": "2024-11-20T16:27:25.400461Z",
     "shell.execute_reply.started": "2024-11-20T16:27:24.750458Z"
    }
   },
   "outputs": [
    {
     "data": {
      "text/plain": [
       "<matplotlib.colorbar.Colorbar at 0x7fb4cce75730>"
      ]
     },
     "execution_count": 17,
     "metadata": {},
     "output_type": "execute_result"
    },
    {
     "data": {
      "image/png": "[encoded data removed]",
      "text/plain": [
       "<Figure size 640x480 with 2 Axes>"
      ]
     },
     "metadata": {},
     "output_type": "display_data"
    }
   ],
   "source": [
    "d = strainzip_normalized_gene_depth\n",
    "# NOTE (2024-11-19): We correct the depths by 2 and then downweight each gene by 1/2 to account for reverse complements.\n",
    "\n",
    "bins = [0] + list(np.logspace(-3, 3, num=50))\n",
    "\n",
    "plt.hist2d(d.iloc[:, 0] * 2, d.iloc[:, 1] * 2, bins=bins, norm=mpl.colors.PowerNorm(1/5, vmin=0, vmax=5_000), weights=d.assign(weight=1 / 2).weight)\n",
    "plt.xscale('symlog', linthresh=1e-3, linscale=0.1)\n",
    "plt.yscale('symlog', linthresh=1e-3, linscale=0.1)\n",
    "plt.colorbar()"
   ]
  },
  {
   "cell_type": "code",
   "execution_count": 18,
   "id": "ae20802e-a3dc-4379-bba7-3b3173bb9400",
   "metadata": {
    "execution": {
     "iopub.execute_input": "2024-11-20T16:27:25.402359Z",
     "iopub.status.busy": "2024-11-20T16:27:25.402100Z",
     "iopub.status.idle": "2024-11-20T16:27:25.868046Z",
     "shell.execute_reply": "2024-11-20T16:27:25.867341Z",
     "shell.execute_reply.started": "2024-11-20T16:27:25.402334Z"
    }
   },
   "outputs": [
    {
     "data": {
      "text/plain": [
       "<matplotlib.colorbar.Colorbar at 0x7fb4cd3bd2b0>"
      ]
     },
     "execution_count": 18,
     "metadata": {},
     "output_type": "execute_result"
    },
    {
     "data": {
      "image/png": "[encoded data removed]",
      "text/plain": [
       "<Figure size 640x480 with 2 Axes>"
      ]
     },
     "metadata": {},
     "output_type": "display_data"
    }
   ],
   "source": [
    "d = strainzip_normalized_gene_depth\n",
    "# NOTE (2024-11-19): We correct the depths by 2 and then downweight each gene by 1/2 to account for reverse complements.\n",
    "\n",
    "bins = [0] + list(np.logspace(-3, 3, num=50))\n",
    "\n",
    "plt.hist2d(d.iloc[:, 3] * 2, d.iloc[:, 4] * 2, bins=bins, norm=mpl.colors.PowerNorm(1/5, vmin=0, vmax=5_000), weights=d.assign(weight=1 / 2).weight)\n",
    "plt.xscale('symlog', linthresh=1e-3, linscale=0.1)\n",
    "plt.yscale('symlog', linthresh=1e-3, linscale=0.1)\n",
    "plt.colorbar()"
   ]
  },
  {
   "cell_type": "markdown",
   "id": "44e7fcf5-11ae-49a6-b0a7-c447e1dda011",
   "metadata": {},
   "source": [
    "### Depth Filtered"
   ]
  },
  {
   "cell_type": "code",
   "execution_count": 19,
   "id": "8ed5ef0d-478c-4875-a645-56861bb49ee1",
   "metadata": {
    "execution": {
     "iopub.execute_input": "2024-11-20T16:27:25.869431Z",
     "iopub.status.busy": "2024-11-20T16:27:25.869182Z",
     "iopub.status.idle": "2024-11-20T16:27:27.628609Z",
     "shell.execute_reply": "2024-11-20T16:27:27.627749Z",
     "shell.execute_reply.started": "2024-11-20T16:27:25.869407Z"
    }
   },
   "outputs": [],
   "source": [
    "import sklearn.decomposition\n",
    "\n",
    "d = strainzip_normalized_gene_depth#[strainzip_normalized_gene_depth.max(1) > 0.1]\n",
    "w, h, _it = sklearn.decomposition.non_negative_factorization(d, n_components=5, solver='mu', max_iter=1000)"
   ]
  },
  {
   "cell_type": "code",
   "execution_count": 20,
   "id": "80ac6ced-7da6-4e83-99ea-f81df976731f",
   "metadata": {
    "execution": {
     "iopub.execute_input": "2024-11-20T16:27:27.630168Z",
     "iopub.status.busy": "2024-11-20T16:27:27.629733Z",
     "iopub.status.idle": "2024-11-20T16:27:28.141556Z",
     "shell.execute_reply": "2024-11-20T16:27:28.140816Z",
     "shell.execute_reply.started": "2024-11-20T16:27:27.630127Z"
    }
   },
   "outputs": [
    {
     "data": {
      "text/plain": [
       "<matplotlib.colorbar.Colorbar at 0x7fb4cc8ca390>"
      ]
     },
     "execution_count": 20,
     "metadata": {},
     "output_type": "execute_result"
    },
    {
     "data": {
      "image/png": "[encoded data removed]",
      "text/plain": [
       "<Figure size 640x480 with 2 Axes>"
      ]
     },
     "metadata": {},
     "output_type": "display_data"
    }
   ],
   "source": [
    "bins = [0] + list(np.logspace(-3, 1, num=50))\n",
    "\n",
    "plt.hist2d(w[:,0], w[:,1], bins=bins, norm=mpl.colors.PowerNorm(1/5, vmin=0, vmax=20_000))\n",
    "plt.yscale('symlog', linthresh=1e-3, linscale=0.1)\n",
    "plt.xscale('symlog', linthresh=1e-3, linscale=0.1)\n",
    "plt.colorbar()"
   ]
  },
  {
   "cell_type": "markdown",
   "id": "a4db08d2-7818-420e-b2ad-11657cf7d971",
   "metadata": {},
   "source": [
    "## Vertex-wise"
   ]
  },
  {
   "cell_type": "code",
   "execution_count": 21,
   "id": "53d1cf54-0645-4f48-b12c-c22cef24e20f",
   "metadata": {
    "execution": {
     "iopub.execute_input": "2024-11-20T16:27:28.143066Z",
     "iopub.status.busy": "2024-11-20T16:27:28.142644Z",
     "iopub.status.idle": "2024-11-20T16:27:29.083563Z",
     "shell.execute_reply": "2024-11-20T16:27:29.082751Z",
     "shell.execute_reply.started": "2024-11-20T16:27:28.143038Z"
    }
   },
   "outputs": [
    {
     "data": {
      "text/plain": [
       "Text(0.5, 0, 'Normalized Vertex Depth\\n(mean over reads from two different strains)')"
      ]
     },
     "execution_count": 21,
     "metadata": {},
     "output_type": "execute_result"
    },
    {
     "data": {
      "image/png": "[encoded data removed]",
      "text/plain": [
       "<Figure size 640x480 with 1 Axes>"
      ]
     },
     "metadata": {},
     "output_type": "display_data"
    }
   ],
   "source": [
    "bins = [0] + list(np.logspace(-5, 3, num=100))\n",
    "plt.hist(normalized_vertex_depth.mean(1), bins=bins)\n",
    "plt.xscale(\"log\")\n",
    "plt.xlabel(\"Normalized Vertex Depth\\n(mean over reads from two different strains)\")"
   ]
  },
  {
   "cell_type": "code",
   "execution_count": 22,
   "id": "28e23e1a-3a25-4408-ad26-36e25d40cbf2",
   "metadata": {
    "execution": {
     "iopub.execute_input": "2024-11-20T16:27:29.085201Z",
     "iopub.status.busy": "2024-11-20T16:27:29.084725Z",
     "iopub.status.idle": "2024-11-20T16:27:29.754358Z",
     "shell.execute_reply": "2024-11-20T16:27:29.753568Z",
     "shell.execute_reply.started": "2024-11-20T16:27:29.085171Z"
    }
   },
   "outputs": [
    {
     "data": {
      "text/plain": [
       "<matplotlib.legend.Legend at 0x7fb4cc920e30>"
      ]
     },
     "execution_count": 22,
     "metadata": {},
     "output_type": "execute_result"
    },
    {
     "data": {
      "image/png": "[encoded data removed]",
      "text/plain": [
       "<Figure size 640x480 with 1 Axes>"
      ]
     },
     "metadata": {},
     "output_type": "display_data"
    }
   ],
   "source": [
    "d = (\n",
    "    normalized_vertex_depth.mean(1)\n",
    "    .to_frame(name=\"total_normalized_depth\")\n",
    "    .join(final_results.length)\n",
    "    .sort_values(\"total_normalized_depth\", ascending=True)\n",
    "    .assign(\n",
    "        depth_x_length=lambda x: x.total_normalized_depth * x.length,\n",
    "        depth_x_length_cumsum=lambda x: x.depth_x_length.cumsum(),\n",
    "        length_cumsum=lambda x: x.length.cumsum(),\n",
    "        depth_x_length_quantile=lambda x: x.depth_x_length_cumsum\n",
    "        / x.depth_x_length_cumsum.max(),\n",
    "        length_quantile=lambda x: x.length_cumsum / x.length_cumsum.max(),\n",
    "    )\n",
    ")\n",
    "\n",
    "plt.plot(\"length_quantile\", \"total_normalized_depth\", data=d, label=\"length\")\n",
    "plt.plot(\n",
    "    \"depth_x_length_quantile\", \"total_normalized_depth\", data=d, label=\"depth_x_length\"\n",
    ")\n",
    "plt.xlabel(\"quantile\")\n",
    "plt.ylabel(\"normalized depth (mean)\")\n",
    "# plt.plot(\"mean_normalized_depth\", \"length_cumsum\", data=d)\n",
    "plt.yscale(\"log\")\n",
    "plt.legend()\n",
    "# plt.xscale(\"logit\")"
   ]
  },
  {
   "cell_type": "markdown",
   "id": "675d1860-d1b0-4af3-ac6d-31603209753f",
   "metadata": {},
   "source": [
    "# MEGAHIT / Read-Mapping"
   ]
  },
  {
   "cell_type": "markdown",
   "id": "3deb4ba2-1ced-4d9e-b40b-2bc86ae181fe",
   "metadata": {},
   "source": [
    "## Depth"
   ]
  },
  {
   "cell_type": "code",
   "execution_count": 23,
   "id": "077b3665-6a7f-439b-bff9-7e9479327e23",
   "metadata": {
    "execution": {
     "iopub.execute_input": "2024-11-20T16:27:29.755952Z",
     "iopub.status.busy": "2024-11-20T16:27:29.755646Z",
     "iopub.status.idle": "2024-11-20T16:27:29.846697Z",
     "shell.execute_reply": "2024-11-20T16:27:29.845907Z",
     "shell.execute_reply.started": "2024-11-20T16:27:29.755926Z"
    },
    "tags": []
   },
   "outputs": [
    {
     "data": {
      "text/html": [
       "<div>\n",
       "<style scoped>\n",
       "    .dataframe tbody tr th:only-of-type {\n",
       "        vertical-align: middle;\n",
       "    }\n",
       "\n",
       "    .dataframe tbody tr th {\n",
       "        vertical-align: top;\n",
       "    }\n",
       "\n",
       "    .dataframe thead th {\n",
       "        text-align: right;\n",
       "    }\n",
       "</style>\n",
       "<table border=\"1\" class=\"dataframe\">\n",
       "  <thead>\n",
       "    <tr style=\"text-align: right;\">\n",
       "      <th></th>\n",
       "      <th>btheta_strainA_simcom_len150_seed0_cov10000</th>\n",
       "      <th>btheta_strainB_simcom_len150_seed0_cov10000</th>\n",
       "      <th>btheta_mixture_50_50_simcom_len150_seed1_cov10000</th>\n",
       "      <th>btheta_mixture_25_75_simcom_len150_seed2_cov10000</th>\n",
       "      <th>btheta_mixture_75_25_simcom_len150_seed3_cov10000</th>\n",
       "    </tr>\n",
       "    <tr>\n",
       "      <th>orf</th>\n",
       "      <th></th>\n",
       "      <th></th>\n",
       "      <th></th>\n",
       "      <th></th>\n",
       "      <th></th>\n",
       "    </tr>\n",
       "  </thead>\n",
       "  <tbody>\n",
       "    <tr>\n",
       "      <th>k111_1001[0-270]-</th>\n",
       "      <td>0.000000</td>\n",
       "      <td>37.229630</td>\n",
       "      <td>7.570370</td>\n",
       "      <td>30.885185</td>\n",
       "      <td>10.111111</td>\n",
       "    </tr>\n",
       "    <tr>\n",
       "      <th>k111_1002[0-1389]+</th>\n",
       "      <td>98.268539</td>\n",
       "      <td>94.923686</td>\n",
       "      <td>52.692585</td>\n",
       "      <td>100.946724</td>\n",
       "      <td>97.930886</td>\n",
       "    </tr>\n",
       "    <tr>\n",
       "      <th>k111_1002[1543-2917]+</th>\n",
       "      <td>91.526201</td>\n",
       "      <td>95.229985</td>\n",
       "      <td>70.997817</td>\n",
       "      <td>105.510917</td>\n",
       "      <td>95.360262</td>\n",
       "    </tr>\n",
       "    <tr>\n",
       "      <th>k111_1002[3421-3613]-</th>\n",
       "      <td>80.614583</td>\n",
       "      <td>72.645833</td>\n",
       "      <td>53.854167</td>\n",
       "      <td>59.567708</td>\n",
       "      <td>74.500000</td>\n",
       "    </tr>\n",
       "    <tr>\n",
       "      <th>k111_1003[1878-2616]-</th>\n",
       "      <td>0.000000</td>\n",
       "      <td>95.775068</td>\n",
       "      <td>33.409214</td>\n",
       "      <td>72.096206</td>\n",
       "      <td>30.663957</td>\n",
       "    </tr>\n",
       "    <tr>\n",
       "      <th>...</th>\n",
       "      <td>...</td>\n",
       "      <td>...</td>\n",
       "      <td>...</td>\n",
       "      <td>...</td>\n",
       "      <td>...</td>\n",
       "    </tr>\n",
       "    <tr>\n",
       "      <th>k111_997[8291-9680]-</th>\n",
       "      <td>92.862491</td>\n",
       "      <td>98.728582</td>\n",
       "      <td>76.708423</td>\n",
       "      <td>99.583873</td>\n",
       "      <td>100.303816</td>\n",
       "    </tr>\n",
       "    <tr>\n",
       "      <th>k111_997[9970-10366]-</th>\n",
       "      <td>101.532828</td>\n",
       "      <td>102.944444</td>\n",
       "      <td>73.689394</td>\n",
       "      <td>93.661616</td>\n",
       "      <td>94.315657</td>\n",
       "    </tr>\n",
       "    <tr>\n",
       "      <th>k111_998[2-461]+</th>\n",
       "      <td>18.379085</td>\n",
       "      <td>21.812636</td>\n",
       "      <td>6.723312</td>\n",
       "      <td>22.688453</td>\n",
       "      <td>15.540305</td>\n",
       "    </tr>\n",
       "    <tr>\n",
       "      <th>k111_99[1-766]-</th>\n",
       "      <td>35.833987</td>\n",
       "      <td>75.330719</td>\n",
       "      <td>54.713725</td>\n",
       "      <td>56.816993</td>\n",
       "      <td>51.211765</td>\n",
       "    </tr>\n",
       "    <tr>\n",
       "      <th>k111_9[2-956]-</th>\n",
       "      <td>135.566038</td>\n",
       "      <td>49.624738</td>\n",
       "      <td>81.584906</td>\n",
       "      <td>70.170860</td>\n",
       "      <td>114.566038</td>\n",
       "    </tr>\n",
       "  </tbody>\n",
       "</table>\n",
       "<p>7319 rows × 5 columns</p>\n",
       "</div>"
      ],
      "text/plain": [
       "                       btheta_strainA_simcom_len150_seed0_cov10000  \\\n",
       "orf                                                                  \n",
       "k111_1001[0-270]-                                         0.000000   \n",
       "k111_1002[0-1389]+                                       98.268539   \n",
       "k111_1002[1543-2917]+                                    91.526201   \n",
       "k111_1002[3421-3613]-                                    80.614583   \n",
       "k111_1003[1878-2616]-                                     0.000000   \n",
       "...                                                            ...   \n",
       "k111_997[8291-9680]-                                     92.862491   \n",
       "k111_997[9970-10366]-                                   101.532828   \n",
       "k111_998[2-461]+                                         18.379085   \n",
       "k111_99[1-766]-                                          35.833987   \n",
       "k111_9[2-956]-                                          135.566038   \n",
       "\n",
       "                       btheta_strainB_simcom_len150_seed0_cov10000  \\\n",
       "orf                                                                  \n",
       "k111_1001[0-270]-                                        37.229630   \n",
       "k111_1002[0-1389]+                                       94.923686   \n",
       "k111_1002[1543-2917]+                                    95.229985   \n",
       "k111_1002[3421-3613]-                                    72.645833   \n",
       "k111_1003[1878-2616]-                                    95.775068   \n",
       "...                                                            ...   \n",
       "k111_997[8291-9680]-                                     98.728582   \n",
       "k111_997[9970-10366]-                                   102.944444   \n",
       "k111_998[2-461]+                                         21.812636   \n",
       "k111_99[1-766]-                                          75.330719   \n",
       "k111_9[2-956]-                                           49.624738   \n",
       "\n",
       "                       btheta_mixture_50_50_simcom_len150_seed1_cov10000  \\\n",
       "orf                                                                        \n",
       "k111_1001[0-270]-                                               7.570370   \n",
       "k111_1002[0-1389]+                                             52.692585   \n",
       "k111_1002[1543-2917]+                                          70.997817   \n",
       "k111_1002[3421-3613]-                                          53.854167   \n",
       "k111_1003[1878-2616]-                                          33.409214   \n",
       "...                                                                  ...   \n",
       "k111_997[8291-9680]-                                           76.708423   \n",
       "k111_997[9970-10366]-                                          73.689394   \n",
       "k111_998[2-461]+                                                6.723312   \n",
       "k111_99[1-766]-                                                54.713725   \n",
       "k111_9[2-956]-                                                 81.584906   \n",
       "\n",
       "                       btheta_mixture_25_75_simcom_len150_seed2_cov10000  \\\n",
       "orf                                                                        \n",
       "k111_1001[0-270]-                                              30.885185   \n",
       "k111_1002[0-1389]+                                            100.946724   \n",
       "k111_1002[1543-2917]+                                         105.510917   \n",
       "k111_1002[3421-3613]-                                          59.567708   \n",
       "k111_1003[1878-2616]-                                          72.096206   \n",
       "...                                                                  ...   \n",
       "k111_997[8291-9680]-                                           99.583873   \n",
       "k111_997[9970-10366]-                                          93.661616   \n",
       "k111_998[2-461]+                                               22.688453   \n",
       "k111_99[1-766]-                                                56.816993   \n",
       "k111_9[2-956]-                                                 70.170860   \n",
       "\n",
       "                       btheta_mixture_75_25_simcom_len150_seed3_cov10000  \n",
       "orf                                                                       \n",
       "k111_1001[0-270]-                                              10.111111  \n",
       "k111_1002[0-1389]+                                             97.930886  \n",
       "k111_1002[1543-2917]+                                          95.360262  \n",
       "k111_1002[3421-3613]-                                          74.500000  \n",
       "k111_1003[1878-2616]-                                          30.663957  \n",
       "...                                                                  ...  \n",
       "k111_997[8291-9680]-                                          100.303816  \n",
       "k111_997[9970-10366]-                                          94.315657  \n",
       "k111_998[2-461]+                                               15.540305  \n",
       "k111_99[1-766]-                                                51.211765  \n",
       "k111_9[2-956]-                                                114.566038  \n",
       "\n",
       "[7319 rows x 5 columns]"
      ]
     },
     "execution_count": 23,
     "metadata": {},
     "output_type": "execute_result"
    }
   ],
   "source": [
    "sample_list = ['btheta_strainA_simcom_len150_seed0_cov10000',\n",
    "               'btheta_strainB_simcom_len150_seed0_cov10000',\n",
    "               'btheta_mixture_50_50_simcom_len150_seed1_cov10000',\n",
    "               'btheta_mixture_25_75_simcom_len150_seed2_cov10000',\n",
    "               'btheta_mixture_75_25_simcom_len150_seed3_cov10000']\n",
    "\n",
    "megahit_gene_depth = {}\n",
    "for sample in sample_list:\n",
    "    inpath = f\"data/group/{group}/reads/{sample}/r.proc.megahit-full-k111.prodigal.gene_depth.tsv\"\n",
    "    megahit_gene_depth[sample] = pd.read_table(inpath, names=['orf', 'depth'], index_col='orf').depth\n",
    "\n",
    "megahit_gene_depth = pd.DataFrame(megahit_gene_depth).fillna(0)\n",
    "megahit_gene_depth"
   ]
  },
  {
   "cell_type": "markdown",
   "id": "fe23b032-84aa-4979-8ae3-fc9287aec1fe",
   "metadata": {},
   "source": [
    "## Gene metadata"
   ]
  },
  {
   "cell_type": "code",
   "execution_count": 24,
   "id": "aafd5b66-e700-495d-9f58-713892173971",
   "metadata": {
    "execution": {
     "iopub.execute_input": "2024-11-20T16:27:29.848234Z",
     "iopub.status.busy": "2024-11-20T16:27:29.847806Z",
     "iopub.status.idle": "2024-11-20T16:27:29.873822Z",
     "shell.execute_reply": "2024-11-20T16:27:29.873036Z",
     "shell.execute_reply.started": "2024-11-20T16:27:29.848207Z"
    }
   },
   "outputs": [
    {
     "data": {
      "text/html": [
       "<div>\n",
       "<style scoped>\n",
       "    .dataframe tbody tr th:only-of-type {\n",
       "        vertical-align: middle;\n",
       "    }\n",
       "\n",
       "    .dataframe tbody tr th {\n",
       "        vertical-align: top;\n",
       "    }\n",
       "\n",
       "    .dataframe thead th {\n",
       "        text-align: right;\n",
       "    }\n",
       "</style>\n",
       "<table border=\"1\" class=\"dataframe\">\n",
       "  <thead>\n",
       "    <tr style=\"text-align: right;\">\n",
       "      <th></th>\n",
       "      <th>contig</th>\n",
       "      <th>left</th>\n",
       "      <th>right</th>\n",
       "      <th>orf</th>\n",
       "      <th>score</th>\n",
       "      <th>strand</th>\n",
       "    </tr>\n",
       "  </thead>\n",
       "  <tbody>\n",
       "    <tr>\n",
       "      <th>0</th>\n",
       "      <td>k111_1</td>\n",
       "      <td>1</td>\n",
       "      <td>946</td>\n",
       "      <td>k111_1[1-946]+</td>\n",
       "      <td>0</td>\n",
       "      <td>+</td>\n",
       "    </tr>\n",
       "    <tr>\n",
       "      <th>1</th>\n",
       "      <td>k111_1</td>\n",
       "      <td>1060</td>\n",
       "      <td>3490</td>\n",
       "      <td>k111_1[1060-3490]-</td>\n",
       "      <td>0</td>\n",
       "      <td>-</td>\n",
       "    </tr>\n",
       "    <tr>\n",
       "      <th>2</th>\n",
       "      <td>k111_1</td>\n",
       "      <td>3647</td>\n",
       "      <td>4160</td>\n",
       "      <td>k111_1[3647-4160]-</td>\n",
       "      <td>0</td>\n",
       "      <td>-</td>\n",
       "    </tr>\n",
       "    <tr>\n",
       "      <th>3</th>\n",
       "      <td>k111_10</td>\n",
       "      <td>1</td>\n",
       "      <td>1573</td>\n",
       "      <td>k111_10[1-1573]+</td>\n",
       "      <td>0</td>\n",
       "      <td>+</td>\n",
       "    </tr>\n",
       "    <tr>\n",
       "      <th>4</th>\n",
       "      <td>k111_10</td>\n",
       "      <td>1611</td>\n",
       "      <td>2472</td>\n",
       "      <td>k111_10[1611-2472]+</td>\n",
       "      <td>0</td>\n",
       "      <td>+</td>\n",
       "    </tr>\n",
       "    <tr>\n",
       "      <th>...</th>\n",
       "      <td>...</td>\n",
       "      <td>...</td>\n",
       "      <td>...</td>\n",
       "      <td>...</td>\n",
       "      <td>...</td>\n",
       "      <td>...</td>\n",
       "    </tr>\n",
       "    <tr>\n",
       "      <th>7315</th>\n",
       "      <td>k111_997</td>\n",
       "      <td>45019</td>\n",
       "      <td>47659</td>\n",
       "      <td>k111_997[45019-47659]-</td>\n",
       "      <td>0</td>\n",
       "      <td>-</td>\n",
       "    </tr>\n",
       "    <tr>\n",
       "      <th>7316</th>\n",
       "      <td>k111_997</td>\n",
       "      <td>47723</td>\n",
       "      <td>48362</td>\n",
       "      <td>k111_997[47723-48362]-</td>\n",
       "      <td>0</td>\n",
       "      <td>-</td>\n",
       "    </tr>\n",
       "    <tr>\n",
       "      <th>7317</th>\n",
       "      <td>k111_997</td>\n",
       "      <td>48456</td>\n",
       "      <td>49521</td>\n",
       "      <td>k111_997[48456-49521]+</td>\n",
       "      <td>0</td>\n",
       "      <td>+</td>\n",
       "    </tr>\n",
       "    <tr>\n",
       "      <th>7318</th>\n",
       "      <td>k111_997</td>\n",
       "      <td>49625</td>\n",
       "      <td>50330</td>\n",
       "      <td>k111_997[49625-50330]+</td>\n",
       "      <td>0</td>\n",
       "      <td>+</td>\n",
       "    </tr>\n",
       "    <tr>\n",
       "      <th>7319</th>\n",
       "      <td>k111_998</td>\n",
       "      <td>2</td>\n",
       "      <td>461</td>\n",
       "      <td>k111_998[2-461]+</td>\n",
       "      <td>0</td>\n",
       "      <td>+</td>\n",
       "    </tr>\n",
       "  </tbody>\n",
       "</table>\n",
       "<p>7320 rows × 6 columns</p>\n",
       "</div>"
      ],
      "text/plain": [
       "        contig   left  right                     orf  score strand\n",
       "0       k111_1      1    946          k111_1[1-946]+      0      +\n",
       "1       k111_1   1060   3490      k111_1[1060-3490]-      0      -\n",
       "2       k111_1   3647   4160      k111_1[3647-4160]-      0      -\n",
       "3      k111_10      1   1573        k111_10[1-1573]+      0      +\n",
       "4      k111_10   1611   2472     k111_10[1611-2472]+      0      +\n",
       "...        ...    ...    ...                     ...    ...    ...\n",
       "7315  k111_997  45019  47659  k111_997[45019-47659]-      0      -\n",
       "7316  k111_997  47723  48362  k111_997[47723-48362]-      0      -\n",
       "7317  k111_997  48456  49521  k111_997[48456-49521]+      0      +\n",
       "7318  k111_997  49625  50330  k111_997[49625-50330]+      0      +\n",
       "7319  k111_998      2    461        k111_998[2-461]+      0      +\n",
       "\n",
       "[7320 rows x 6 columns]"
      ]
     },
     "execution_count": 24,
     "metadata": {},
     "output_type": "execute_result"
    }
   ],
   "source": [
    "megahit_gene = (\n",
    "    pd.read_table(\n",
    "        f\"data/group/{group}/r.proc.megahit-full-k111.prodigal.bed\",\n",
    "        names=[\"contig\", \"left\", \"right\", \"orf\", \"score\", \"strand\"],\n",
    "    )\n",
    ")\n",
    "megahit_gene"
   ]
  },
  {
   "cell_type": "code",
   "execution_count": 25,
   "id": "710c556a-b6df-46a5-aca8-a763bce8121f",
   "metadata": {
    "execution": {
     "iopub.execute_input": "2024-11-20T16:27:29.875348Z",
     "iopub.status.busy": "2024-11-20T16:27:29.874924Z",
     "iopub.status.idle": "2024-11-20T16:27:29.887523Z",
     "shell.execute_reply": "2024-11-20T16:27:29.886725Z",
     "shell.execute_reply.started": "2024-11-20T16:27:29.875319Z"
    }
   },
   "outputs": [
    {
     "name": "stdout",
     "output_type": "stream",
     "text": [
      "['k111_142[24260-28073]+']\n"
     ]
    }
   ],
   "source": [
    "megahit_marker_gene_list = (\n",
    "    pd.read_table(\n",
    "        f\"data/group/{group}/r.proc.megahit-full-k111.cds.tran.hmmer-{marker_model}-ga.tsv\",\n",
    "        names=[\"orf\", \"gene_name\", \"bitscore\"],\n",
    "    )\n",
    "    .orf.tolist()\n",
    ")\n",
    "\n",
    "print(megahit_marker_gene_list)\n",
    "\n",
    "megahit_total_marker_depth = megahit_gene_depth.loc[megahit_marker_gene_list].sum()"
   ]
  },
  {
   "cell_type": "markdown",
   "id": "48790e33-2f9d-4ad6-9c15-ad8a4c8f3319",
   "metadata": {},
   "source": [
    "## Gene-wise"
   ]
  },
  {
   "cell_type": "code",
   "execution_count": 26,
   "id": "d1d644b0-5c6f-4611-9c7e-21c3793aa70a",
   "metadata": {
    "execution": {
     "iopub.execute_input": "2024-11-20T16:27:29.889029Z",
     "iopub.status.busy": "2024-11-20T16:27:29.888617Z",
     "iopub.status.idle": "2024-11-20T16:27:29.978394Z",
     "shell.execute_reply": "2024-11-20T16:27:29.977634Z",
     "shell.execute_reply.started": "2024-11-20T16:27:29.888999Z"
    }
   },
   "outputs": [
    {
     "data": {
      "text/html": [
       "<div>\n",
       "<style scoped>\n",
       "    .dataframe tbody tr th:only-of-type {\n",
       "        vertical-align: middle;\n",
       "    }\n",
       "\n",
       "    .dataframe tbody tr th {\n",
       "        vertical-align: top;\n",
       "    }\n",
       "\n",
       "    .dataframe thead th {\n",
       "        text-align: right;\n",
       "    }\n",
       "</style>\n",
       "<table border=\"1\" class=\"dataframe\">\n",
       "  <thead>\n",
       "    <tr style=\"text-align: right;\">\n",
       "      <th></th>\n",
       "      <th>btheta_strainA_simcom_len150_seed0_cov10000</th>\n",
       "      <th>btheta_strainB_simcom_len150_seed0_cov10000</th>\n",
       "      <th>btheta_mixture_50_50_simcom_len150_seed1_cov10000</th>\n",
       "      <th>btheta_mixture_25_75_simcom_len150_seed2_cov10000</th>\n",
       "      <th>btheta_mixture_75_25_simcom_len150_seed3_cov10000</th>\n",
       "    </tr>\n",
       "    <tr>\n",
       "      <th>orf</th>\n",
       "      <th></th>\n",
       "      <th></th>\n",
       "      <th></th>\n",
       "      <th></th>\n",
       "      <th></th>\n",
       "    </tr>\n",
       "  </thead>\n",
       "  <tbody>\n",
       "    <tr>\n",
       "      <th>k111_1001[0-270]-</th>\n",
       "      <td>0.000000</td>\n",
       "      <td>0.368765</td>\n",
       "      <td>0.076454</td>\n",
       "      <td>0.315666</td>\n",
       "      <td>0.101661</td>\n",
       "    </tr>\n",
       "    <tr>\n",
       "      <th>k111_1002[0-1389]+</th>\n",
       "      <td>0.991359</td>\n",
       "      <td>0.940234</td>\n",
       "      <td>0.532150</td>\n",
       "      <td>1.031739</td>\n",
       "      <td>0.984639</td>\n",
       "    </tr>\n",
       "    <tr>\n",
       "      <th>k111_1002[1543-2917]+</th>\n",
       "      <td>0.923340</td>\n",
       "      <td>0.943268</td>\n",
       "      <td>0.717017</td>\n",
       "      <td>1.078388</td>\n",
       "      <td>0.958793</td>\n",
       "    </tr>\n",
       "    <tr>\n",
       "      <th>k111_1002[3421-3613]-</th>\n",
       "      <td>0.813261</td>\n",
       "      <td>0.719568</td>\n",
       "      <td>0.543881</td>\n",
       "      <td>0.608819</td>\n",
       "      <td>0.749055</td>\n",
       "    </tr>\n",
       "    <tr>\n",
       "      <th>k111_1003[1878-2616]-</th>\n",
       "      <td>0.000000</td>\n",
       "      <td>0.948667</td>\n",
       "      <td>0.337404</td>\n",
       "      <td>0.736869</td>\n",
       "      <td>0.308308</td>\n",
       "    </tr>\n",
       "    <tr>\n",
       "      <th>...</th>\n",
       "      <td>...</td>\n",
       "      <td>...</td>\n",
       "      <td>...</td>\n",
       "      <td>...</td>\n",
       "      <td>...</td>\n",
       "    </tr>\n",
       "    <tr>\n",
       "      <th>k111_997[8291-9680]-</th>\n",
       "      <td>0.936821</td>\n",
       "      <td>0.977922</td>\n",
       "      <td>0.774689</td>\n",
       "      <td>1.017810</td>\n",
       "      <td>1.008497</td>\n",
       "    </tr>\n",
       "    <tr>\n",
       "      <th>k111_997[9970-10366]-</th>\n",
       "      <td>1.024290</td>\n",
       "      <td>1.019681</td>\n",
       "      <td>0.744199</td>\n",
       "      <td>0.957281</td>\n",
       "      <td>0.948290</td>\n",
       "    </tr>\n",
       "    <tr>\n",
       "      <th>k111_998[2-461]+</th>\n",
       "      <td>0.185413</td>\n",
       "      <td>0.216058</td>\n",
       "      <td>0.067900</td>\n",
       "      <td>0.231890</td>\n",
       "      <td>0.156249</td>\n",
       "    </tr>\n",
       "    <tr>\n",
       "      <th>k111_99[1-766]-</th>\n",
       "      <td>0.361503</td>\n",
       "      <td>0.746163</td>\n",
       "      <td>0.552561</td>\n",
       "      <td>0.580705</td>\n",
       "      <td>0.514905</td>\n",
       "    </tr>\n",
       "    <tr>\n",
       "      <th>k111_9[2-956]-</th>\n",
       "      <td>1.367626</td>\n",
       "      <td>0.491541</td>\n",
       "      <td>0.823937</td>\n",
       "      <td>0.717190</td>\n",
       "      <td>1.151896</td>\n",
       "    </tr>\n",
       "  </tbody>\n",
       "</table>\n",
       "<p>7319 rows × 5 columns</p>\n",
       "</div>"
      ],
      "text/plain": [
       "                       btheta_strainA_simcom_len150_seed0_cov10000  \\\n",
       "orf                                                                  \n",
       "k111_1001[0-270]-                                         0.000000   \n",
       "k111_1002[0-1389]+                                        0.991359   \n",
       "k111_1002[1543-2917]+                                     0.923340   \n",
       "k111_1002[3421-3613]-                                     0.813261   \n",
       "k111_1003[1878-2616]-                                     0.000000   \n",
       "...                                                            ...   \n",
       "k111_997[8291-9680]-                                      0.936821   \n",
       "k111_997[9970-10366]-                                     1.024290   \n",
       "k111_998[2-461]+                                          0.185413   \n",
       "k111_99[1-766]-                                           0.361503   \n",
       "k111_9[2-956]-                                            1.367626   \n",
       "\n",
       "                       btheta_strainB_simcom_len150_seed0_cov10000  \\\n",
       "orf                                                                  \n",
       "k111_1001[0-270]-                                         0.368765   \n",
       "k111_1002[0-1389]+                                        0.940234   \n",
       "k111_1002[1543-2917]+                                     0.943268   \n",
       "k111_1002[3421-3613]-                                     0.719568   \n",
       "k111_1003[1878-2616]-                                     0.948667   \n",
       "...                                                            ...   \n",
       "k111_997[8291-9680]-                                      0.977922   \n",
       "k111_997[9970-10366]-                                     1.019681   \n",
       "k111_998[2-461]+                                          0.216058   \n",
       "k111_99[1-766]-                                           0.746163   \n",
       "k111_9[2-956]-                                            0.491541   \n",
       "\n",
       "                       btheta_mixture_50_50_simcom_len150_seed1_cov10000  \\\n",
       "orf                                                                        \n",
       "k111_1001[0-270]-                                               0.076454   \n",
       "k111_1002[0-1389]+                                              0.532150   \n",
       "k111_1002[1543-2917]+                                           0.717017   \n",
       "k111_1002[3421-3613]-                                           0.543881   \n",
       "k111_1003[1878-2616]-                                           0.337404   \n",
       "...                                                                  ...   \n",
       "k111_997[8291-9680]-                                            0.774689   \n",
       "k111_997[9970-10366]-                                           0.744199   \n",
       "k111_998[2-461]+                                                0.067900   \n",
       "k111_99[1-766]-                                                 0.552561   \n",
       "k111_9[2-956]-                                                  0.823937   \n",
       "\n",
       "                       btheta_mixture_25_75_simcom_len150_seed2_cov10000  \\\n",
       "orf                                                                        \n",
       "k111_1001[0-270]-                                               0.315666   \n",
       "k111_1002[0-1389]+                                              1.031739   \n",
       "k111_1002[1543-2917]+                                           1.078388   \n",
       "k111_1002[3421-3613]-                                           0.608819   \n",
       "k111_1003[1878-2616]-                                           0.736869   \n",
       "...                                                                  ...   \n",
       "k111_997[8291-9680]-                                            1.017810   \n",
       "k111_997[9970-10366]-                                           0.957281   \n",
       "k111_998[2-461]+                                                0.231890   \n",
       "k111_99[1-766]-                                                 0.580705   \n",
       "k111_9[2-956]-                                                  0.717190   \n",
       "\n",
       "                       btheta_mixture_75_25_simcom_len150_seed3_cov10000  \n",
       "orf                                                                       \n",
       "k111_1001[0-270]-                                               0.101661  \n",
       "k111_1002[0-1389]+                                              0.984639  \n",
       "k111_1002[1543-2917]+                                           0.958793  \n",
       "k111_1002[3421-3613]-                                           0.749055  \n",
       "k111_1003[1878-2616]-                                           0.308308  \n",
       "...                                                                  ...  \n",
       "k111_997[8291-9680]-                                            1.008497  \n",
       "k111_997[9970-10366]-                                           0.948290  \n",
       "k111_998[2-461]+                                                0.156249  \n",
       "k111_99[1-766]-                                                 0.514905  \n",
       "k111_9[2-956]-                                                  1.151896  \n",
       "\n",
       "[7319 rows x 5 columns]"
      ]
     },
     "execution_count": 26,
     "metadata": {},
     "output_type": "execute_result"
    }
   ],
   "source": [
    "megahit_normalized_gene_depth = megahit_gene_depth.divide(megahit_total_marker_depth)\n",
    "megahit_normalized_gene_depth"
   ]
  },
  {
   "cell_type": "code",
   "execution_count": 27,
   "id": "f4edca13-1460-4fc6-8cbd-d32e79d841fd",
   "metadata": {
    "execution": {
     "iopub.execute_input": "2024-11-20T16:27:29.979786Z",
     "iopub.status.busy": "2024-11-20T16:27:29.979500Z",
     "iopub.status.idle": "2024-11-20T16:27:30.966256Z",
     "shell.execute_reply": "2024-11-20T16:27:30.965493Z",
     "shell.execute_reply.started": "2024-11-20T16:27:29.979759Z"
    }
   },
   "outputs": [
    {
     "data": {
      "text/plain": [
       "Text(0.5, 0, 'Normalized Gene Depth\\n(mean over reads from two different strains)')"
      ]
     },
     "execution_count": 27,
     "metadata": {},
     "output_type": "execute_result"
    },
    {
     "data": {
      "image/png": "[encoded data removed]",
      "text/plain": [
       "<Figure size 640x480 with 1 Axes>"
      ]
     },
     "metadata": {},
     "output_type": "display_data"
    }
   ],
   "source": [
    "bins = [0] + list(np.logspace(-5, 3, num=100))\n",
    "plt.hist(megahit_normalized_gene_depth.mean(1), bins=bins)\n",
    "plt.xscale(\"log\")\n",
    "plt.xlabel(\"Normalized Gene Depth\\n(mean over reads from two different strains)\")"
   ]
  },
  {
   "cell_type": "code",
   "execution_count": 28,
   "id": "68985856-d5ef-4d65-80ae-cc031f54a147",
   "metadata": {
    "execution": {
     "iopub.execute_input": "2024-11-20T16:27:30.967644Z",
     "iopub.status.busy": "2024-11-20T16:27:30.967354Z",
     "iopub.status.idle": "2024-11-20T16:27:32.121962Z",
     "shell.execute_reply": "2024-11-20T16:27:32.121181Z",
     "shell.execute_reply.started": "2024-11-20T16:27:30.967617Z"
    }
   },
   "outputs": [
    {
     "data": {
      "text/plain": [
       "Text(0.5, 0, 'Normalized Gene Depth\\n(Mixed sample)')"
      ]
     },
     "execution_count": 28,
     "metadata": {},
     "output_type": "execute_result"
    },
    {
     "data": {
      "image/png": "[encoded data removed]",
      "text/plain": [
       "<Figure size 640x480 with 1 Axes>"
      ]
     },
     "metadata": {},
     "output_type": "display_data"
    }
   ],
   "source": [
    "bins = [0] + list(np.logspace(-5, 3, num=100))\n",
    "plt.hist(megahit_normalized_gene_depth.iloc[:, 3], bins=bins)\n",
    "plt.xscale(\"log\")\n",
    "plt.xlabel(\"Normalized Gene Depth\\n(Mixed sample)\")"
   ]
  },
  {
   "cell_type": "code",
   "execution_count": 29,
   "id": "e4fcdf24-f316-49b5-b6e4-5cac0647bcb7",
   "metadata": {
    "execution": {
     "iopub.execute_input": "2024-11-20T16:27:32.123378Z",
     "iopub.status.busy": "2024-11-20T16:27:32.123069Z",
     "iopub.status.idle": "2024-11-20T16:27:32.705310Z",
     "shell.execute_reply": "2024-11-20T16:27:32.704544Z",
     "shell.execute_reply.started": "2024-11-20T16:27:32.123349Z"
    }
   },
   "outputs": [
    {
     "data": {
      "text/plain": [
       "<matplotlib.legend.Legend at 0x7fb4c3f13b60>"
      ]
     },
     "execution_count": 29,
     "metadata": {},
     "output_type": "execute_result"
    },
    {
     "data": {
      "image/png": "[encoded data removed]",
      "text/plain": [
       "<Figure size 640x480 with 1 Axes>"
      ]
     },
     "metadata": {},
     "output_type": "display_data"
    }
   ],
   "source": [
    "d = (\n",
    "    megahit_normalized_gene_depth.mean(1)\n",
    "    .to_frame(name=\"mean_normalized_depth\")\n",
    "    .sort_values('mean_normalized_depth')\n",
    "    .assign(rank=lambda x: x.mean_normalized_depth.rank())\n",
    ")\n",
    "\n",
    "plt.plot(\n",
    "    \"rank\", \"mean_normalized_depth\", data=d, label=\"depth\"\n",
    ")\n",
    "plt.xlabel(\"depth rank\")\n",
    "plt.ylabel(\"normalized depth (mean)\")\n",
    "# plt.plot(\"mean_normalized_depth\", \"length_cumsum\", data=d)\n",
    "plt.yscale(\"log\")\n",
    "plt.legend()\n",
    "# plt.xscale(\"logit\")"
   ]
  },
  {
   "cell_type": "code",
   "execution_count": 30,
   "id": "b30715b6-e13c-4de7-8aa3-fc9f3206489b",
   "metadata": {
    "execution": {
     "iopub.execute_input": "2024-11-20T16:27:32.706829Z",
     "iopub.status.busy": "2024-11-20T16:27:32.706403Z",
     "iopub.status.idle": "2024-11-20T16:27:33.223523Z",
     "shell.execute_reply": "2024-11-20T16:27:33.222798Z",
     "shell.execute_reply.started": "2024-11-20T16:27:32.706801Z"
    }
   },
   "outputs": [
    {
     "data": {
      "text/plain": [
       "<matplotlib.colorbar.Colorbar at 0x7fb4c3c80200>"
      ]
     },
     "execution_count": 30,
     "metadata": {},
     "output_type": "execute_result"
    },
    {
     "data": {
      "image/png": "[encoded data removed]",
      "text/plain": [
       "<Figure size 640x480 with 2 Axes>"
      ]
     },
     "metadata": {},
     "output_type": "display_data"
    }
   ],
   "source": [
    "d = megahit_normalized_gene_depth\n",
    "\n",
    "bins = [0] + list(np.logspace(-3, 3, num=50))\n",
    "plt.hist2d(d.iloc[:, 0], d.iloc[:, 1], bins=bins, norm=mpl.colors.PowerNorm(1/5, vmin=0, vmax=5_000))\n",
    "plt.xscale('symlog', linthresh=1e-3, linscale=0.1)\n",
    "plt.yscale('symlog', linthresh=1e-3, linscale=0.1)\n",
    "plt.colorbar()"
   ]
  },
  {
   "cell_type": "code",
   "execution_count": 31,
   "id": "56d9d6eb-132c-4a1c-9385-f475d684547c",
   "metadata": {
    "execution": {
     "iopub.execute_input": "2024-11-20T16:27:33.224894Z",
     "iopub.status.busy": "2024-11-20T16:27:33.224607Z",
     "iopub.status.idle": "2024-11-20T16:27:33.746000Z",
     "shell.execute_reply": "2024-11-20T16:27:33.745282Z",
     "shell.execute_reply.started": "2024-11-20T16:27:33.224868Z"
    }
   },
   "outputs": [
    {
     "data": {
      "text/plain": [
       "<matplotlib.colorbar.Colorbar at 0x7fb4c3ba68a0>"
      ]
     },
     "execution_count": 31,
     "metadata": {},
     "output_type": "execute_result"
    },
    {
     "data": {
      "image/png": "[encoded data removed]",
      "text/plain": [
       "<Figure size 640x480 with 2 Axes>"
      ]
     },
     "metadata": {},
     "output_type": "display_data"
    }
   ],
   "source": [
    "d = megahit_normalized_gene_depth\n",
    "\n",
    "bins = [0] + list(np.logspace(-3, 3, num=50))\n",
    "plt.hist2d(d.iloc[:, 3], d.iloc[:, 4], bins=bins, norm=mpl.colors.PowerNorm(1/5, vmin=0, vmax=5_000))\n",
    "plt.xscale('symlog', linthresh=1e-3, linscale=0.1)\n",
    "plt.yscale('symlog', linthresh=1e-3, linscale=0.1)\n",
    "plt.colorbar()"
   ]
  }
 ],
 "metadata": {
  "kernelspec": {
   "display_name": "strainzip",
   "language": "python",
   "name": "strainzip"
  },
  "language_info": {
   "codemirror_mode": {
    "name": "ipython",
    "version": 3
   },
   "file_extension": ".py",
   "mimetype": "text/x-python",
   "name": "python",
   "nbconvert_exporter": "python",
   "pygments_lexer": "ipython3",
   "version": "3.12.3"
  }
 },
 "nbformat": 4,
 "nbformat_minor": 5
}
