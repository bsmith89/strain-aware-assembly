{
 "cells": [
  {
   "cell_type": "code",
   "execution_count": 1,
   "id": "1ba711d0",
   "metadata": {
    "execution": {
     "iopub.execute_input": "2024-08-14T19:20:36.443552Z",
     "iopub.status.busy": "2024-08-14T19:20:36.442956Z",
     "iopub.status.idle": "2024-08-14T19:20:36.634046Z",
     "shell.execute_reply": "2024-08-14T19:20:36.633468Z",
     "shell.execute_reply.started": "2024-08-14T19:20:36.443531Z"
    },
    "tags": []
   },
   "outputs": [
    {
     "name": "stdout",
     "output_type": "stream",
     "text": [
      "Wed Aug 14 12:20:36 PDT 2024\n"
     ]
    }
   ],
   "source": [
    "!date"
   ]
  },
  {
   "cell_type": "code",
   "execution_count": 2,
   "id": "3e9106a9",
   "metadata": {
    "execution": {
     "iopub.execute_input": "2024-08-14T19:20:36.635159Z",
     "iopub.status.busy": "2024-08-14T19:20:36.635005Z",
     "iopub.status.idle": "2024-08-14T19:20:36.684173Z",
     "shell.execute_reply": "2024-08-14T19:20:36.683772Z",
     "shell.execute_reply.started": "2024-08-14T19:20:36.635136Z"
    },
    "tags": []
   },
   "outputs": [],
   "source": [
    "%load_ext autoreload\n",
    "%load_ext line_profiler"
   ]
  },
  {
   "cell_type": "code",
   "execution_count": 3,
   "id": "febd92f3-1729-40c5-b6d4-1587a4dc2880",
   "metadata": {
    "execution": {
     "iopub.execute_input": "2024-08-14T19:20:36.785679Z",
     "iopub.status.busy": "2024-08-14T19:20:36.785425Z",
     "iopub.status.idle": "2024-08-14T19:20:36.788166Z",
     "shell.execute_reply": "2024-08-14T19:20:36.787787Z",
     "shell.execute_reply.started": "2024-08-14T19:20:36.785655Z"
    },
    "tags": []
   },
   "outputs": [],
   "source": [
    "import logging\n",
    "\n",
    "logging.basicConfig(level=logging.INFO, force=True)"
   ]
  },
  {
   "cell_type": "code",
   "execution_count": 4,
   "id": "20895b5e",
   "metadata": {
    "execution": {
     "iopub.execute_input": "2024-08-14T19:20:36.957509Z",
     "iopub.status.busy": "2024-08-14T19:20:36.957230Z",
     "iopub.status.idle": "2024-08-14T19:20:36.960043Z",
     "shell.execute_reply": "2024-08-14T19:20:36.959612Z",
     "shell.execute_reply.started": "2024-08-14T19:20:36.957480Z"
    },
    "tags": []
   },
   "outputs": [],
   "source": [
    "import os as _os\n",
    "\n",
    "_os.chdir(_os.environ[\"PROJECT_ROOT\"])"
   ]
  },
  {
   "cell_type": "code",
   "execution_count": 5,
   "id": "46b4e431",
   "metadata": {
    "execution": {
     "iopub.execute_input": "2024-08-14T19:20:37.128360Z",
     "iopub.status.busy": "2024-08-14T19:20:37.127817Z",
     "iopub.status.idle": "2024-08-14T19:20:43.275384Z",
     "shell.execute_reply": "2024-08-14T19:20:43.274831Z",
     "shell.execute_reply.started": "2024-08-14T19:20:37.128333Z"
    },
    "tags": []
   },
   "outputs": [],
   "source": [
    "import os\n",
    "from contextlib import contextmanager\n",
    "from itertools import chain, product\n",
    "from multiprocessing import Pool\n",
    "\n",
    "import fastcluster\n",
    "import graph_tool as gt\n",
    "import graph_tool.draw\n",
    "import matplotlib as mpl\n",
    "import matplotlib.pyplot as plt\n",
    "import numpy as np\n",
    "import pandas as pd\n",
    "import scipy as sp\n",
    "import seaborn as sns\n",
    "import strainzip as sz\n",
    "import strainzip.app.unzip\n",
    "import xarray as xr\n",
    "from graph_tool.util import find_edge\n",
    "from scipy.cluster.hierarchy import fcluster, linkage\n",
    "from strainzip.pandas_util import idxwhere\n",
    "from tqdm import tqdm\n",
    "\n",
    "import lib.plot"
   ]
  },
  {
   "cell_type": "code",
   "execution_count": 6,
   "id": "55c9d317-a5b2-43d4-a292-9c553e69facd",
   "metadata": {
    "execution": {
     "iopub.execute_input": "2024-08-14T19:20:43.276629Z",
     "iopub.status.busy": "2024-08-14T19:20:43.276333Z",
     "iopub.status.idle": "2024-08-14T19:20:43.279265Z",
     "shell.execute_reply": "2024-08-14T19:20:43.278838Z",
     "shell.execute_reply.started": "2024-08-14T19:20:43.276613Z"
    }
   },
   "outputs": [],
   "source": [
    "mpl.rcParams[\"figure.dpi\"] = 100\n",
    "# sns.set_context('talk')"
   ]
  },
  {
   "cell_type": "code",
   "execution_count": 7,
   "id": "9e48973f",
   "metadata": {
    "execution": {
     "iopub.execute_input": "2024-08-14T19:20:43.279931Z",
     "iopub.status.busy": "2024-08-14T19:20:43.279797Z",
     "iopub.status.idle": "2024-08-14T19:20:43.309480Z",
     "shell.execute_reply": "2024-08-14T19:20:43.309054Z",
     "shell.execute_reply.started": "2024-08-14T19:20:43.279917Z"
    },
    "tags": []
   },
   "outputs": [],
   "source": [
    "# Plotting parameters\n",
    "\n",
    "length_bins = np.logspace(0, 6.5, num=51)\n",
    "depth_bins = np.logspace(-1, 4, num=51)\n",
    "\n",
    "draw_graphs = True"
   ]
  },
  {
   "cell_type": "code",
   "execution_count": 8,
   "id": "ecac1f02-78db-4e01-a5bd-202e957c4e32",
   "metadata": {
    "execution": {
     "iopub.execute_input": "2024-08-14T19:20:43.310506Z",
     "iopub.status.busy": "2024-08-14T19:20:43.310373Z",
     "iopub.status.idle": "2024-08-14T19:20:43.365512Z",
     "shell.execute_reply": "2024-08-14T19:20:43.365089Z",
     "shell.execute_reply.started": "2024-08-14T19:20:43.310493Z"
    },
    "tags": []
   },
   "outputs": [],
   "source": [
    "k = 111\n",
    "group = \"xjin_test2\"\n",
    "graph_type = f\"k{k}-withmegahit2-droptips\"\n",
    "deconv = \"norm-10-10\"\n",
    "# kmtricks = 'k111-m3-r2'\n",
    "clust_params = \"e50-d20\"\n",
    "\n",
    "fig_dir = (\n",
    "    f\"fig/group/{group}/r.proc.ggcat-{graph_type}.notips-2.smoothed-6.unzip-{deconv}.d\"\n",
    ")\n",
    "if not os.path.exists(fig_dir):\n",
    "    print(f\"mkdir -p {fig_dir}\")"
   ]
  },
  {
   "cell_type": "code",
   "execution_count": 9,
   "id": "127a1946-aa51-40fe-b993-913c22758fb0",
   "metadata": {
    "execution": {
     "iopub.execute_input": "2024-08-14T19:20:43.366313Z",
     "iopub.status.busy": "2024-08-14T19:20:43.365987Z",
     "iopub.status.idle": "2024-08-14T19:20:43.393600Z",
     "shell.execute_reply": "2024-08-14T19:20:43.393158Z",
     "shell.execute_reply.started": "2024-08-14T19:20:43.366298Z"
    }
   },
   "outputs": [
    {
     "data": {
      "text/plain": [
       "idx\n",
       "0              xjin_N_P5R2b\n",
       "1              xjin_N_P5R2c\n",
       "2              xjin_N_P5R3a\n",
       "3              xjin_N_P5R3b\n",
       "4              xjin_N_P5R3c\n",
       "5    xjin_XT_Innoculum_Rep1\n",
       "6    xjin_XT_Innoculum_Rep2\n",
       "Name: mgen_id, dtype: object"
      ]
     },
     "execution_count": 9,
     "metadata": {},
     "output_type": "execute_result"
    }
   ],
   "source": [
    "# Metadata\n",
    "sample_idx_to_id = (\n",
    "    pd.read_table(\"meta/mgen_group.tsv\", names=[\"mgen_id\", \"mgen_group\"])[\n",
    "        lambda x: x.mgen_group == group\n",
    "    ]\n",
    "    .mgen_id.to_frame()\n",
    "    .assign(idx=lambda x: range(len(x)))\n",
    "    .set_index(\"idx\")\n",
    "    .mgen_id\n",
    ")\n",
    "sample_idx_to_id\n",
    "\n",
    "# NOTE: This only applies to xjin samples:\n",
    "# sample_idx_to_id = sample_idx_to_id.str.split('_', n=1).str[1]\n",
    "sample_idx_to_id  # .head()"
   ]
  },
  {
   "cell_type": "code",
   "execution_count": 10,
   "id": "43d048c5-c3eb-4ec4-b153-64a33a43d02b",
   "metadata": {
    "execution": {
     "iopub.execute_input": "2024-08-14T19:20:43.394298Z",
     "iopub.status.busy": "2024-08-14T19:20:43.394159Z",
     "iopub.status.idle": "2024-08-14T19:20:43.701743Z",
     "shell.execute_reply": "2024-08-14T19:20:43.701252Z",
     "shell.execute_reply.started": "2024-08-14T19:20:43.394284Z"
    }
   },
   "outputs": [
    {
     "name": "stdout",
     "output_type": "stream",
     "text": [
      "1355\n"
     ]
    },
    {
     "data": {
      "text/html": [
       "<div>\n",
       "<style scoped>\n",
       "    .dataframe tbody tr th:only-of-type {\n",
       "        vertical-align: middle;\n",
       "    }\n",
       "\n",
       "    .dataframe tbody tr th {\n",
       "        vertical-align: top;\n",
       "    }\n",
       "\n",
       "    .dataframe thead th {\n",
       "        text-align: right;\n",
       "    }\n",
       "</style>\n",
       "<table border=\"1\" class=\"dataframe\">\n",
       "  <thead>\n",
       "    <tr style=\"text-align: right;\">\n",
       "      <th></th>\n",
       "      <th>num_vertices</th>\n",
       "      <th>num_segments</th>\n",
       "      <th>num_unique_segments</th>\n",
       "      <th>total_length</th>\n",
       "      <th>total_depth</th>\n",
       "    </tr>\n",
       "    <tr>\n",
       "      <th>cluster</th>\n",
       "      <th></th>\n",
       "      <th></th>\n",
       "      <th></th>\n",
       "      <th></th>\n",
       "      <th></th>\n",
       "    </tr>\n",
       "  </thead>\n",
       "  <tbody>\n",
       "    <tr>\n",
       "      <th>1113</th>\n",
       "      <td>91398</td>\n",
       "      <td>118440</td>\n",
       "      <td>110504</td>\n",
       "      <td>209857585</td>\n",
       "      <td>1.678029</td>\n",
       "    </tr>\n",
       "    <tr>\n",
       "      <th>360</th>\n",
       "      <td>2382</td>\n",
       "      <td>28991</td>\n",
       "      <td>24906</td>\n",
       "      <td>49697156</td>\n",
       "      <td>44.040000</td>\n",
       "    </tr>\n",
       "    <tr>\n",
       "      <th>164</th>\n",
       "      <td>2076</td>\n",
       "      <td>40957</td>\n",
       "      <td>37421</td>\n",
       "      <td>41118591</td>\n",
       "      <td>19.668717</td>\n",
       "    </tr>\n",
       "    <tr>\n",
       "      <th>473</th>\n",
       "      <td>908</td>\n",
       "      <td>10510</td>\n",
       "      <td>9263</td>\n",
       "      <td>28018251</td>\n",
       "      <td>6.825675</td>\n",
       "    </tr>\n",
       "    <tr>\n",
       "      <th>300</th>\n",
       "      <td>2951</td>\n",
       "      <td>41833</td>\n",
       "      <td>38409</td>\n",
       "      <td>22054751</td>\n",
       "      <td>60.627384</td>\n",
       "    </tr>\n",
       "  </tbody>\n",
       "</table>\n",
       "</div>"
      ],
      "text/plain": [
       "         num_vertices  num_segments  num_unique_segments  total_length  \\\n",
       "cluster                                                                  \n",
       "1113            91398        118440               110504     209857585   \n",
       "360              2382         28991                24906      49697156   \n",
       "164              2076         40957                37421      41118591   \n",
       "473               908         10510                 9263      28018251   \n",
       "300              2951         41833                38409      22054751   \n",
       "\n",
       "         total_depth  \n",
       "cluster               \n",
       "1113        1.678029  \n",
       "360        44.040000  \n",
       "164        19.668717  \n",
       "473         6.825675  \n",
       "300        60.627384  "
      ]
     },
     "execution_count": 10,
     "metadata": {},
     "output_type": "execute_result"
    }
   ],
   "source": [
    "clust_meta = pd.read_table(\n",
    "    f\"data/group/{group}/r.proc.ggcat-{graph_type}.notips-2.smoothed-6.unzip-{deconv}.clust-{clust_params}.meta.tsv\",\n",
    "    index_col=\"cluster\",\n",
    ")\n",
    "vertex_to_clust = pd.read_table(\n",
    "    f\"data/group/{group}/r.proc.ggcat-{graph_type}.notips-2.smoothed-6.unzip-{deconv}.clust-{clust_params}.vertex.tsv\",\n",
    "    index_col=\"vertex\",\n",
    ").cluster\n",
    "segement_x_clust = pd.read_table(\n",
    "    f\"data/group/{group}/r.proc.ggcat-{graph_type}.notips-2.smoothed-6.unzip-{deconv}.clust-{clust_params}.segment.tsv\",\n",
    "    index_col=\"segment\",\n",
    ").cluster\n",
    "print(len(clust_meta))\n",
    "clust_meta.sort_values(\"total_length\", ascending=False).head(5)"
   ]
  },
  {
   "cell_type": "code",
   "execution_count": 11,
   "id": "b856cba3-8962-414a-b1a3-bdb092c67c75",
   "metadata": {
    "execution": {
     "iopub.execute_input": "2024-08-14T19:20:43.702620Z",
     "iopub.status.busy": "2024-08-14T19:20:43.702420Z",
     "iopub.status.idle": "2024-08-14T19:20:53.048448Z",
     "shell.execute_reply": "2024-08-14T19:20:53.047938Z",
     "shell.execute_reply.started": "2024-08-14T19:20:43.702605Z"
    }
   },
   "outputs": [
    {
     "name": "stdout",
     "output_type": "stream",
     "text": [
      "197.03200597344906\n",
      "CPU times: user 8.95 s, sys: 365 ms, total: 9.31 s\n",
      "Wall time: 9.34 s\n"
     ]
    }
   ],
   "source": [
    "%%time\n",
    "\n",
    "unpressed_graph = sz.io.load_graph(\n",
    "    f\"data/group/{group}/r.proc.ggcat-{graph_type}.notips-2-unpressed.sz\"\n",
    ")\n",
    "unpressed_results = sz.results.extract_vertex_data(unpressed_graph)\n",
    "print(\n",
    "    (unpressed_results.length * unpressed_results.total_depth).sum()\n",
    "    / unpressed_results.total_depth.sum()\n",
    ")\n",
    "\n",
    "obs_segment_depth = sz.results.extract_segment_depth(unpressed_graph)"
   ]
  },
  {
   "cell_type": "code",
   "execution_count": 12,
   "id": "2b0bbcc0-d9db-4082-9d26-9ccacb909eb5",
   "metadata": {
    "execution": {
     "iopub.execute_input": "2024-08-14T19:20:53.049254Z",
     "iopub.status.busy": "2024-08-14T19:20:53.049099Z",
     "iopub.status.idle": "2024-08-14T19:20:53.674304Z",
     "shell.execute_reply": "2024-08-14T19:20:53.673839Z",
     "shell.execute_reply.started": "2024-08-14T19:20:53.049238Z"
    }
   },
   "outputs": [
    {
     "data": {
      "image/png": "[encoded data removed]",
      "text/plain": [
       "<Figure size 640x480 with 1 Axes>"
      ]
     },
     "metadata": {},
     "output_type": "display_data"
    }
   ],
   "source": [
    "segment_length = (\n",
    "    unpressed_results.assign(segment=lambda x: x.segments.str[0])\n",
    "    .set_index(\"segment\")\n",
    "    .length\n",
    ")\n",
    "# For each segment how many extra paths could have gone through it? max((N * M) - 1, 0)\n",
    "segment_complexity = pd.Series(\n",
    "    (unpressed_results.num_in_neighbors * unpressed_results.num_out_neighbors - 1)\n",
    "    .where(lambda x: x > 0, 0)\n",
    "    .values,\n",
    "    index=unpressed_results.segments.str[0],\n",
    ")\n",
    "squared_segment_complexity = np.square(segment_complexity)\n",
    "\n",
    "plt.hist(segment_complexity, bins=np.arange(15))\n",
    "plt.yscale(\"log\")"
   ]
  },
  {
   "cell_type": "code",
   "execution_count": 13,
   "id": "6eacfa5b-9962-4fc3-998d-0d80fca4dcf0",
   "metadata": {
    "execution": {
     "iopub.execute_input": "2024-08-14T19:21:06.104948Z",
     "iopub.status.busy": "2024-08-14T19:21:06.104659Z",
     "iopub.status.idle": "2024-08-14T19:21:09.848928Z",
     "shell.execute_reply": "2024-08-14T19:21:09.848384Z",
     "shell.execute_reply.started": "2024-08-14T19:21:06.104932Z"
    },
    "tags": []
   },
   "outputs": [
    {
     "name": "stdout",
     "output_type": "stream",
     "text": [
      "CPU times: user 3.64 s, sys: 70 ms, total: 3.71 s\n",
      "Wall time: 3.74 s\n"
     ]
    }
   ],
   "source": [
    "%%time\n",
    "final_graph = sz.io.load_graph(\n",
    "    f\"data/group/{group}/r.proc.ggcat-{graph_type}.notips-2.smoothed-6.unzip-{deconv}.sz\"\n",
    ")\n",
    "final_results = sz.results.extract_vertex_data(final_graph)\n",
    "ss_vertex_complexity = (\n",
    "    final_results.segments.explode()\n",
    "    .to_frame(\"segment\")\n",
    "    .reset_index()\n",
    "    .join(squared_segment_complexity.rename(\"segment_complexity\"), on=\"segment\")\n",
    "    .drop_duplicates()\n",
    "    .groupby(\"vertex\")\n",
    "    .segment_complexity.sum()\n",
    ")\n",
    "vertex_complexity = np.sqrt(ss_vertex_complexity)\n",
    "\n",
    "final_results = final_results.assign(\n",
    "    complexity=vertex_complexity,\n",
    "    clust=vertex_to_clust.reindex(final_results.index, fill_value=-1),\n",
    ")\n",
    "\n",
    "vertex_depth = sz.results.depth_table(final_graph, final_graph.get_vertices()).T\n",
    "vertex_length = pd.Series(final_graph.vp[\"length\"], index=final_graph.get_vertices())"
   ]
  },
  {
   "cell_type": "code",
   "execution_count": 14,
   "id": "4faaf6c3-4d3b-4067-b4a7-723b6ac52cf8",
   "metadata": {
    "execution": {
     "iopub.execute_input": "2024-08-14T19:25:04.208615Z",
     "iopub.status.busy": "2024-08-14T19:25:04.208319Z",
     "iopub.status.idle": "2024-08-14T19:25:05.059444Z",
     "shell.execute_reply": "2024-08-14T19:25:05.058990Z",
     "shell.execute_reply.started": "2024-08-14T19:25:04.208596Z"
    }
   },
   "outputs": [
    {
     "data": {
      "text/plain": [
       "<seaborn.matrix.ClusterGrid at 0x7f919526fb90>"
      ]
     },
     "execution_count": 14,
     "metadata": {},
     "output_type": "execute_result"
    },
    {
     "data": {
      "image/png": "[encoded data removed]",
      "text/plain": [
       "<Figure size 1000x1000 with 4 Axes>"
      ]
     },
     "metadata": {},
     "output_type": "display_data"
    }
   ],
   "source": [
    "# Normalize by rpoB and gyrA depth\n",
    "\n",
    "marker_model = \"TIGR02013\"\n",
    "\n",
    "marker_genes = pd.read_table(\n",
    "    f\"data/group/{group}/r.proc.ggcat-{graph_type}.notips-2.smoothed-6.unzip-{deconv}.cds.tran.hmmer-{marker_model}-ga.tsv\",\n",
    "    names=[\"orf\", \"gene_name\", \"bitscore\"],\n",
    ").assign(vertex=lambda x: x.orf.str.split(\"_\").str[0].astype(int))\n",
    "_marker_gene_vertex_list = list(set(marker_genes.vertex))\n",
    "marker_depth = vertex_depth.loc[_marker_gene_vertex_list].T\n",
    "total_marker_depth = marker_depth.sum(1)\n",
    "\n",
    "normalized_vertex_depth = vertex_depth.divide(total_marker_depth)\n",
    "\n",
    "marker_rabund = marker_depth.divide(total_marker_depth, axis=0)\n",
    "# plt.hist(marker_depth.sum())\n",
    "sns.clustermap(\n",
    "    marker_rabund.rename(sample_idx_to_id) + 1e-5,\n",
    "    norm=mpl.colors.SymLogNorm(1e-5),\n",
    "    metric=\"cosine\",\n",
    ")"
   ]
  },
  {
   "cell_type": "raw",
   "id": "1b73fcb3-847a-4bf7-b642-6fc4f27eaca2",
   "metadata": {
    "execution": {
     "iopub.execute_input": "2024-08-09T22:19:06.592764Z",
     "iopub.status.busy": "2024-08-09T22:19:06.590058Z",
     "iopub.status.idle": "2024-08-09T22:19:10.964976Z",
     "shell.execute_reply": "2024-08-09T22:19:10.964139Z",
     "shell.execute_reply.started": "2024-08-09T22:19:06.592732Z"
    }
   },
   "source": [
    "# NOTE: Based on xjin samples\n",
    "\n",
    "kraken_read_counts = pd.read_csv('/pollard/home/xiaofanj/microbiomeAdhesion/intermediates/biofilmBeadExpV2/customKrakenOutputs/customKraken2BrackenAbundances.csv').set_index(['Strain_Name', 'sample']).new_est_reads.unstack('Strain_Name', fill_value=0)\n",
    "kraken_rabund = kraken_read_counts.divide(kraken_read_counts.sum(1), axis=0)\n",
    "\n",
    "sns.clustermap(kraken_rabund, norm=mpl.colors.SymLogNorm(1e-5), metric='cosine')"
   ]
  },
  {
   "cell_type": "code",
   "execution_count": 15,
   "id": "4a79c398-5367-4545-9104-0b67f748f473",
   "metadata": {
    "execution": {
     "iopub.execute_input": "2024-08-14T19:25:15.237172Z",
     "iopub.status.busy": "2024-08-14T19:25:15.236949Z",
     "iopub.status.idle": "2024-08-14T19:25:18.437242Z",
     "shell.execute_reply": "2024-08-14T19:25:18.436783Z",
     "shell.execute_reply.started": "2024-08-14T19:25:15.237150Z"
    }
   },
   "outputs": [
    {
     "name": "stdout",
     "output_type": "stream",
     "text": [
      "987.3164026350904\n",
      "CPU times: user 3.01 s, sys: 159 ms, total: 3.17 s\n",
      "Wall time: 3.2 s\n"
     ]
    }
   ],
   "source": [
    "%%time\n",
    "\n",
    "print(\n",
    "    (final_results.length * final_results.total_depth).sum()\n",
    "    / final_results.total_depth.sum()\n",
    ")\n",
    "final_segment_depth = sz.results.extract_segment_depth(final_graph)"
   ]
  },
  {
   "cell_type": "code",
   "execution_count": 16,
   "id": "a84bc24d-9f5b-49c8-bdaf-8585ac43d9e9",
   "metadata": {
    "execution": {
     "iopub.execute_input": "2024-08-14T19:25:18.438231Z",
     "iopub.status.busy": "2024-08-14T19:25:18.438049Z",
     "iopub.status.idle": "2024-08-14T19:25:19.163788Z",
     "shell.execute_reply": "2024-08-14T19:25:19.163323Z",
     "shell.execute_reply.started": "2024-08-14T19:25:18.438216Z"
    },
    "tags": []
   },
   "outputs": [],
   "source": [
    "# Used below for visualizing the graph\n",
    "# This part is slow enough that it's better to cache it and pass it to the get_shortest_distance function.\n",
    "backlinked_unpressed_graph = sz.topology.backlinked_graph(unpressed_graph)"
   ]
  },
  {
   "cell_type": "code",
   "execution_count": 17,
   "id": "a6565b2e-8516-4053-9534-381c8a310a2e",
   "metadata": {
    "execution": {
     "iopub.execute_input": "2024-08-14T19:25:20.055568Z",
     "iopub.status.busy": "2024-08-14T19:25:20.055327Z",
     "iopub.status.idle": "2024-08-14T19:25:20.729719Z",
     "shell.execute_reply": "2024-08-14T19:25:20.729294Z",
     "shell.execute_reply.started": "2024-08-14T19:25:20.055550Z"
    }
   },
   "outputs": [
    {
     "name": "stdout",
     "output_type": "stream",
     "text": [
      "PearsonRResult(statistic=0.9993038964694172, pvalue=0.0)\n",
      "CPU times: user 259 ms, sys: 1.74 ms, total: 261 ms\n",
      "Wall time: 260 ms\n"
     ]
    },
    {
     "data": {
      "text/plain": [
       "<matplotlib.collections.PathCollection at 0x7f917a3eeff0>"
      ]
     },
     "execution_count": 17,
     "metadata": {},
     "output_type": "execute_result"
    },
    {
     "data": {
      "image/png": "[encoded data removed]",
      "text/plain": [
       "<Figure size 640x480 with 2 Axes>"
      ]
     },
     "metadata": {},
     "output_type": "display_data"
    },
    {
     "data": {
      "image/png": "[encoded data removed]",
      "text/plain": [
       "<Figure size 640x480 with 1 Axes>"
      ]
     },
     "metadata": {},
     "output_type": "display_data"
    }
   ],
   "source": [
    "%%time\n",
    "\n",
    "y, x = obs_segment_depth.align(final_segment_depth, join=\"left\")\n",
    "\n",
    "bins = np.concatenate([[0], np.logspace(-3, 7, num=50)])\n",
    "\n",
    "fig = plt.figure()\n",
    "plt.hist2d(\n",
    "    x.values.ravel(),\n",
    "    y.values.ravel(),\n",
    "    bins=bins,\n",
    "    norm=mpl.colors.SymLogNorm(linthresh=1),\n",
    ")\n",
    "plt.xscale(\"symlog\", linthresh=1e-3, linscale=0.2)\n",
    "plt.yscale(\"symlog\", linthresh=1e-3, linscale=0.2)\n",
    "plt.plot([1e-2, 1e5], [1e-2, 1e5], lw=1, linestyle=\"--\", color=\"r\")\n",
    "plt.colorbar()\n",
    "plt.xticks(np.logspace(-3, 7, num=6))\n",
    "plt.yticks(np.logspace(-3, 7, num=6))\n",
    "plt.xlabel(\"Predicted Depth\")\n",
    "plt.ylabel(\"Observed Depth\")\n",
    "\n",
    "print(sp.stats.pearsonr(x.values.ravel(), y.values.ravel()))\n",
    "\n",
    "fig = plt.figure()\n",
    "plt.scatter(x.sum(), y.sum())"
   ]
  },
  {
   "cell_type": "code",
   "execution_count": 18,
   "id": "c5a4c573-7f02-43da-9045-d4d73e3a2da0",
   "metadata": {
    "execution": {
     "iopub.execute_input": "2024-08-14T19:25:28.638758Z",
     "iopub.status.busy": "2024-08-14T19:25:28.638491Z",
     "iopub.status.idle": "2024-08-14T19:25:28.681565Z",
     "shell.execute_reply": "2024-08-14T19:25:28.681071Z",
     "shell.execute_reply.started": "2024-08-14T19:25:28.638741Z"
    }
   },
   "outputs": [
    {
     "data": {
      "text/plain": [
       "0.9986082774989596"
      ]
     },
     "execution_count": 18,
     "metadata": {},
     "output_type": "execute_result"
    }
   ],
   "source": [
    "sp.stats.pearsonr(x.values.ravel(), y.values.ravel()).statistic ** 2"
   ]
  },
  {
   "cell_type": "code",
   "execution_count": 19,
   "id": "511efe8f-5d2b-4cc8-8995-6fccf7af95a0",
   "metadata": {
    "execution": {
     "iopub.execute_input": "2024-08-14T19:25:29.075893Z",
     "iopub.status.busy": "2024-08-14T19:25:29.075628Z",
     "iopub.status.idle": "2024-08-14T19:25:34.411101Z",
     "shell.execute_reply": "2024-08-14T19:25:34.410402Z",
     "shell.execute_reply.started": "2024-08-14T19:25:29.075878Z"
    }
   },
   "outputs": [
    {
     "data": {
      "text/plain": [
       "PropertyArray(251.12702084)"
      ]
     },
     "execution_count": 19,
     "metadata": {},
     "output_type": "execute_result"
    }
   ],
   "source": [
    "notips_graph = sz.io.load_graph(\n",
    "    f\"data/group/{group}/r.proc.ggcat-{graph_type}.notips-2.smoothed-6.sz\"\n",
    ")\n",
    "notips_results = sz.results.extract_vertex_data(notips_graph)\n",
    "sz.stats.depth_weighted_mean_tig_length(notips_graph)"
   ]
  },
  {
   "cell_type": "code",
   "execution_count": 20,
   "id": "28a32fcc-5857-49e1-b082-7636369e1ce2",
   "metadata": {
    "execution": {
     "iopub.execute_input": "2024-08-14T19:25:34.412210Z",
     "iopub.status.busy": "2024-08-14T19:25:34.411947Z",
     "iopub.status.idle": "2024-08-14T19:25:39.056274Z",
     "shell.execute_reply": "2024-08-14T19:25:39.055857Z",
     "shell.execute_reply.started": "2024-08-14T19:25:34.412194Z"
    }
   },
   "outputs": [
    {
     "data": {
      "text/plain": [
       "PropertyArray(250.53750624)"
      ]
     },
     "execution_count": 20,
     "metadata": {},
     "output_type": "execute_result"
    }
   ],
   "source": [
    "notips_unsmoothed_graph = sz.io.load_graph(\n",
    "    f\"data/group/{group}/r.proc.ggcat-{graph_type}.notips-2.sz\"\n",
    ")\n",
    "notips_unsmoothed_results = sz.results.extract_vertex_data(notips_unsmoothed_graph)\n",
    "sz.stats.depth_weighted_mean_tig_length(notips_unsmoothed_graph)"
   ]
  },
  {
   "cell_type": "code",
   "execution_count": 21,
   "id": "1c63bdc0-42fa-496b-911a-7b9ed0a1fe33",
   "metadata": {
    "execution": {
     "iopub.execute_input": "2024-08-14T19:25:41.656357Z",
     "iopub.status.busy": "2024-08-14T19:25:41.656036Z",
     "iopub.status.idle": "2024-08-14T19:25:41.953189Z",
     "shell.execute_reply": "2024-08-14T19:25:41.952859Z",
     "shell.execute_reply.started": "2024-08-14T19:25:41.656338Z"
    }
   },
   "outputs": [
    {
     "data": {
      "text/plain": [
       "PearsonRResult(statistic=0.9991186587167238, pvalue=0.0)"
      ]
     },
     "execution_count": 21,
     "metadata": {},
     "output_type": "execute_result"
    },
    {
     "data": {
      "image/png": "[encoded data removed]",
      "text/plain": [
       "<Figure size 640x480 with 2 Axes>"
      ]
     },
     "metadata": {},
     "output_type": "display_data"
    }
   ],
   "source": [
    "y, x = notips_results.total_depth.align(notips_unsmoothed_results.total_depth)\n",
    "\n",
    "bins = np.concatenate([[0], np.logspace(-3, 7, num=50)])\n",
    "\n",
    "fig = plt.figure()\n",
    "plt.hist2d(x, y, bins=bins, norm=mpl.colors.SymLogNorm(linthresh=1))\n",
    "plt.xscale(\"symlog\", linthresh=1e-3, linscale=0.2)\n",
    "plt.yscale(\"symlog\", linthresh=1e-3, linscale=0.2)\n",
    "plt.plot([1e-2, 1e5], [1e-2, 1e5], lw=1, linestyle=\"--\", color=\"r\")\n",
    "plt.colorbar()\n",
    "plt.xticks(np.logspace(-3, 7, num=6))\n",
    "plt.yticks(np.logspace(-3, 7, num=6))\n",
    "plt.xlabel(\"Unsmoothed\")\n",
    "plt.ylabel(\"Smoothed\")\n",
    "\n",
    "sp.stats.pearsonr(x, y)"
   ]
  },
  {
   "cell_type": "code",
   "execution_count": 22,
   "id": "77664643-a144-4b00-a454-f971fb627147",
   "metadata": {
    "execution": {
     "iopub.execute_input": "2024-08-14T19:25:53.801767Z",
     "iopub.status.busy": "2024-08-14T19:25:53.801418Z",
     "iopub.status.idle": "2024-08-14T19:26:05.610269Z",
     "shell.execute_reply": "2024-08-14T19:26:05.609825Z",
     "shell.execute_reply.started": "2024-08-14T19:25:53.801750Z"
    }
   },
   "outputs": [
    {
     "name": "stdout",
     "output_type": "stream",
     "text": [
      "256.068268980576\n",
      "569.0311885389003\n",
      "922.8527256088678\n"
     ]
    }
   ],
   "source": [
    "round0_graph = sz.io.load_graph(\n",
    "    f\"data/group/{group}/r.proc.ggcat-{graph_type}.notips-2.smoothed-6.unzip-{deconv}.checkpoints.d/checkpoint_0.sz\"\n",
    ")\n",
    "round0_results = sz.results.extract_vertex_data(round0_graph)\n",
    "print(sz.stats.depth_weighted_mean_tig_length(round0_graph))\n",
    "\n",
    "# round1_graph = sz.io.load_graph(f'data/group/{group}/r.proc.ggcat-{graph_type}.notips-2.smoothed-6.unzip-{deconv}.checkpoints.d/checkpoint_1.sz')\n",
    "# round1_results = sz.results.extract_vertex_data(round1_graph)\n",
    "# # print(sz.stats.depth_weighted_mean_tig_length(round1_graph))\n",
    "\n",
    "round2_graph = sz.io.load_graph(\n",
    "    f\"data/group/{group}/r.proc.ggcat-{graph_type}.notips-2.smoothed-6.unzip-{deconv}.checkpoints.d/checkpoint_2.sz\"\n",
    ")\n",
    "round2_results = sz.results.extract_vertex_data(round2_graph)\n",
    "print(sz.stats.depth_weighted_mean_tig_length(round2_graph))\n",
    "\n",
    "# round3_graph = sz.io.load_graph(f'data/group/{group}/r.proc.ggcat-{graph_type}.notips-2.smoothed-6.unzip-{deconv}.checkpoints.d/checkpoint_3.sz')\n",
    "# round3_results = sz.results.extract_vertex_data(round3_graph)\n",
    "# # print(sz.stats.depth_weighted_mean_tig_length(round3_graph))\n",
    "\n",
    "# round4_graph = sz.io.load_graph(f'data/group/{group}/r.proc.ggcat-{graph_type}.notips-2.smoothed-6.unzip-{deconv}.checkpoints.d/checkpoint_4.sz')\n",
    "# round4_results = sz.results.extract_vertex_data(round4_graph)\n",
    "# # print(sz.stats.depth_weighted_mean_tig_length(round4_graph))\n",
    "\n",
    "# round5_graph = sz.io.load_graph(f'data/group/{group}/r.proc.ggcat-{graph_type}.notips-2.smoothed-6.unzip-{deconv}.checkpoints.d/checkpoint_5.sz')\n",
    "# round5_results = sz.results.extract_vertex_data(round5_graph)\n",
    "# # print(sz.stats.depth_weighted_mean_tig_length(round5_graph))\n",
    "\n",
    "# round6_graph = sz.io.load_graph(f'data/group/{group}/r.proc.ggcat-{graph_type}.notips-2.smoothed-6.unzip-{deconv}.checkpoints.d/checkpoint_6.sz')\n",
    "# round6_results = sz.results.extract_vertex_data(round6_graph)\n",
    "# # print(sz.stats.depth_weighted_mean_tig_length(round6_graph))\n",
    "\n",
    "round7_graph = sz.io.load_graph(\n",
    "    f\"data/group/{group}/r.proc.ggcat-{graph_type}.notips-2.smoothed-6.unzip-{deconv}.checkpoints.d/checkpoint_7.sz\"\n",
    ")\n",
    "round7_results = sz.results.extract_vertex_data(round7_graph)\n",
    "print(sz.stats.depth_weighted_mean_tig_length(round7_graph))\n",
    "\n",
    "# round8_graph = sz.io.load_graph(f'data/group/{group}/r.proc.ggcat-{graph_type}.notips-2.smoothed-6.unzip-{deconv}.checkpoints.d/checkpoint_8.sz')\n",
    "# round8_results = sz.results.extract_vertex_data(round8_graph)\n",
    "# # print(sz.stats.depth_weighted_mean_tig_length(round8_graph))\n",
    "\n",
    "# round9_graph = sz.io.load_graph(f'data/group/{group}/r.proc.ggcat-{graph_type}.notips-2.smoothed-6.unzip-{deconv}.checkpoints.d/checkpoint_9.sz')\n",
    "# round9_results = sz.results.extract_vertex_data(round9_graph)\n",
    "# # print(sz.stats.depth_weighted_mean_tig_length(round9_graph))"
   ]
  },
  {
   "cell_type": "code",
   "execution_count": 79,
   "id": "90fdd164-9440-4166-9ecf-69f02ab19d57",
   "metadata": {
    "execution": {
     "iopub.execute_input": "2024-08-15T03:19:28.393375Z",
     "iopub.status.busy": "2024-08-15T03:19:28.393094Z",
     "iopub.status.idle": "2024-08-15T03:19:35.732766Z",
     "shell.execute_reply": "2024-08-15T03:19:35.732176Z",
     "shell.execute_reply.started": "2024-08-15T03:19:28.393356Z"
    }
   },
   "outputs": [
    {
     "name": "stdout",
     "output_type": "stream",
     "text": [
      "181.6892358258781\n"
     ]
    }
   ],
   "source": [
    "k77_graph = sz.io.load_graph(\n",
    "    f\"data/group/{group}/r.proc.ggcat-k77-withmegahit2-droptips.notips-2.smoothed-6.unzip-{deconv}.sz\"\n",
    ")\n",
    "k77_results = sz.results.extract_vertex_data(k77_graph)\n",
    "print(sz.stats.depth_weighted_mean_tig_length(k77_graph))"
   ]
  },
  {
   "cell_type": "code",
   "execution_count": 23,
   "id": "7596d78b-8250-45ea-b6fb-d95b55256c86",
   "metadata": {
    "execution": {
     "iopub.execute_input": "2024-08-14T19:26:08.685400Z",
     "iopub.status.busy": "2024-08-14T19:26:08.685187Z",
     "iopub.status.idle": "2024-08-14T19:26:10.475508Z",
     "shell.execute_reply": "2024-08-14T19:26:10.475047Z",
     "shell.execute_reply.started": "2024-08-14T19:26:08.685385Z"
    }
   },
   "outputs": [
    {
     "data": {
      "text/plain": [
       "<matplotlib.legend.Legend at 0x7f917a3f0b60>"
      ]
     },
     "execution_count": 23,
     "metadata": {},
     "output_type": "execute_result"
    },
    {
     "data": {
      "image/png": "[encoded data removed]",
      "text/plain": [
       "<Figure size 1000x500 with 1 Axes>"
      ]
     },
     "metadata": {},
     "output_type": "display_data"
    }
   ],
   "source": [
    "# Overall, we get about 2x as much long sequence depth (distribution of tig lengths of assigned kmers)\n",
    "fig, ax = plt.subplots(figsize=(10, 5))\n",
    "\n",
    "_results_mapping = {\n",
    "    \"raw\": unpressed_results,\n",
    "    # 'notips-unsmoothed': unsmoothed_results,\n",
    "    \"notips\": notips_results,\n",
    "    # 'safeonly': safeonly_results,\n",
    "    # 'round1': round1_results,\n",
    "    \"round2\": round2_results,\n",
    "    # 'round3': round3_results,\n",
    "    # 'round4': round4_results,\n",
    "    \"round7\": round7_results,\n",
    "    # 'unsmoothed': unsmoothed_results,\n",
    "    # 'round15': round15_results,\n",
    "    # 'round25': round25_results,\n",
    "    \"final\": final_results,\n",
    "    # 'norefs': norefs_results,\n",
    "    # 'alt1': alt1_results,\n",
    "    # 'alt3': alt3_results,\n",
    "    # 'alt4': alt4_results,\n",
    "    # 'alt5': alt5_results,\n",
    "}\n",
    "\n",
    "_cmap = lib.plot.construct_ordered_palette(_results_mapping.keys(), cm=\"rainbow\")\n",
    "\n",
    "\n",
    "for _label in _results_mapping:\n",
    "    _results = _results_mapping[_label]\n",
    "    _c = _cmap[_label]\n",
    "    d = _results.sort_values(\"length\", ascending=False).assign(\n",
    "        length_x_depth=lambda x: x.total_depth * x.length,\n",
    "        length_x_depth_cumsum=lambda x: x.length_x_depth.cumsum(),\n",
    "    )\n",
    "    ax.plot(\"length\", \"length_x_depth_cumsum\", data=d, label=_label, color=_c, lw=2)\n",
    "\n",
    "ax.set_xlabel(\"Sequence Length\")\n",
    "ax.set_ylabel(\"Cumulative K-mers Assigned\")\n",
    "ax.set_xscale(\"log\")\n",
    "ax.set_yscale(\"log\")\n",
    "ax.set_xlim(left=1e3)\n",
    "# ax.set_ylim(1e9, 4e10)\n",
    "\n",
    "ax.legend(loc=\"lower left\")  # bbox_to_anchor=(1, 1))\n",
    "# ax.invert_xaxis()"
   ]
  },
  {
   "cell_type": "code",
   "execution_count": 80,
   "id": "c5758ba3-83e9-4cc0-bd5d-5c5927040b40",
   "metadata": {
    "execution": {
     "iopub.execute_input": "2024-08-15T03:20:06.252767Z",
     "iopub.status.busy": "2024-08-15T03:20:06.252436Z",
     "iopub.status.idle": "2024-08-15T03:20:06.256340Z",
     "shell.execute_reply": "2024-08-15T03:20:06.255871Z",
     "shell.execute_reply.started": "2024-08-15T03:20:06.252748Z"
    }
   },
   "outputs": [],
   "source": [
    "_results_mapping = {\n",
    "    \"cdBG\": unpressed_results,\n",
    "    \"Trim Tips\": notips_results,\n",
    "    \"Drop Low Depth\": round0_results,\n",
    "    # 'Round 1': round1_results,\n",
    "    \"Round 2\": round2_results,\n",
    "    # 'Round 3': round3_results,\n",
    "    # 'Round 4': round4_results,\n",
    "    # 'Round 5': round5_results,\n",
    "    # 'Round 6': round6_results,\n",
    "    \"Round 7\": round7_results,\n",
    "    # 'Round 8': round8_results,\n",
    "    # 'Round 9': round9_results,\n",
    "    \"Round 10\": final_results,\n",
    "    \"k=77\": k77_results,\n",
    "}"
   ]
  },
  {
   "cell_type": "code",
   "execution_count": 81,
   "id": "b02c8311-c466-4c1a-bf23-ff2a3df6d96d",
   "metadata": {
    "execution": {
     "iopub.execute_input": "2024-08-15T03:20:08.081857Z",
     "iopub.status.busy": "2024-08-15T03:20:08.080936Z",
     "iopub.status.idle": "2024-08-15T03:20:08.907596Z",
     "shell.execute_reply": "2024-08-15T03:20:08.907073Z",
     "shell.execute_reply.started": "2024-08-15T03:20:08.081831Z"
    }
   },
   "outputs": [
    {
     "name": "stdout",
     "output_type": "stream",
     "text": [
      "cdBG: 3184\n",
      "Trim Tips: 5691\n",
      "Drop Low Depth: 5882\n",
      "Round 2: 25686\n",
      "Round 7: 40887\n",
      "Round 10: 42556\n",
      "k=77: 2539\n"
     ]
    }
   ],
   "source": [
    "depth_weighted_median_tig_length_data = {\"Kmer\": 1}\n",
    "for round_name in _results_mapping:\n",
    "    d0 = (\n",
    "        _results_mapping[round_name]\n",
    "        .assign(total_kmers=lambda x: x.length * x.total_depth)\n",
    "        .sort_values(\"length\", ascending=False)\n",
    "    )\n",
    "    median_vertex = ((d0.total_kmers.cumsum() / d0.total_kmers.sum()) > 0.5).idxmax()\n",
    "    depth_weighted_median_tig_length_data[round_name] = d0.loc[median_vertex].length\n",
    "    print(f\"{round_name}: {depth_weighted_median_tig_length_data[round_name]}\")\n",
    "\n",
    "depth_weighted_median_tig_length_data = pd.Series(depth_weighted_median_tig_length_data)"
   ]
  },
  {
   "cell_type": "code",
   "execution_count": 82,
   "id": "f0293dc7-d261-486d-9781-3119baa98051",
   "metadata": {
    "execution": {
     "iopub.execute_input": "2024-08-15T03:20:27.713274Z",
     "iopub.status.busy": "2024-08-15T03:20:27.712988Z",
     "iopub.status.idle": "2024-08-15T03:20:27.943217Z",
     "shell.execute_reply": "2024-08-15T03:20:27.942625Z",
     "shell.execute_reply.started": "2024-08-15T03:20:27.713253Z"
    }
   },
   "outputs": [
    {
     "name": "stderr",
     "output_type": "stream",
     "text": [
      "/pollard/data/projects/bsmith/strain-aware-assembly/lib/plot.py:493: UserWarning: set_ticklabels() should only be used with a fixed number of ticks, i.e. after set_ticks() or using a FixedLocator.\n",
      "  ax.set_xticklabels(\n"
     ]
    },
    {
     "data": {
      "text/plain": [
       "(-0.35000000000000003, 14.0)"
      ]
     },
     "execution_count": 82,
     "metadata": {},
     "output_type": "execute_result"
    },
    {
     "data": {
      "image/png": "[encoded data removed]",
      "text/plain": [
       "<Figure size 640x480 with 1 Axes>"
      ]
     },
     "metadata": {},
     "output_type": "display_data"
    }
   ],
   "source": [
    "_color_palette = lib.plot.construct_ordered_palette(\n",
    "    depth_weighted_median_tig_length_data.keys()\n",
    ")\n",
    "plt.plot(depth_weighted_median_tig_length_data)\n",
    "plt.scatter(\n",
    "    range(len(depth_weighted_median_tig_length_data)),\n",
    "    depth_weighted_median_tig_length_data.values,\n",
    "    c=depth_weighted_median_tig_length_data.index.to_series().map(_color_palette),\n",
    "    edgecolor=\"grey\",\n",
    "    zorder=2,\n",
    ")\n",
    "for x, (_label, y) in enumerate(depth_weighted_median_tig_length_data.items()):\n",
    "    plt.annotate(\n",
    "        y,\n",
    "        xy=(x, y),\n",
    "        rotation=-45,\n",
    "        ha=\"left\",\n",
    "        va=\"top\",\n",
    "        xytext=(5, -5),\n",
    "        textcoords=\"offset pixels\",\n",
    "    )\n",
    "lib.plot.rotate_xticklabels(rotation=-45, ha=\"left\", va=\"top\")\n",
    "plt.ylabel(\"Kmer-weighted median path length\")\n",
    "plt.ylim(bottom=-3000)\n",
    "plt.xlim(right=14)"
   ]
  },
  {
   "cell_type": "code",
   "execution_count": 86,
   "id": "eced8b93-9915-408f-8972-4e5b2ab3aacf",
   "metadata": {
    "execution": {
     "iopub.execute_input": "2024-08-15T03:22:34.691400Z",
     "iopub.status.busy": "2024-08-15T03:22:34.691087Z",
     "iopub.status.idle": "2024-08-15T03:22:34.807886Z",
     "shell.execute_reply": "2024-08-15T03:22:34.807370Z",
     "shell.execute_reply.started": "2024-08-15T03:22:34.691378Z"
    }
   },
   "outputs": [
    {
     "data": {
      "text/html": [
       "<div>\n",
       "<style scoped>\n",
       "    .dataframe tbody tr th:only-of-type {\n",
       "        vertical-align: middle;\n",
       "    }\n",
       "\n",
       "    .dataframe tbody tr th {\n",
       "        vertical-align: top;\n",
       "    }\n",
       "\n",
       "    .dataframe thead th {\n",
       "        text-align: right;\n",
       "    }\n",
       "</style>\n",
       "<table border=\"1\" class=\"dataframe\">\n",
       "  <thead>\n",
       "    <tr style=\"text-align: right;\">\n",
       "      <th></th>\n",
       "      <th>in_neighbors</th>\n",
       "      <th>out_neighbors</th>\n",
       "      <th>length</th>\n",
       "      <th>total_depth</th>\n",
       "      <th>segments</th>\n",
       "      <th>num_segments</th>\n",
       "      <th>num_in_neighbors</th>\n",
       "      <th>num_out_neighbors</th>\n",
       "    </tr>\n",
       "    <tr>\n",
       "      <th>vertex</th>\n",
       "      <th></th>\n",
       "      <th></th>\n",
       "      <th></th>\n",
       "      <th></th>\n",
       "      <th></th>\n",
       "      <th></th>\n",
       "      <th></th>\n",
       "      <th></th>\n",
       "    </tr>\n",
       "  </thead>\n",
       "  <tbody>\n",
       "    <tr>\n",
       "      <th>488842</th>\n",
       "      <td>(434854)</td>\n",
       "      <td>(434595)</td>\n",
       "      <td>142068</td>\n",
       "      <td>2.448594</td>\n",
       "      <td>(765727-, 230029+, 651957-, 298076-, 630527-, ...</td>\n",
       "      <td>542</td>\n",
       "      <td>1</td>\n",
       "      <td>1</td>\n",
       "    </tr>\n",
       "    <tr>\n",
       "      <th>486347</th>\n",
       "      <td>(434854)</td>\n",
       "      <td>(434595)</td>\n",
       "      <td>142068</td>\n",
       "      <td>2.448720</td>\n",
       "      <td>(765727-, 230029+, 651957-, 298076-, 630527-, ...</td>\n",
       "      <td>542</td>\n",
       "      <td>1</td>\n",
       "      <td>1</td>\n",
       "    </tr>\n",
       "    <tr>\n",
       "      <th>522111</th>\n",
       "      <td>(45961)</td>\n",
       "      <td>()</td>\n",
       "      <td>187471</td>\n",
       "      <td>2.452990</td>\n",
       "      <td>(34376-, 684533-, 684202+, 542089-, 317472-, 7...</td>\n",
       "      <td>516</td>\n",
       "      <td>1</td>\n",
       "      <td>0</td>\n",
       "    </tr>\n",
       "    <tr>\n",
       "      <th>503140</th>\n",
       "      <td>(345843)</td>\n",
       "      <td>(349734)</td>\n",
       "      <td>149347</td>\n",
       "      <td>3.562116</td>\n",
       "      <td>(41296-, 41298-, 304062+, 548761-, 438872-, 69...</td>\n",
       "      <td>437</td>\n",
       "      <td>1</td>\n",
       "      <td>1</td>\n",
       "    </tr>\n",
       "    <tr>\n",
       "      <th>503385</th>\n",
       "      <td>(345843)</td>\n",
       "      <td>(349734)</td>\n",
       "      <td>149347</td>\n",
       "      <td>29.238091</td>\n",
       "      <td>(41296-, 41298-, 304062+, 548761-, 438872-, 69...</td>\n",
       "      <td>437</td>\n",
       "      <td>1</td>\n",
       "      <td>1</td>\n",
       "    </tr>\n",
       "    <tr>\n",
       "      <th>522940</th>\n",
       "      <td>()</td>\n",
       "      <td>(30514)</td>\n",
       "      <td>165809</td>\n",
       "      <td>2.333767</td>\n",
       "      <td>(412107+, 678525+, 566667-, 567003+, 464449-, ...</td>\n",
       "      <td>434</td>\n",
       "      <td>0</td>\n",
       "      <td>1</td>\n",
       "    </tr>\n",
       "    <tr>\n",
       "      <th>517641</th>\n",
       "      <td>(477054)</td>\n",
       "      <td>(444809, 443669)</td>\n",
       "      <td>117320</td>\n",
       "      <td>1.374755</td>\n",
       "      <td>(451511+, 451322+, 357664+, 489026+, 722768+, ...</td>\n",
       "      <td>402</td>\n",
       "      <td>1</td>\n",
       "      <td>2</td>\n",
       "    </tr>\n",
       "    <tr>\n",
       "      <th>488300</th>\n",
       "      <td>(463603)</td>\n",
       "      <td>(349287)</td>\n",
       "      <td>139643</td>\n",
       "      <td>29.404473</td>\n",
       "      <td>(298677+, 151858+, 623521+, 47442-, 341522+, 3...</td>\n",
       "      <td>399</td>\n",
       "      <td>1</td>\n",
       "      <td>1</td>\n",
       "    </tr>\n",
       "    <tr>\n",
       "      <th>486601</th>\n",
       "      <td>(463603)</td>\n",
       "      <td>(349287)</td>\n",
       "      <td>139643</td>\n",
       "      <td>3.629939</td>\n",
       "      <td>(298677+, 151858+, 623521+, 47442-, 341522+, 3...</td>\n",
       "      <td>399</td>\n",
       "      <td>1</td>\n",
       "      <td>1</td>\n",
       "    </tr>\n",
       "    <tr>\n",
       "      <th>502176</th>\n",
       "      <td>(482217)</td>\n",
       "      <td>(48851)</td>\n",
       "      <td>201231</td>\n",
       "      <td>1.735794</td>\n",
       "      <td>(710598-, 619013-, 657611-, 657317-, 297752-, ...</td>\n",
       "      <td>392</td>\n",
       "      <td>1</td>\n",
       "      <td>1</td>\n",
       "    </tr>\n",
       "    <tr>\n",
       "      <th>502183</th>\n",
       "      <td>(482217)</td>\n",
       "      <td>(48851)</td>\n",
       "      <td>201231</td>\n",
       "      <td>29.896643</td>\n",
       "      <td>(710598-, 619013-, 657611-, 657317-, 297752-, ...</td>\n",
       "      <td>392</td>\n",
       "      <td>1</td>\n",
       "      <td>1</td>\n",
       "    </tr>\n",
       "    <tr>\n",
       "      <th>502211</th>\n",
       "      <td>(16248)</td>\n",
       "      <td>(482200)</td>\n",
       "      <td>201231</td>\n",
       "      <td>29.896814</td>\n",
       "      <td>(43386+, 346569+, 9032-, 371835-, 693250+, 481...</td>\n",
       "      <td>392</td>\n",
       "      <td>1</td>\n",
       "      <td>1</td>\n",
       "    </tr>\n",
       "    <tr>\n",
       "      <th>502215</th>\n",
       "      <td>(16248)</td>\n",
       "      <td>(482200)</td>\n",
       "      <td>201231</td>\n",
       "      <td>1.735540</td>\n",
       "      <td>(43386+, 346569+, 9032-, 371835-, 693250+, 481...</td>\n",
       "      <td>392</td>\n",
       "      <td>1</td>\n",
       "      <td>1</td>\n",
       "    </tr>\n",
       "    <tr>\n",
       "      <th>502761</th>\n",
       "      <td>()</td>\n",
       "      <td>()</td>\n",
       "      <td>119181</td>\n",
       "      <td>2.821325</td>\n",
       "      <td>(364597+, 292088+, 291752-, 229894+, 512411+, ...</td>\n",
       "      <td>383</td>\n",
       "      <td>0</td>\n",
       "      <td>0</td>\n",
       "    </tr>\n",
       "    <tr>\n",
       "      <th>537884</th>\n",
       "      <td>(532902)</td>\n",
       "      <td>(499089)</td>\n",
       "      <td>41571</td>\n",
       "      <td>0.299650</td>\n",
       "      <td>(199864+, 559403+, 414659+, 735516-, 735517-, ...</td>\n",
       "      <td>381</td>\n",
       "      <td>1</td>\n",
       "      <td>1</td>\n",
       "    </tr>\n",
       "    <tr>\n",
       "      <th>537883</th>\n",
       "      <td>(499088)</td>\n",
       "      <td>(532899)</td>\n",
       "      <td>41571</td>\n",
       "      <td>0.299827</td>\n",
       "      <td>(783965-, 550082-, 413343-, 413003-, 359455-, ...</td>\n",
       "      <td>381</td>\n",
       "      <td>1</td>\n",
       "      <td>1</td>\n",
       "    </tr>\n",
       "    <tr>\n",
       "      <th>517743</th>\n",
       "      <td>(434854)</td>\n",
       "      <td>(18021)</td>\n",
       "      <td>93046</td>\n",
       "      <td>28.312631</td>\n",
       "      <td>(765727-, 230029+, 651957-, 298076-, 630527-, ...</td>\n",
       "      <td>376</td>\n",
       "      <td>1</td>\n",
       "      <td>1</td>\n",
       "    </tr>\n",
       "    <tr>\n",
       "      <th>503495</th>\n",
       "      <td>(434854)</td>\n",
       "      <td>(18021)</td>\n",
       "      <td>93046</td>\n",
       "      <td>1.930024</td>\n",
       "      <td>(765727-, 230029+, 651957-, 298076-, 630527-, ...</td>\n",
       "      <td>375</td>\n",
       "      <td>1</td>\n",
       "      <td>1</td>\n",
       "    </tr>\n",
       "    <tr>\n",
       "      <th>516516</th>\n",
       "      <td>()</td>\n",
       "      <td>(517733)</td>\n",
       "      <td>110950</td>\n",
       "      <td>1.046181</td>\n",
       "      <td>(373412+, 537942-, 537865-, 776378-, 290419-, ...</td>\n",
       "      <td>375</td>\n",
       "      <td>0</td>\n",
       "      <td>1</td>\n",
       "    </tr>\n",
       "    <tr>\n",
       "      <th>510730</th>\n",
       "      <td>(34520)</td>\n",
       "      <td>(434595)</td>\n",
       "      <td>92955</td>\n",
       "      <td>28.315638</td>\n",
       "      <td>(531140-, 133358-, 530991-, 29310-, 29309-, 29...</td>\n",
       "      <td>372</td>\n",
       "      <td>1</td>\n",
       "      <td>1</td>\n",
       "    </tr>\n",
       "    <tr>\n",
       "      <th>504748</th>\n",
       "      <td>(34520)</td>\n",
       "      <td>(434595)</td>\n",
       "      <td>92955</td>\n",
       "      <td>1.926922</td>\n",
       "      <td>(531140-, 133358-, 530991-, 29310-, 29309-, 29...</td>\n",
       "      <td>371</td>\n",
       "      <td>1</td>\n",
       "      <td>1</td>\n",
       "    </tr>\n",
       "    <tr>\n",
       "      <th>514809</th>\n",
       "      <td>(41959)</td>\n",
       "      <td>(360610)</td>\n",
       "      <td>10947</td>\n",
       "      <td>2.733567</td>\n",
       "      <td>(500346+, 113121+, 500336-, 48151+, 687499-, 6...</td>\n",
       "      <td>369</td>\n",
       "      <td>1</td>\n",
       "      <td>1</td>\n",
       "    </tr>\n",
       "    <tr>\n",
       "      <th>503930</th>\n",
       "      <td>(417037)</td>\n",
       "      <td>(435709)</td>\n",
       "      <td>90063</td>\n",
       "      <td>31.497033</td>\n",
       "      <td>(631527+, 763788+, 524399+, 347429+, 347537+, ...</td>\n",
       "      <td>369</td>\n",
       "      <td>1</td>\n",
       "      <td>1</td>\n",
       "    </tr>\n",
       "    <tr>\n",
       "      <th>504974</th>\n",
       "      <td>(26059)</td>\n",
       "      <td>(367389)</td>\n",
       "      <td>107919</td>\n",
       "      <td>28.844350</td>\n",
       "      <td>(724283-, 724471+, 471409-, 748923-, 274630+, ...</td>\n",
       "      <td>366</td>\n",
       "      <td>1</td>\n",
       "      <td>1</td>\n",
       "    </tr>\n",
       "    <tr>\n",
       "      <th>518956</th>\n",
       "      <td>(364294)</td>\n",
       "      <td>(517733)</td>\n",
       "      <td>107919</td>\n",
       "      <td>28.206202</td>\n",
       "      <td>(331629-, 129970+, 505288-, 505255-, 501648+, ...</td>\n",
       "      <td>366</td>\n",
       "      <td>1</td>\n",
       "      <td>1</td>\n",
       "    </tr>\n",
       "    <tr>\n",
       "      <th>504244</th>\n",
       "      <td>(26059)</td>\n",
       "      <td>()</td>\n",
       "      <td>106619</td>\n",
       "      <td>1.371865</td>\n",
       "      <td>(724283-, 724471+, 471409-, 748923-, 274630+, ...</td>\n",
       "      <td>362</td>\n",
       "      <td>1</td>\n",
       "      <td>0</td>\n",
       "    </tr>\n",
       "    <tr>\n",
       "      <th>488092</th>\n",
       "      <td>(483735)</td>\n",
       "      <td>(19582)</td>\n",
       "      <td>91198</td>\n",
       "      <td>1.549853</td>\n",
       "      <td>(451918+, 714420-, 812288+, 575198-, 574774-, ...</td>\n",
       "      <td>346</td>\n",
       "      <td>1</td>\n",
       "      <td>1</td>\n",
       "    </tr>\n",
       "    <tr>\n",
       "      <th>486521</th>\n",
       "      <td>(17553)</td>\n",
       "      <td>(483590)</td>\n",
       "      <td>91198</td>\n",
       "      <td>1.549836</td>\n",
       "      <td>(614560+, 594984-, 594983+, 745962+, 746241-, ...</td>\n",
       "      <td>346</td>\n",
       "      <td>1</td>\n",
       "      <td>1</td>\n",
       "    </tr>\n",
       "    <tr>\n",
       "      <th>489949</th>\n",
       "      <td>(17553)</td>\n",
       "      <td>(483590)</td>\n",
       "      <td>91198</td>\n",
       "      <td>29.810994</td>\n",
       "      <td>(614560+, 594984-, 594983+, 745962+, 746241-, ...</td>\n",
       "      <td>346</td>\n",
       "      <td>1</td>\n",
       "      <td>1</td>\n",
       "    </tr>\n",
       "    <tr>\n",
       "      <th>487363</th>\n",
       "      <td>(483735)</td>\n",
       "      <td>(19582)</td>\n",
       "      <td>91198</td>\n",
       "      <td>29.810902</td>\n",
       "      <td>(451918+, 714420-, 812288+, 575198-, 574774-, ...</td>\n",
       "      <td>346</td>\n",
       "      <td>1</td>\n",
       "      <td>1</td>\n",
       "    </tr>\n",
       "    <tr>\n",
       "      <th>534223</th>\n",
       "      <td>(532781)</td>\n",
       "      <td>(53964)</td>\n",
       "      <td>122410</td>\n",
       "      <td>28.781731</td>\n",
       "      <td>(195435+, 729493+, 481832+, 482240-, 622245+, ...</td>\n",
       "      <td>345</td>\n",
       "      <td>1</td>\n",
       "      <td>1</td>\n",
       "    </tr>\n",
       "    <tr>\n",
       "      <th>534347</th>\n",
       "      <td>(42458)</td>\n",
       "      <td>(532772)</td>\n",
       "      <td>122410</td>\n",
       "      <td>28.785992</td>\n",
       "      <td>(106358-, 455547-, 772466-, 773163-, 810031-, ...</td>\n",
       "      <td>345</td>\n",
       "      <td>1</td>\n",
       "      <td>1</td>\n",
       "    </tr>\n",
       "    <tr>\n",
       "      <th>522445</th>\n",
       "      <td>(19032)</td>\n",
       "      <td>(423215)</td>\n",
       "      <td>133553</td>\n",
       "      <td>29.775902</td>\n",
       "      <td>(721091+, 699333+, 280876+, 281028+, 170797-, ...</td>\n",
       "      <td>344</td>\n",
       "      <td>1</td>\n",
       "      <td>1</td>\n",
       "    </tr>\n",
       "    <tr>\n",
       "      <th>522121</th>\n",
       "      <td>(406521)</td>\n",
       "      <td>(24047)</td>\n",
       "      <td>133553</td>\n",
       "      <td>29.764704</td>\n",
       "      <td>(644270-, 500939-, 500114-, 598165-, 555118-, ...</td>\n",
       "      <td>344</td>\n",
       "      <td>1</td>\n",
       "      <td>1</td>\n",
       "    </tr>\n",
       "    <tr>\n",
       "      <th>534498</th>\n",
       "      <td>(43493)</td>\n",
       "      <td>(61208)</td>\n",
       "      <td>6584</td>\n",
       "      <td>4.263473</td>\n",
       "      <td>(588330+, 160185-, 680491+, 537250+, 589395+, ...</td>\n",
       "      <td>340</td>\n",
       "      <td>1</td>\n",
       "      <td>1</td>\n",
       "    </tr>\n",
       "    <tr>\n",
       "      <th>530432</th>\n",
       "      <td>(358721)</td>\n",
       "      <td>(462019)</td>\n",
       "      <td>5936</td>\n",
       "      <td>2.384767</td>\n",
       "      <td>(390499-, 137064-, 680822-, 160368-, 681173-, ...</td>\n",
       "      <td>337</td>\n",
       "      <td>1</td>\n",
       "      <td>1</td>\n",
       "    </tr>\n",
       "    <tr>\n",
       "      <th>534990</th>\n",
       "      <td>(461426)</td>\n",
       "      <td>(533003)</td>\n",
       "      <td>112221</td>\n",
       "      <td>1.119649</td>\n",
       "      <td>(307842+, 371282-, 371149-, 410745+, 411241+, ...</td>\n",
       "      <td>336</td>\n",
       "      <td>1</td>\n",
       "      <td>1</td>\n",
       "    </tr>\n",
       "    <tr>\n",
       "      <th>536762</th>\n",
       "      <td>(461426)</td>\n",
       "      <td>(533003)</td>\n",
       "      <td>112221</td>\n",
       "      <td>27.048730</td>\n",
       "      <td>(307842+, 371282-, 371149-, 410745+, 411241+, ...</td>\n",
       "      <td>336</td>\n",
       "      <td>1</td>\n",
       "      <td>1</td>\n",
       "    </tr>\n",
       "    <tr>\n",
       "      <th>529919</th>\n",
       "      <td>(461854)</td>\n",
       "      <td>(462019)</td>\n",
       "      <td>4771</td>\n",
       "      <td>629.975253</td>\n",
       "      <td>(67542-, 67541-, 420317-, 100152+, 524599-, 78...</td>\n",
       "      <td>334</td>\n",
       "      <td>1</td>\n",
       "      <td>1</td>\n",
       "    </tr>\n",
       "    <tr>\n",
       "      <th>527948</th>\n",
       "      <td>()</td>\n",
       "      <td>(60646)</td>\n",
       "      <td>104492</td>\n",
       "      <td>1.952429</td>\n",
       "      <td>(717017+, 647866+, 558944-, 730886+, 725752+, ...</td>\n",
       "      <td>329</td>\n",
       "      <td>0</td>\n",
       "      <td>1</td>\n",
       "    </tr>\n",
       "    <tr>\n",
       "      <th>536222</th>\n",
       "      <td>()</td>\n",
       "      <td>(532753)</td>\n",
       "      <td>109095</td>\n",
       "      <td>0.758596</td>\n",
       "      <td>(482255+, 114123+, 114124+, 296176+, 817723+, ...</td>\n",
       "      <td>324</td>\n",
       "      <td>0</td>\n",
       "      <td>1</td>\n",
       "    </tr>\n",
       "    <tr>\n",
       "      <th>534281</th>\n",
       "      <td>(532713)</td>\n",
       "      <td>()</td>\n",
       "      <td>109095</td>\n",
       "      <td>0.758913</td>\n",
       "      <td>(620646+, 620774-, 572012-, 620540-, 111035-, ...</td>\n",
       "      <td>324</td>\n",
       "      <td>1</td>\n",
       "      <td>0</td>\n",
       "    </tr>\n",
       "    <tr>\n",
       "      <th>528825</th>\n",
       "      <td>(378544)</td>\n",
       "      <td>(30514)</td>\n",
       "      <td>107775</td>\n",
       "      <td>2.014465</td>\n",
       "      <td>(578574-, 133315+, 735587+, 735431+, 277650+, ...</td>\n",
       "      <td>323</td>\n",
       "      <td>1</td>\n",
       "      <td>1</td>\n",
       "    </tr>\n",
       "    <tr>\n",
       "      <th>534679</th>\n",
       "      <td>(532789)</td>\n",
       "      <td>(404571, 428807)</td>\n",
       "      <td>101754</td>\n",
       "      <td>0.962642</td>\n",
       "      <td>(672460+, 672563+, 225452+, 538638+, 362164+, ...</td>\n",
       "      <td>323</td>\n",
       "      <td>1</td>\n",
       "      <td>2</td>\n",
       "    </tr>\n",
       "    <tr>\n",
       "      <th>535221</th>\n",
       "      <td>(423932, 402719)</td>\n",
       "      <td>(532773)</td>\n",
       "      <td>101754</td>\n",
       "      <td>0.962591</td>\n",
       "      <td>(302568+, 27479-, 708360-, 489285-, 2208-, 489...</td>\n",
       "      <td>323</td>\n",
       "      <td>2</td>\n",
       "      <td>1</td>\n",
       "    </tr>\n",
       "    <tr>\n",
       "      <th>528824</th>\n",
       "      <td>(45961)</td>\n",
       "      <td>(395912)</td>\n",
       "      <td>107775</td>\n",
       "      <td>2.015691</td>\n",
       "      <td>(34376-, 684533-, 684202+, 542089-, 317472-, 7...</td>\n",
       "      <td>323</td>\n",
       "      <td>1</td>\n",
       "      <td>1</td>\n",
       "    </tr>\n",
       "    <tr>\n",
       "      <th>534598</th>\n",
       "      <td>(401569)</td>\n",
       "      <td>(490873)</td>\n",
       "      <td>5545</td>\n",
       "      <td>3.776135</td>\n",
       "      <td>(149425+, 149426-, 265357+, 16773+, 16771+, 16...</td>\n",
       "      <td>321</td>\n",
       "      <td>1</td>\n",
       "      <td>1</td>\n",
       "    </tr>\n",
       "    <tr>\n",
       "      <th>533305</th>\n",
       "      <td>(75320)</td>\n",
       "      <td>(73324)</td>\n",
       "      <td>5526</td>\n",
       "      <td>2.308563</td>\n",
       "      <td>(552240+, 283290+, 22611+, 283509+, 148222-, 1...</td>\n",
       "      <td>321</td>\n",
       "      <td>1</td>\n",
       "      <td>1</td>\n",
       "    </tr>\n",
       "    <tr>\n",
       "      <th>535426</th>\n",
       "      <td>()</td>\n",
       "      <td>(30514)</td>\n",
       "      <td>106154</td>\n",
       "      <td>0.949926</td>\n",
       "      <td>(247332-, 410194-, 510140+, 510141-, 662763-, ...</td>\n",
       "      <td>321</td>\n",
       "      <td>0</td>\n",
       "      <td>1</td>\n",
       "    </tr>\n",
       "    <tr>\n",
       "      <th>534377</th>\n",
       "      <td>(45961)</td>\n",
       "      <td>()</td>\n",
       "      <td>106154</td>\n",
       "      <td>0.951796</td>\n",
       "      <td>(34376-, 684533-, 684202+, 542089-, 317472-, 7...</td>\n",
       "      <td>321</td>\n",
       "      <td>1</td>\n",
       "      <td>0</td>\n",
       "    </tr>\n",
       "  </tbody>\n",
       "</table>\n",
       "</div>"
      ],
      "text/plain": [
       "            in_neighbors     out_neighbors  length  total_depth  \\\n",
       "vertex                                                            \n",
       "488842          (434854)          (434595)  142068     2.448594   \n",
       "486347          (434854)          (434595)  142068     2.448720   \n",
       "522111           (45961)                ()  187471     2.452990   \n",
       "503140          (345843)          (349734)  149347     3.562116   \n",
       "503385          (345843)          (349734)  149347    29.238091   \n",
       "522940                ()           (30514)  165809     2.333767   \n",
       "517641          (477054)  (444809, 443669)  117320     1.374755   \n",
       "488300          (463603)          (349287)  139643    29.404473   \n",
       "486601          (463603)          (349287)  139643     3.629939   \n",
       "502176          (482217)           (48851)  201231     1.735794   \n",
       "502183          (482217)           (48851)  201231    29.896643   \n",
       "502211           (16248)          (482200)  201231    29.896814   \n",
       "502215           (16248)          (482200)  201231     1.735540   \n",
       "502761                ()                ()  119181     2.821325   \n",
       "537884          (532902)          (499089)   41571     0.299650   \n",
       "537883          (499088)          (532899)   41571     0.299827   \n",
       "517743          (434854)           (18021)   93046    28.312631   \n",
       "503495          (434854)           (18021)   93046     1.930024   \n",
       "516516                ()          (517733)  110950     1.046181   \n",
       "510730           (34520)          (434595)   92955    28.315638   \n",
       "504748           (34520)          (434595)   92955     1.926922   \n",
       "514809           (41959)          (360610)   10947     2.733567   \n",
       "503930          (417037)          (435709)   90063    31.497033   \n",
       "504974           (26059)          (367389)  107919    28.844350   \n",
       "518956          (364294)          (517733)  107919    28.206202   \n",
       "504244           (26059)                ()  106619     1.371865   \n",
       "488092          (483735)           (19582)   91198     1.549853   \n",
       "486521           (17553)          (483590)   91198     1.549836   \n",
       "489949           (17553)          (483590)   91198    29.810994   \n",
       "487363          (483735)           (19582)   91198    29.810902   \n",
       "534223          (532781)           (53964)  122410    28.781731   \n",
       "534347           (42458)          (532772)  122410    28.785992   \n",
       "522445           (19032)          (423215)  133553    29.775902   \n",
       "522121          (406521)           (24047)  133553    29.764704   \n",
       "534498           (43493)           (61208)    6584     4.263473   \n",
       "530432          (358721)          (462019)    5936     2.384767   \n",
       "534990          (461426)          (533003)  112221     1.119649   \n",
       "536762          (461426)          (533003)  112221    27.048730   \n",
       "529919          (461854)          (462019)    4771   629.975253   \n",
       "527948                ()           (60646)  104492     1.952429   \n",
       "536222                ()          (532753)  109095     0.758596   \n",
       "534281          (532713)                ()  109095     0.758913   \n",
       "528825          (378544)           (30514)  107775     2.014465   \n",
       "534679          (532789)  (404571, 428807)  101754     0.962642   \n",
       "535221  (423932, 402719)          (532773)  101754     0.962591   \n",
       "528824           (45961)          (395912)  107775     2.015691   \n",
       "534598          (401569)          (490873)    5545     3.776135   \n",
       "533305           (75320)           (73324)    5526     2.308563   \n",
       "535426                ()           (30514)  106154     0.949926   \n",
       "534377           (45961)                ()  106154     0.951796   \n",
       "\n",
       "                                                 segments  num_segments  \\\n",
       "vertex                                                                    \n",
       "488842  (765727-, 230029+, 651957-, 298076-, 630527-, ...           542   \n",
       "486347  (765727-, 230029+, 651957-, 298076-, 630527-, ...           542   \n",
       "522111  (34376-, 684533-, 684202+, 542089-, 317472-, 7...           516   \n",
       "503140  (41296-, 41298-, 304062+, 548761-, 438872-, 69...           437   \n",
       "503385  (41296-, 41298-, 304062+, 548761-, 438872-, 69...           437   \n",
       "522940  (412107+, 678525+, 566667-, 567003+, 464449-, ...           434   \n",
       "517641  (451511+, 451322+, 357664+, 489026+, 722768+, ...           402   \n",
       "488300  (298677+, 151858+, 623521+, 47442-, 341522+, 3...           399   \n",
       "486601  (298677+, 151858+, 623521+, 47442-, 341522+, 3...           399   \n",
       "502176  (710598-, 619013-, 657611-, 657317-, 297752-, ...           392   \n",
       "502183  (710598-, 619013-, 657611-, 657317-, 297752-, ...           392   \n",
       "502211  (43386+, 346569+, 9032-, 371835-, 693250+, 481...           392   \n",
       "502215  (43386+, 346569+, 9032-, 371835-, 693250+, 481...           392   \n",
       "502761  (364597+, 292088+, 291752-, 229894+, 512411+, ...           383   \n",
       "537884  (199864+, 559403+, 414659+, 735516-, 735517-, ...           381   \n",
       "537883  (783965-, 550082-, 413343-, 413003-, 359455-, ...           381   \n",
       "517743  (765727-, 230029+, 651957-, 298076-, 630527-, ...           376   \n",
       "503495  (765727-, 230029+, 651957-, 298076-, 630527-, ...           375   \n",
       "516516  (373412+, 537942-, 537865-, 776378-, 290419-, ...           375   \n",
       "510730  (531140-, 133358-, 530991-, 29310-, 29309-, 29...           372   \n",
       "504748  (531140-, 133358-, 530991-, 29310-, 29309-, 29...           371   \n",
       "514809  (500346+, 113121+, 500336-, 48151+, 687499-, 6...           369   \n",
       "503930  (631527+, 763788+, 524399+, 347429+, 347537+, ...           369   \n",
       "504974  (724283-, 724471+, 471409-, 748923-, 274630+, ...           366   \n",
       "518956  (331629-, 129970+, 505288-, 505255-, 501648+, ...           366   \n",
       "504244  (724283-, 724471+, 471409-, 748923-, 274630+, ...           362   \n",
       "488092  (451918+, 714420-, 812288+, 575198-, 574774-, ...           346   \n",
       "486521  (614560+, 594984-, 594983+, 745962+, 746241-, ...           346   \n",
       "489949  (614560+, 594984-, 594983+, 745962+, 746241-, ...           346   \n",
       "487363  (451918+, 714420-, 812288+, 575198-, 574774-, ...           346   \n",
       "534223  (195435+, 729493+, 481832+, 482240-, 622245+, ...           345   \n",
       "534347  (106358-, 455547-, 772466-, 773163-, 810031-, ...           345   \n",
       "522445  (721091+, 699333+, 280876+, 281028+, 170797-, ...           344   \n",
       "522121  (644270-, 500939-, 500114-, 598165-, 555118-, ...           344   \n",
       "534498  (588330+, 160185-, 680491+, 537250+, 589395+, ...           340   \n",
       "530432  (390499-, 137064-, 680822-, 160368-, 681173-, ...           337   \n",
       "534990  (307842+, 371282-, 371149-, 410745+, 411241+, ...           336   \n",
       "536762  (307842+, 371282-, 371149-, 410745+, 411241+, ...           336   \n",
       "529919  (67542-, 67541-, 420317-, 100152+, 524599-, 78...           334   \n",
       "527948  (717017+, 647866+, 558944-, 730886+, 725752+, ...           329   \n",
       "536222  (482255+, 114123+, 114124+, 296176+, 817723+, ...           324   \n",
       "534281  (620646+, 620774-, 572012-, 620540-, 111035-, ...           324   \n",
       "528825  (578574-, 133315+, 735587+, 735431+, 277650+, ...           323   \n",
       "534679  (672460+, 672563+, 225452+, 538638+, 362164+, ...           323   \n",
       "535221  (302568+, 27479-, 708360-, 489285-, 2208-, 489...           323   \n",
       "528824  (34376-, 684533-, 684202+, 542089-, 317472-, 7...           323   \n",
       "534598  (149425+, 149426-, 265357+, 16773+, 16771+, 16...           321   \n",
       "533305  (552240+, 283290+, 22611+, 283509+, 148222-, 1...           321   \n",
       "535426  (247332-, 410194-, 510140+, 510141-, 662763-, ...           321   \n",
       "534377  (34376-, 684533-, 684202+, 542089-, 317472-, 7...           321   \n",
       "\n",
       "        num_in_neighbors  num_out_neighbors  \n",
       "vertex                                       \n",
       "488842                 1                  1  \n",
       "486347                 1                  1  \n",
       "522111                 1                  0  \n",
       "503140                 1                  1  \n",
       "503385                 1                  1  \n",
       "522940                 0                  1  \n",
       "517641                 1                  2  \n",
       "488300                 1                  1  \n",
       "486601                 1                  1  \n",
       "502176                 1                  1  \n",
       "502183                 1                  1  \n",
       "502211                 1                  1  \n",
       "502215                 1                  1  \n",
       "502761                 0                  0  \n",
       "537884                 1                  1  \n",
       "537883                 1                  1  \n",
       "517743                 1                  1  \n",
       "503495                 1                  1  \n",
       "516516                 0                  1  \n",
       "510730                 1                  1  \n",
       "504748                 1                  1  \n",
       "514809                 1                  1  \n",
       "503930                 1                  1  \n",
       "504974                 1                  1  \n",
       "518956                 1                  1  \n",
       "504244                 1                  0  \n",
       "488092                 1                  1  \n",
       "486521                 1                  1  \n",
       "489949                 1                  1  \n",
       "487363                 1                  1  \n",
       "534223                 1                  1  \n",
       "534347                 1                  1  \n",
       "522445                 1                  1  \n",
       "522121                 1                  1  \n",
       "534498                 1                  1  \n",
       "530432                 1                  1  \n",
       "534990                 1                  1  \n",
       "536762                 1                  1  \n",
       "529919                 1                  1  \n",
       "527948                 0                  1  \n",
       "536222                 0                  1  \n",
       "534281                 1                  0  \n",
       "528825                 1                  1  \n",
       "534679                 1                  2  \n",
       "535221                 2                  1  \n",
       "528824                 1                  1  \n",
       "534598                 1                  1  \n",
       "533305                 1                  1  \n",
       "535426                 0                  1  \n",
       "534377                 1                  0  "
      ]
     },
     "execution_count": 86,
     "metadata": {},
     "output_type": "execute_result"
    }
   ],
   "source": [
    "k77_results.sort_values('num_segments', ascending=False).head(50)"
   ]
  },
  {
   "cell_type": "code",
   "execution_count": 30,
   "id": "a1c4dbff-7eef-439d-bcad-b1301a0a6e1d",
   "metadata": {
    "execution": {
     "iopub.execute_input": "2024-08-14T23:00:59.211286Z",
     "iopub.status.busy": "2024-08-14T23:00:59.210890Z",
     "iopub.status.idle": "2024-08-14T23:00:59.284569Z",
     "shell.execute_reply": "2024-08-14T23:00:59.284087Z",
     "shell.execute_reply.started": "2024-08-14T23:00:59.211267Z"
    }
   },
   "outputs": [],
   "source": [
    "# Load annotations\n",
    "\n",
    "prophage_positions = pd.read_table(\n",
    "    f\"data/group/{group}/r.proc.ggcat-{graph_type}.notips-2.smoothed-6.unzip-{deconv}.genomad.d/contigs_summary/contigs_virus_summary.tsv\"\n",
    ")\n",
    "prophage_positions = prophage_positions[lambda x: x.topology.isin([\"Provirus\"])].assign(\n",
    "    vertex=lambda d: d.seq_name.str.split(\"_\").str[0].str.split(\"|\").str[0].astype(int),\n",
    "    left=lambda d: d.coordinates.str.split(\"-\").str[0].astype(int),\n",
    "    right=lambda d: d.coordinates.str.split(\"-\").str[1].astype(int),\n",
    ")"
   ]
  },
  {
   "cell_type": "code",
   "execution_count": 31,
   "id": "80f0d2a1-0d84-4848-a889-6e4fbdc56eff",
   "metadata": {
    "execution": {
     "iopub.execute_input": "2024-08-14T23:01:07.301781Z",
     "iopub.status.busy": "2024-08-14T23:01:07.301569Z",
     "iopub.status.idle": "2024-08-14T23:01:21.418616Z",
     "shell.execute_reply": "2024-08-14T23:01:21.418092Z",
     "shell.execute_reply.started": "2024-08-14T23:01:07.301765Z"
    }
   },
   "outputs": [],
   "source": [
    "# Compile segments in vertices\n",
    "segment_positions = sz.results.vertex_segment_positions(\n",
    "    final_results, segment_length, final_graph.gp[\"kmer_length\"]\n",
    ")"
   ]
  },
  {
   "cell_type": "code",
   "execution_count": 32,
   "id": "67f7fdf2-f897-4de0-9652-8de034d2dcba",
   "metadata": {
    "execution": {
     "iopub.execute_input": "2024-08-14T23:01:21.419631Z",
     "iopub.status.busy": "2024-08-14T23:01:21.419484Z",
     "iopub.status.idle": "2024-08-14T23:01:21.428259Z",
     "shell.execute_reply": "2024-08-14T23:01:21.427851Z",
     "shell.execute_reply.started": "2024-08-14T23:01:21.419617Z"
    }
   },
   "outputs": [],
   "source": [
    "# Load annotations\n",
    "\n",
    "amr_positions = pd.read_table(\n",
    "    f\"data/group/{group}/r.proc.ggcat-{graph_type}.notips-2.smoothed-6.unzip-{deconv}.resfinder.d/ResFinder_results_tab.txt\"\n",
    ")\n",
    "amr_positions = amr_positions.assign(\n",
    "    vertex=lambda d: d[\"Contig\"].str.split(\"_\").str[0].astype(int),\n",
    "    left=lambda d: d[\"Position in contig\"].str.split(\".\").str[0].astype(int),\n",
    "    right=lambda d: d[\"Position in contig\"].str.split(\".\").str[-1].astype(int),\n",
    ")"
   ]
  },
  {
   "cell_type": "raw",
   "id": "8b9277a2-1e93-46b0-ac7e-016361d7ab59",
   "metadata": {
    "execution": {
     "iopub.execute_input": "2024-08-13T15:15:22.288344Z",
     "iopub.status.busy": "2024-08-13T15:15:22.288135Z",
     "iopub.status.idle": "2024-08-13T15:15:22.512931Z",
     "shell.execute_reply": "2024-08-13T15:15:22.512498Z",
     "shell.execute_reply.started": "2024-08-13T15:15:22.288330Z"
    }
   },
   "source": [
    "d = pd.merge(amr_positions, segment_positions, on='vertex', suffixes=('_amr', '_segment'))[lambda x: (x.right_segment > x.left_amr) & (x.left_segment < x.right_amr)]\n",
    "\n",
    "d.segment.value_counts()"
   ]
  },
  {
   "cell_type": "raw",
   "id": "837b500f-6aab-431a-a55c-13cc373acc8f",
   "metadata": {
    "execution": {
     "iopub.execute_input": "2024-08-13T15:27:24.117542Z",
     "iopub.status.busy": "2024-08-13T15:27:24.116922Z",
     "iopub.status.idle": "2024-08-13T15:27:24.128099Z",
     "shell.execute_reply": "2024-08-13T15:27:24.127758Z",
     "shell.execute_reply.started": "2024-08-13T15:27:24.117524Z"
    }
   },
   "source": [
    "vertex_list = d[lambda x: x.segment == '131889+'].vertex.values\n",
    "final_results.loc[vertex_list]"
   ]
  },
  {
   "cell_type": "code",
   "execution_count": 33,
   "id": "323df969-d67f-453f-b2a3-4fd666979c05",
   "metadata": {
    "execution": {
     "iopub.execute_input": "2024-08-14T23:01:29.334446Z",
     "iopub.status.busy": "2024-08-14T23:01:29.334154Z",
     "iopub.status.idle": "2024-08-14T23:01:29.350649Z",
     "shell.execute_reply": "2024-08-14T23:01:29.350237Z",
     "shell.execute_reply.started": "2024-08-14T23:01:29.334430Z"
    }
   },
   "outputs": [
    {
     "data": {
      "text/html": [
       "<div>\n",
       "<style scoped>\n",
       "    .dataframe tbody tr th:only-of-type {\n",
       "        vertical-align: middle;\n",
       "    }\n",
       "\n",
       "    .dataframe tbody tr th {\n",
       "        vertical-align: top;\n",
       "    }\n",
       "\n",
       "    .dataframe thead th {\n",
       "        text-align: right;\n",
       "    }\n",
       "</style>\n",
       "<table border=\"1\" class=\"dataframe\">\n",
       "  <thead>\n",
       "    <tr style=\"text-align: right;\">\n",
       "      <th></th>\n",
       "      <th>Resistance gene</th>\n",
       "      <th>Identity</th>\n",
       "      <th>Alignment Length/Gene Length</th>\n",
       "      <th>Coverage</th>\n",
       "      <th>Position in reference</th>\n",
       "      <th>Contig</th>\n",
       "      <th>Position in contig</th>\n",
       "      <th>Phenotype</th>\n",
       "      <th>Accession no.</th>\n",
       "      <th>vertex</th>\n",
       "      <th>...</th>\n",
       "      <th>coordinates</th>\n",
       "      <th>n_genes</th>\n",
       "      <th>genetic_code</th>\n",
       "      <th>virus_score</th>\n",
       "      <th>fdr</th>\n",
       "      <th>n_hallmarks</th>\n",
       "      <th>marker_enrichment</th>\n",
       "      <th>taxonomy</th>\n",
       "      <th>left_prophage</th>\n",
       "      <th>right_prophage</th>\n",
       "    </tr>\n",
       "  </thead>\n",
       "  <tbody>\n",
       "    <tr>\n",
       "      <th>0</th>\n",
       "      <td>blaACI-1</td>\n",
       "      <td>100.0</td>\n",
       "      <td>855/855</td>\n",
       "      <td>100.0</td>\n",
       "      <td>1..855</td>\n",
       "      <td>238595_238611</td>\n",
       "      <td>17266..18120</td>\n",
       "      <td>Amoxicillin, Ampicillin, Ticarcillin, Ceftazid...</td>\n",
       "      <td>AJ007350</td>\n",
       "      <td>238595</td>\n",
       "      <td>...</td>\n",
       "      <td>11267-59405</td>\n",
       "      <td>58</td>\n",
       "      <td>11</td>\n",
       "      <td>0.9510</td>\n",
       "      <td>NaN</td>\n",
       "      <td>18</td>\n",
       "      <td>70.0758</td>\n",
       "      <td>Viruses;Duplodnaviria;Heunggongvirae;Urovirico...</td>\n",
       "      <td>11267</td>\n",
       "      <td>59405</td>\n",
       "    </tr>\n",
       "    <tr>\n",
       "      <th>1</th>\n",
       "      <td>blaACI-1</td>\n",
       "      <td>100.0</td>\n",
       "      <td>855/855</td>\n",
       "      <td>100.0</td>\n",
       "      <td>1..855</td>\n",
       "      <td>226662_226374</td>\n",
       "      <td>41287..42141</td>\n",
       "      <td>Amoxicillin, Ampicillin, Ticarcillin, Ceftazid...</td>\n",
       "      <td>AJ007350</td>\n",
       "      <td>226662</td>\n",
       "      <td>...</td>\n",
       "      <td>2-48140</td>\n",
       "      <td>59</td>\n",
       "      <td>11</td>\n",
       "      <td>0.9479</td>\n",
       "      <td>NaN</td>\n",
       "      <td>18</td>\n",
       "      <td>70.1920</td>\n",
       "      <td>Viruses;Duplodnaviria;Heunggongvirae;Urovirico...</td>\n",
       "      <td>2</td>\n",
       "      <td>48140</td>\n",
       "    </tr>\n",
       "    <tr>\n",
       "      <th>2</th>\n",
       "      <td>blaACI-1</td>\n",
       "      <td>100.0</td>\n",
       "      <td>855/855</td>\n",
       "      <td>100.0</td>\n",
       "      <td>1..855</td>\n",
       "      <td>237948_237916</td>\n",
       "      <td>41287..42141</td>\n",
       "      <td>Amoxicillin, Ampicillin, Ticarcillin, Ceftazid...</td>\n",
       "      <td>AJ007350</td>\n",
       "      <td>237948</td>\n",
       "      <td>...</td>\n",
       "      <td>2-48140</td>\n",
       "      <td>58</td>\n",
       "      <td>11</td>\n",
       "      <td>0.9493</td>\n",
       "      <td>NaN</td>\n",
       "      <td>18</td>\n",
       "      <td>70.0758</td>\n",
       "      <td>Viruses;Duplodnaviria;Heunggongvirae;Urovirico...</td>\n",
       "      <td>2</td>\n",
       "      <td>48140</td>\n",
       "    </tr>\n",
       "    <tr>\n",
       "      <th>3</th>\n",
       "      <td>blaACI-1</td>\n",
       "      <td>100.0</td>\n",
       "      <td>855/855</td>\n",
       "      <td>100.0</td>\n",
       "      <td>1..855</td>\n",
       "      <td>234210_234850</td>\n",
       "      <td>41287..42141</td>\n",
       "      <td>Amoxicillin, Ampicillin, Ticarcillin, Ceftazid...</td>\n",
       "      <td>AJ007350</td>\n",
       "      <td>234210</td>\n",
       "      <td>...</td>\n",
       "      <td>2-48140</td>\n",
       "      <td>58</td>\n",
       "      <td>11</td>\n",
       "      <td>0.9493</td>\n",
       "      <td>NaN</td>\n",
       "      <td>18</td>\n",
       "      <td>70.0758</td>\n",
       "      <td>Viruses;Duplodnaviria;Heunggongvirae;Urovirico...</td>\n",
       "      <td>2</td>\n",
       "      <td>48140</td>\n",
       "    </tr>\n",
       "    <tr>\n",
       "      <th>4</th>\n",
       "      <td>tet(W)</td>\n",
       "      <td>100.0</td>\n",
       "      <td>1920/1920</td>\n",
       "      <td>100.0</td>\n",
       "      <td>1..1920</td>\n",
       "      <td>235826_235776</td>\n",
       "      <td>127147..129066</td>\n",
       "      <td>Doxycycline, Tetracycline, Minocycline</td>\n",
       "      <td>AJ427422</td>\n",
       "      <td>235826</td>\n",
       "      <td>...</td>\n",
       "      <td>56282-88734</td>\n",
       "      <td>48</td>\n",
       "      <td>11</td>\n",
       "      <td>0.8562</td>\n",
       "      <td>NaN</td>\n",
       "      <td>2</td>\n",
       "      <td>11.6522</td>\n",
       "      <td>Viruses;Duplodnaviria;Heunggongvirae;Urovirico...</td>\n",
       "      <td>56282</td>\n",
       "      <td>88734</td>\n",
       "    </tr>\n",
       "  </tbody>\n",
       "</table>\n",
       "<p>5 rows × 25 columns</p>\n",
       "</div>"
      ],
      "text/plain": [
       "  Resistance gene  Identity Alignment Length/Gene Length  Coverage  \\\n",
       "0        blaACI-1     100.0                      855/855     100.0   \n",
       "1        blaACI-1     100.0                      855/855     100.0   \n",
       "2        blaACI-1     100.0                      855/855     100.0   \n",
       "3        blaACI-1     100.0                      855/855     100.0   \n",
       "4          tet(W)     100.0                    1920/1920     100.0   \n",
       "\n",
       "  Position in reference         Contig Position in contig  \\\n",
       "0                1..855  238595_238611       17266..18120   \n",
       "1                1..855  226662_226374       41287..42141   \n",
       "2                1..855  237948_237916       41287..42141   \n",
       "3                1..855  234210_234850       41287..42141   \n",
       "4               1..1920  235826_235776     127147..129066   \n",
       "\n",
       "                                           Phenotype Accession no.  vertex  \\\n",
       "0  Amoxicillin, Ampicillin, Ticarcillin, Ceftazid...      AJ007350  238595   \n",
       "1  Amoxicillin, Ampicillin, Ticarcillin, Ceftazid...      AJ007350  226662   \n",
       "2  Amoxicillin, Ampicillin, Ticarcillin, Ceftazid...      AJ007350  237948   \n",
       "3  Amoxicillin, Ampicillin, Ticarcillin, Ceftazid...      AJ007350  234210   \n",
       "4             Doxycycline, Tetracycline, Minocycline      AJ427422  235826   \n",
       "\n",
       "   ...  coordinates  n_genes genetic_code  virus_score fdr n_hallmarks  \\\n",
       "0  ...  11267-59405       58           11       0.9510 NaN          18   \n",
       "1  ...      2-48140       59           11       0.9479 NaN          18   \n",
       "2  ...      2-48140       58           11       0.9493 NaN          18   \n",
       "3  ...      2-48140       58           11       0.9493 NaN          18   \n",
       "4  ...  56282-88734       48           11       0.8562 NaN           2   \n",
       "\n",
       "   marker_enrichment                                           taxonomy  \\\n",
       "0            70.0758  Viruses;Duplodnaviria;Heunggongvirae;Urovirico...   \n",
       "1            70.1920  Viruses;Duplodnaviria;Heunggongvirae;Urovirico...   \n",
       "2            70.0758  Viruses;Duplodnaviria;Heunggongvirae;Urovirico...   \n",
       "3            70.0758  Viruses;Duplodnaviria;Heunggongvirae;Urovirico...   \n",
       "4            11.6522  Viruses;Duplodnaviria;Heunggongvirae;Urovirico...   \n",
       "\n",
       "   left_prophage  right_prophage  \n",
       "0          11267           59405  \n",
       "1              2           48140  \n",
       "2              2           48140  \n",
       "3              2           48140  \n",
       "4          56282           88734  \n",
       "\n",
       "[5 rows x 25 columns]"
      ]
     },
     "execution_count": 33,
     "metadata": {},
     "output_type": "execute_result"
    }
   ],
   "source": [
    "# Prophage with an encoded AMR gene.\n",
    "pd.merge(\n",
    "    amr_positions,\n",
    "    prophage_positions,\n",
    "    how=\"inner\",\n",
    "    on=\"vertex\",\n",
    "    suffixes=[\"_amr\", \"_prophage\"],\n",
    ")"
   ]
  },
  {
   "cell_type": "code",
   "execution_count": 65,
   "id": "4eac1381-9627-4f93-aeff-e53976763a54",
   "metadata": {
    "execution": {
     "iopub.execute_input": "2024-08-14T23:15:19.412702Z",
     "iopub.status.busy": "2024-08-14T23:15:19.412366Z",
     "iopub.status.idle": "2024-08-14T23:15:19.450157Z",
     "shell.execute_reply": "2024-08-14T23:15:19.449496Z",
     "shell.execute_reply.started": "2024-08-14T23:15:19.412678Z"
    }
   },
   "outputs": [
    {
     "data": {
      "text/plain": [
       "1085"
      ]
     },
     "execution_count": 65,
     "metadata": {},
     "output_type": "execute_result"
    }
   ],
   "source": [
    "prophage_unitig = (\n",
    "    pd.merge(\n",
    "        segment_positions,\n",
    "        prophage_positions,\n",
    "        on=\"vertex\",\n",
    "        how=\"inner\",\n",
    "        suffixes=[\"_segment\", \"_feat\"],\n",
    "    )[lambda x: (x.right_segment > x.left_feat) & (x.left_segment < x.right_feat)]\n",
    "    .segment.str[:-1]\n",
    "    .unique()\n",
    ")\n",
    "len(prophage_unitig)"
   ]
  },
  {
   "cell_type": "code",
   "execution_count": 67,
   "id": "dc144824-de82-46b7-bb90-f0b4fb6134e0",
   "metadata": {
    "execution": {
     "iopub.execute_input": "2024-08-14T23:15:28.680028Z",
     "iopub.status.busy": "2024-08-14T23:15:28.679662Z",
     "iopub.status.idle": "2024-08-14T23:15:28.717603Z",
     "shell.execute_reply": "2024-08-14T23:15:28.717069Z",
     "shell.execute_reply.started": "2024-08-14T23:15:28.680002Z"
    }
   },
   "outputs": [
    {
     "data": {
      "text/plain": [
       "145"
      ]
     },
     "execution_count": 67,
     "metadata": {},
     "output_type": "execute_result"
    }
   ],
   "source": [
    "amr_unitig = (\n",
    "    pd.merge(\n",
    "        segment_positions,\n",
    "        amr_positions,\n",
    "        on=\"vertex\",\n",
    "        how=\"inner\",\n",
    "        suffixes=[\"_segment\", \"_feat\"],\n",
    "    )[lambda x: (x.right_segment > x.left_feat) & (x.left_segment < x.right_feat)]\n",
    "    .segment.str[:-1]\n",
    "    .unique()\n",
    ")\n",
    "len(amr_unitig)"
   ]
  },
  {
   "cell_type": "code",
   "execution_count": 71,
   "id": "401577f4-0e99-40ab-ab46-5ea236c37707",
   "metadata": {
    "execution": {
     "iopub.execute_input": "2024-08-14T23:17:25.891540Z",
     "iopub.status.busy": "2024-08-14T23:17:25.891232Z",
     "iopub.status.idle": "2024-08-14T23:17:26.274168Z",
     "shell.execute_reply": "2024-08-14T23:17:26.273526Z",
     "shell.execute_reply.started": "2024-08-14T23:17:25.891516Z"
    }
   },
   "outputs": [
    {
     "data": {
      "text/html": [
       "<div>\n",
       "<style scoped>\n",
       "    .dataframe tbody tr th:only-of-type {\n",
       "        vertical-align: middle;\n",
       "    }\n",
       "\n",
       "    .dataframe tbody tr th {\n",
       "        vertical-align: top;\n",
       "    }\n",
       "\n",
       "    .dataframe thead th {\n",
       "        text-align: right;\n",
       "    }\n",
       "</style>\n",
       "<table border=\"1\" class=\"dataframe\">\n",
       "  <thead>\n",
       "    <tr style=\"text-align: right;\">\n",
       "      <th></th>\n",
       "      <th>in_neighbors</th>\n",
       "      <th>out_neighbors</th>\n",
       "      <th>length</th>\n",
       "      <th>total_depth</th>\n",
       "      <th>segments</th>\n",
       "      <th>num_segments</th>\n",
       "      <th>num_in_neighbors</th>\n",
       "      <th>num_out_neighbors</th>\n",
       "      <th>complexity</th>\n",
       "      <th>clust</th>\n",
       "    </tr>\n",
       "    <tr>\n",
       "      <th>vertex</th>\n",
       "      <th></th>\n",
       "      <th></th>\n",
       "      <th></th>\n",
       "      <th></th>\n",
       "      <th></th>\n",
       "      <th></th>\n",
       "      <th></th>\n",
       "      <th></th>\n",
       "      <th></th>\n",
       "      <th></th>\n",
       "    </tr>\n",
       "  </thead>\n",
       "  <tbody>\n",
       "    <tr>\n",
       "      <th>226374</th>\n",
       "      <td>(216896)</td>\n",
       "      <td>(10621)</td>\n",
       "      <td>58915</td>\n",
       "      <td>5.175310</td>\n",
       "      <td>(110005-, 110144+, 69227+, 156467+, 156435-, 3...</td>\n",
       "      <td>88</td>\n",
       "      <td>1</td>\n",
       "      <td>1</td>\n",
       "      <td>11.224972</td>\n",
       "      <td>91</td>\n",
       "    </tr>\n",
       "    <tr>\n",
       "      <th>226662</th>\n",
       "      <td>(96)</td>\n",
       "      <td>(216803)</td>\n",
       "      <td>58915</td>\n",
       "      <td>5.175347</td>\n",
       "      <td>(68184-, 1257+, 29565+, 100074-, 53170-, 52968...</td>\n",
       "      <td>88</td>\n",
       "      <td>1</td>\n",
       "      <td>1</td>\n",
       "      <td>11.224972</td>\n",
       "      <td>91</td>\n",
       "    </tr>\n",
       "    <tr>\n",
       "      <th>234210</th>\n",
       "      <td>(216896)</td>\n",
       "      <td>(235944, 237490)</td>\n",
       "      <td>58837</td>\n",
       "      <td>341.595045</td>\n",
       "      <td>(110055+, 110144+, 69227+, 156467+, 30484+, 30...</td>\n",
       "      <td>91</td>\n",
       "      <td>1</td>\n",
       "      <td>2</td>\n",
       "      <td>11.180340</td>\n",
       "      <td>91</td>\n",
       "    </tr>\n",
       "    <tr>\n",
       "      <th>234850</th>\n",
       "      <td>(236315, 237487)</td>\n",
       "      <td>(216803)</td>\n",
       "      <td>58837</td>\n",
       "      <td>341.602008</td>\n",
       "      <td>(19820-, 19818-, 29399-, 29565+, 100074-, 5317...</td>\n",
       "      <td>91</td>\n",
       "      <td>2</td>\n",
       "      <td>1</td>\n",
       "      <td>11.180340</td>\n",
       "      <td>91</td>\n",
       "    </tr>\n",
       "    <tr>\n",
       "      <th>237916</th>\n",
       "      <td>(5127)</td>\n",
       "      <td>(216803)</td>\n",
       "      <td>59064</td>\n",
       "      <td>2.413939</td>\n",
       "      <td>(182330+, 18656+, 18657+, 182389+, 7831-, 7830...</td>\n",
       "      <td>101</td>\n",
       "      <td>1</td>\n",
       "      <td>1</td>\n",
       "      <td>13.601471</td>\n",
       "      <td>1200</td>\n",
       "    </tr>\n",
       "    <tr>\n",
       "      <th>237948</th>\n",
       "      <td>(216896)</td>\n",
       "      <td>(3602)</td>\n",
       "      <td>59064</td>\n",
       "      <td>2.421888</td>\n",
       "      <td>(110055+, 110144+, 69227+, 156467+, 30484+, 30...</td>\n",
       "      <td>101</td>\n",
       "      <td>1</td>\n",
       "      <td>1</td>\n",
       "      <td>13.601471</td>\n",
       "      <td>1200</td>\n",
       "    </tr>\n",
       "    <tr>\n",
       "      <th>238595</th>\n",
       "      <td>(216896)</td>\n",
       "      <td>(5586)</td>\n",
       "      <td>59296</td>\n",
       "      <td>2.343525</td>\n",
       "      <td>(110055+, 110144+, 69227+, 156467+, 30484+, 30...</td>\n",
       "      <td>111</td>\n",
       "      <td>1</td>\n",
       "      <td>1</td>\n",
       "      <td>14.035669</td>\n",
       "      <td>423</td>\n",
       "    </tr>\n",
       "    <tr>\n",
       "      <th>238611</th>\n",
       "      <td>(4030)</td>\n",
       "      <td>(216803)</td>\n",
       "      <td>59296</td>\n",
       "      <td>2.341095</td>\n",
       "      <td>(10286+, 10279+, 10280+, 10281+, 10282+, 10283...</td>\n",
       "      <td>111</td>\n",
       "      <td>1</td>\n",
       "      <td>1</td>\n",
       "      <td>14.035669</td>\n",
       "      <td>423</td>\n",
       "    </tr>\n",
       "  </tbody>\n",
       "</table>\n",
       "</div>"
      ],
      "text/plain": [
       "            in_neighbors     out_neighbors  length  total_depth  \\\n",
       "vertex                                                            \n",
       "226374          (216896)           (10621)   58915     5.175310   \n",
       "226662              (96)          (216803)   58915     5.175347   \n",
       "234210          (216896)  (235944, 237490)   58837   341.595045   \n",
       "234850  (236315, 237487)          (216803)   58837   341.602008   \n",
       "237916            (5127)          (216803)   59064     2.413939   \n",
       "237948          (216896)            (3602)   59064     2.421888   \n",
       "238595          (216896)            (5586)   59296     2.343525   \n",
       "238611            (4030)          (216803)   59296     2.341095   \n",
       "\n",
       "                                                 segments  num_segments  \\\n",
       "vertex                                                                    \n",
       "226374  (110005-, 110144+, 69227+, 156467+, 156435-, 3...            88   \n",
       "226662  (68184-, 1257+, 29565+, 100074-, 53170-, 52968...            88   \n",
       "234210  (110055+, 110144+, 69227+, 156467+, 30484+, 30...            91   \n",
       "234850  (19820-, 19818-, 29399-, 29565+, 100074-, 5317...            91   \n",
       "237916  (182330+, 18656+, 18657+, 182389+, 7831-, 7830...           101   \n",
       "237948  (110055+, 110144+, 69227+, 156467+, 30484+, 30...           101   \n",
       "238595  (110055+, 110144+, 69227+, 156467+, 30484+, 30...           111   \n",
       "238611  (10286+, 10279+, 10280+, 10281+, 10282+, 10283...           111   \n",
       "\n",
       "        num_in_neighbors  num_out_neighbors  complexity  clust  \n",
       "vertex                                                          \n",
       "226374                 1                  1   11.224972     91  \n",
       "226662                 1                  1   11.224972     91  \n",
       "234210                 1                  2   11.180340     91  \n",
       "234850                 2                  1   11.180340     91  \n",
       "237916                 1                  1   13.601471   1200  \n",
       "237948                 1                  1   13.601471   1200  \n",
       "238595                 1                  1   14.035669    423  \n",
       "238611                 1                  1   14.035669    423  "
      ]
     },
     "execution_count": 71,
     "metadata": {},
     "output_type": "execute_result"
    }
   ],
   "source": [
    "amr_prophage_unitig_set = set(amr_unitig) & set(prophage_unitig)\n",
    "amr_prophage_unitig_vertex_list = idxwhere(\n",
    "    final_results.segments.apply(\n",
    "        lambda p: bool(set(s[:-1] for s in p) & amr_prophage_unitig_set)\n",
    "    )\n",
    ")\n",
    "final_results.loc[amr_prophage_unitig_vertex_list]"
   ]
  },
  {
   "cell_type": "raw",
   "id": "1c17ced8-7ec3-4f80-9282-b9534915065f",
   "metadata": {},
   "source": [
    "d0 = pd.merge(segment_positions, prophage_positions, on='vertex', how='left', suffixes=['_segment', '_prophage']).assign(overlaps_prophage=lambda x: (x.right_segment > x.left_prophage) & (x.left_segment < x.right_prophage))\n",
    "d1 = pd.merge(d0, amr_positions.rename(columns={'left': 'left_amr', 'right': 'right_amr'}), on='vertex', how='left').assign(overlaps_amr=lambda x: (x.right_segment > x.left_amr) & (x.left_segment < x.right_amr))"
   ]
  },
  {
   "cell_type": "raw",
   "id": "75081adb-231a-4cac-a70c-f1741d53953a",
   "metadata": {},
   "source": [
    "vertex = 233370\n",
    "\n",
    "print(final_results.loc[vertex])\n",
    "d1[lambda x: (x.vertex == vertex)][['vertex', 'segment', 'segment_order', 'left_segment', 'right_segment', 'left_prophage', 'right_prophage', 'left_amr', 'right_amr', 'Phenotype', 'overlaps_prophage', 'overlaps_amr']]"
   ]
  },
  {
   "cell_type": "raw",
   "id": "d38bef35-7c82-40e6-b002-88c496a63a22",
   "metadata": {},
   "source": [
    "final_results[lambda x: (x.num_in_neighbors + x.num_out_neighbors) == 0].sort_values('num_segments', ascending=False).head()"
   ]
  },
  {
   "cell_type": "raw",
   "id": "95015442-f589-4d4c-bf71-06ddcc834186",
   "metadata": {
    "execution": {
     "iopub.execute_input": "2024-08-13T06:01:03.350719Z",
     "iopub.status.busy": "2024-08-13T06:01:03.350321Z",
     "iopub.status.idle": "2024-08-13T06:01:03.518161Z",
     "shell.execute_reply": "2024-08-13T06:01:03.517756Z",
     "shell.execute_reply.started": "2024-08-13T06:01:03.350698Z"
    }
   },
   "source": [
    "final_results.sort_values(['num_segments'], ascending=False).head()"
   ]
  },
  {
   "cell_type": "code",
   "execution_count": 50,
   "id": "153d57cf-f2bd-4763-9112-d7a8c1ce261a",
   "metadata": {
    "execution": {
     "iopub.execute_input": "2024-08-14T23:06:18.740075Z",
     "iopub.status.busy": "2024-08-14T23:06:18.739853Z",
     "iopub.status.idle": "2024-08-14T23:06:18.814857Z",
     "shell.execute_reply": "2024-08-14T23:06:18.814329Z",
     "shell.execute_reply.started": "2024-08-14T23:06:18.740057Z"
    }
   },
   "outputs": [
    {
     "data": {
      "text/html": [
       "<div>\n",
       "<style scoped>\n",
       "    .dataframe tbody tr th:only-of-type {\n",
       "        vertical-align: middle;\n",
       "    }\n",
       "\n",
       "    .dataframe tbody tr th {\n",
       "        vertical-align: top;\n",
       "    }\n",
       "\n",
       "    .dataframe thead th {\n",
       "        text-align: right;\n",
       "    }\n",
       "</style>\n",
       "<table border=\"1\" class=\"dataframe\">\n",
       "  <thead>\n",
       "    <tr style=\"text-align: right;\">\n",
       "      <th></th>\n",
       "      <th>in_neighbors</th>\n",
       "      <th>out_neighbors</th>\n",
       "      <th>length</th>\n",
       "      <th>total_depth</th>\n",
       "      <th>segments</th>\n",
       "      <th>num_segments</th>\n",
       "      <th>num_in_neighbors</th>\n",
       "      <th>num_out_neighbors</th>\n",
       "      <th>complexity</th>\n",
       "      <th>clust</th>\n",
       "    </tr>\n",
       "    <tr>\n",
       "      <th>vertex</th>\n",
       "      <th></th>\n",
       "      <th></th>\n",
       "      <th></th>\n",
       "      <th></th>\n",
       "      <th></th>\n",
       "      <th></th>\n",
       "      <th></th>\n",
       "      <th></th>\n",
       "      <th></th>\n",
       "      <th></th>\n",
       "    </tr>\n",
       "  </thead>\n",
       "  <tbody>\n",
       "    <tr>\n",
       "      <th>230606</th>\n",
       "      <td>()</td>\n",
       "      <td>(10070)</td>\n",
       "      <td>1450484</td>\n",
       "      <td>20.932942</td>\n",
       "      <td>(91770-, 14641-, 85357+, 85067-, 85356+, 19695...</td>\n",
       "      <td>35</td>\n",
       "      <td>0</td>\n",
       "      <td>1</td>\n",
       "      <td>10.099505</td>\n",
       "      <td>360</td>\n",
       "    </tr>\n",
       "    <tr>\n",
       "      <th>230675</th>\n",
       "      <td>(2209)</td>\n",
       "      <td>()</td>\n",
       "      <td>1450484</td>\n",
       "      <td>20.932942</td>\n",
       "      <td>(2903+, 94980+, 94972+, 21261-, 21258+, 21259+...</td>\n",
       "      <td>35</td>\n",
       "      <td>1</td>\n",
       "      <td>0</td>\n",
       "      <td>10.099505</td>\n",
       "      <td>360</td>\n",
       "    </tr>\n",
       "    <tr>\n",
       "      <th>236699</th>\n",
       "      <td>(6214)</td>\n",
       "      <td>()</td>\n",
       "      <td>1330181</td>\n",
       "      <td>22.935140</td>\n",
       "      <td>(166891-, 106368-, 19088-, 57316-, 179949+, 69...</td>\n",
       "      <td>61</td>\n",
       "      <td>1</td>\n",
       "      <td>0</td>\n",
       "      <td>12.688578</td>\n",
       "      <td>269</td>\n",
       "    </tr>\n",
       "    <tr>\n",
       "      <th>236698</th>\n",
       "      <td>()</td>\n",
       "      <td>(186)</td>\n",
       "      <td>1330181</td>\n",
       "      <td>22.935140</td>\n",
       "      <td>(35978+, 99045+, 99023-, 99274+, 166181+, 1126...</td>\n",
       "      <td>61</td>\n",
       "      <td>0</td>\n",
       "      <td>1</td>\n",
       "      <td>12.688578</td>\n",
       "      <td>269</td>\n",
       "    </tr>\n",
       "    <tr>\n",
       "      <th>236155</th>\n",
       "      <td>()</td>\n",
       "      <td>(224913)</td>\n",
       "      <td>1081106</td>\n",
       "      <td>0.148726</td>\n",
       "      <td>(33694+, 5910+, 96005-, 107282-, 82010-, 781-,...</td>\n",
       "      <td>93</td>\n",
       "      <td>0</td>\n",
       "      <td>1</td>\n",
       "      <td>16.970563</td>\n",
       "      <td>302</td>\n",
       "    </tr>\n",
       "    <tr>\n",
       "      <th>236277</th>\n",
       "      <td>(223169)</td>\n",
       "      <td>()</td>\n",
       "      <td>1081106</td>\n",
       "      <td>0.146658</td>\n",
       "      <td>(81174+, 9303+, 133908+, 4576+, 134178+, 20456...</td>\n",
       "      <td>93</td>\n",
       "      <td>1</td>\n",
       "      <td>0</td>\n",
       "      <td>16.970563</td>\n",
       "      <td>1113</td>\n",
       "    </tr>\n",
       "    <tr>\n",
       "      <th>235836</th>\n",
       "      <td>(223169)</td>\n",
       "      <td>(228016)</td>\n",
       "      <td>1064547</td>\n",
       "      <td>1.125776</td>\n",
       "      <td>(81174+, 9303+, 133908+, 4576+, 134178+, 20456...</td>\n",
       "      <td>96</td>\n",
       "      <td>1</td>\n",
       "      <td>1</td>\n",
       "      <td>17.058722</td>\n",
       "      <td>1084</td>\n",
       "    </tr>\n",
       "    <tr>\n",
       "      <th>236347</th>\n",
       "      <td>(9215)</td>\n",
       "      <td>(224913)</td>\n",
       "      <td>1064508</td>\n",
       "      <td>1.125312</td>\n",
       "      <td>(58757-, 16188-, 16185+, 118067+, 66873+, 1079...</td>\n",
       "      <td>95</td>\n",
       "      <td>1</td>\n",
       "      <td>1</td>\n",
       "      <td>16.792856</td>\n",
       "      <td>1084</td>\n",
       "    </tr>\n",
       "    <tr>\n",
       "      <th>236457</th>\n",
       "      <td>(12346)</td>\n",
       "      <td>(7421)</td>\n",
       "      <td>821541</td>\n",
       "      <td>1.994751</td>\n",
       "      <td>(17811-, 17810-, 17809-, 67440+, 67441+, 48311...</td>\n",
       "      <td>40</td>\n",
       "      <td>1</td>\n",
       "      <td>1</td>\n",
       "      <td>10.099505</td>\n",
       "      <td>1071</td>\n",
       "    </tr>\n",
       "    <tr>\n",
       "      <th>235928</th>\n",
       "      <td>(12346)</td>\n",
       "      <td>(7421)</td>\n",
       "      <td>821541</td>\n",
       "      <td>28.678854</td>\n",
       "      <td>(17811-, 17810-, 17809-, 67440+, 67441+, 48311...</td>\n",
       "      <td>40</td>\n",
       "      <td>1</td>\n",
       "      <td>1</td>\n",
       "      <td>10.099505</td>\n",
       "      <td>291</td>\n",
       "    </tr>\n",
       "  </tbody>\n",
       "</table>\n",
       "</div>"
      ],
      "text/plain": [
       "       in_neighbors out_neighbors   length  total_depth  \\\n",
       "vertex                                                    \n",
       "230606           ()       (10070)  1450484    20.932942   \n",
       "230675       (2209)            ()  1450484    20.932942   \n",
       "236699       (6214)            ()  1330181    22.935140   \n",
       "236698           ()         (186)  1330181    22.935140   \n",
       "236155           ()      (224913)  1081106     0.148726   \n",
       "236277     (223169)            ()  1081106     0.146658   \n",
       "235836     (223169)      (228016)  1064547     1.125776   \n",
       "236347       (9215)      (224913)  1064508     1.125312   \n",
       "236457      (12346)        (7421)   821541     1.994751   \n",
       "235928      (12346)        (7421)   821541    28.678854   \n",
       "\n",
       "                                                 segments  num_segments  \\\n",
       "vertex                                                                    \n",
       "230606  (91770-, 14641-, 85357+, 85067-, 85356+, 19695...            35   \n",
       "230675  (2903+, 94980+, 94972+, 21261-, 21258+, 21259+...            35   \n",
       "236699  (166891-, 106368-, 19088-, 57316-, 179949+, 69...            61   \n",
       "236698  (35978+, 99045+, 99023-, 99274+, 166181+, 1126...            61   \n",
       "236155  (33694+, 5910+, 96005-, 107282-, 82010-, 781-,...            93   \n",
       "236277  (81174+, 9303+, 133908+, 4576+, 134178+, 20456...            93   \n",
       "235836  (81174+, 9303+, 133908+, 4576+, 134178+, 20456...            96   \n",
       "236347  (58757-, 16188-, 16185+, 118067+, 66873+, 1079...            95   \n",
       "236457  (17811-, 17810-, 17809-, 67440+, 67441+, 48311...            40   \n",
       "235928  (17811-, 17810-, 17809-, 67440+, 67441+, 48311...            40   \n",
       "\n",
       "        num_in_neighbors  num_out_neighbors  complexity  clust  \n",
       "vertex                                                          \n",
       "230606                 0                  1   10.099505    360  \n",
       "230675                 1                  0   10.099505    360  \n",
       "236699                 1                  0   12.688578    269  \n",
       "236698                 0                  1   12.688578    269  \n",
       "236155                 0                  1   16.970563    302  \n",
       "236277                 1                  0   16.970563   1113  \n",
       "235836                 1                  1   17.058722   1084  \n",
       "236347                 1                  1   16.792856   1084  \n",
       "236457                 1                  1   10.099505   1071  \n",
       "235928                 1                  1   10.099505    291  "
      ]
     },
     "execution_count": 50,
     "metadata": {},
     "output_type": "execute_result"
    }
   ],
   "source": [
    "final_results.sort_values([\"length\"], ascending=False).head(10)"
   ]
  },
  {
   "cell_type": "code",
   "execution_count": 51,
   "id": "c95189f5-c69e-4151-a97b-4ee8a38b9eb8",
   "metadata": {
    "execution": {
     "iopub.execute_input": "2024-08-14T23:06:19.007240Z",
     "iopub.status.busy": "2024-08-14T23:06:19.007036Z",
     "iopub.status.idle": "2024-08-14T23:06:19.056601Z",
     "shell.execute_reply": "2024-08-14T23:06:19.056094Z",
     "shell.execute_reply.started": "2024-08-14T23:06:19.007220Z"
    }
   },
   "outputs": [
    {
     "data": {
      "text/html": [
       "<div>\n",
       "<style scoped>\n",
       "    .dataframe tbody tr th:only-of-type {\n",
       "        vertical-align: middle;\n",
       "    }\n",
       "\n",
       "    .dataframe tbody tr th {\n",
       "        vertical-align: top;\n",
       "    }\n",
       "\n",
       "    .dataframe thead th {\n",
       "        text-align: right;\n",
       "    }\n",
       "</style>\n",
       "<table border=\"1\" class=\"dataframe\">\n",
       "  <thead>\n",
       "    <tr style=\"text-align: right;\">\n",
       "      <th></th>\n",
       "      <th>in_neighbors</th>\n",
       "      <th>out_neighbors</th>\n",
       "      <th>length</th>\n",
       "      <th>total_depth</th>\n",
       "      <th>segments</th>\n",
       "      <th>num_segments</th>\n",
       "      <th>num_in_neighbors</th>\n",
       "      <th>num_out_neighbors</th>\n",
       "      <th>complexity</th>\n",
       "      <th>clust</th>\n",
       "    </tr>\n",
       "    <tr>\n",
       "      <th>vertex</th>\n",
       "      <th></th>\n",
       "      <th></th>\n",
       "      <th></th>\n",
       "      <th></th>\n",
       "      <th></th>\n",
       "      <th></th>\n",
       "      <th></th>\n",
       "      <th></th>\n",
       "      <th></th>\n",
       "      <th></th>\n",
       "    </tr>\n",
       "  </thead>\n",
       "  <tbody>\n",
       "    <tr>\n",
       "      <th>239051</th>\n",
       "      <td>(9199)</td>\n",
       "      <td>(33)</td>\n",
       "      <td>101214</td>\n",
       "      <td>4.851600</td>\n",
       "      <td>(41899-, 93619-, 107314-, 183910-, 79956-, 799...</td>\n",
       "      <td>241</td>\n",
       "      <td>1</td>\n",
       "      <td>1</td>\n",
       "      <td>31.144823</td>\n",
       "      <td>300</td>\n",
       "    </tr>\n",
       "    <tr>\n",
       "      <th>238911</th>\n",
       "      <td>(9199)</td>\n",
       "      <td>(33)</td>\n",
       "      <td>101215</td>\n",
       "      <td>15.340082</td>\n",
       "      <td>(41899-, 93619-, 107314-, 183910-, 79956-, 799...</td>\n",
       "      <td>241</td>\n",
       "      <td>1</td>\n",
       "      <td>1</td>\n",
       "      <td>31.144823</td>\n",
       "      <td>164</td>\n",
       "    </tr>\n",
       "    <tr>\n",
       "      <th>238848</th>\n",
       "      <td>(7831)</td>\n",
       "      <td>(10361)</td>\n",
       "      <td>101215</td>\n",
       "      <td>17.299407</td>\n",
       "      <td>(153769+, 153847+, 33776+, 33750-, 107816+, 87...</td>\n",
       "      <td>241</td>\n",
       "      <td>1</td>\n",
       "      <td>1</td>\n",
       "      <td>31.144823</td>\n",
       "      <td>164</td>\n",
       "    </tr>\n",
       "    <tr>\n",
       "      <th>233519</th>\n",
       "      <td>(237632, 230210)</td>\n",
       "      <td>(221984, 220203)</td>\n",
       "      <td>56902</td>\n",
       "      <td>23.854057</td>\n",
       "      <td>(120204-, 110047-, 133953+, 4590+, 56313-, 562...</td>\n",
       "      <td>224</td>\n",
       "      <td>2</td>\n",
       "      <td>2</td>\n",
       "      <td>30.561414</td>\n",
       "      <td>164</td>\n",
       "    </tr>\n",
       "    <tr>\n",
       "      <th>233531</th>\n",
       "      <td>(221081, 220606)</td>\n",
       "      <td>(237633, 230233)</td>\n",
       "      <td>56902</td>\n",
       "      <td>23.854057</td>\n",
       "      <td>(146061+, 6024+, 184587-, 189285+, 45153-, 595...</td>\n",
       "      <td>224</td>\n",
       "      <td>2</td>\n",
       "      <td>2</td>\n",
       "      <td>30.561414</td>\n",
       "      <td>164</td>\n",
       "    </tr>\n",
       "    <tr>\n",
       "      <th>233512</th>\n",
       "      <td>(237632, 230210)</td>\n",
       "      <td>(221984, 220203)</td>\n",
       "      <td>51140</td>\n",
       "      <td>94.655281</td>\n",
       "      <td>(120205+, 110047-, 133954+, 4590+, 133920+, 56...</td>\n",
       "      <td>224</td>\n",
       "      <td>2</td>\n",
       "      <td>2</td>\n",
       "      <td>30.545049</td>\n",
       "      <td>300</td>\n",
       "    </tr>\n",
       "    <tr>\n",
       "      <th>233509</th>\n",
       "      <td>(221081, 220606)</td>\n",
       "      <td>(237633, 230233)</td>\n",
       "      <td>51140</td>\n",
       "      <td>94.655281</td>\n",
       "      <td>(199292+, 6024+, 184696+, 189285+, 45150+, 595...</td>\n",
       "      <td>224</td>\n",
       "      <td>2</td>\n",
       "      <td>2</td>\n",
       "      <td>30.545049</td>\n",
       "      <td>300</td>\n",
       "    </tr>\n",
       "    <tr>\n",
       "      <th>237657</th>\n",
       "      <td>(11461)</td>\n",
       "      <td>(227090, 226613)</td>\n",
       "      <td>76433</td>\n",
       "      <td>19.901629</td>\n",
       "      <td>(129900-, 170374+, 178310-, 103960-, 103811-, ...</td>\n",
       "      <td>212</td>\n",
       "      <td>1</td>\n",
       "      <td>2</td>\n",
       "      <td>30.016662</td>\n",
       "      <td>164</td>\n",
       "    </tr>\n",
       "    <tr>\n",
       "      <th>237656</th>\n",
       "      <td>(226533, 227014)</td>\n",
       "      <td>(1375)</td>\n",
       "      <td>76433</td>\n",
       "      <td>19.901828</td>\n",
       "      <td>(46622-, 46782+, 156188+, 156303+, 63670-, 317...</td>\n",
       "      <td>212</td>\n",
       "      <td>2</td>\n",
       "      <td>1</td>\n",
       "      <td>30.016662</td>\n",
       "      <td>164</td>\n",
       "    </tr>\n",
       "    <tr>\n",
       "      <th>236090</th>\n",
       "      <td>(4350)</td>\n",
       "      <td>(231556)</td>\n",
       "      <td>207800</td>\n",
       "      <td>3.950997</td>\n",
       "      <td>(4654-, 4655+, 189953+, 190291+, 108309-, 1082...</td>\n",
       "      <td>263</td>\n",
       "      <td>1</td>\n",
       "      <td>1</td>\n",
       "      <td>29.580399</td>\n",
       "      <td>29</td>\n",
       "    </tr>\n",
       "  </tbody>\n",
       "</table>\n",
       "</div>"
      ],
      "text/plain": [
       "            in_neighbors     out_neighbors  length  total_depth  \\\n",
       "vertex                                                            \n",
       "239051            (9199)              (33)  101214     4.851600   \n",
       "238911            (9199)              (33)  101215    15.340082   \n",
       "238848            (7831)           (10361)  101215    17.299407   \n",
       "233519  (237632, 230210)  (221984, 220203)   56902    23.854057   \n",
       "233531  (221081, 220606)  (237633, 230233)   56902    23.854057   \n",
       "233512  (237632, 230210)  (221984, 220203)   51140    94.655281   \n",
       "233509  (221081, 220606)  (237633, 230233)   51140    94.655281   \n",
       "237657           (11461)  (227090, 226613)   76433    19.901629   \n",
       "237656  (226533, 227014)            (1375)   76433    19.901828   \n",
       "236090            (4350)          (231556)  207800     3.950997   \n",
       "\n",
       "                                                 segments  num_segments  \\\n",
       "vertex                                                                    \n",
       "239051  (41899-, 93619-, 107314-, 183910-, 79956-, 799...           241   \n",
       "238911  (41899-, 93619-, 107314-, 183910-, 79956-, 799...           241   \n",
       "238848  (153769+, 153847+, 33776+, 33750-, 107816+, 87...           241   \n",
       "233519  (120204-, 110047-, 133953+, 4590+, 56313-, 562...           224   \n",
       "233531  (146061+, 6024+, 184587-, 189285+, 45153-, 595...           224   \n",
       "233512  (120205+, 110047-, 133954+, 4590+, 133920+, 56...           224   \n",
       "233509  (199292+, 6024+, 184696+, 189285+, 45150+, 595...           224   \n",
       "237657  (129900-, 170374+, 178310-, 103960-, 103811-, ...           212   \n",
       "237656  (46622-, 46782+, 156188+, 156303+, 63670-, 317...           212   \n",
       "236090  (4654-, 4655+, 189953+, 190291+, 108309-, 1082...           263   \n",
       "\n",
       "        num_in_neighbors  num_out_neighbors  complexity  clust  \n",
       "vertex                                                          \n",
       "239051                 1                  1   31.144823    300  \n",
       "238911                 1                  1   31.144823    164  \n",
       "238848                 1                  1   31.144823    164  \n",
       "233519                 2                  2   30.561414    164  \n",
       "233531                 2                  2   30.561414    164  \n",
       "233512                 2                  2   30.545049    300  \n",
       "233509                 2                  2   30.545049    300  \n",
       "237657                 1                  2   30.016662    164  \n",
       "237656                 2                  1   30.016662    164  \n",
       "236090                 1                  1   29.580399     29  "
      ]
     },
     "execution_count": 51,
     "metadata": {},
     "output_type": "execute_result"
    }
   ],
   "source": [
    "final_results.sort_values([\"complexity\"], ascending=False).head(10)"
   ]
  },
  {
   "cell_type": "code",
   "execution_count": 52,
   "id": "3892e727-c926-4599-8c47-eaa564c1da7b",
   "metadata": {
    "execution": {
     "iopub.execute_input": "2024-08-14T23:06:28.218774Z",
     "iopub.status.busy": "2024-08-14T23:06:28.218540Z",
     "iopub.status.idle": "2024-08-14T23:06:28.253212Z",
     "shell.execute_reply": "2024-08-14T23:06:28.252794Z",
     "shell.execute_reply.started": "2024-08-14T23:06:28.218755Z"
    }
   },
   "outputs": [
    {
     "data": {
      "text/html": [
       "<div>\n",
       "<style scoped>\n",
       "    .dataframe tbody tr th:only-of-type {\n",
       "        vertical-align: middle;\n",
       "    }\n",
       "\n",
       "    .dataframe tbody tr th {\n",
       "        vertical-align: top;\n",
       "    }\n",
       "\n",
       "    .dataframe thead th {\n",
       "        text-align: right;\n",
       "    }\n",
       "</style>\n",
       "<table border=\"1\" class=\"dataframe\">\n",
       "  <thead>\n",
       "    <tr style=\"text-align: right;\">\n",
       "      <th></th>\n",
       "      <th>in_neighbors</th>\n",
       "      <th>out_neighbors</th>\n",
       "      <th>length</th>\n",
       "      <th>total_depth</th>\n",
       "      <th>segments</th>\n",
       "      <th>num_segments</th>\n",
       "      <th>num_in_neighbors</th>\n",
       "      <th>num_out_neighbors</th>\n",
       "      <th>complexity</th>\n",
       "      <th>clust</th>\n",
       "      <th>complexity_ratio</th>\n",
       "    </tr>\n",
       "    <tr>\n",
       "      <th>vertex</th>\n",
       "      <th></th>\n",
       "      <th></th>\n",
       "      <th></th>\n",
       "      <th></th>\n",
       "      <th></th>\n",
       "      <th></th>\n",
       "      <th></th>\n",
       "      <th></th>\n",
       "      <th></th>\n",
       "      <th></th>\n",
       "      <th></th>\n",
       "    </tr>\n",
       "  </thead>\n",
       "  <tbody>\n",
       "    <tr>\n",
       "      <th>230176</th>\n",
       "      <td>()</td>\n",
       "      <td>()</td>\n",
       "      <td>109294</td>\n",
       "      <td>3.662796</td>\n",
       "      <td>(131493+, 107198-, 138458+)</td>\n",
       "      <td>3</td>\n",
       "      <td>0</td>\n",
       "      <td>0</td>\n",
       "      <td>8.000000</td>\n",
       "      <td>357</td>\n",
       "      <td>2.666667</td>\n",
       "    </tr>\n",
       "    <tr>\n",
       "      <th>226231</th>\n",
       "      <td>(219985)</td>\n",
       "      <td>(231392, 233324)</td>\n",
       "      <td>115448</td>\n",
       "      <td>7.006797</td>\n",
       "      <td>(17542-, 17540-, 93317-, 171819-)</td>\n",
       "      <td>4</td>\n",
       "      <td>1</td>\n",
       "      <td>2</td>\n",
       "      <td>7.141428</td>\n",
       "      <td>164</td>\n",
       "      <td>1.785357</td>\n",
       "    </tr>\n",
       "    <tr>\n",
       "      <th>225938</th>\n",
       "      <td>()</td>\n",
       "      <td>(223720)</td>\n",
       "      <td>101815</td>\n",
       "      <td>2.692700</td>\n",
       "      <td>(128864-, 128544+, 146747+, 2600+, 49034+, 682...</td>\n",
       "      <td>9</td>\n",
       "      <td>0</td>\n",
       "      <td>1</td>\n",
       "      <td>11.874342</td>\n",
       "      <td>140</td>\n",
       "      <td>1.319371</td>\n",
       "    </tr>\n",
       "    <tr>\n",
       "      <th>225745</th>\n",
       "      <td>(221708)</td>\n",
       "      <td>()</td>\n",
       "      <td>101815</td>\n",
       "      <td>2.692700</td>\n",
       "      <td>(23711-, 1068-, 143775+, 6823+, 49034-, 2600-,...</td>\n",
       "      <td>9</td>\n",
       "      <td>1</td>\n",
       "      <td>0</td>\n",
       "      <td>11.874342</td>\n",
       "      <td>140</td>\n",
       "      <td>1.319371</td>\n",
       "    </tr>\n",
       "    <tr>\n",
       "      <th>229424</th>\n",
       "      <td>(13415)</td>\n",
       "      <td>()</td>\n",
       "      <td>308894</td>\n",
       "      <td>4.447003</td>\n",
       "      <td>(197535+, 92138-, 156743-, 156600+)</td>\n",
       "      <td>4</td>\n",
       "      <td>1</td>\n",
       "      <td>0</td>\n",
       "      <td>5.099020</td>\n",
       "      <td>1326</td>\n",
       "      <td>1.274755</td>\n",
       "    </tr>\n",
       "    <tr>\n",
       "      <th>232490</th>\n",
       "      <td>(225509)</td>\n",
       "      <td>(228460, 233548)</td>\n",
       "      <td>111926</td>\n",
       "      <td>14.423133</td>\n",
       "      <td>(13773+, 138813-, 50011-, 21344+, 21343-, 1588...</td>\n",
       "      <td>7</td>\n",
       "      <td>1</td>\n",
       "      <td>2</td>\n",
       "      <td>8.888194</td>\n",
       "      <td>360</td>\n",
       "      <td>1.269742</td>\n",
       "    </tr>\n",
       "    <tr>\n",
       "      <th>233270</th>\n",
       "      <td>(225610)</td>\n",
       "      <td>(225610)</td>\n",
       "      <td>269905</td>\n",
       "      <td>5.139615</td>\n",
       "      <td>(15277-, 15281+, 104109+, 193280+, 127904+, 12...</td>\n",
       "      <td>6</td>\n",
       "      <td>1</td>\n",
       "      <td>1</td>\n",
       "      <td>7.483315</td>\n",
       "      <td>473</td>\n",
       "      <td>1.247219</td>\n",
       "    </tr>\n",
       "    <tr>\n",
       "      <th>232636</th>\n",
       "      <td>(225610)</td>\n",
       "      <td>(3026)</td>\n",
       "      <td>102188</td>\n",
       "      <td>6.157284</td>\n",
       "      <td>(15277-, 15281+, 104109+, 77848+, 77543-, 15280-)</td>\n",
       "      <td>6</td>\n",
       "      <td>1</td>\n",
       "      <td>1</td>\n",
       "      <td>7.483315</td>\n",
       "      <td>473</td>\n",
       "      <td>1.247219</td>\n",
       "    </tr>\n",
       "    <tr>\n",
       "      <th>233095</th>\n",
       "      <td>(225610)</td>\n",
       "      <td>()</td>\n",
       "      <td>123765</td>\n",
       "      <td>6.499068</td>\n",
       "      <td>(15277-, 15281+, 15278+, 104447+, 101228-, 181...</td>\n",
       "      <td>6</td>\n",
       "      <td>1</td>\n",
       "      <td>0</td>\n",
       "      <td>7.211103</td>\n",
       "      <td>473</td>\n",
       "      <td>1.201850</td>\n",
       "    </tr>\n",
       "    <tr>\n",
       "      <th>229255</th>\n",
       "      <td>()</td>\n",
       "      <td>(226186, 226125)</td>\n",
       "      <td>100355</td>\n",
       "      <td>3.428346</td>\n",
       "      <td>(141421+, 141114-, 110690-)</td>\n",
       "      <td>3</td>\n",
       "      <td>0</td>\n",
       "      <td>2</td>\n",
       "      <td>3.605551</td>\n",
       "      <td>96</td>\n",
       "      <td>1.201850</td>\n",
       "    </tr>\n",
       "  </tbody>\n",
       "</table>\n",
       "</div>"
      ],
      "text/plain": [
       "       in_neighbors     out_neighbors  length  total_depth  \\\n",
       "vertex                                                       \n",
       "230176           ()                ()  109294     3.662796   \n",
       "226231     (219985)  (231392, 233324)  115448     7.006797   \n",
       "225938           ()          (223720)  101815     2.692700   \n",
       "225745     (221708)                ()  101815     2.692700   \n",
       "229424      (13415)                ()  308894     4.447003   \n",
       "232490     (225509)  (228460, 233548)  111926    14.423133   \n",
       "233270     (225610)          (225610)  269905     5.139615   \n",
       "232636     (225610)            (3026)  102188     6.157284   \n",
       "233095     (225610)                ()  123765     6.499068   \n",
       "229255           ()  (226186, 226125)  100355     3.428346   \n",
       "\n",
       "                                                 segments  num_segments  \\\n",
       "vertex                                                                    \n",
       "230176                        (131493+, 107198-, 138458+)             3   \n",
       "226231                  (17542-, 17540-, 93317-, 171819-)             4   \n",
       "225938  (128864-, 128544+, 146747+, 2600+, 49034+, 682...             9   \n",
       "225745  (23711-, 1068-, 143775+, 6823+, 49034-, 2600-,...             9   \n",
       "229424                (197535+, 92138-, 156743-, 156600+)             4   \n",
       "232490  (13773+, 138813-, 50011-, 21344+, 21343-, 1588...             7   \n",
       "233270  (15277-, 15281+, 104109+, 193280+, 127904+, 12...             6   \n",
       "232636  (15277-, 15281+, 104109+, 77848+, 77543-, 15280-)             6   \n",
       "233095  (15277-, 15281+, 15278+, 104447+, 101228-, 181...             6   \n",
       "229255                        (141421+, 141114-, 110690-)             3   \n",
       "\n",
       "        num_in_neighbors  num_out_neighbors  complexity  clust  \\\n",
       "vertex                                                           \n",
       "230176                 0                  0    8.000000    357   \n",
       "226231                 1                  2    7.141428    164   \n",
       "225938                 0                  1   11.874342    140   \n",
       "225745                 1                  0   11.874342    140   \n",
       "229424                 1                  0    5.099020   1326   \n",
       "232490                 1                  2    8.888194    360   \n",
       "233270                 1                  1    7.483315    473   \n",
       "232636                 1                  1    7.483315    473   \n",
       "233095                 1                  0    7.211103    473   \n",
       "229255                 0                  2    3.605551     96   \n",
       "\n",
       "        complexity_ratio  \n",
       "vertex                    \n",
       "230176          2.666667  \n",
       "226231          1.785357  \n",
       "225938          1.319371  \n",
       "225745          1.319371  \n",
       "229424          1.274755  \n",
       "232490          1.269742  \n",
       "233270          1.247219  \n",
       "232636          1.247219  \n",
       "233095          1.201850  \n",
       "229255          1.201850  "
      ]
     },
     "execution_count": 52,
     "metadata": {},
     "output_type": "execute_result"
    }
   ],
   "source": [
    "final_results.assign(complexity_ratio=lambda x: x.complexity / x.num_segments)[\n",
    "    lambda x: x.length > 100000\n",
    "].sort_values(\"complexity_ratio\", ascending=False).head(10)"
   ]
  },
  {
   "cell_type": "raw",
   "id": "012fcba2-43bd-41e3-8603-945d913bf188",
   "metadata": {},
   "source": [
    "plt.scatter('num_segments', 'complexity', c='length', s='length_trsfm', data=final_results.assign(length_trsfm=lambda x: np.log10(x.length) * 2).sort_values('length'), norm=mpl.colors.SymLogNorm(linthresh=1000))\n",
    "plt.yscale('log')\n",
    "plt.xscale('log')\n",
    "plt.colorbar()"
   ]
  },
  {
   "cell_type": "raw",
   "id": "1b83770a-fa2d-449d-8093-e385fbcfee18",
   "metadata": {},
   "source": [
    "final_results[lambda x: (x.num_segments > 1e2) & (x.complexity > 10) & (x.length > 1e5) & (x.total_depth < 100)]"
   ]
  },
  {
   "cell_type": "raw",
   "id": "6126b907-c0f2-4fce-acce-9e617d5675a2",
   "metadata": {},
   "source": [
    "final_results.assign(complexity_ratio=lambda x: x.complexity / np.log10(x.num_segments + 1)).sort_values(['complexity_ratio'], ascending=False).head(1000).tail(50)"
   ]
  },
  {
   "cell_type": "raw",
   "id": "5a02ca07-c32d-414d-8e36-028197e230d7",
   "metadata": {},
   "source": [
    "final_results[final_results.apply(lambda x: len(set(x.in_neighbors) & set(x.out_neighbors)) > 0, axis=1)].sort_values('length', ascending=False).head(50)"
   ]
  },
  {
   "cell_type": "raw",
   "id": "91da973c-7889-487c-985f-80d95d956c05",
   "metadata": {},
   "source": [
    "final_results.assign(weight=lambda x: x.length**2 * x.total_depth * x.num_segments).sort_values('weight', ascending=False).head()"
   ]
  },
  {
   "cell_type": "code",
   "execution_count": null,
   "id": "a8358c55-5c37-4490-af53-7a8500ab8fe5",
   "metadata": {
    "tags": []
   },
   "outputs": [],
   "source": [
    "final_results.segments.explode().value_counts().head()"
   ]
  },
  {
   "cell_type": "raw",
   "id": "731c4e96-4745-415c-b729-3c0261d9d6b2",
   "metadata": {},
   "source": [
    "unpressed_results[lambda x: (x.num_in_neighbors == 2) & (x.num_out_neighbors == 2)].sort_values('length', ascending=False).head(20)"
   ]
  },
  {
   "cell_type": "raw",
   "id": "d9746306-0cb4-4523-82da-256815ed5355",
   "metadata": {},
   "source": [
    "for v in unpressed_results[lambda x: (x.num_in_neighbors == 2) & (x.num_out_neighbors == 2)].head(15).index:\n",
    "    ss = unpressed_results.loc[v].segments\n",
    "    print(ss, final_results.loc[sz.results.iter_find_vertices_with_any_segment(final_graph, ss)].num_segments)"
   ]
  },
  {
   "cell_type": "code",
   "execution_count": null,
   "id": "97cfe2b3-5919-477a-8a4f-c282c3e8283a",
   "metadata": {
    "tags": []
   },
   "outputs": [],
   "source": [
    "# Use this to find tigs of interest.\n",
    "# WORKHERE\n",
    "\n",
    "final_results.loc[\n",
    "    sz.results.iter_find_vertices_with_any_segment(final_graph, [\"131889+\"])\n",
    "].sort_values([\"num_segments\", \"total_depth\"], ascending=False)"
   ]
  },
  {
   "cell_type": "code",
   "execution_count": 47,
   "id": "358b9cf7-3bb4-4bc7-be11-66f6b49863e2",
   "metadata": {
    "execution": {
     "iopub.execute_input": "2024-08-14T23:05:33.805193Z",
     "iopub.status.busy": "2024-08-14T23:05:33.804855Z",
     "iopub.status.idle": "2024-08-14T23:05:35.035274Z",
     "shell.execute_reply": "2024-08-14T23:05:35.034746Z",
     "shell.execute_reply.started": "2024-08-14T23:05:33.805170Z"
    },
    "tags": []
   },
   "outputs": [
    {
     "name": "stdout",
     "output_type": "stream",
     "text": [
      "6 205\n",
      "<GraphView object, directed, with 205 vertices and 226 edges, 4 internal vertex properties, 2 internal graph properties, edges filtered by (<EdgePropertyMap object with value type 'bool', for Graph 0x7f914ada06b0, at 0x7f914a023b00>, False), vertices filtered by (<VertexPropertyMap object with value type 'bool', for Graph 0x7f914ada06b0, at 0x7f914b553020>, False), at 0x7f914ada06b0>\n"
     ]
    },
    {
     "data": {
      "text/html": [
       "<div>\n",
       "<style scoped>\n",
       "    .dataframe tbody tr th:only-of-type {\n",
       "        vertical-align: middle;\n",
       "    }\n",
       "\n",
       "    .dataframe tbody tr th {\n",
       "        vertical-align: top;\n",
       "    }\n",
       "\n",
       "    .dataframe thead th {\n",
       "        text-align: right;\n",
       "    }\n",
       "</style>\n",
       "<table border=\"1\" class=\"dataframe\">\n",
       "  <thead>\n",
       "    <tr style=\"text-align: right;\">\n",
       "      <th></th>\n",
       "      <th>in_neighbors</th>\n",
       "      <th>out_neighbors</th>\n",
       "      <th>length</th>\n",
       "      <th>total_depth</th>\n",
       "      <th>segments</th>\n",
       "      <th>num_segments</th>\n",
       "      <th>num_in_neighbors</th>\n",
       "      <th>num_out_neighbors</th>\n",
       "      <th>complexity</th>\n",
       "      <th>clust</th>\n",
       "    </tr>\n",
       "    <tr>\n",
       "      <th>vertex</th>\n",
       "      <th></th>\n",
       "      <th></th>\n",
       "      <th></th>\n",
       "      <th></th>\n",
       "      <th></th>\n",
       "      <th></th>\n",
       "      <th></th>\n",
       "      <th></th>\n",
       "      <th></th>\n",
       "      <th></th>\n",
       "    </tr>\n",
       "  </thead>\n",
       "  <tbody>\n",
       "    <tr>\n",
       "      <th>238595</th>\n",
       "      <td>(216896)</td>\n",
       "      <td>(5586)</td>\n",
       "      <td>59296</td>\n",
       "      <td>2.343525</td>\n",
       "      <td>(110055+, 110144+, 69227+, 156467+, 30484+, 30...</td>\n",
       "      <td>111</td>\n",
       "      <td>1</td>\n",
       "      <td>1</td>\n",
       "      <td>14.035669</td>\n",
       "      <td>423</td>\n",
       "    </tr>\n",
       "    <tr>\n",
       "      <th>237948</th>\n",
       "      <td>(216896)</td>\n",
       "      <td>(3602)</td>\n",
       "      <td>59064</td>\n",
       "      <td>2.421888</td>\n",
       "      <td>(110055+, 110144+, 69227+, 156467+, 30484+, 30...</td>\n",
       "      <td>101</td>\n",
       "      <td>1</td>\n",
       "      <td>1</td>\n",
       "      <td>13.601471</td>\n",
       "      <td>1200</td>\n",
       "    </tr>\n",
       "    <tr>\n",
       "      <th>234210</th>\n",
       "      <td>(216896)</td>\n",
       "      <td>(235944, 237490)</td>\n",
       "      <td>58837</td>\n",
       "      <td>341.595045</td>\n",
       "      <td>(110055+, 110144+, 69227+, 156467+, 30484+, 30...</td>\n",
       "      <td>91</td>\n",
       "      <td>1</td>\n",
       "      <td>2</td>\n",
       "      <td>11.180340</td>\n",
       "      <td>91</td>\n",
       "    </tr>\n",
       "    <tr>\n",
       "      <th>226374</th>\n",
       "      <td>(216896)</td>\n",
       "      <td>(10621)</td>\n",
       "      <td>58915</td>\n",
       "      <td>5.175310</td>\n",
       "      <td>(110005-, 110144+, 69227+, 156467+, 156435-, 3...</td>\n",
       "      <td>88</td>\n",
       "      <td>1</td>\n",
       "      <td>1</td>\n",
       "      <td>11.224972</td>\n",
       "      <td>91</td>\n",
       "    </tr>\n",
       "    <tr>\n",
       "      <th>235431</th>\n",
       "      <td>()</td>\n",
       "      <td>()</td>\n",
       "      <td>98020</td>\n",
       "      <td>50.932801</td>\n",
       "      <td>(150399-, 91771-, 90403-, 159342+, 169502-, 14...</td>\n",
       "      <td>33</td>\n",
       "      <td>0</td>\n",
       "      <td>0</td>\n",
       "      <td>10.583005</td>\n",
       "      <td>291</td>\n",
       "    </tr>\n",
       "    <tr>\n",
       "      <th>237051</th>\n",
       "      <td>(230060)</td>\n",
       "      <td>(236944, 236777, 236780, 237430)</td>\n",
       "      <td>101012</td>\n",
       "      <td>4.633920</td>\n",
       "      <td>(369-, 368-, 366+, 79173+, 151674+, 197290+, 1...</td>\n",
       "      <td>30</td>\n",
       "      <td>1</td>\n",
       "      <td>4</td>\n",
       "      <td>8.717798</td>\n",
       "      <td>462</td>\n",
       "    </tr>\n",
       "  </tbody>\n",
       "</table>\n",
       "</div>"
      ],
      "text/plain": [
       "       in_neighbors                     out_neighbors  length  total_depth  \\\n",
       "vertex                                                                       \n",
       "238595     (216896)                            (5586)   59296     2.343525   \n",
       "237948     (216896)                            (3602)   59064     2.421888   \n",
       "234210     (216896)                  (235944, 237490)   58837   341.595045   \n",
       "226374     (216896)                           (10621)   58915     5.175310   \n",
       "235431           ()                                ()   98020    50.932801   \n",
       "237051     (230060)  (236944, 236777, 236780, 237430)  101012     4.633920   \n",
       "\n",
       "                                                 segments  num_segments  \\\n",
       "vertex                                                                    \n",
       "238595  (110055+, 110144+, 69227+, 156467+, 30484+, 30...           111   \n",
       "237948  (110055+, 110144+, 69227+, 156467+, 30484+, 30...           101   \n",
       "234210  (110055+, 110144+, 69227+, 156467+, 30484+, 30...            91   \n",
       "226374  (110005-, 110144+, 69227+, 156467+, 156435-, 3...            88   \n",
       "235431  (150399-, 91771-, 90403-, 159342+, 169502-, 14...            33   \n",
       "237051  (369-, 368-, 366+, 79173+, 151674+, 197290+, 1...            30   \n",
       "\n",
       "        num_in_neighbors  num_out_neighbors  complexity  clust  \n",
       "vertex                                                          \n",
       "238595                 1                  1   14.035669    423  \n",
       "237948                 1                  1   13.601471   1200  \n",
       "234210                 1                  2   11.180340     91  \n",
       "226374                 1                  1   11.224972     91  \n",
       "235431                 0                  0   10.583005    291  \n",
       "237051                 1                  4    8.717798    462  "
      ]
     },
     "execution_count": 47,
     "metadata": {},
     "output_type": "execute_result"
    }
   ],
   "source": [
    "# Select paths that share any vertices with a given path.\n",
    "focal_path = 234210\n",
    "focal_segments = list(set(final_results.loc[focal_path].segments))\n",
    "related_paths = list(\n",
    "    sz.results.iter_find_vertices_with_any_segment(\n",
    "        final_graph, final_results.loc[focal_path].segments\n",
    "    )\n",
    ")\n",
    "\n",
    "# # Select paths going through a single segment\n",
    "# focal_segments = ['1668157+'] # Single focal segment\n",
    "# related_paths = list(sz.results.iter_find_vertices_with_any_segment(final_graph, focal_segments))\n",
    "\n",
    "related_segments = list(set(chain(*final_results.loc[related_paths].segments)))\n",
    "print(len(related_paths), len(related_segments))\n",
    "\n",
    "# unpressed_graph_focal_vertices = list(sz.results.iter_find_vertices_with_any_segment(unpressed_graph, focal_segments))\n",
    "unpressed_graph_core_vertices = list(\n",
    "    sz.results.iter_find_vertices_with_any_segment(unpressed_graph, related_segments)\n",
    ")\n",
    "pressed_graph_core_vertices = list(\n",
    "    sz.results.iter_find_vertices_with_any_segment(notips_graph, related_segments)\n",
    ")\n",
    "\n",
    "# in_path = unpressed_graph.new_vertex_property('bool', vals=pd.Series(unpressed_graph.get_vertices()).isin(unpressed_graph_focal_vertices).values)\n",
    "# path_graph = gt.GraphView(unpressed_graph, vfilt=in_path)\n",
    "# print(path_graph)\n",
    "\n",
    "in_core = unpressed_graph.new_vertex_property(\n",
    "    \"bool\",\n",
    "    vals=pd.Series(unpressed_graph.get_vertices())\n",
    "    .isin(unpressed_graph_core_vertices)\n",
    "    .values,\n",
    ")\n",
    "core_graph = gt.GraphView(unpressed_graph, vfilt=in_core)\n",
    "print(core_graph)\n",
    "\n",
    "# in_core_pressed = notips_graph.new_vertex_property('bool', vals=pd.Series(notips_graph.get_vertices()).isin(pressed_graph_core_vertices).values)\n",
    "# core_graph_pressed = gt.GraphView(notips_graph, vfilt=in_core_pressed)\n",
    "# print(core_graph_pressed)\n",
    "\n",
    "final_results.loc[related_paths].sort_values(\"num_segments\", ascending=False)"
   ]
  },
  {
   "cell_type": "code",
   "execution_count": 48,
   "id": "96546e00-5db8-499b-b12e-4ce55b83b56a",
   "metadata": {
    "execution": {
     "iopub.execute_input": "2024-08-14T23:05:38.296544Z",
     "iopub.status.busy": "2024-08-14T23:05:38.296216Z",
     "iopub.status.idle": "2024-08-14T23:05:39.998219Z",
     "shell.execute_reply": "2024-08-14T23:05:39.997554Z",
     "shell.execute_reply.started": "2024-08-14T23:05:38.296518Z"
    }
   },
   "outputs": [
    {
     "name": "stdout",
     "output_type": "stream",
     "text": [
      "CPU times: user 1.27 s, sys: 281 ms, total: 1.55 s\n",
      "Wall time: 1.69 s\n"
     ]
    }
   ],
   "source": [
    "%%time\n",
    "unpressed_graph_distance_to_core = sz.topology.get_shortest_distance_to_any_vertex(\n",
    "    unpressed_graph, unpressed_graph_core_vertices, unpressed_graph.vp[\"length\"]\n",
    ")"
   ]
  },
  {
   "cell_type": "code",
   "execution_count": 49,
   "id": "829081c1-b257-4f06-8a1d-213eaad704f2",
   "metadata": {
    "execution": {
     "iopub.execute_input": "2024-08-14T23:05:41.181009Z",
     "iopub.status.busy": "2024-08-14T23:05:41.180563Z",
     "iopub.status.idle": "2024-08-14T23:05:41.211149Z",
     "shell.execute_reply": "2024-08-14T23:05:41.210527Z",
     "shell.execute_reply.started": "2024-08-14T23:05:41.180986Z"
    }
   },
   "outputs": [
    {
     "data": {
      "text/plain": [
       "<GraphView object, directed, with 367 vertices and 440 edges, 4 internal vertex properties, 2 internal graph properties, edges filtered by (<EdgePropertyMap object with value type 'bool', for Graph 0x7f914ac25a00, at 0x7f91468b21b0>, False), vertices filtered by (<VertexPropertyMap object with value type 'bool', for Graph 0x7f914ac25a00, at 0x7f91468b2ea0>, False), at 0x7f914ac25a00>"
      ]
     },
     "execution_count": 49,
     "metadata": {},
     "output_type": "execute_result"
    }
   ],
   "source": [
    "radius = 10\n",
    "\n",
    "in_neighborhood = unpressed_graph.new_vertex_property(\n",
    "    \"bool\", vals=unpressed_graph_distance_to_core.a <= radius\n",
    ")\n",
    "neighborhood_graph = gt.GraphView(unpressed_graph, vfilt=in_neighborhood)\n",
    "neighborhood_graph"
   ]
  },
  {
   "cell_type": "code",
   "execution_count": 53,
   "id": "f603e2a4-e84d-4c01-912c-eee966a3bf20",
   "metadata": {
    "execution": {
     "iopub.execute_input": "2024-08-14T23:06:34.263577Z",
     "iopub.status.busy": "2024-08-14T23:06:34.263362Z",
     "iopub.status.idle": "2024-08-14T23:06:36.305089Z",
     "shell.execute_reply": "2024-08-14T23:06:36.304618Z",
     "shell.execute_reply.started": "2024-08-14T23:06:34.263561Z"
    }
   },
   "outputs": [
    {
     "name": "stdout",
     "output_type": "stream",
     "text": [
      "fig/group/xjin_test2/r.proc.ggcat-k111-withmegahit2-droptips.notips-2.smoothed-6.unzip-norm-10-10.d/neighborhood-234210.length.pdf\n",
      "fig/group/xjin_test2/r.proc.ggcat-k111-withmegahit2-droptips.notips-2.smoothed-6.unzip-norm-10-10.d/neighborhood-234210.segment.pdf\n"
     ]
    }
   ],
   "source": [
    "# sample_for_depth = 118\n",
    "\n",
    "_graph = gt.Graph(neighborhood_graph, prune=True)\n",
    "# _graph = gt.Graph(core_graph_pressed, prune=True)\n",
    "# _graph = gt.Graph(path_graph, prune=True)\n",
    "# _graph = gt.Graph(neighborhood_graph_final, prune=True)\n",
    "\n",
    "gt.seed_rng(1)\n",
    "np.random.seed(2)\n",
    "sz.draw.update_xypositions(\n",
    "    _graph, layout=gt.draw.random_layout, shape=(10, 10)\n",
    ")  # NOTE: This allows for reproducible layouts.\n",
    "sz.draw.update_xypositions(_graph, layout=gt.draw.sfdp_layout, p=1.4, K=1)\n",
    "\n",
    "\n",
    "_offset = 1  # Controls color range of nodes.\n",
    "vertex_color = _graph.new_vertex_property(\n",
    "    \"float\", vals=np.sqrt(sz.results.total_depth_property(_graph).a + _offset)\n",
    ")\n",
    "# vertex_color = _graph.new_vertex_property('float', vals=np.sqrt(_graph.vp['depth'].get_2d_array(pos=[sample_for_depth]) + _offset))\n",
    "\n",
    "\n",
    "outpath = f\"{fig_dir}/neighborhood-{focal_path}.length.pdf\"\n",
    "sz.draw.draw_graph(\n",
    "    _graph,\n",
    "    # vertex_text=_graph.vp['sequence'],\n",
    "    vertex_text=_graph.vp[\"length\"],\n",
    "    # vertex_text='',\n",
    "    # vertex_halo=in_path,\n",
    "    vertex_font_size=5,\n",
    "    vertex_fill_color=vertex_color,\n",
    "    # edge_pen_width=15,\n",
    "    output=outpath,\n",
    "    vcmap=(mpl.cm.magma, 1),\n",
    "    output_size=(1600, 1600),\n",
    ")\n",
    "print(outpath)\n",
    "\n",
    "outpath = f\"{fig_dir}/neighborhood-{focal_path}.segment.pdf\"\n",
    "sz.draw.draw_graph(\n",
    "    _graph,\n",
    "    vertex_text=_graph.vp[\"sequence\"],\n",
    "    # vertex_text=_graph.vp['length'],\n",
    "    # vertex_text='',\n",
    "    # vertex_halo=in_path,\n",
    "    vertex_font_size=5,\n",
    "    vertex_fill_color=vertex_color,\n",
    "    # edge_pen_width=15,\n",
    "    output=outpath,\n",
    "    vcmap=(mpl.cm.magma, 1),\n",
    "    output_size=(1600, 1600),\n",
    ")\n",
    "print(outpath)"
   ]
  },
  {
   "cell_type": "code",
   "execution_count": 75,
   "id": "f5384784-77f9-45e4-b597-0da760c48d45",
   "metadata": {
    "execution": {
     "iopub.execute_input": "2024-08-14T23:19:27.576793Z",
     "iopub.status.busy": "2024-08-14T23:19:27.576506Z",
     "iopub.status.idle": "2024-08-14T23:19:27.894463Z",
     "shell.execute_reply": "2024-08-14T23:19:27.893996Z",
     "shell.execute_reply.started": "2024-08-14T23:19:27.576769Z"
    }
   },
   "outputs": [
    {
     "name": "stdout",
     "output_type": "stream",
     "text": [
      "127\n",
      "fig/group/xjin_test2/r.proc.ggcat-k111-withmegahit2-droptips.notips-2.smoothed-6.unzip-norm-10-10.d/neighborhood-234210.prophage.pdf\n",
      "5\n",
      "fig/group/xjin_test2/r.proc.ggcat-k111-withmegahit2-droptips.notips-2.smoothed-6.unzip-norm-10-10.d/neighborhood-234210.amr.pdf\n"
     ]
    }
   ],
   "source": [
    "# Phage\n",
    "_vertices = list(\n",
    "    sz.results.iter_find_vertices_with_any_segment(\n",
    "        _graph, [u + \"+\" for u in prophage_unitig] + [u + \"-\" for u in prophage_unitig]\n",
    "    )\n",
    ")\n",
    "print(len(_vertices))\n",
    "in_set = _graph.new_vertex_property(\"bool\", val=False)\n",
    "in_set.a[_vertices] = 1\n",
    "\n",
    "outpath = f\"{fig_dir}/neighborhood-{focal_path}.prophage.pdf\"\n",
    "sz.draw.draw_graph(\n",
    "    _graph,\n",
    "    # vertex_text=_graph.vp['sequence'],\n",
    "    # vertex_text=_graph.vp['length'],\n",
    "    vertex_text=\"\",\n",
    "    vertex_halo=in_set,\n",
    "    vorder=in_set.transform(lambda x: x.astype(float)),\n",
    "    vertex_font_size=5,\n",
    "    vertex_fill_color=vertex_color,\n",
    "    # edge_pen_width=10,\n",
    "    output=outpath,\n",
    "    vcmap=(mpl.cm.magma, 1),\n",
    "    output_size=(400, 400),\n",
    ")\n",
    "print(outpath)\n",
    "\n",
    "# Phage\n",
    "_vertices = list(\n",
    "    sz.results.iter_find_vertices_with_any_segment(\n",
    "        _graph, [u + \"+\" for u in amr_unitig] + [u + \"-\" for u in amr_unitig]\n",
    "    )\n",
    ")\n",
    "print(len(_vertices))\n",
    "in_set = _graph.new_vertex_property(\"bool\", val=False)\n",
    "in_set.a[_vertices] = 1\n",
    "\n",
    "outpath = f\"{fig_dir}/neighborhood-{focal_path}.amr.pdf\"\n",
    "sz.draw.draw_graph(\n",
    "    _graph,\n",
    "    # vertex_text=_graph.vp['sequence'],\n",
    "    # vertex_text=_graph.vp['length'],\n",
    "    vertex_text=\"\",\n",
    "    vertex_halo=in_set,\n",
    "    vorder=in_set.transform(lambda x: x.astype(float)),\n",
    "    vertex_font_size=5,\n",
    "    vertex_fill_color=vertex_color,\n",
    "    # edge_pen_width=10,\n",
    "    output=outpath,\n",
    "    vcmap=(mpl.cm.magma, 1),\n",
    "    output_size=(400, 400),\n",
    ")\n",
    "print(outpath)"
   ]
  },
  {
   "cell_type": "code",
   "execution_count": 76,
   "id": "017f8ffa-edc0-4259-be7f-68e16cd61911",
   "metadata": {
    "execution": {
     "iopub.execute_input": "2024-08-14T23:20:39.850057Z",
     "iopub.status.busy": "2024-08-14T23:20:39.849561Z",
     "iopub.status.idle": "2024-08-14T23:20:41.495433Z",
     "shell.execute_reply": "2024-08-14T23:20:41.494814Z",
     "shell.execute_reply.started": "2024-08-14T23:20:39.850036Z"
    }
   },
   "outputs": [
    {
     "name": "stdout",
     "output_type": "stream",
     "text": [
      "111\n",
      "fig/group/xjin_test2/r.proc.ggcat-k111-withmegahit2-droptips.notips-2.smoothed-6.unzip-norm-10-10.d/neighborhood-234210.final.neighbor-238595.pdf\n",
      "101\n",
      "fig/group/xjin_test2/r.proc.ggcat-k111-withmegahit2-droptips.notips-2.smoothed-6.unzip-norm-10-10.d/neighborhood-234210.final.neighbor-237948.pdf\n",
      "91\n",
      "fig/group/xjin_test2/r.proc.ggcat-k111-withmegahit2-droptips.notips-2.smoothed-6.unzip-norm-10-10.d/neighborhood-234210.final.neighbor-234210.pdf\n",
      "88\n",
      "fig/group/xjin_test2/r.proc.ggcat-k111-withmegahit2-droptips.notips-2.smoothed-6.unzip-norm-10-10.d/neighborhood-234210.final.neighbor-226374.pdf\n",
      "33\n",
      "fig/group/xjin_test2/r.proc.ggcat-k111-withmegahit2-droptips.notips-2.smoothed-6.unzip-norm-10-10.d/neighborhood-234210.final.neighbor-235431.pdf\n",
      "30\n",
      "fig/group/xjin_test2/r.proc.ggcat-k111-withmegahit2-droptips.notips-2.smoothed-6.unzip-norm-10-10.d/neighborhood-234210.final.neighbor-237051.pdf\n"
     ]
    }
   ],
   "source": [
    "for path in list(\n",
    "    final_results.loc[related_paths]\n",
    "    .sort_values(\"num_segments\", ascending=False)\n",
    "    .head(6)\n",
    "    .index\n",
    "):\n",
    "    _vertices = list(\n",
    "        sz.results.iter_find_vertices_with_any_segment(\n",
    "            _graph, final_results.loc[path].segments\n",
    "        )\n",
    "    )\n",
    "    print(len(_vertices))\n",
    "    in_path = _graph.new_vertex_property(\"bool\", val=False)\n",
    "    in_path.a[_vertices] = 1\n",
    "    outpath = f\"{fig_dir}/neighborhood-{focal_path}.final.neighbor-{path}.pdf\"\n",
    "    sz.draw.draw_graph(\n",
    "        _graph,\n",
    "        # vertex_text=_graph.vp['sequence'],\n",
    "        # vertex_text=_graph.vp['length'],\n",
    "        vertex_text=\"\",\n",
    "        vertex_halo=in_path,\n",
    "        vorder=in_path.transform(lambda x: x.astype(float)),\n",
    "        vertex_font_size=5,\n",
    "        vertex_fill_color=vertex_color,\n",
    "        # edge_pen_width=10,\n",
    "        output=outpath,\n",
    "        vcmap=(mpl.cm.magma, 1),\n",
    "        output_size=(400, 400),\n",
    "    )\n",
    "    print(outpath)"
   ]
  },
  {
   "cell_type": "raw",
   "id": "8aa2553f-9437-454c-b2e9-bfd8d8843d4f",
   "metadata": {},
   "source": [
    "radius = 61000\n",
    "\n",
    "in_neighborhood = unpressed_graph.new_vertex_property('bool', vals=unpressed_graph_distance_to_core.a <= radius)\n",
    "neighborhood_graph = gt.GraphView(unpressed_graph, vfilt=in_neighborhood)\n",
    "neighborhood_graph"
   ]
  },
  {
   "cell_type": "raw",
   "id": "40d78b64-b23f-46da-b881-0760ee279234",
   "metadata": {},
   "source": [
    "# sample_for_depth = 118\n",
    "\n",
    "_graph = gt.Graph(neighborhood_graph, prune=True)\n",
    "# _graph = gt.Graph(core_graph_pressed, prune=True)\n",
    "# _graph = gt.Graph(path_graph, prune=True)\n",
    "# _graph = gt.Graph(neighborhood_graph_final, prune=True)\n",
    "\n",
    "gt.seed_rng(1)\n",
    "np.random.seed(2)\n",
    "sz.draw.update_xypositions(_graph, layout=gt.draw.random_layout, shape=(10, 10))  # NOTE: This allows for reproducible layouts.\n",
    "# sz.draw.update_xypositions(_graph, layout=gt.draw.sfdp_layout, p=1.4, K=1)\n",
    "sz.draw.update_xypositions(_graph, layout=gt.draw.sfdp_layout)\n",
    "\n",
    "\n",
    "_offset = 1  # Controls color range of nodes.\n",
    "vertex_color = _graph.new_vertex_property('float', vals=np.log(sz.results.total_depth_property(_graph).a + _offset))\n",
    "# vertex_color = _graph.new_vertex_property('float', vals=np.sqrt(_graph.vp['depth'].get_2d_array(pos=[sample_for_depth]) + _offset))\n",
    "\n",
    "\n",
    "outpath = f'{fig_dir}/region-{focal_path}.final.png'\n",
    "sz.draw.draw_graph(\n",
    "    _graph,\n",
    "    # vertex_text=_graph.vp['sequence'],\n",
    "    # vertex_text=_graph.vp['length'],\n",
    "    vertex_text='',\n",
    "    # vertex_halo=in_path,\n",
    "    # vertex_font_size=50,\n",
    "    vertex_size=20,\n",
    "    vertex_fill_color=vertex_color,\n",
    "    # edge_pen_width=15,\n",
    "    output=outpath,\n",
    "    vcmap=(mpl.cm.magma, 1),\n",
    "    output_size=(1500, 1500),\n",
    ")\n",
    "print(outpath)"
   ]
  },
  {
   "cell_type": "code",
   "execution_count": 77,
   "id": "6a576057-c3ae-4866-81e9-5f5bc5d8a0fd",
   "metadata": {
    "execution": {
     "iopub.execute_input": "2024-08-14T23:20:50.720726Z",
     "iopub.status.busy": "2024-08-14T23:20:50.720134Z",
     "iopub.status.idle": "2024-08-14T23:20:53.946125Z",
     "shell.execute_reply": "2024-08-14T23:20:53.945620Z",
     "shell.execute_reply.started": "2024-08-14T23:20:50.720692Z"
    },
    "tags": []
   },
   "outputs": [
    {
     "data": {
      "text/plain": [
       "<seaborn.matrix.ClusterGrid at 0x7f9147a4db20>"
      ]
     },
     "execution_count": 77,
     "metadata": {},
     "output_type": "execute_result"
    },
    {
     "data": {
      "image/png": "[encoded data removed]",
      "text/plain": [
       "<Figure size 300x300 with 5 Axes>"
      ]
     },
     "metadata": {},
     "output_type": "display_data"
    },
    {
     "data": {
      "image/png": "[encoded data removed]",
      "text/plain": [
       "<Figure size 300x300 with 5 Axes>"
      ]
     },
     "metadata": {},
     "output_type": "display_data"
    },
    {
     "data": {
      "image/png": "[encoded data removed]",
      "text/plain": [
       "<Figure size 1500x500 with 6 Axes>"
      ]
     },
     "metadata": {},
     "output_type": "display_data"
    },
    {
     "data": {
      "image/png": "[encoded data removed]",
      "text/plain": [
       "<Figure size 1500x500 with 5 Axes>"
      ]
     },
     "metadata": {},
     "output_type": "display_data"
    },
    {
     "data": {
      "image/png": "[encoded data removed]",
      "text/plain": [
       "<Figure size 1500x500 with 5 Axes>"
      ]
     },
     "metadata": {},
     "output_type": "display_data"
    },
    {
     "data": {
      "image/png": "[encoded data removed]",
      "text/plain": [
       "<Figure size 1500x500 with 5 Axes>"
      ]
     },
     "metadata": {},
     "output_type": "display_data"
    }
   ],
   "source": [
    "# # Select paths that share any vertices with a given path.\n",
    "# focal_segments = list(set(final_results.loc[focal_path].segments))\n",
    "# related_paths = list(sz.results.iter_find_vertices_with_any_segment(final_graph, final_results.loc[focal_path].segments))\n",
    "\n",
    "# # # Select paths going through a single segment\n",
    "# # focal_segments = ['1668157+'] # Single focal segment\n",
    "# # related_paths = list(sz.results.iter_find_vertices_with_any_segment(final_graph, focal_segments))\n",
    "\n",
    "# related_segments = list(set(chain(*final_results.loc[related_paths].segments)))\n",
    "# print(len(related_paths), len(related_segments))\n",
    "\n",
    "\n",
    "path_membership = (\n",
    "    final_results.loc[related_paths]\n",
    "    .segments.explode()\n",
    "    .reset_index()\n",
    "    .value_counts()\n",
    "    .unstack(fill_value=0)\n",
    ")\n",
    "_obs_segment_depth = obs_segment_depth.loc[path_membership.columns].T\n",
    "est_path_depth = vertex_depth.T[related_paths]\n",
    "pred_unitig_depth = final_segment_depth.loc[path_membership.columns].T\n",
    "resid_unitig_depth = _obs_segment_depth - pred_unitig_depth\n",
    "relative_resid_unitig_depth = resid_unitig_depth / (pred_unitig_depth + 1)\n",
    "_segment_length_colors = segment_length.loc[path_membership.columns].map(mpl.cm.viridis)\n",
    "\n",
    "max_obs = _obs_segment_depth.max().max()\n",
    "max_resid = np.abs(relative_resid_unitig_depth).max().max()\n",
    "\n",
    "\n",
    "clust_palette = lib.plot.construct_ordered_palette(\n",
    "    vertex_to_clust.loc[related_paths].values\n",
    ")\n",
    "clust_colors = vertex_to_clust.loc[related_paths].map(clust_palette)\n",
    "\n",
    "# unitig_linkage = fastcluster.linkage(_obs_segment_depth.T, metric='euclidean', method='average')\n",
    "unitig_linkage = fastcluster.linkage(\n",
    "    pred_unitig_depth.T, metric=\"cosine\", method=\"average\"\n",
    ")\n",
    "path_linkage = fastcluster.linkage(path_membership, metric=\"cosine\", method=\"average\")\n",
    "sample_linkage = fastcluster.linkage(\n",
    "    _obs_segment_depth, metric=\"euclidean\", method=\"average\"\n",
    ")\n",
    "\n",
    "sns.clustermap(\n",
    "    est_path_depth,\n",
    "    row_linkage=sample_linkage,\n",
    "    col_linkage=path_linkage,\n",
    "    col_colors=clust_colors,\n",
    "    yticklabels=0,\n",
    "    xticklabels=1,\n",
    "    figsize=(3, 3),\n",
    "    norm=mpl.colors.SymLogNorm(1e-1, vmin=0, vmax=max_obs),\n",
    ")\n",
    "sns.clustermap(\n",
    "    est_path_depth.T,\n",
    "    col_linkage=sample_linkage,\n",
    "    row_linkage=path_linkage,\n",
    "    row_colors=clust_colors,\n",
    "    xticklabels=0,\n",
    "    yticklabels=1,\n",
    "    figsize=(3, 3),\n",
    "    norm=mpl.colors.SymLogNorm(1e-1, vmin=0, vmax=max_obs),\n",
    ")\n",
    "sns.clustermap(\n",
    "    path_membership,\n",
    "    row_linkage=path_linkage,\n",
    "    col_linkage=unitig_linkage,\n",
    "    row_colors=clust_colors,\n",
    "    col_colors=_segment_length_colors,\n",
    "    figsize=(15, 5),\n",
    "    xticklabels=0,\n",
    "    norm=mpl.colors.SymLogNorm(1, vmin=0),\n",
    ")\n",
    "sns.clustermap(\n",
    "    _obs_segment_depth,\n",
    "    row_linkage=sample_linkage,\n",
    "    col_linkage=unitig_linkage,\n",
    "    col_colors=_segment_length_colors,\n",
    "    figsize=(15, 5),\n",
    "    norm=mpl.colors.SymLogNorm(1e-1, vmin=0, vmax=max_obs),\n",
    "    xticklabels=0,\n",
    ")\n",
    "sns.clustermap(\n",
    "    pred_unitig_depth,\n",
    "    row_linkage=sample_linkage,\n",
    "    col_linkage=unitig_linkage,\n",
    "    col_colors=_segment_length_colors,\n",
    "    figsize=(15, 5),\n",
    "    norm=mpl.colors.SymLogNorm(1e-1, vmin=0, vmax=max_obs),\n",
    "    xticklabels=0,\n",
    ")\n",
    "sns.clustermap(\n",
    "    relative_resid_unitig_depth,\n",
    "    row_linkage=sample_linkage,\n",
    "    col_linkage=unitig_linkage,\n",
    "    col_colors=_segment_length_colors,\n",
    "    figsize=(15, 5),\n",
    "    norm=mpl.colors.SymLogNorm(1e-1, vmin=-max_resid, vmax=max_resid),\n",
    "    cmap=\"coolwarm\",\n",
    "    xticklabels=0,\n",
    ")"
   ]
  },
  {
   "cell_type": "raw",
   "id": "e25ef981-b435-4dd1-8c9d-243075e970de",
   "metadata": {
    "tags": []
   },
   "source": [
    "# NOTE: This version has a subset of samples for easier visualization.\n",
    "\n",
    "np.random.seed(0)\n",
    "_sample_list = np.random.choice(obs_segment_depth.columns, size=10)\n",
    "\n",
    "path_membership = final_results.loc[related_paths].segments.explode().reset_index().value_counts().unstack(fill_value=0)\n",
    "_obs_segment_depth = obs_segment_depth.loc[path_membership.columns, _sample_list].T\n",
    "est_path_depth = vertex_depth.T[related_paths].loc[_sample_list]\n",
    "pred_unitig_depth = final_segment_depth.loc[path_membership.columns, _sample_list].T\n",
    "resid_unitig_depth = _obs_segment_depth - pred_unitig_depth\n",
    "relative_resid_unitig_depth = resid_unitig_depth / (pred_unitig_depth + 1)\n",
    "_segment_length_colors = segment_length.loc[path_membership.columns].map(mpl.cm.viridis)\n",
    "\n",
    "max_obs = _obs_segment_depth.max().max()\n",
    "max_resid = np.abs(relative_resid_unitig_depth).max().max()\n",
    "\n",
    "# unitig_linkage = fastcluster.linkage(_obs_segment_depth.T, metric='euclidean', method='average')\n",
    "unitig_linkage = fastcluster.linkage(path_membership.T, metric='cosine', method='average')\n",
    "path_linkage = fastcluster.linkage(path_membership, metric='cosine', method='average')\n",
    "sample_linkage = fastcluster.linkage(_obs_segment_depth, metric='euclidean', method='average')\n",
    "\n",
    "sns.clustermap(est_path_depth, row_linkage=sample_linkage, col_linkage=path_linkage, yticklabels=0, xticklabels=1, figsize=(3, 3), norm=mpl.colors.SymLogNorm(1e-1, vmin=0, vmax=max_obs))\n",
    "sns.clustermap(est_path_depth.T, col_linkage=sample_linkage, row_linkage=path_linkage, xticklabels=0, yticklabels=1, figsize=(3, 3), norm=mpl.colors.SymLogNorm(1e-1, vmin=0, vmax=max_obs))\n",
    "sns.clustermap(path_membership, row_linkage=path_linkage, col_linkage=unitig_linkage, col_colors=_segment_length_colors, figsize=(15, 5), xticklabels=0, norm=mpl.colors.SymLogNorm(1, vmin=0))\n",
    "sns.clustermap(_obs_segment_depth, row_linkage=sample_linkage, col_linkage=unitig_linkage, col_colors=_segment_length_colors, figsize=(15, 5), norm=mpl.colors.SymLogNorm(1e-1, vmin=0, vmax=max_obs), xticklabels=0)\n",
    "sns.clustermap(pred_unitig_depth, row_linkage=sample_linkage, col_linkage=unitig_linkage, col_colors=_segment_length_colors, figsize=(15, 5), norm=mpl.colors.SymLogNorm(1e-1, vmin=0, vmax=max_obs), xticklabels=0)\n",
    "sns.clustermap(relative_resid_unitig_depth, row_linkage=sample_linkage, col_linkage=unitig_linkage, col_colors=_segment_length_colors, figsize=(15, 5), norm=mpl.colors.SymLogNorm(1e-1, vmin=-max_resid, vmax=max_resid), cmap='coolwarm', xticklabels=0)"
   ]
  },
  {
   "cell_type": "code",
   "execution_count": null,
   "id": "82422573-4d13-4f3a-a802-50f00e0167d7",
   "metadata": {},
   "outputs": [],
   "source": [
    "_cross_correlation.loc[x_id].idxmax()"
   ]
  },
  {
   "cell_type": "code",
   "execution_count": null,
   "id": "9f4114cd-0acd-4c26-82bf-ff3465d5c74a",
   "metadata": {},
   "outputs": [],
   "source": [
    "path_order = [184977, 210689, 187913]\n",
    "_palette = {184977: \"dodgerblue\", 210689: \"limegreen\", 187913: \"hotpink\"}\n",
    "_rename_strain = {\n",
    "    \"Veillonella-sp-3-1-44\": \"Veillonella parvulla Strain A\",\n",
    "    \"Veillonella-sp-6-1-27\": \"Veillonella parvulla Strain B\",\n",
    "    \"Veillonella-dispar-ATCC-17748\": \"Veillonella dispar\",\n",
    "}\n",
    "\n",
    "x = normalized_vertex_depth.loc[path_order]\n",
    "y = kraken_rabund.T\n",
    "_cross_correlation = pd.DataFrame(\n",
    "    1 - sp.spatial.distance.cdist(x, y, metric=\"cosine\"), index=x.index, columns=y.index\n",
    ")\n",
    "\n",
    "\n",
    "fig, axs = lib.plot.subplots_grid(ncols=3, naxes=len(path_order), ax_height=3.5)\n",
    "\n",
    "for x_id, ax in zip(x.index, axs.flatten()):\n",
    "    y_id = _cross_correlation.loc[x_id].idxmax()\n",
    "    print(y_id)\n",
    "\n",
    "    max_val = max(x.loc[x_id].max(), y.loc[y_id].max())\n",
    "\n",
    "    ax.scatter(x.loc[x_id], y.loc[y_id], s=15, color=_palette[x_id])\n",
    "    ax.plot([0, 1], [0, 1], color=\"k\", linestyle=\"--\")\n",
    "    ax.set_xscale(\"symlog\", linthresh=1e-4, linscale=0.25)\n",
    "    ax.set_yscale(\"symlog\", linthresh=1e-4, linscale=0.25)\n",
    "    ax.set_xlabel(f\"Path {x_id}\")\n",
    "    ax.set_ylabel(_rename_strain[y_id], fontstyle=\"italic\")\n",
    "    ax.set_aspect(1)\n",
    "    ax.set_xticks([1e-4, 1e-3, 1e-2, 1e-1, 1e-0])\n",
    "    # ax.annotate('{:0.01e}'.format(clust_meta.loc[clust_id].total_length), xy=(0.6, 0.3), xycoords='axes fraction')\n",
    "    # cross_correlation.loc[strain_id].sort_values(ascending=False).head()\n",
    "\n",
    "fig.tight_layout()"
   ]
  },
  {
   "cell_type": "raw",
   "id": "026689b0-04e1-49db-8904-7e0e45a139aa",
   "metadata": {},
   "source": [
    "normalized_segment_depth = _obs_segment_depth.loc[:, lambda x: x.sum() < 1000].divide(_obs_segment_depth.sum(1), axis=0)\n",
    "sns.clustermap(normalized_segment_depth + 1e-5, metric='cosine', row_colors=_obs_segment_depth.sum(1).pipe(lambda x: x / x.max()).pipe(mpl.cm.viridis), norm=mpl.colors.PowerNorm(1/3))"
   ]
  },
  {
   "cell_type": "raw",
   "id": "6dc079ee-e3c4-42fc-ba03-905889182e69",
   "metadata": {},
   "source": [
    "print(_obs_segment_depth.shape, path_membership.shape)\n",
    "y = _obs_segment_depth.loc[0]\n",
    "x = path_membership.T\n",
    "print(y.shape, x.shape)"
   ]
  },
  {
   "cell_type": "raw",
   "id": "ad8e989f-0870-4fb3-9b8a-d1027f0dfba3",
   "metadata": {},
   "source": [
    "est_path_depth.head(20)"
   ]
  },
  {
   "cell_type": "raw",
   "id": "476937a3-1b83-4ec0-98f9-8e35f237fc41",
   "metadata": {},
   "source": [
    "from sklearn.linear_model import Lasso\n",
    "\n",
    "i = 8\n",
    "y = _obs_segment_depth.loc[i]\n",
    "x = path_membership.T\n",
    "\n",
    "lasso = Lasso(alpha=0.00001, fit_intercept=False, positive=True, max_iter=1000, tol=1e-5)\n",
    "fit = lasso.fit(path_membership.T, y)\n",
    "fit.coef_, print(est_path_depth.loc[i])"
   ]
  },
  {
   "cell_type": "code",
   "execution_count": null,
   "id": "7f7b1091-098c-40a1-b5af-19c1f7a230b4",
   "metadata": {},
   "outputs": [],
   "source": [
    "clust_depth = (\n",
    "    pd.read_table(\n",
    "        f\"data/group/{group}/r.proc.kmtricks-{kmtricks}.ggcat-{graph_type}.notips-2.smoothed-6.unzip-{deconv}.clust-{clust_params}.depth.tsv\"\n",
    "    )\n",
    "    .rename(columns={\"Unnamed: 0\": \"cluster\"})\n",
    "    .set_index(\"cluster\")\n",
    "    .T.rename(int)\n",
    ")\n",
    "sns.clustermap(\n",
    "    clust_depth.rename(sample_idx_to_id).loc[\n",
    "        :, idxwhere(clust_meta.total_length > 1_000_000)\n",
    "    ],\n",
    "    metric=\"cosine\",\n",
    "    norm=mpl.colors.SymLogNorm(1),\n",
    ")"
   ]
  },
  {
   "cell_type": "code",
   "execution_count": null,
   "id": "edb80bb8-fd43-4135-bd34-9dfa034d87bd",
   "metadata": {},
   "outputs": [],
   "source": [
    "clust_rabund = clust_depth.divide(marker_depth.sum(1), axis=0)\n",
    "\n",
    "sns.clustermap(\n",
    "    clust_rabund[idxwhere(clust_meta.total_length > 1_000_000)].rename(\n",
    "        sample_idx_to_id\n",
    "    ),\n",
    "    norm=mpl.colors.SymLogNorm(1e-5),\n",
    "    metric=\"cosine\",\n",
    ")"
   ]
  },
  {
   "cell_type": "code",
   "execution_count": null,
   "id": "d0e92073-56e1-415c-9ac1-99d54c370b47",
   "metadata": {},
   "outputs": [],
   "source": [
    "x = kraken_rabund\n",
    "y = clust_rabund[idxwhere(clust_meta.total_length > 2_000_000)].rename(sample_idx_to_id)\n",
    "\n",
    "x, y = x.align(y, join=\"inner\", axis=\"index\")\n",
    "\n",
    "cross_correlation = pd.DataFrame(\n",
    "    1 - sp.spatial.distance.cdist(x.T, y.T, metric=\"cosine\"),\n",
    "    index=x.columns,\n",
    "    columns=y.columns,\n",
    ")\n",
    "\n",
    "sns.clustermap(cross_correlation)"
   ]
  },
  {
   "cell_type": "code",
   "execution_count": null,
   "id": "2ff3aade-730f-4cd1-8e52-d88c497246df",
   "metadata": {},
   "outputs": [],
   "source": [
    "_strain_id_list = kraken_rabund.columns\n",
    "\n",
    "fig, axs = lib.plot.subplots_grid(ncols=5, naxes=len(_strain_id_list))\n",
    "\n",
    "for strain_id, ax in zip(_strain_id_list, axs.flatten()):\n",
    "    clust_id = cross_correlation.loc[strain_id].idxmax()\n",
    "\n",
    "    max_val = max(x[strain_id].max(), y[clust_id].max())\n",
    "\n",
    "    ax.scatter(x[strain_id], y[clust_id])\n",
    "    ax.plot([0, max_val], [0, max_val])\n",
    "    ax.set_xscale(\"symlog\", linthresh=1e-5)\n",
    "    ax.set_yscale(\"symlog\", linthresh=1e-5)\n",
    "    ax.set_xlabel(strain_id)\n",
    "    ax.set_ylabel(f\"bin {clust_id}\")\n",
    "    ax.set_aspect(1)\n",
    "    ax.annotate(\n",
    "        \"{:0.01e}\".format(clust_meta.loc[clust_id].total_length),\n",
    "        xy=(0.6, 0.3),\n",
    "        xycoords=\"axes fraction\",\n",
    "    )\n",
    "    # cross_correlation.loc[strain_id].sort_values(ascending=False).head()\n",
    "\n",
    "fig.tight_layout()"
   ]
  },
  {
   "cell_type": "code",
   "execution_count": null,
   "id": "fa9fbed5-47b9-4cbe-b152-a0cddf51b672",
   "metadata": {},
   "outputs": [],
   "source": [
    "strain_id = \"Bacteroides-thetaiotaomicron-VPI-5482\"\n",
    "\n",
    "fig, ax = plt.subplots()\n",
    "\n",
    "clust_id = cross_correlation.loc[strain_id].idxmax()\n",
    "\n",
    "max_val = max(x[strain_id].max(), y[clust_id].max())\n",
    "\n",
    "ax.scatter(x[strain_id], y[clust_id])\n",
    "ax.plot([0, max_val], [0, max_val])\n",
    "ax.set_xlabel(strain_id)\n",
    "ax.set_ylabel(f\"bin {clust_id}\")\n",
    "ax.annotate(\n",
    "    \"{:0.01e}\".format(clust_meta.loc[clust_id].total_length),\n",
    "    xy=(0.6, 0.3),\n",
    "    xycoords=\"axes fraction\",\n",
    ")\n",
    "# ax.set_xscale('symlog', linthresh=1e-5)\n",
    "# ax.set_yscale('symlog', linthresh=1e-5)\n",
    "ax.set_aspect(1)\n",
    "# fig.tight_layout()\n",
    "cross_correlation.loc[strain_id].sort_values(ascending=False).head()"
   ]
  },
  {
   "cell_type": "code",
   "execution_count": null,
   "id": "63d00dd4-a970-4260-a155-039fce731bea",
   "metadata": {},
   "outputs": [],
   "source": [
    "focal_clust = 20\n",
    "\n",
    "focal_clusts = [\n",
    "    focal_clust,\n",
    "    # 2383,\n",
    "    338,\n",
    "    332,\n",
    "]\n",
    "\n",
    "clust_palette = lib.plot.construct_ordered_palette(focal_clusts, cm=\"tab20\")\n",
    "\n",
    "focal_clust_segments = idxwhere(segement_x_clust == focal_clust)\n",
    "\n",
    "d = final_results.loc[idxwhere(vertex_to_clust.isin(focal_clusts))].sort_values(\n",
    "    \"length\", ascending=False\n",
    ")  # .head(20)\n",
    "\n",
    "for clust in focal_clusts:\n",
    "    color = clust_palette[clust]\n",
    "    plt.scatter(\n",
    "        \"length\",\n",
    "        \"total_depth\",\n",
    "        data=d.loc[idxwhere(vertex_to_clust == clust)],\n",
    "        s=4,\n",
    "        label=clust,\n",
    "        color=color,\n",
    "    )\n",
    "plt.xscale(\"log\")\n",
    "plt.yscale(\"log\")\n",
    "plt.legend()\n",
    "\n",
    "print(d.length.sum())\n",
    "d.join(vertex_to_clust).sort_values(\"num_segments\", ascending=False)"
   ]
  },
  {
   "cell_type": "code",
   "execution_count": null,
   "id": "2ee4c896-4494-42b8-a3c5-4dfe7d7d7d24",
   "metadata": {},
   "outputs": [],
   "source": [
    "_col_colors = d.length.pipe(np.log10).pipe(lambda x: mpl.cm.viridis(x / x.max()))\n",
    "# _col_colors = d.index.to_series().map(vertex_to_clust).map(clust_palette)\n",
    "\n",
    "sns.clustermap(\n",
    "    vertex_depth.loc[d.index].T.rename(sample_idx_to_id),\n",
    "    col_colors=_col_colors,\n",
    "    metric=\"cosine\",\n",
    "    norm=mpl.colors.SymLogNorm(linthresh=1),\n",
    ")"
   ]
  },
  {
   "cell_type": "code",
   "execution_count": null,
   "id": "875bb02e-c7a0-4171-b562-26bca42a3dc8",
   "metadata": {},
   "outputs": [],
   "source": []
  },
  {
   "cell_type": "code",
   "execution_count": null,
   "id": "584c8502-76fd-4674-957c-f2878d805837",
   "metadata": {},
   "outputs": [],
   "source": [
    "cg = sns.clustermap(\n",
    "    vertex_depth.loc[idxwhere(d.length > 1000)].T.rename(sample_idx_to_id),\n",
    "    metric=\"cosine\",\n",
    "    norm=mpl.colors.SymLogNorm(linthresh=0.01),\n",
    "    figsize=(6, 2.5),\n",
    "    dendrogram_ratio=(0, 0.2),\n",
    "    xticklabels=0,\n",
    "    yticklabels=0,\n",
    ")\n",
    "\n",
    "cg.ax_cbar.set_visible(False)"
   ]
  },
  {
   "cell_type": "code",
   "execution_count": null,
   "id": "5cab28fc-a9f9-47ca-8f67-6bb26743e72c",
   "metadata": {},
   "outputs": [],
   "source": [
    "clust_neighborhood_segment_graph = sz.io.load_graph(\n",
    "    f\"data/group/{group}/r.proc.kmtricks-{kmtricks}.ggcat-{graph_type}.notips-2.smoothed-6.unzip-{deconv}.clust-{clust_params}.unassembled-c{focal_clust}-r100.notips-1-unpressed.sz\"\n",
    ")\n",
    "sz.results.extract_vertex_data(clust_neighborhood_segment_graph).sort_values(\n",
    "    \"length\", ascending=False\n",
    ")  # .head(20)"
   ]
  },
  {
   "cell_type": "code",
   "execution_count": null,
   "id": "801e15e4-8dce-4af2-a6d1-6b3b17004239",
   "metadata": {},
   "outputs": [],
   "source": [
    "_graph = clust_neighborhood_segment_graph\n",
    "\n",
    "\n",
    "sz.draw.update_xypositions(_graph)\n",
    "print(\"Done with layout.\")\n",
    "\n",
    "# Color by depth\n",
    "vertex_color = _graph.new_vertex_property(\n",
    "    \"float\", vals=np.log(sz.results.total_depth_property(_graph).a + 1)\n",
    ")\n",
    "\n",
    "# Highlight vertices in the cluster itself.\n",
    "_vertices = list(\n",
    "    sz.results.iter_find_vertices_with_any_segment(_graph, focal_clust_segments)\n",
    ")\n",
    "print(len(_vertices))\n",
    "in_path = _graph.new_vertex_property(\"bool\", val=False)\n",
    "in_path.a[_vertices] = 1\n",
    "\n",
    "outpath = f\"{fig_dir}/clust-{focal_clust}.pdf\"\n",
    "sz.draw.draw_graph(\n",
    "    _graph,\n",
    "    # vertex_text=_graph.vp['length'],\n",
    "    vertex_text=_graph.vp[\"sequence\"],\n",
    "    vertex_halo=in_path,\n",
    "    # vertex_font_size=5,\n",
    "    vertex_fill_color=vertex_color,\n",
    "    # edge_pen_width=10,\n",
    "    output=outpath,\n",
    "    vcmap=(mpl.cm.magma, 1),\n",
    "    output_size=(1000, 1000),\n",
    ")\n",
    "print(outpath)"
   ]
  },
  {
   "cell_type": "code",
   "execution_count": null,
   "id": "bfa934e7-5ef0-4a71-8cf0-c6e52a8da308",
   "metadata": {},
   "outputs": [],
   "source": [
    "segment_x_cluster = pd.read_table(\n",
    "    f\"data/group/{group}/r.proc.kmtricks-{kmtricks}.ggcat-{graph_type}.notips-2.smoothed-6.unzip-{deconv}.clust-{clust_params}.segment.tsv\"\n",
    ")"
   ]
  },
  {
   "cell_type": "code",
   "execution_count": null,
   "id": "f6a7212a-00b9-49e6-b7d7-5628b8826a9d",
   "metadata": {},
   "outputs": [],
   "source": [
    "%%time\n",
    "radius = 10\n",
    "\n",
    "focal_clusts = [\n",
    "    20,\n",
    "    # 2383,\n",
    "    338,\n",
    "    332,\n",
    "]\n",
    "\n",
    "# Select segments\n",
    "_segment_list = list(\n",
    "    segment_x_cluster[lambda x: x.cluster.isin(focal_clusts)]\n",
    "    .segment.drop_duplicates()\n",
    "    .values\n",
    ")\n",
    "\n",
    "# Select vertices\n",
    "_vertex_list = list(\n",
    "    sz.results.iter_find_vertices_with_any_segment(unpressed_graph, _segment_list)\n",
    ")\n",
    "# Find neighborhood\n",
    "_distance_from_focal = sz.topology.get_shortest_distance_to_any_vertex(\n",
    "    unpressed_graph, _vertex_list, unpressed_graph.vp[\"length\"]\n",
    ")\n",
    "_vertex_mask = unpressed_graph.new_vertex_property(\n",
    "    \"bool\", vals=_distance_from_focal.a <= radius\n",
    ")\n",
    "_neighborhood_vertex_list = idxwhere(\n",
    "    pd.DataFrame(\n",
    "        unpressed_graph.get_vertices(vprops=[_vertex_mask]), columns=[\"vertex\", \"mask\"]\n",
    "    ).set_index(\"vertex\")[\"mask\"]\n",
    "    == 1\n",
    ")\n",
    "_graph0 = gt.Graph(gt.GraphView(unpressed_graph, vfilt=_vertex_mask), prune=True)\n",
    "print(_graph0)\n",
    "\n",
    "# Layout graph\n",
    "gt.seed_rng(1)\n",
    "np.random.seed(2)\n",
    "sz.draw.update_xypositions(\n",
    "    _graph0, layout=gt.draw.random_layout\n",
    ")  # NOTE: This allows for reproducible layouts.\n",
    "print(\"Done with Step 1.\")\n",
    "sz.draw.update_xypositions(\n",
    "    _graph0,\n",
    "    layout=gt.draw.sfdp_layout,\n",
    "    # p=1.4,\n",
    "    # K=1,\n",
    ")\n",
    "print(\"Done with layout!\")"
   ]
  },
  {
   "cell_type": "code",
   "execution_count": null,
   "id": "5d5c8e40-de04-4725-9fda-5784c6e467de",
   "metadata": {},
   "outputs": [],
   "source": [
    "# _palette = {332: 'fuchsia', 2383: 'silver', 20: 'lime', 338: 'cyan'}\n",
    "_palette = {332: \"hotpink\", 2383: \"silver\", 20: \"limegreen\", 338: \"dodgerblue\"}"
   ]
  },
  {
   "cell_type": "code",
   "execution_count": null,
   "id": "84783a33-8054-4b7f-90e4-94e399741e14",
   "metadata": {},
   "outputs": [],
   "source": [
    "# Decorate vertices\n",
    "_results = sz.results.extract_vertex_data(_graph0)\n",
    "_segment_to_vertex = (\n",
    "    _results.segments.str[0]\n",
    "    .reset_index()\n",
    "    .set_index(\"segments\")\n",
    "    .vertex.rename_axis(index=\"segment\")\n",
    ")\n",
    "\n",
    "clust_membership = (\n",
    "    final_results[lambda x: x.clust.isin(focal_clusts)]\n",
    "    .groupby(\"clust\")\n",
    "    .apply(lambda x: x.segments.explode().drop_duplicates(), include_groups=False)\n",
    "    .rename(\"segment\")\n",
    "    .reset_index()\n",
    "    .set_index([\"clust\", \"segment\"])\n",
    "    .assign(tally=1)\n",
    "    .tally.unstack(fill_value=0)\n",
    "    .T.rename(_segment_to_vertex)\n",
    "    .reindex(_graph0.get_vertices(), fill_value=0)\n",
    "    # .sort_index()\n",
    ")"
   ]
  },
  {
   "cell_type": "code",
   "execution_count": null,
   "id": "d8e0d66c-fab4-4bbb-a5bc-135938ec023a",
   "metadata": {},
   "outputs": [],
   "source": [
    "# num_clusts = 3\n",
    "# _clusts1 = focal_clusts[:num_clusts]\n",
    "\n",
    "_clust_order = [\n",
    "    332,\n",
    "    20,\n",
    "    # 2383,\n",
    "    338,\n",
    "]\n",
    "\n",
    "_clusts1 = _clust_order\n",
    "_graph1 = _graph0.copy()\n",
    "\n",
    "# # Select vertices in bin.\n",
    "# _clusts1 = _clust_order[:i + 1]\n",
    "# _mask1 = sz.results.extract_vertex_data(_graph0).segments.str[0].isin(segment_x_cluster[lambda x: x.cluster.isin(_clusts1)].segment)\n",
    "# print(_mask1.mean())\n",
    "# _graph1 = gt.GraphView(_graph0, vfilt=_mask1)\n",
    "\n",
    "# # Decorate vertices\n",
    "# _clust_mem = clust_membership[_mask1][_clusts1]\n",
    "# _clust_frac1 = _clust_mem.divide(_clust_mem.sum(axis=1), axis=0)\n",
    "# _graph1.vp['clust_frac'] = _graph1.new_vertex_property('vector<float>', vals=_clust_frac1.sort_index().values)\n",
    "\n",
    "# Decorate vertices\n",
    "_color_subset = (\n",
    "    sz.results.extract_vertex_data(_graph0)\n",
    "    .segments.str[0]\n",
    "    .isin(segment_x_cluster[lambda x: x.cluster.isin(_clusts1)].segment)\n",
    ")\n",
    "_clust_mem = clust_membership[_color_subset][_clusts1]\n",
    "_clust_frac1 = _clust_mem.divide(_clust_mem.sum(axis=1), axis=0).reindex(\n",
    "    _graph1.get_vertices(), fill_value=0\n",
    ")\n",
    "_clust_frac_vprop = _graph1.new_vertex_property(\n",
    "    \"vector<float>\", vals=_clust_frac1.sort_index().values\n",
    ")\n",
    "\n",
    "outpath = f\"{fig_dir}/Veill-multibin.all.png\"\n",
    "sz.draw.draw_graph(\n",
    "    _graph1,\n",
    "    output=outpath,\n",
    "    vertex_text=\"\",\n",
    "    # vertex_color='k',\n",
    "    vertex_size=30,\n",
    "    vertex_shape=\"pie\",\n",
    "    vertex_pie_fractions=_clust_frac_vprop,\n",
    "    vertex_pie_colors=[_palette[c] for c in _clusts1],\n",
    "    output_size=(2000, 2000),\n",
    ")\n",
    "print(outpath)"
   ]
  },
  {
   "cell_type": "code",
   "execution_count": null,
   "id": "2e811791-17dc-48d0-9a77-0c35b9f10c35",
   "metadata": {},
   "outputs": [],
   "source": [
    "# num_clusts = 3\n",
    "# _clusts1 = focal_clusts[:num_clusts]\n",
    "\n",
    "_clust_order = [\n",
    "    332,\n",
    "    20,\n",
    "    # 2383,\n",
    "    338,\n",
    "]\n",
    "\n",
    "for c in _clust_order:\n",
    "    _clusts1 = [c]\n",
    "    _graph1 = _graph0.copy()\n",
    "\n",
    "    # # Select vertices in bin.\n",
    "    # _clusts1 = _clust_order[:i + 1]\n",
    "    # _mask1 = sz.results.extract_vertex_data(_graph0).segments.str[0].isin(segment_x_cluster[lambda x: x.cluster.isin(_clusts1)].segment)\n",
    "    # print(_mask1.mean())\n",
    "    # _graph1 = gt.GraphView(_graph0, vfilt=_mask1)\n",
    "\n",
    "    # # Decorate vertices\n",
    "    # _clust_mem = clust_membership[_mask1][_clusts1]\n",
    "    # _clust_frac1 = _clust_mem.divide(_clust_mem.sum(axis=1), axis=0)\n",
    "    # _graph1.vp['clust_frac'] = _graph1.new_vertex_property('vector<float>', vals=_clust_frac1.sort_index().values)\n",
    "\n",
    "    # Decorate vertices\n",
    "    _color_subset = (\n",
    "        sz.results.extract_vertex_data(_graph0)\n",
    "        .segments.str[0]\n",
    "        .isin(segment_x_cluster[lambda x: x.cluster.isin(_clusts1)].segment)\n",
    "    )\n",
    "    _clust_mem = clust_membership[_color_subset][_clusts1]\n",
    "    _clust_frac1 = _clust_mem.divide(_clust_mem.sum(axis=1), axis=0).reindex(\n",
    "        _graph1.get_vertices(), fill_value=0\n",
    "    )\n",
    "    _clust_frac_vprop = _graph1.new_vertex_property(\n",
    "        \"vector<float>\", vals=_clust_frac1.sort_index().values\n",
    "    )\n",
    "\n",
    "    outpath = f\"{fig_dir}/Veill-multibin.{c}.png\"\n",
    "    sz.draw.draw_graph(\n",
    "        _graph1,\n",
    "        output=outpath,\n",
    "        vertex_text=\"\",\n",
    "        # vertex_color='k',\n",
    "        vertex_size=30,\n",
    "        vertex_shape=\"pie\",\n",
    "        vertex_pie_fractions=_clust_frac_vprop,\n",
    "        vertex_pie_colors=[_palette[c] for c in _clusts1],\n",
    "        output_size=(2000, 2000),\n",
    "    )\n",
    "    print(outpath)"
   ]
  },
  {
   "cell_type": "raw",
   "id": "35b9eda0-77bf-42d5-bd3b-51ba5d44da98",
   "metadata": {},
   "source": [
    "_graph = multi_clust_neighborhood_segment_graph\n",
    "\n",
    "\n",
    "sz.draw.update_xypositions(_graph)\n",
    "print(\"Done with layout.\")\n",
    "\n",
    "# Color by depth\n",
    "vertex_color = _graph.new_vertex_property('float', vals=np.log(sz.results.total_depth_property(_graph).a + 1))\n",
    "\n",
    "# Highlight vertices in the cluster itself.\n",
    "_vertices = list(sz.results.iter_find_vertices_with_any_segment(_graph, focal_clust_segments))\n",
    "print(len(_vertices))\n",
    "in_path = _graph.new_vertex_property('bool', val=False)\n",
    "in_path.a[_vertices] = 1\n",
    "\n",
    "outpath = f'{fig_dir}/clust-{focal_clust}.pdf'\n",
    "sz.draw.draw_graph(\n",
    "    _graph,\n",
    "    # vertex_text=_graph.vp['length'],\n",
    "    vertex_text=_graph.vp['sequence'],\n",
    "    vertex_halo=in_path,\n",
    "    # vertex_font_size=5,\n",
    "    vertex_fill_color=vertex_color,\n",
    "    # edge_pen_width=10,\n",
    "    output=outpath,\n",
    "    vcmap=(mpl.cm.magma, 1),\n",
    "    output_size=(1000, 1000),\n",
    ")\n",
    "print(outpath)"
   ]
  },
  {
   "cell_type": "code",
   "execution_count": null,
   "id": "1acfac73-8886-4f4b-887b-ccec42403f33",
   "metadata": {},
   "outputs": [],
   "source": [
    "shared_segments = pd.read_table(\n",
    "    f\"data/group/{group}/r.proc.kmtricks-{kmtricks}.ggcat-{graph_type}.notips-2.smoothed-6.unzip-{deconv}.clust-{clust_params}.shared.tsv\"\n",
    ")  # .set_index(['clusterA', 'clusterB']).num_shared_segments.unstack(fill_value=0).reindex(index=clust_meta.index, columns=clust_meta.index, fill_value=0)\n",
    "shared_segments.sort_values(\n",
    "    \"num_shared_segments\", ascending=False\n",
    ")  # [lambda x: x.clusterA.isin([212]) | x.clusterB.isin([212])].head(10)\n",
    "# shared_segments.values[:,:] += shared_segments.values.T\n",
    "# shared_segments.max().sort_values()"
   ]
  },
  {
   "cell_type": "code",
   "execution_count": null,
   "id": "2a819c6e-6de8-443d-924d-080abe37ff4a",
   "metadata": {},
   "outputs": [],
   "source": [
    "shared_segments[lambda x: x.clusterA == 98].sort_values(\n",
    "    \"num_shared_segments\", ascending=False\n",
    ").head()"
   ]
  },
  {
   "cell_type": "code",
   "execution_count": null,
   "id": "233edde9-2ac1-44b6-9bb4-0fdfe7de557b",
   "metadata": {},
   "outputs": [],
   "source": [
    "clust_meta2 = pd.read_table(\n",
    "    f\"data/group/{group}/r.proc.kmtricks-{kmtricks}.ggcat-{graph_type}.notips-2.clust-{clust_params}.meta.tsv\",\n",
    "    index_col=\"cluster\",\n",
    ")\n",
    "clust_depth2 = (\n",
    "    pd.read_table(\n",
    "        f\"data/group/{group}/r.proc.kmtricks-{kmtricks}.ggcat-{graph_type}.notips-2.clust-{clust_params}.depth.tsv\"\n",
    "    )\n",
    "    .rename(columns={\"Unnamed: 0\": \"cluster\"})\n",
    "    .set_index(\"cluster\")\n",
    "    .T.rename(int)\n",
    ")\n",
    "\n",
    "clust_meta2.sort_values(\"total_length\", ascending=False).head(10)"
   ]
  },
  {
   "cell_type": "code",
   "execution_count": null,
   "id": "507aa909-d13d-4e0d-be05-39f747aa17dd",
   "metadata": {},
   "outputs": [],
   "source": [
    "vertex_depth2 = sz.results.depth_table(\n",
    "    notips_unsmoothed_graph, notips_unsmoothed_graph.get_vertices()\n",
    ").T"
   ]
  },
  {
   "cell_type": "code",
   "execution_count": null,
   "id": "a0b28bd3-833a-4c0d-9dd0-416bed82ae35",
   "metadata": {},
   "outputs": [],
   "source": [
    "# Normalize by rpoB depth\n",
    "marker_genes2 = pd.read_table(\n",
    "    f\"data/group/{group}/r.proc.kmtricks-{kmtricks}.ggcat-{graph_type}.notips-2.cds.tran.hmmer-{marker_model}-ga.tsv\",\n",
    "    names=[\"orf\", \"gene_name\", \"bitscore\"],\n",
    ").assign(vertex=lambda x: x.orf.str.split(\"_\").str[0].astype(int))\n",
    "_marker_gene_vertex_list = list(set(marker_genes2.vertex))\n",
    "marker_depth2 = vertex_depth2.loc[_marker_gene_vertex_list].T"
   ]
  },
  {
   "cell_type": "code",
   "execution_count": null,
   "id": "ff38d7e8-d70f-439a-b2d2-be93fd73362b",
   "metadata": {},
   "outputs": [],
   "source": [
    "clust_rabund2 = clust_depth2.divide(marker_depth2.sum(1), axis=0)"
   ]
  },
  {
   "cell_type": "code",
   "execution_count": null,
   "id": "b6ba0033-55ee-4e1d-9c6e-e476d8db06d3",
   "metadata": {},
   "outputs": [],
   "source": [
    "x = kraken_rabund\n",
    "y = clust_rabund2[idxwhere(clust_meta2.total_length > 2_000_000)].rename(\n",
    "    sample_idx_to_id\n",
    ")\n",
    "\n",
    "x, y = x.align(y, join=\"inner\", axis=\"index\")\n",
    "\n",
    "cross_correlation2 = pd.DataFrame(\n",
    "    1 - sp.spatial.distance.cdist(x.T, y.T, metric=\"cosine\"),\n",
    "    index=x.columns,\n",
    "    columns=y.columns,\n",
    ")\n",
    "\n",
    "sns.clustermap(cross_correlation2)"
   ]
  },
  {
   "cell_type": "code",
   "execution_count": null,
   "id": "0b177eea-302d-4148-a480-40fb24229842",
   "metadata": {},
   "outputs": [],
   "source": [
    "x = kraken_rabund\n",
    "y = clust_rabund2[idxwhere(clust_meta2.total_length > 2_000_000)].rename(\n",
    "    sample_idx_to_id\n",
    ")\n",
    "\n",
    "x, y = x.align(y, join=\"inner\", axis=\"index\")\n",
    "\n",
    "_strain_id_list = kraken_rabund.columns\n",
    "fig, axs = lib.plot.subplots_grid(ncols=5, naxes=len(_strain_id_list))\n",
    "for strain_id, ax in zip(_strain_id_list, axs.flatten()):\n",
    "    clust_id = cross_correlation2.loc[strain_id].idxmax()\n",
    "\n",
    "    max_val = max(x[strain_id].max(), y[clust_id].max())\n",
    "\n",
    "    ax.scatter(x[strain_id], y[clust_id])\n",
    "    ax.plot([0, max_val], [0, max_val])\n",
    "    ax.set_xlabel(strain_id)\n",
    "    ax.set_ylabel(f\"bin {clust_id}\")\n",
    "    ax.set_aspect(1)\n",
    "    ax.annotate(\n",
    "        \"{:0.01e}\".format(clust_meta2.loc[clust_id].total_length),\n",
    "        xy=(0.6, 0.3),\n",
    "        xycoords=\"axes fraction\",\n",
    "    )\n",
    "    # cross_correlation.loc[strain_id].sort_values(ascending=False).head()\n",
    "\n",
    "fig.tight_layout()"
   ]
  },
  {
   "cell_type": "code",
   "execution_count": null,
   "id": "ca1331e1-a1da-42d3-92a0-fc31663755ed",
   "metadata": {},
   "outputs": [],
   "source": []
  },
  {
   "cell_type": "raw",
   "id": "56f31470-8e48-4a49-b38b-b1579be485eb",
   "metadata": {},
   "source": [
    "x = clust_depth.loc[212]\n",
    "y = clust_depth.loc[746]\n",
    "\n",
    "plt.scatter(x, y)\n",
    "plt.plot([1e0, 1e2], [1e0, 1e2])\n",
    "plt.plot([1e0, 1e2], [1e0 / 111, 1e2 / 111])\n",
    "plt.yscale('log')\n",
    "plt.xscale('log')"
   ]
  },
  {
   "cell_type": "code",
   "execution_count": null,
   "id": "00633a0f-d701-4eb8-bbb2-576a6475bd53",
   "metadata": {},
   "outputs": [],
   "source": [
    "vertex_to_clust.loc[marker_gene_vertex_list].value_counts().head(20)"
   ]
  },
  {
   "cell_type": "raw",
   "id": "987136ba-bfd5-4cff-ab30-78ad0b82477a",
   "metadata": {},
   "source": [
    "asmbl_clust_graph = sz.io.load_graph(f'data/group/{group}/r.proc.kmtricks-{kmtricks}.ggcat-{graph_type}.notips-2.smoothed-6.unzip-{deconv}.clust-{clust_params}.unassembled-c{focal_clust}-r100.notips-0.sz')\n",
    "sz.results.extract_vertex_data(asmbl_clust_graph).sort_values('length', ascending=False).head(10)"
   ]
  },
  {
   "cell_type": "raw",
   "id": "9876dd1e-fbf5-4521-9128-2ac1fb8d3a17",
   "metadata": {},
   "source": [
    "_graph = asmbl_clust_graph\n",
    "\n",
    "sz.draw.update_xypositions(_graph)\n",
    "print(\"Done with layout.\")\n",
    "vertex_color = _graph.new_vertex_property('float', vals=np.log(sz.results.total_depth_property(_graph).a + 1))\n",
    "\n",
    "outpath = f'{fig_dir}/clust-{focal_clust}.asmbl.pdf'\n",
    "sz.draw.draw_graph(\n",
    "    _graph,\n",
    "    # vertex_text=_graph.vp['sequence'],\n",
    "    # vertex_halo=in_path,\n",
    "    # vertex_font_size=5,\n",
    "    vertex_fill_color=vertex_color,\n",
    "    # edge_pen_width=10,\n",
    "    output=outpath,\n",
    "    vcmap=(mpl.cm.magma, 1),\n",
    "    output_size=(1000, 1000),\n",
    ")\n",
    "print(outpath)"
   ]
  },
  {
   "cell_type": "raw",
   "id": "7ad5ae78-c605-4a24-8bb4-505a1aa1cd97",
   "metadata": {},
   "source": [
    "vertex_x_ref_contig = []\n",
    "with open('data/group/both_ucfmt_d44_xjin_test2/r.proc.kmtricks-k111-m3-r2.ggcat-denovo.notips-2.smoothed-6.deconvolve-norm-2-50.quast-xjin.contig_to_genome.txt') as f:\n",
    "    for line in f:\n",
    "        ref_contig, *contigs = line.strip().split('\\t')\n",
    "        vertex_x_ref_contig.append(pd.Series(contigs).astype(int).to_frame('vertex').assign(ref_contig=ref_contig))\n",
    "        \n",
    "vertex_x_ref_contig = pd.concat(vertex_x_ref_contig)\n",
    "vertex_x_ref_contig"
   ]
  },
  {
   "cell_type": "raw",
   "id": "05b73423-91ca-4473-a575-a49bd678a12b",
   "metadata": {},
   "source": [
    "ref_contig_to_genome = pd.read_table('data/group/xjin/reference_genome_quast_contigs.tsv', index_col='quast_contig').genome\n",
    "ref_contig_to_genome"
   ]
  },
  {
   "cell_type": "raw",
   "id": "c5020494-7090-47a2-b524-05fb8b65dbf1",
   "metadata": {},
   "source": [
    "d = vertex_x_ref_contig.join(ref_contig_to_genome, on='ref_contig').join(vertex_to_clust, on='vertex').join(final_results.length, on='vertex').groupby(['cluster', 'genome']).length.sum().unstack(fill_value=0)\n",
    "sns.clustermap(d, norm=mpl.colors.PowerNorm(1/2, vmin=0, vmax=1e5), figsize=(40, 40), metric='cosine', xticklabels=1, yticklabels=1)"
   ]
  },
  {
   "cell_type": "raw",
   "id": "d87244f8-f7c8-40b2-a7b1-6b40e26d1268",
   "metadata": {},
   "source": [
    "d = (\n",
    "    vertex_x_genome\n",
    "    .join(vertex_to_clust, on='vertex')\n",
    "    [['genome', 'cluster']]\n",
    "    .value_counts()\n",
    "    .unstack('cluster', fill_value=0)\n",
    "    .divide(vertex_to_clust.value_counts())\n",
    "    .fillna(0)\n",
    ")\n",
    "# d.loc['Acidaminococcus-intestini-D21_MAF-2_1'].sort_values(ascending=False)\n",
    "d.T.loc[418].sort_values(ascending=False)"
   ]
  },
  {
   "cell_type": "raw",
   "id": "c1f29c8a-66a8-472e-903b-c52c06865e14",
   "metadata": {},
   "source": [
    "clust_results = sz.results.extract_vertex_data(clust_graph)\n",
    "clust_results.sort_values('length', ascending=False)"
   ]
  },
  {
   "cell_type": "raw",
   "id": "521d99ac-ee44-444f-a683-59de68e40127",
   "metadata": {
    "tags": []
   },
   "source": [
    "%%time\n",
    "# NOTE: Only run this if you want to examine deconvolutions\n",
    "with Pool(processes=22) as pool:\n",
    "    flow_final = sz.app.deconvolve._run_estimate_all_flows(final_graph, mapping_func=pool.imap)"
   ]
  },
  {
   "cell_type": "raw",
   "id": "ea341774-14c7-4a28-b64f-e85d52bec76b",
   "metadata": {
    "tags": []
   },
   "source": [
    "%%time\n",
    "# NOTE: Only run this if you want to examine deconvolutions\n",
    "with Pool(processes=22) as pool:\n",
    "    flow_round0 = sz.app.deconvolve._run_estimate_all_flows(round0_graph, mapping_func=pool.imap)"
   ]
  },
  {
   "cell_type": "raw",
   "id": "771660e4-2753-47ba-ae26-d9dce112cda0",
   "metadata": {
    "tags": []
   },
   "source": [
    "# Use this to find tigs of interest.\n",
    "# WORKHERE\n",
    "\n",
    "round0_results.loc[sz.results.iter_find_vertices_with_any_segment(round0_graph, ['1062567-', '1062567+'])].sort_values('num_segments', ascending=False)"
   ]
  },
  {
   "cell_type": "raw",
   "id": "4203c306-9231-4c0f-9164-624c4528832b",
   "metadata": {},
   "source": [
    "round0_results.loc[[347600, 330555, 325846, 38814, 103240, 43438]]"
   ]
  },
  {
   "cell_type": "raw",
   "id": "eeb4638e-c20b-487a-b8ad-bad1e9e29b89",
   "metadata": {},
   "source": [
    "round0_results.loc[[365139, 354107, 338967, 48455, 108147, 150762]]"
   ]
  },
  {
   "cell_type": "raw",
   "id": "aacfa8ab-b08f-4326-b82c-848bc4f2f2f8",
   "metadata": {},
   "source": [
    "junctions = [347600, 365139]\n",
    "\n",
    "deconv_problems = list(\n",
    "    sz.app.deconvolve._iter_junction_deconvolution_problems(\n",
    "       junctions, round0_graph, flow_round0\n",
    "    )\n",
    ")\n",
    "\n",
    "betas = []\n",
    "for p, _order in zip(deconv_problems, [[3, 0, 2, 1], [2, 3, 0, 1]]):\n",
    "    n, m = len(p.in_neighbors), len(p.out_neighbors)\n",
    "    print(f\"{n} x {m}\")\n",
    "    print()\n",
    "\n",
    "\n",
    "#     fit, paths, named_paths, score_margin = sz.deconvolution.deconvolve_junction_exhaustive(\n",
    "#         p.in_neighbors,\n",
    "#         p.in_flows,\n",
    "#         p.out_neighbors,\n",
    "#         p.out_flows,\n",
    "#         sz.depth_model.NormalDepthModel(maxiter=500),\n",
    "#         verbose=True,\n",
    "#     )\n",
    "\n",
    "#     X, _ = sz.deconvolution.design_all_paths(n, m)\n",
    "#     y = np.concatenate([in_flows, out_flows])\n",
    "    \n",
    "    result = sz.app.deconvolve._calculate_junction_deconvolution((\n",
    "        p,\n",
    "        sz.depth_model.NormalDepthModel(maxiter=1000, tol=1e-3),\n",
    "        'aic',\n",
    "    ))\n",
    "    unzip = result.unzip\n",
    "    \n",
    "    # print(result)\n",
    "    # print([unzip[1][i] for i in _order])\n",
    "    # print(result.absolute_stderr.max())\n",
    "    fig = plt.figure()\n",
    "    sns.heatmap(unzip[2]['path_depths'][_order], norm=mpl.colors.SymLogNorm(1, vmin=-1e3, vmax=1e3), cmap='coolwarm')\n",
    "    # plt.colorbar()\n",
    "    # betas.append(unzip[2]['path_depths'][_order])\n",
    "\n",
    "    \n",
    "    # X, y, labels = sz.deconvolution.formulate_path_deconvolution(in_flows, out_flows)\n",
    "\n",
    "    # print()\n",
    "    # print(f\"score_margin={score_margin}\")\n",
    "    # print(f\"completeness={X[:, paths].sum(1)}\")\n",
    "    # print(f\"minimalism={len(paths)}\")"
   ]
  },
  {
   "cell_type": "raw",
   "id": "29cb8f45-9c0e-497f-afa8-817c812a50a3",
   "metadata": {
    "tags": []
   },
   "source": [
    "fig = plt.figure()\n",
    "sns.heatmap(fit.y, norm=mpl.colors.SymLogNorm(1, vmin=-1e3, vmax=1e3), cmap='coolwarm')\n",
    "\n",
    "fig = plt.figure()\n",
    "sns.heatmap(fit.residual, norm=mpl.colors.SymLogNorm(1, vmin=-1e3, vmax=1e3), cmap='coolwarm')\n",
    "\n",
    "fig = plt.figure()\n",
    "sns.heatmap(fit.beta, norm=mpl.colors.SymLogNorm(1, vmin=-1e3, vmax=1e3), cmap='coolwarm')\n",
    "\n",
    "fig = plt.figure()\n",
    "sns.heatmap(fit.stderr_beta, norm=mpl.colors.SymLogNorm(1, vmin=-1e3, vmax=1e3), cmap='coolwarm')\n",
    "\n",
    "fig = plt.figure()\n",
    "sns.heatmap((fit.stderr_beta) / (fit.beta + 1), norm=mpl.colors.SymLogNorm(1e-1, vmin=-1e1, vmax=1e1), cmap='coolwarm')\n",
    "\n",
    "fig = plt.figure()\n",
    "plt.scatter(fit.beta, fit.stderr_beta)\n",
    "xx = np.concatenate([[0], np.logspace(-2, 2)])\n",
    "plt.plot(xx, xx * 0.1)\n",
    "# plt.plot(xx, (xx + 1) * 0.1)\n",
    "# plt.plot(xx, (xx + 1) * 0.5)\n",
    "plt.yscale('symlog', linthresh=1e-4)\n",
    "plt.xscale('symlog', linthresh=1e-4)"
   ]
  },
  {
   "cell_type": "raw",
   "id": "982deed7-b7bc-47e7-8a68-822f581274b0",
   "metadata": {
    "tags": []
   },
   "source": [
    "final_results.loc[sz.results.iter_find_vertices_with_any_segment(final_graph, ['1062628+'])].sort_values('num_segments', ascending=False)"
   ]
  },
  {
   "cell_type": "raw",
   "id": "239c3a2d-57c0-4a3c-b123-2ba9ec91b62a",
   "metadata": {
    "tags": []
   },
   "source": [
    "final_results.loc[sz.results.iter_find_vertices_with_any_segment(final_graph, ['1062628-'])].sort_values('num_segments', ascending=False)"
   ]
  },
  {
   "cell_type": "raw",
   "id": "83adbbca-3aa6-4a2b-802d-3eba621caef5",
   "metadata": {
    "tags": []
   },
   "source": [
    "notips_results.loc[sz.results.iter_find_vertices_with_any_segment(notips_graph, ['1062628-', '1062628+'])].sort_values('num_segments', ascending=False)"
   ]
  },
  {
   "cell_type": "raw",
   "id": "1b771eb5-32c6-4279-9c21-053a68da8d44",
   "metadata": {},
   "source": [
    "with Pool(processes=22) as pool:\n",
    "    flow0 = _run_estimate_all_flows(notips_graph, mapping_func=pool.imap)"
   ]
  },
  {
   "cell_type": "raw",
   "id": "d8b13943-a051-4f88-91ea-574fd5b9b599",
   "metadata": {},
   "source": [
    "j = 365182\n",
    "\n",
    "_, in_neighbors, in_flows, out_neighbors, out_flows = list(\n",
    "    sz.app.deconvolve._iter_junction_deconvolution_data(\n",
    "        [j], notips_graph, flow0, max_paths=1000\n",
    "    )\n",
    ")[0]\n",
    "\n",
    "\n",
    "n, m = len(in_neighbors), len(out_neighbors)\n",
    "print(f\"{n} x {m}\")\n",
    "print()\n",
    "\n",
    "\n",
    "fit, paths, named_paths, score_margin = sz.deconvolution.deconvolve_junction_exhaustive(\n",
    "    in_neighbors,\n",
    "    in_flows,\n",
    "    out_neighbors,\n",
    "    out_flows,\n",
    "    sz.depth_model.NormalDepthModel(maxiter=500),\n",
    "    verbose=True,\n",
    ")\n",
    "\n",
    "X, _ = sz.deconvolution.design_all_paths(n, m)\n",
    "y = np.concatenate([in_flows, out_flows])\n",
    "\n",
    "# X, y, labels = sz.deconvolution.formulate_path_deconvolution(in_flows, out_flows)\n",
    "\n",
    "print()\n",
    "print(f\"score_margin={score_margin}\")\n",
    "print(f\"completeness={X[:, paths].sum(1)}\")\n",
    "print(f\"minimalism={len(paths)}\")"
   ]
  },
  {
   "cell_type": "raw",
   "id": "b4bc2e40-3837-49bd-99f7-53ab18f97f85",
   "metadata": {},
   "source": []
  },
  {
   "cell_type": "raw",
   "id": "90949ed3-ceaa-4ecb-8a78-3f3f91601400",
   "metadata": {},
   "source": [
    "fit2 = sz.depth_model.LogPlusAlphaLogNormal(alpha=1.0, maxiter=10000).fit(y, sz.deconvolution.pathset_to_design(sz.deconvolution.PathSet(frozenset({\n",
    "    sz.deconvolution.LocalPath(0, 1),\n",
    "    sz.deconvolution.LocalPath(1, 0),\n",
    "    # sz.deconvolution.LocalPath(0, 1),\n",
    "}), n=2, m=2)))\n",
    "\n",
    "fig = plt.figure()\n",
    "sns.heatmap(fit2.y, norm=mpl.colors.SymLogNorm(1, vmin=-1e3, vmax=1e3), cmap='coolwarm')\n",
    "\n",
    "fig = plt.figure()\n",
    "sns.heatmap(fit2.residual, norm=mpl.colors.SymLogNorm(1, vmin=-1e3, vmax=1e3), cmap='coolwarm')\n",
    "\n",
    "fig = plt.figure()\n",
    "sns.heatmap(fit2.beta, norm=mpl.colors.SymLogNorm(1, vmin=-1e3, vmax=1e3), cmap='coolwarm')\n",
    "\n",
    "fig = plt.figure()\n",
    "sns.heatmap(fit2.stderr_beta, norm=mpl.colors.SymLogNorm(1, vmin=-1e3, vmax=1e3), cmap='coolwarm')\n",
    "\n",
    "fig = plt.figure()\n",
    "sns.heatmap((fit2.stderr_beta) / (fit2.beta + 1), norm=mpl.colors.SymLogNorm(1e-1, vmin=-1e1, vmax=1e1), cmap='coolwarm')\n",
    "\n",
    "fig = plt.figure()\n",
    "plt.scatter(fit2.beta, fit2.stderr_beta)\n",
    "xx = np.concatenate([[0], np.logspace(-2, 2)])\n",
    "plt.plot(xx, xx * 0.1)\n",
    "# plt.plot(xx, (xx + 1) * 0.1)\n",
    "# plt.plot(xx, (xx + 1) * 0.5)\n",
    "plt.yscale('symlog', linthresh=1e-4)\n",
    "plt.xscale('symlog', linthresh=1e-4)"
   ]
  },
  {
   "cell_type": "raw",
   "id": "278a75e3-46aa-41e5-8cf2-7894dfb216ef",
   "metadata": {},
   "source": [
    "%%time\n",
    "\n",
    "from collections import defaultdict\n",
    "from scipy.spatial.distance import cosine\n",
    "\n",
    "thresh = 0.1\n",
    "\n",
    "d = vertex_depth\n",
    "d = d.loc[d.sum(1).sort_values(ascending=False).index]\n",
    "preclusters = defaultdict(lambda: [])\n",
    "\n",
    "for v in tqdm(d.index):\n",
    "    for u in preclusters:\n",
    "        if cosine(d.loc[u], d.loc[v]) < thresh:\n",
    "            preclusters[u].append(v)\n",
    "            break\n",
    "    else:\n",
    "        preclusters[v].append(v)\n",
    "        \n",
    "len(preclusters)"
   ]
  },
  {
   "cell_type": "raw",
   "id": "9bf0e62d-0e2b-4892-b04a-44bc5d59c509",
   "metadata": {},
   "source": [
    "d = vertex_depth[(vertex_length > 5000) & (vertex_depth.sum(1) > 0)]\n",
    "d.shape"
   ]
  },
  {
   "cell_type": "raw",
   "id": "2b8a2906-329a-4f16-b3a5-5489aef74b8c",
   "metadata": {},
   "source": [
    "%time fastcluster.linkage(np.log(d + 1), method='average', metric='cosine')"
   ]
  },
  {
   "cell_type": "raw",
   "id": "8b4011ea-0d2e-44fd-bfb7-977cc81b96c8",
   "metadata": {},
   "source": [
    "clust = pd.read_table(f'data/group/{group}/r.proc.kmtricks-{kmtricks}.ggcat-{graph_type}.notips-2.smoothed.deconvolve-log-2-10.clust-100.vertex.tsv', index_col='vertex').cluster"
   ]
  },
  {
   "cell_type": "raw",
   "id": "489d3337-ce4b-4cc7-bcf1-ac82eb2a74c5",
   "metadata": {},
   "source": [
    "clust_segment = pd.read_table(f'data/group/{group}/r.proc.kmtricks-{kmtricks}.ggcat-{graph_type}.notips-2.smoothed.deconvolve-log-2-10.clust-100.segment.tsv', index_col='segment').cluster"
   ]
  },
  {
   "cell_type": "raw",
   "id": "3009cd5f-bbd7-407b-aa3d-8fdf2b6ef27a",
   "metadata": {},
   "source": [
    "segment_list = list(clust_segment.index.unique())\n",
    "segment_index = pd.Series(range(len(segment_list)), index=segment_list)\n",
    "d = clust_segment.to_frame().assign(length=lambda x: segment_length.loc[x.index], segment_index=lambda x: segment_index.loc[x.index])\n",
    "\n",
    "sparse_clust_to_segment_sqrt_length = sp.sparse.csc_array((np.sqrt(d.length), (d.segment_index, d.cluster)))\n",
    "shared_length_matrix = (sparse_clust_to_segment_sqrt_length.T @ sparse_clust_to_segment_sqrt_length)\n",
    "shared_length_matrix"
   ]
  },
  {
   "cell_type": "raw",
   "id": "117c2651-9fb6-472c-9bc9-dbd78b003878",
   "metadata": {},
   "source": [
    "d = clust_segment.reset_index()\n",
    "cluster_list = idxwhere(clust_segment.value_counts() > 50)\n",
    "num_clusters = len(cluster_list)\n",
    "print(num_clusters)\n",
    "shared_segments = np.zeros((num_clusters, num_clusters))\n",
    "\n",
    "grouper = d[lambda x: x.cluster.isin[cluster_list]].groupby('cluster')\n",
    "for (i, (clust_i, data_i)), (j, (clust_j, data_j)) in tqdm(combinations(enumerate(grouper), r=2)):\n",
    "    _shared = list(set(grouper.get_group(clust_i).segment) & set(grouper.get_group(clust_j).segment))\n",
    "    if len(_shared) == 0:\n",
    "        continue\n",
    "    shared_segments[i, j] = shared_segments[j, i] = segment_length.loc[_shared].sum()\n",
    "    \n",
    "shared_segments = pd.DataFrame(shared_segments, index=cluster_list, columns=cluster_list)\n",
    "shared_segments.values[np.diag_indices(num_clusters)] = clust_segment.value_counts().loc[shared_segments.index]"
   ]
  },
  {
   "cell_type": "raw",
   "id": "55749a5b-27cc-41ee-b178-052902782fad",
   "metadata": {},
   "source": [
    "sns.clustermap(shared_segments, norm=mpl.colors.SymLogNorm(linthresh=1), metric='cosine')"
   ]
  },
  {
   "cell_type": "raw",
   "id": "082b5fc6-c052-48f5-b35d-83d531bc63df",
   "metadata": {},
   "source": [
    "clust_segment.value_counts()"
   ]
  },
  {
   "cell_type": "raw",
   "id": "764770fd-14e9-4c79-8b76-cacc316441e9",
   "metadata": {},
   "source": [
    "clust_list = [13]\n",
    "\n",
    "clust_palette = lib.plot.construct_ordered_palette(clust_list)\n",
    "vertex_list = idxwhere(clust.isin(clust_list))\n",
    "d = vertex_depth.loc[vertex_list]\n",
    "col_colors = pd.DataFrame(dict(clust=d.index.to_series().map(clust).map(clust_palette), length=vertex_length.loc[vertex_list].map(lambda x: np.log10(x) / 6).map(mpl.cm.viridis)))\n",
    "\n",
    "sns.clustermap(d.T, metric='cosine', col_colors=col_colors, norm=mpl.colors.SymLogNorm(1e-1), figsize=(8, 4), yticklabels=0, xticklabels=0)"
   ]
  },
  {
   "cell_type": "raw",
   "id": "3881abd5-2cdb-4f5b-92a0-12a236fb754c",
   "metadata": {},
   "source": [
    "focal_clust = 13\n",
    "\n",
    "all_clust_vertices = idxwhere(clust == focal_clust)\n",
    "\n",
    "focal_segments = list(set(chain(*final_results.loc[all_clust_vertices].segments)))\n",
    "print(len(all_clust_vertices), len(focal_segments))\n",
    "\n",
    "unpressed_graph_core_vertices = list(sz.results.iter_find_vertices_with_any_segment(unpressed_graph, focal_segments))\n",
    "in_core = unpressed_graph.new_vertex_property('bool', vals=[v in unpressed_graph_core_vertices for v in unpressed_graph.get_vertices()])\n",
    "core_graph = gt.GraphView(unpressed_graph, vfilt=in_core)\n",
    "print(core_graph)\n",
    "\n",
    "final_results.loc[all_clust_vertices].sort_values('length', ascending=False)"
   ]
  },
  {
   "cell_type": "raw",
   "id": "a4407acd-039b-40c5-9f7e-d02cd93ccba3",
   "metadata": {},
   "source": [
    "radius = 100\n",
    "\n",
    "unpressed_graph_distance_to_core = sz.topology.get_shortest_distance(unpressed_graph, unpressed_graph_core_vertices, unpressed_graph.vp['length'], max_length=radius, backlinked=backlinked_unpressed_graph, verbose=True)\n",
    "in_neighborhood = unpressed_graph.new_vertex_property('bool', vals=unpressed_graph_distance_to_core.a < radius - 1)\n",
    "neighborhood_graph = gt.GraphView(unpressed_graph, vfilt=in_neighborhood)\n",
    "print(neighborhood_graph)"
   ]
  },
  {
   "cell_type": "raw",
   "id": "98877095-a600-487f-9802-e5f3d7aca9bd",
   "metadata": {},
   "source": [
    "d = final_results.loc[all_clust_vertices]\n",
    "plt.scatter('length', 'total_depth', data=d, c='num_segments', s=15, norm=mpl.colors.LogNorm())\n",
    "plt.colorbar()\n",
    "plt.xscale('log')\n",
    "d.sort_values('num_segments', ascending=False)"
   ]
  },
  {
   "cell_type": "raw",
   "id": "5ed6d4f0-e763-44fb-917e-5a140bca71b3",
   "metadata": {},
   "source": [
    "g = core_graph\n",
    "\n",
    "sz.draw.update_xypositions(g)\n",
    "vertex_color = g.new_vertex_property('float', vals=np.log(sz.results.total_depth_property(g).a + 1))\n",
    "\n",
    "unpressed_graph_vertices = list(sz.results.iter_find_vertices_with_any_segment(unpressed_graph, chain(*final_results.loc[all_clust_vertices].segments)))\n",
    "print(len(unpressed_graph_vertices), len(g))\n",
    "not_in_path = unpressed_graph.new_vertex_property('float', val=1)\n",
    "not_in_path.a[unpressed_graph_vertices] = 0\n",
    "\n",
    "outpath = f'{fig_dir}/core-clust{focal_clust}.pdf'\n",
    "sz.draw.draw_graph(\n",
    "    g,\n",
    "    vertex_text=g.vp['sequence'],\n",
    "    vertex_color=not_in_path,\n",
    "    vertex_font_size=5,\n",
    "    vertex_fill_color=vertex_color,\n",
    "    output=outpath,\n",
    "    vcmap=(mpl.cm.magma, 1),\n",
    "    output_size=(2500, 2500),\n",
    ")\n",
    "print(outpath)"
   ]
  },
  {
   "cell_type": "raw",
   "id": "ce23040d-cf96-438e-ae3c-b7766ed264a5",
   "metadata": {},
   "source": [
    "g = neighborhood_graph\n",
    "\n",
    "sz.draw.update_xypositions(g)\n",
    "vertex_color = g.new_vertex_property('float', vals=np.log(sz.results.total_depth_property(g).a + 1))\n",
    "\n",
    "unpressed_graph_vertices = list(sz.results.iter_find_vertices_with_any_segment(unpressed_graph, chain(*final_results.loc[all_clust_vertices].segments)))\n",
    "print(len(unpressed_graph_vertices), len(g))\n",
    "not_in_path = unpressed_graph.new_vertex_property('float', val=1)\n",
    "not_in_path.a[unpressed_graph_vertices] = 0\n",
    "\n",
    "outpath = f'{fig_dir}/neighborhood-clust{focal_clust}.pdf'\n",
    "sz.draw.draw_graph(\n",
    "    g,\n",
    "    vertex_text=g.vp['sequence'],\n",
    "    vertex_color=not_in_path,\n",
    "    vertex_font_size=5,\n",
    "    vertex_fill_color=vertex_color,\n",
    "    output=outpath,\n",
    "    vcmap=(mpl.cm.magma, 1),\n",
    "    output_size=(1500, 1500),\n",
    ")\n",
    "print(outpath)"
   ]
  },
  {
   "cell_type": "raw",
   "id": "d656b650-62d2-459d-922a-a34b3fd3bdb9",
   "metadata": {},
   "source": [
    "d = vertex_depth.loc[final_results[lambda x: (x.length > 500)].index][lambda x: x.sum(1) > 1000]\n",
    "_linkage = linkage((d + 1), method='average', metric='cosine')\n",
    "_clust = pd.Series(fcluster(_linkage, 0.025, criterion='distance'), index=d.index)"
   ]
  },
  {
   "cell_type": "raw",
   "id": "043fc999-5459-4c0f-9897-3d1935c7d27d",
   "metadata": {},
   "source": [
    "from lib.plot import construct_ordered_palette\n",
    "top_clusts = _clust.value_counts()[:50].index\n",
    "top_clusts_palette = construct_ordered_palette(top_clusts, cm=\"rainbow\")"
   ]
  },
  {
   "cell_type": "raw",
   "id": "71ef5a7d-7d84-4b80-8146-f45bb6b01b99",
   "metadata": {},
   "source": [
    "clust_results = final_results.loc[_clust.index].assign(clust=_clust, tally=1).groupby('clust').agg({'length': 'sum', 'num_segments': 'sum', 'total_depth': 'mean', 'segments': 'sum', 'tally': 'sum'}).sort_values('length', ascending=False)\n",
    "clust_results.head(50)"
   ]
  },
  {
   "cell_type": "raw",
   "id": "30995dd5-1e41-45f7-b6b1-a18a0b2b8f2d",
   "metadata": {},
   "source": [
    "segment_length.loc[list(set(clust_results.loc[781].segments))].sum()"
   ]
  },
  {
   "cell_type": "raw",
   "id": "a35c54cf-29c8-4c59-867b-e7462bb80c70",
   "metadata": {},
   "source": [
    "focal_clust = 781\n",
    "radius = 100\n",
    "\n",
    "all_clust_vertices = idxwhere(_clust == focal_clust)\n",
    "\n",
    "focal_segments = list(set(chain(*final_results.loc[all_clust_vertices].segments)))\n",
    "print(len(all_clust_vertices), len(focal_segments))\n",
    "\n",
    "unpressed_graph_core_vertices = list(sz.results.iter_find_vertices_with_any_segment(unpressed_graph, focal_segments))\n",
    "unpressed_graph_distance_to_core = sz.topology.get_shortest_distance(unpressed_graph, unpressed_graph_core_vertices, unpressed_graph.vp['length'], max_length=radius, backlinked=backlinked_unpressed_graph, verbose=True)\n",
    "in_neighborhood = unpressed_graph.new_vertex_property('bool', vals=unpressed_graph_distance_to_core.a < radius - 1)\n",
    "\n",
    "neighborhood_graph = gt.GraphView(unpressed_graph, vfilt=in_neighborhood)\n",
    "print(neighborhood_graph)\n",
    "\n",
    "final_results.loc[all_clust_vertices].sort_values('total_depth')"
   ]
  },
  {
   "cell_type": "raw",
   "id": "4c1145b4-da15-473f-9984-65fbbc083d77",
   "metadata": {},
   "source": [
    "sz.draw.update_xypositions(neighborhood_graph)\n",
    "vertex_color = neighborhood_graph.new_vertex_property('float', vals=np.log(sz.results.total_depth_property(neighborhood_graph).a + 1))\n",
    "\n",
    "unpressed_graph_vertices = list(sz.results.iter_find_vertices_with_any_segment(unpressed_graph, chain(*final_results.loc[all_clust_vertices].segments)))\n",
    "print(len(unpressed_graph_vertices))\n",
    "not_in_path = unpressed_graph.new_vertex_property('bool', val=True)\n",
    "not_in_path.a[unpressed_graph_vertices] = 0\n",
    "\n",
    "outpath = f'{fig_dir}/neighborhood-clust{focal_clust}.pdf'\n",
    "sz.draw.draw_graph(\n",
    "    neighborhood_graph,\n",
    "    vertex_text=neighborhood_graph.vp['sequence'],\n",
    "    vertex_halo=not_in_path,\n",
    "    vertex_halo_size=0.9,\n",
    "    vertex_font_size=5,\n",
    "    vertex_fill_color=vertex_color,\n",
    "    output=outpath,\n",
    "    vcmap=(mpl.cm.magma, 1),\n",
    "    output_size=(1500, 1500),\n",
    ")\n",
    "print(outpath)"
   ]
  },
  {
   "cell_type": "raw",
   "id": "5d443d85-aa6a-4ec6-9a7b-a1496138e210",
   "metadata": {},
   "source": [
    "print(_clust.value_counts()[lambda x: (x > 50) & (x < 150)])\n",
    "print(final_results.loc[_clust.index].assign(clust=_clust)[lambda x: x.clust == 1928][['length', 'num_segments']].sum())\n",
    "final_results.loc[_clust.index].assign(clust=_clust)[lambda x: x.clust == 1928]"
   ]
  },
  {
   "cell_type": "raw",
   "id": "3c0fcc38-268a-4b23-bd80-25d6d88c9dd9",
   "metadata": {},
   "source": [
    "final_results[lambda x: x.length > 1000].sort_values('total_depth', ascending=False).head()"
   ]
  },
  {
   "cell_type": "raw",
   "id": "7b26f62d-1dae-4dc4-9c63-79e4ebeec0d8",
   "metadata": {},
   "source": [
    "focal_path = 242477\n",
    "radius = 100\n",
    "\n",
    "focal_segments = list(set(chain(*final_results.loc[[focal_path]].segments)))\n",
    "print(1, len(focal_segments))\n",
    "\n",
    "unpressed_graph_core_vertices = list(sz.results.iter_find_vertices_with_any_segment(unpressed_graph, focal_segments))\n",
    "unpressed_graph_distance_to_core = sz.topology.get_shortest_distance(unpressed_graph, unpressed_graph_core_vertices, unpressed_graph.vp['length'], max_length=radius, backlinked=backlinked_unpressed_graph, verbose=True)\n",
    "in_neighborhood = unpressed_graph.new_vertex_property('bool', vals=unpressed_graph_distance_to_core.a < radius - 1)\n",
    "\n",
    "neighborhood_graph = gt.GraphView(unpressed_graph, vfilt=in_neighborhood)\n",
    "print(neighborhood_graph)\n",
    "\n",
    "final_results.loc[[focal_path]]"
   ]
  },
  {
   "cell_type": "raw",
   "id": "f9450694-58f4-4409-acec-08bb79153e5e",
   "metadata": {},
   "source": [
    "sz.draw.update_xypositions(neighborhood_graph)\n",
    "vertex_color = neighborhood_graph.new_vertex_property('float', vals=np.log(sz.results.total_depth_property(neighborhood_graph).a + 1))\n",
    "\n",
    "# outpath = f'{fig_dir}/neighborhood-{focal_path}.final.pdf'\n",
    "# sz.draw.draw_graph(\n",
    "#     neighborhood_graph,\n",
    "#     vertex_text=neighborhood_graph.vp['sequence'],\n",
    "#     # vertex_halo=in_path,\n",
    "#     vertex_font_size=5,\n",
    "#     vertex_fill_color=vertex_color,\n",
    "#     output=outpath,\n",
    "#     vcmap=(mpl.cm.magma, 1),\n",
    "#     output_size=(800, 800),\n",
    "# )\n",
    "# print(outpath)\n",
    "\n",
    "# for path in related_paths:\n",
    "for path in [337156]:\n",
    "    unpressed_graph_vertices = list(sz.results.iter_find_vertices_with_any_segment(unpressed_graph, final_results.loc[path].segments))\n",
    "    print(len(unpressed_graph_vertices))\n",
    "    in_path = unpressed_graph.new_vertex_property('bool', val=False)\n",
    "    in_path.a[unpressed_graph_vertices] = 1\n",
    "    outpath = f'{fig_dir}/neighborhood-{focal_path}.final.neighbor-{path}.pdf'\n",
    "    sz.draw.draw_graph(\n",
    "        neighborhood_graph,\n",
    "        vertex_text=neighborhood_graph.vp['sequence'],\n",
    "        vertex_halo=in_path,\n",
    "        vertex_font_size=5,\n",
    "        vertex_fill_color=vertex_color,\n",
    "        output=outpath,\n",
    "        vcmap=(mpl.cm.magma, 1),\n",
    "        output_size=(800, 800),\n",
    "    )\n",
    "    print(outpath)"
   ]
  },
  {
   "cell_type": "raw",
   "id": "cc88399d-21e5-48e5-b55d-4ad56b74a0bf",
   "metadata": {
    "execution": {
     "iopub.execute_input": "2024-05-14T18:06:05.773871Z",
     "iopub.status.busy": "2024-05-14T18:06:05.773001Z",
     "iopub.status.idle": "2024-05-14T18:06:15.891221Z",
     "shell.execute_reply": "2024-05-14T18:06:15.795759Z",
     "shell.execute_reply.started": "2024-05-14T18:06:05.773828Z"
    }
   },
   "source": [
    "# Instead of alternative paths in the final graph, try alternative paths in a previous iteration:\n",
    "\n",
    "previous_graph = alt1_graph\n",
    "previous_results = alt1_results\n",
    "previous_paths = list(sz.results.iter_find_vertices_with_any_segment(previous_graph, final_results.loc[focal_path].segments))\n",
    "\n",
    "for path in previous_paths:\n",
    "    original_graph_vertices = list(sz.results.iter_find_vertices_with_any_segment(original_graph, previous_results.loc[path].segments))\n",
    "    print(len(original_graph_vertices))\n",
    "    in_path = original_graph.new_vertex_property('bool', val=False)\n",
    "    in_path.a[original_graph_vertices] = 1\n",
    "    outpath = f'{fig_dir}/neighborhood-{focal_path}.previous.overlapping-{path}.pdf'\n",
    "    sz.draw.draw_graph(\n",
    "        neighborhood_graph,\n",
    "        vertex_text=neighborhood_graph.vp['sequence'],\n",
    "        vertex_halo=in_path,\n",
    "        vertex_font_size=5,\n",
    "        vertex_fill_color=vertex_color,\n",
    "        output=outpath,\n",
    "        vcmap=(mpl.cm.magma, 1),\n",
    "        output_size=(500, 500),\n",
    "    )\n",
    "    print(outpath)\n",
    "\n",
    "previous_results.loc[previous_paths]"
   ]
  },
  {
   "cell_type": "raw",
   "id": "17b77e37-90c8-4fb0-8f34-152f5889e6a7",
   "metadata": {},
   "source": [
    "fit2.sigma"
   ]
  },
  {
   "cell_type": "raw",
   "id": "3aec5c88-ece7-4793-ba4a-3b5bc8011ced",
   "metadata": {},
   "source": [
    "fit.score, fit2.score"
   ]
  },
  {
   "cell_type": "raw",
   "id": "8e35342d-5514-4df7-a19c-07b7624181e2",
   "metadata": {},
   "source": [
    "j = 196732\n",
    "\n",
    "_, in_neighbors, in_flows, out_neighbors, out_flows = list(\n",
    "    sz.app.assemble._iter_junction_deconvolution_data(\n",
    "        [j], final_graph, final_graph.ep['flow'], max_paths=1000\n",
    "    )\n",
    ")[0]\n",
    "\n",
    "\n",
    "n, m = len(in_neighbors), len(out_neighbors)\n",
    "print(f\"{n} x {m}\")\n",
    "print()\n",
    "\n",
    "\n",
    "fit, paths, named_paths, score_margin = sz.deconvolution2.deconvolve_junction(\n",
    "    in_neighbors,\n",
    "    in_flows,\n",
    "    out_neighbors,\n",
    "    out_flows,\n",
    "    sz.depth_model.LogPlusAlphaLogNormal(alpha=1.0, maxiter=10000),\n",
    "    # forward_stop=-1000,\n",
    "    # backward_stop=0,\n",
    "    verbose=True,\n",
    ")\n",
    "print(paths, score_margin)\n",
    "\n",
    "X, y, labels = sz.deconvolution.formulate_path_deconvolution(in_flows, out_flows)\n",
    "\n",
    "print()\n",
    "print(f\"score_margin={score_margin}\")\n",
    "print(f\"completeness={X[:, paths].sum(1)}\")\n",
    "print(f\"minimalism={len(paths)}\")"
   ]
  },
  {
   "cell_type": "raw",
   "id": "ddf1fe34-9711-4387-a35c-8f6c0c114424",
   "metadata": {
    "tags": []
   },
   "source": [
    "j = 196732\n",
    "\n",
    "_, in_neighbors, in_flows, out_neighbors, out_flows = list(\n",
    "    sz.app.assemble._iter_junction_deconvolution_data(\n",
    "        [j], final_graph, final_graph.ep['flow'], max_paths=1000\n",
    "    )\n",
    ")[0]\n",
    "\n",
    "\n",
    "n, m = len(in_neighbors), len(out_neighbors)\n",
    "print(f\"{n} x {m}\")\n",
    "print()\n",
    "\n",
    "\n",
    "fit, paths, named_paths, score_margin = sz.deconvolution.deconvolve_junction(\n",
    "    in_neighbors,\n",
    "    in_flows,\n",
    "    out_neighbors,\n",
    "    out_flows,\n",
    "    sz.depth_model.LogPlusAlphaLogNormal(alpha=1.0, maxiter=10000),\n",
    "    # forward_stop=-1000,\n",
    "    # backward_stop=0,\n",
    "    verbose=True,\n",
    ")\n",
    "\n",
    "X, y, labels = sz.deconvolution.formulate_path_deconvolution(in_flows, out_flows)\n",
    "\n",
    "print()\n",
    "print(f\"score_margin={score_margin}\")\n",
    "print(f\"completeness={X[:, paths].sum(1)}\")\n",
    "print(f\"minimalism={len(paths)}\")"
   ]
  },
  {
   "cell_type": "raw",
   "id": "dcf592d2-14a1-4d38-b6ed-47f595cc65af",
   "metadata": {},
   "source": [
    "%autoreload"
   ]
  },
  {
   "cell_type": "raw",
   "id": "30e3b473-2ffc-47d3-b331-4151eb2ff771",
   "metadata": {
    "tags": []
   },
   "source": [
    "(\n",
    "    is_converged,\n",
    "    score_margin,\n",
    "    completeness_ratio,\n",
    "    excess_paths,\n",
    "    relative_stderr,\n",
    "    absolute_stderr,\n",
    "    result,\n",
    ") = sz.app.assemble._calculate_junction_deconvolution((\n",
    "        j,\n",
    "        in_neighbors,\n",
    "        in_flows,\n",
    "        out_neighbors,\n",
    "        out_flows,\n",
    "        -0.0,\n",
    "        0.0,\n",
    "        sz.depth_model.LogPlusAlphaLogNormal(alpha=1.0, maxiter=100000)\n",
    "    ))\n",
    "\n",
    "(\n",
    "    is_converged,\n",
    "    score_margin,\n",
    "    completeness_ratio,\n",
    "    excess_paths,\n",
    "    relative_stderr,\n",
    "    absolute_stderr,\n",
    "    result,\n",
    ")"
   ]
  },
  {
   "cell_type": "raw",
   "id": "c9cf3a69-f3ee-48fd-9101-e56d48e5f794",
   "metadata": {
    "execution": {
     "iopub.execute_input": "2024-05-13T16:43:47.832067Z",
     "iopub.status.busy": "2024-05-13T16:43:47.831474Z",
     "iopub.status.idle": "2024-05-13T16:43:51.761315Z",
     "shell.execute_reply": "2024-05-13T16:43:51.760491Z",
     "shell.execute_reply.started": "2024-05-13T16:43:47.832029Z"
    }
   },
   "source": [
    "%autoreload"
   ]
  },
  {
   "cell_type": "raw",
   "id": "2226a0af-9a37-4ed3-bb6d-d8b7e60d6624",
   "metadata": {
    "execution": {
     "iopub.execute_input": "2024-05-13T16:25:58.934813Z",
     "iopub.status.busy": "2024-05-13T16:25:58.934091Z",
     "iopub.status.idle": "2024-05-13T16:25:58.945874Z",
     "shell.execute_reply": "2024-05-13T16:25:58.943675Z",
     "shell.execute_reply.started": "2024-05-13T16:25:58.934764Z"
    }
   },
   "source": [
    "import strainzip.depth_model4"
   ]
  },
  {
   "cell_type": "raw",
   "id": "a655b817-04d8-4364-ba34-d07e2bbbad88",
   "metadata": {
    "execution": {
     "iopub.execute_input": "2024-05-13T16:44:28.176892Z",
     "iopub.status.busy": "2024-05-13T16:44:28.176449Z",
     "iopub.status.idle": "2024-05-13T16:44:28.326735Z",
     "shell.execute_reply": "2024-05-13T16:44:28.323251Z",
     "shell.execute_reply.started": "2024-05-13T16:44:28.176861Z"
    }
   },
   "source": [
    "for paths in [(1, 2, 3), (0, 1, 2, 3), (3,), (0, 3)]:\n",
    "    f = sz.depth_model4.SoftPlusStudentsT().fit(y, X[:, paths])\n",
    "    print(sz.depth_model4.loglik(f.beta, f.sigma, f.df, f.y, f.X), f.score)"
   ]
  },
  {
   "cell_type": "raw",
   "id": "f401f663-3d98-416e-8652-cbf9b645a63e",
   "metadata": {
    "execution": {
     "iopub.execute_input": "2024-05-13T16:32:47.343140Z",
     "iopub.status.busy": "2024-05-13T16:32:47.342647Z",
     "iopub.status.idle": "2024-05-13T16:32:47.352690Z",
     "shell.execute_reply": "2024-05-13T16:32:47.351211Z",
     "shell.execute_reply.started": "2024-05-13T16:32:47.343115Z"
    }
   },
   "source": [
    "from jax.scipy.stats import norm as JaxNormalDistribution\n",
    "\n",
    "JaxNormalDistribution"
   ]
  },
  {
   "cell_type": "raw",
   "id": "9aa06406-ed7a-49be-abc9-999c2dbc07ea",
   "metadata": {
    "execution": {
     "iopub.execute_input": "2024-05-13T16:03:29.209643Z",
     "iopub.status.busy": "2024-05-13T16:03:29.209232Z",
     "iopub.status.idle": "2024-05-13T16:03:29.314551Z",
     "shell.execute_reply": "2024-05-13T16:03:29.288625Z",
     "shell.execute_reply.started": "2024-05-13T16:03:29.209607Z"
    }
   },
   "source": [
    "f = fit2\n",
    "\n",
    "sz.depth_model2.loglik(f.beta, f.sigma, f.y, f.X)"
   ]
  },
  {
   "cell_type": "raw",
   "id": "7407cab3-a92b-4732-bbe0-b2cf36e6576d",
   "metadata": {
    "execution": {
     "iopub.execute_input": "2024-05-13T16:11:28.432945Z",
     "iopub.status.busy": "2024-05-13T16:11:28.432573Z",
     "iopub.status.idle": "2024-05-13T16:11:29.275472Z",
     "shell.execute_reply": "2024-05-13T16:11:29.258526Z",
     "shell.execute_reply.started": "2024-05-13T16:11:28.432921Z"
    }
   },
   "source": [
    "for k, f in {'3path': fit, '2path': fit2}.items():\n",
    "    plt.hist((f.residual / f.sigma).ravel(), label=k, alpha=0.5)\n",
    "plt.legend()"
   ]
  },
  {
   "cell_type": "raw",
   "id": "74c637ff-d1e8-4d30-8a18-22eca73c6e95",
   "metadata": {
    "execution": {
     "iopub.execute_input": "2024-05-13T04:39:37.051072Z",
     "iopub.status.busy": "2024-05-13T04:39:37.050778Z",
     "iopub.status.idle": "2024-05-13T04:39:39.228781Z",
     "shell.execute_reply": "2024-05-13T04:39:39.227641Z",
     "shell.execute_reply.started": "2024-05-13T04:39:37.051051Z"
    }
   },
   "source": [
    "\n",
    "\n",
    "# _fit = sz.depth_model2.fit(fit.y, sz.deconvolution.design_paths(2, 2)[0][:, (0, 3)])\n",
    "# print(_fit.score)\n",
    "# fig = plt.figure()\n",
    "# sns.heatmap(_fit.residual, norm=mpl.colors.SymLogNorm(1, vmin=-1e3, vmax=1e3), cmap='coolwarm')\n",
    "\n",
    "# _fit = sz.depth_model.fit(fit.y, sz.deconvolution.design_paths(2, 2)[0][:,(0, 3)], alpha=1.0)\n",
    "# print(_fit.score)\n",
    "# fig = plt.figure()\n",
    "# sns.heatmap(_fit.residual, norm=mpl.colors.SymLogNorm(1, vmin=-1e2, vmax=1e2), cmap='coolwarm')\n",
    "\n",
    "# _fit = sz.depth_model.fit(fit.y, sz.deconvolution.design_paths(2, 2)[0][:,(1, 2)], alpha=1.0)\n",
    "# print(_fit.score)\n",
    "# fig = plt.figure()\n",
    "# sns.heatmap(_fit.residual, norm=mpl.colors.SymLogNorm(1, vmin=-1e2, vmax=1e2), cmap='coolwarm')"
   ]
  },
  {
   "cell_type": "raw",
   "id": "cb1a9435-fe97-43b5-9761-fb0f416d5c5c",
   "metadata": {},
   "source": [
    "j = 681824\n",
    "\n",
    "condition_thresh = 1e6\n",
    "score_margin_thesh = 10\n",
    "\n",
    "_, in_neighbors, in_flows, out_neighbors, out_flows = list(\n",
    "    _iter_junction_deconvolution_data(\n",
    "        [j], nounzip_graph, flow, max_paths=1000\n",
    "    )\n",
    ")[0]\n",
    "\n",
    "n, m = len(in_neighbors), len(out_neighbors)\n",
    "fit, paths, named_paths, score_margin = sz.deconvolution.deconvolve_junction(\n",
    "    in_neighbors,\n",
    "    in_flows,\n",
    "    out_neighbors,\n",
    "    out_flows,\n",
    "    model=sz.depth_model2.SoftPlusNormal(),\n",
    "    forward_stop=-0,\n",
    "    backward_stop=0,\n",
    "    verbose=True,\n",
    ")\n",
    "\n",
    "X = sz.deconvolution.design_paths(n, m)[0]\n",
    "\n",
    "print()\n",
    "print(f\"{n} x {m}\")\n",
    "print(f\"score_margin={score_margin}\")\n",
    "print(f\"completeness={X[:, paths].sum(1)}\")\n",
    "print(f\"minimalism={len(paths)}\")\n",
    "print(f\"condition={np.linalg.cond(fit.hessian_beta)}\")\n",
    "\n",
    "fim = np.linalg.inv(fit.hessian_beta)\n",
    "stderr = np.diag(fim).reshape(fit.beta.shape)"
   ]
  },
  {
   "cell_type": "raw",
   "id": "eb6ed540-538c-42d7-afb1-ee3c69ac2601",
   "metadata": {
    "execution": {
     "iopub.execute_input": "2024-05-10T19:11:39.511707Z",
     "iopub.status.busy": "2024-05-10T19:11:39.511453Z",
     "iopub.status.idle": "2024-05-10T19:11:39.531879Z",
     "shell.execute_reply": "2024-05-10T19:11:39.526682Z",
     "shell.execute_reply.started": "2024-05-10T19:11:39.511689Z"
    }
   },
   "source": [
    "flow[(680763, 273766)], flow[(680763, 588133)]"
   ]
  },
  {
   "cell_type": "raw",
   "id": "10d563e2-748a-497b-862d-917445aeab10",
   "metadata": {
    "execution": {
     "iopub.execute_input": "2024-05-01T20:06:37.804118Z",
     "iopub.status.busy": "2024-05-01T20:06:37.803529Z",
     "iopub.status.idle": "2024-05-01T20:06:37.863744Z",
     "shell.execute_reply": "2024-05-01T20:06:37.861670Z",
     "shell.execute_reply.started": "2024-05-01T20:06:37.804077Z"
    }
   },
   "source": [
    "final_results[lambda x: (x.num_in_neighbors == 4) & (x.num_out_neighbors == 4)].tail(20)"
   ]
  },
  {
   "cell_type": "raw",
   "id": "c60bb789-0bdb-40cd-9e52-ed1d0bf037fe",
   "metadata": {
    "execution": {
     "iopub.execute_input": "2024-05-01T19:45:16.178461Z",
     "iopub.status.busy": "2024-05-01T19:45:16.178065Z",
     "iopub.status.idle": "2024-05-01T19:45:18.319149Z",
     "shell.execute_reply": "2024-05-01T19:45:18.318183Z",
     "shell.execute_reply.started": "2024-05-01T19:45:16.178432Z"
    }
   },
   "source": [
    "%autoreload"
   ]
  },
  {
   "cell_type": "raw",
   "id": "6471d3f0-8506-42a0-aa29-eb028275ff13",
   "metadata": {
    "execution": {
     "iopub.execute_input": "2024-05-03T19:48:46.292908Z",
     "iopub.status.busy": "2024-05-03T19:48:46.292101Z",
     "iopub.status.idle": "2024-05-03T19:48:46.677477Z",
     "shell.execute_reply": "2024-05-03T19:48:46.676144Z",
     "shell.execute_reply.started": "2024-05-03T19:48:46.292562Z"
    }
   },
   "source": [
    "j = 140422\n",
    "\n",
    "condition_thresh = 1e6\n",
    "score_margin_thesh = 10\n",
    "\n",
    "_, in_neighbors, in_flows, out_neighbors, out_flows = list(\n",
    "    _iter_junction_deconvolution_data(\n",
    "        [j], final_graph, flow, max_paths=1000\n",
    "    )\n",
    ")[0]\n",
    "\n",
    "n, m = len(in_neighbors), len(out_neighbors)\n",
    "fit, paths, named_paths, score_margin = sz.deconvolution.deconvolve_junction(\n",
    "    in_neighbors,\n",
    "    in_flows,\n",
    "    out_neighbors,\n",
    "    out_flows,\n",
    "    model=sz.depth_model2.SoftPlusNormal(),\n",
    "    forward_stop=-0,\n",
    "    backward_stop=0,\n",
    "    verbose=True,\n",
    ")\n",
    "\n",
    "X = sz.deconvolution.design_paths(n, m)[0]\n",
    "\n",
    "print()\n",
    "print(f\"{n} x {m}\")\n",
    "print(f\"score_margin={score_margin}\")\n",
    "print(f\"completeness={X[:, paths].sum(1)}\")\n",
    "print(f\"minimalism={len(paths)}\")\n",
    "print(f\"condition={np.linalg.cond(fit.hessian_beta)}\")\n",
    "\n",
    "fim = np.linalg.inv(fit.hessian_beta)\n",
    "stderr = np.diag(fim).reshape(fit.beta.shape)"
   ]
  },
  {
   "cell_type": "raw",
   "id": "4f529d17-5227-4c75-9871-2c6467a903ee",
   "metadata": {
    "execution": {
     "iopub.execute_input": "2024-05-01T21:02:09.210995Z",
     "iopub.status.busy": "2024-05-01T21:02:09.210493Z",
     "iopub.status.idle": "2024-05-01T21:02:13.798894Z",
     "shell.execute_reply": "2024-05-01T21:02:13.797957Z",
     "shell.execute_reply.started": "2024-05-01T21:02:09.210950Z"
    }
   },
   "source": [
    "g = final_graph.copy()\n",
    "g"
   ]
  },
  {
   "cell_type": "raw",
   "id": "b578c207-36a5-47aa-8fb5-5d6cf22e5cec",
   "metadata": {
    "execution": {
     "iopub.execute_input": "2024-05-01T21:02:16.136729Z",
     "iopub.status.busy": "2024-05-01T21:02:16.136144Z",
     "iopub.status.idle": "2024-05-01T21:02:16.222323Z",
     "shell.execute_reply": "2024-05-01T21:02:16.167156Z",
     "shell.execute_reply.started": "2024-05-01T21:02:16.136693Z"
    }
   },
   "source": [
    "g.add_vertex("
   ]
  }
 ],
 "metadata": {
  "kernelspec": {
   "display_name": "strainzip",
   "language": "python",
   "name": "strainzip"
  },
  "language_info": {
   "codemirror_mode": {
    "name": "ipython",
    "version": 3
   },
   "file_extension": ".py",
   "mimetype": "text/x-python",
   "name": "python",
   "nbconvert_exporter": "python",
   "pygments_lexer": "ipython3",
   "version": "3.12.3"
  }
 },
 "nbformat": 4,
 "nbformat_minor": 5
}
