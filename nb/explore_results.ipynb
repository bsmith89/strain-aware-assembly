{
 "cells": [
  {
   "cell_type": "markdown",
   "id": "8c421ffe-a0e2-401f-bf29-241ebbf5357b",
   "metadata": {},
   "source": [
    "# Preamble"
   ]
  },
  {
   "cell_type": "code",
   "execution_count": null,
   "id": "1ba711d0",
   "metadata": {
    "tags": []
   },
   "outputs": [],
   "source": [
    "!date"
   ]
  },
  {
   "cell_type": "code",
   "execution_count": null,
   "id": "3e9106a9",
   "metadata": {
    "tags": []
   },
   "outputs": [],
   "source": [
    "%load_ext autoreload\n",
    "%load_ext line_profiler"
   ]
  },
  {
   "cell_type": "code",
   "execution_count": null,
   "id": "febd92f3-1729-40c5-b6d4-1587a4dc2880",
   "metadata": {
    "tags": []
   },
   "outputs": [],
   "source": [
    "import logging\n",
    "\n",
    "logging.basicConfig(level=logging.INFO, force=True)"
   ]
  },
  {
   "cell_type": "code",
   "execution_count": null,
   "id": "20895b5e",
   "metadata": {
    "tags": []
   },
   "outputs": [],
   "source": [
    "import os as _os\n",
    "\n",
    "_os.chdir(_os.environ[\"PROJECT_ROOT\"])"
   ]
  },
  {
   "cell_type": "code",
   "execution_count": null,
   "id": "46b4e431",
   "metadata": {
    "tags": []
   },
   "outputs": [],
   "source": [
    "import os\n",
    "from contextlib import contextmanager\n",
    "from itertools import chain, product\n",
    "from multiprocessing import Pool\n",
    "\n",
    "import fastcluster\n",
    "import graph_tool as gt\n",
    "import graph_tool.draw\n",
    "import matplotlib as mpl\n",
    "import matplotlib.pyplot as plt\n",
    "import numpy as np\n",
    "import pandas as pd\n",
    "import scipy as sp\n",
    "import seaborn as sns\n",
    "import strainzip as sz\n",
    "import strainzip.app.unzip\n",
    "import xarray as xr\n",
    "from graph_tool.util import find_edge\n",
    "from scipy.cluster.hierarchy import fcluster, linkage\n",
    "from strainzip.pandas_util import idxwhere\n",
    "from tqdm import tqdm\n",
    "\n",
    "import lib.plot"
   ]
  },
  {
   "cell_type": "markdown",
   "id": "0ed8620e-8e25-4e88-aa12-464eaa071d97",
   "metadata": {},
   "source": [
    "# Params"
   ]
  },
  {
   "cell_type": "markdown",
   "id": "d48c55a4-71e1-4a9d-a8b9-31390a27bf1c",
   "metadata": {},
   "source": [
    "## Plotting"
   ]
  },
  {
   "cell_type": "code",
   "execution_count": null,
   "id": "55c9d317-a5b2-43d4-a292-9c553e69facd",
   "metadata": {},
   "outputs": [],
   "source": [
    "mpl.rcParams[\"figure.dpi\"] = 100\n",
    "# sns.set_context('talk')"
   ]
  },
  {
   "cell_type": "code",
   "execution_count": null,
   "id": "9e48973f",
   "metadata": {
    "tags": []
   },
   "outputs": [],
   "source": [
    "# Plotting parameters\n",
    "\n",
    "length_bins = np.logspace(0, 6.5, num=51)\n",
    "depth_bins = np.logspace(-1, 4, num=51)\n",
    "\n",
    "draw_graphs = True"
   ]
  },
  {
   "cell_type": "markdown",
   "id": "d1a2dc29-c76e-4eee-be3b-6c75ac1f05c4",
   "metadata": {},
   "source": [
    "## Which assembly / output dir"
   ]
  },
  {
   "cell_type": "code",
   "execution_count": null,
   "id": "ecac1f02-78db-4e01-a5bd-202e957c4e32",
   "metadata": {
    "tags": []
   },
   "outputs": [],
   "source": [
    "k = 111\n",
    "group = \"btheta_2strains_tiles_k111\"\n",
    "graph_type = f\"k{k}-denovo0\"\n",
    "smoothing = \"smoothed-6\"\n",
    "deconv = \"norm-nobal-10-10\"\n",
    "clust_params = \"e50-n20000-d20\"\n",
    "\n",
    "fig_dir = f\"data/group/{group}/r.proc.ggcat-{graph_type}.notips-2.{smoothing}.unzip-{deconv}.figs.d\"\n",
    "try:\n",
    "    os.mkdir(fig_dir)\n",
    "except FileExistsError:\n",
    "    pass"
   ]
  },
  {
   "cell_type": "markdown",
   "id": "b7cdaeab-f023-4761-9472-f97d18e7b72d",
   "metadata": {},
   "source": [
    "# Load data / Summarize stats"
   ]
  },
  {
   "cell_type": "markdown",
   "id": "4a1c2caa-fddd-40a2-9b74-3b3cd41728c4",
   "metadata": {},
   "source": [
    "## Metadata"
   ]
  },
  {
   "cell_type": "raw",
   "id": "ba7aea1e-6eaf-4b30-8020-66d847874f58",
   "metadata": {},
   "source": [
    "mgen_order = xr.open_dataarray(\n",
    "    f\"data/group/{group}/r.proc.ggcat-{graph_type}.unitig_depth.nc\"\n",
    ").sample.values\n",
    "\n",
    "mgen_meta = (\n",
    "    pd.read_table(\"meta/mgen.tsv\", index_col=\"mgen_id\")\n",
    "    .loc[mgen_order]\n",
    "    .assign(\n",
    "        collection_date=lambda x: pd.to_datetime(x.collection_date),\n",
    "        idx=lambda x: range(len(x)),\n",
    "    )\n",
    "    .reset_index()\n",
    "    .set_index(\"idx\")\n",
    ")\n",
    "mgen_meta.sort_values(\"collection_date\")"
   ]
  },
  {
   "cell_type": "code",
   "execution_count": null,
   "id": "127a1946-aa51-40fe-b993-913c22758fb0",
   "metadata": {},
   "outputs": [],
   "source": [
    "# Metadata\n",
    "sample_idx_to_id = (\n",
    "    pd.read_table(\"meta/mgen_group.tsv\", names=[\"mgen_id\", \"mgen_group\"])[\n",
    "        lambda x: x.mgen_group == group\n",
    "    ]\n",
    "    .mgen_id.to_frame()\n",
    "    .assign(idx=lambda x: range(len(x)))\n",
    "    .set_index(\"idx\")\n",
    "    .mgen_id\n",
    ")\n",
    "sample_idx_to_id\n",
    "\n",
    "# NOTE: This only applies to xjin samples:\n",
    "# sample_idx_to_id = sample_idx_to_id.str.split('_', n=1).str[1]\n",
    "sample_idx_to_id  # .head()"
   ]
  },
  {
   "cell_type": "code",
   "execution_count": null,
   "id": "43d048c5-c3eb-4ec4-b153-64a33a43d02b",
   "metadata": {},
   "outputs": [],
   "source": [
    "clust_meta = pd.read_table(\n",
    "    f\"data/group/{group}/r.proc.ggcat-{graph_type}.notips-2.{smoothing}.unzip-{deconv}.clust-{clust_params}.meta.tsv\",\n",
    "    index_col=\"cluster\",\n",
    ")\n",
    "vertex_to_clust = pd.read_table(\n",
    "    f\"data/group/{group}/r.proc.ggcat-{graph_type}.notips-2.{smoothing}.unzip-{deconv}.clust-{clust_params}.vertex.tsv\",\n",
    "    index_col=\"vertex\",\n",
    ").cluster\n",
    "segement_x_clust = pd.read_table(\n",
    "    f\"data/group/{group}/r.proc.ggcat-{graph_type}.notips-2.{smoothing}.unzip-{deconv}.clust-{clust_params}.segment.tsv\",\n",
    "    index_col=\"segment\",\n",
    ").cluster\n",
    "print(len(clust_meta))\n",
    "clust_meta.sort_values(\"total_length\", ascending=False).head(20)"
   ]
  },
  {
   "cell_type": "markdown",
   "id": "8f98869c-15a7-4872-8148-43b7dffeaa98",
   "metadata": {},
   "source": [
    "## Graphs"
   ]
  },
  {
   "cell_type": "code",
   "execution_count": null,
   "id": "b856cba3-8962-414a-b1a3-bdb092c67c75",
   "metadata": {},
   "outputs": [],
   "source": [
    "%%time\n",
    "\n",
    "unpressed_graph = sz.io.load_graph(\n",
    "    f\"data/group/{group}/r.proc.ggcat-{graph_type}.notips-2-unpressed.sz\"\n",
    ")\n",
    "unpressed_results = sz.results.extract_vertex_data(unpressed_graph)\n",
    "print(\n",
    "    (unpressed_results.length * unpressed_results.total_depth).sum()\n",
    "    / unpressed_results.total_depth.sum()\n",
    ")\n",
    "\n",
    "obs_segment_depth = sz.results.extract_segment_depth(unpressed_graph)"
   ]
  },
  {
   "cell_type": "code",
   "execution_count": null,
   "id": "2b0bbcc0-d9db-4082-9d26-9ccacb909eb5",
   "metadata": {},
   "outputs": [],
   "source": [
    "segment_length = (\n",
    "    unpressed_results.assign(segment=lambda x: x.segments.str[0])\n",
    "    .set_index(\"segment\")\n",
    "    .length\n",
    ")\n",
    "# For each segment how many extra paths could have gone through it? max((N * M) - 1, 0)\n",
    "segment_complexity = pd.Series(\n",
    "    (unpressed_results.num_in_neighbors * unpressed_results.num_out_neighbors - 1)\n",
    "    .where(lambda x: x > 0, 0)\n",
    "    .values,\n",
    "    index=unpressed_results.segments.str[0],\n",
    ")\n",
    "squared_segment_complexity = np.square(segment_complexity)\n",
    "\n",
    "plt.hist(segment_complexity, bins=np.arange(segment_complexity.max() + 1))\n",
    "plt.yscale(\"log\")"
   ]
  },
  {
   "cell_type": "raw",
   "id": "1c1b4c56-7043-4e9c-b590-6b926f43540f",
   "metadata": {
    "execution": {
     "iopub.execute_input": "2024-11-06T16:08:43.637276Z",
     "iopub.status.busy": "2024-11-06T16:08:43.636848Z",
     "iopub.status.idle": "2024-11-06T16:22:50.791833Z",
     "shell.execute_reply": "2024-11-06T16:22:50.791303Z",
     "shell.execute_reply.started": "2024-11-06T16:08:43.637261Z"
    }
   },
   "source": [
    "_graph = sz.io.load_graph(\n",
    "    f\"data/group/xjin/r.proc.ggcat-k111-withmegahit3-droptips.notips-2.{smoothing}.sz\"\n",
    ")"
   ]
  },
  {
   "cell_type": "code",
   "execution_count": null,
   "id": "6eacfa5b-9962-4fc3-998d-0d80fca4dcf0",
   "metadata": {
    "tags": []
   },
   "outputs": [],
   "source": [
    "%%time\n",
    "final_graph = sz.io.load_graph(\n",
    "    f\"data/group/{group}/r.proc.ggcat-{graph_type}.notips-2.{smoothing}.unzip-{deconv}.sz\"\n",
    ")\n",
    "final_results = sz.results.extract_vertex_data(final_graph)\n",
    "ss_vertex_complexity = (\n",
    "    final_results.segments.explode()\n",
    "    .to_frame(\"segment\")\n",
    "    .reset_index()\n",
    "    .join(squared_segment_complexity.rename(\"segment_complexity\"), on=\"segment\")\n",
    "    .drop_duplicates()\n",
    "    .groupby(\"vertex\")\n",
    "    .segment_complexity.sum()\n",
    ")\n",
    "vertex_complexity = np.sqrt(ss_vertex_complexity)\n",
    "\n",
    "final_results = final_results.assign(\n",
    "    complexity=vertex_complexity,\n",
    "    clust=vertex_to_clust.reindex(final_results.index, fill_value=-1),\n",
    ")\n",
    "\n",
    "vertex_depth = sz.results.depth_table(final_graph, final_graph.get_vertices()).T\n",
    "vertex_length = pd.Series(final_graph.vp[\"length\"], index=final_graph.get_vertices())"
   ]
  },
  {
   "cell_type": "code",
   "execution_count": null,
   "id": "4faaf6c3-4d3b-4067-b4a7-723b6ac52cf8",
   "metadata": {},
   "outputs": [],
   "source": [
    "# Normalize by rpoB and gyrA depth\n",
    "\n",
    "marker_model = \"TIGR02013\"\n",
    "\n",
    "marker_genes = pd.read_table(\n",
    "    f\"data/group/{group}/r.proc.ggcat-{graph_type}.notips-2.{smoothing}.unzip-{deconv}.cds.tran.hmmer-{marker_model}-ga.tsv\",\n",
    "    names=[\"orf\", \"gene_name\", \"bitscore\"],\n",
    ").assign(vertex=lambda x: x.orf.str.split(\"_\").str[0].astype(int))\n",
    "_marker_gene_vertex_list = list(set(marker_genes.vertex))\n",
    "marker_depth = vertex_depth.loc[_marker_gene_vertex_list].T\n",
    "total_marker_depth = marker_depth.sum(1)\n",
    "\n",
    "print(marker_genes)\n",
    "\n",
    "normalized_vertex_depth = vertex_depth.divide(total_marker_depth)\n",
    "\n",
    "marker_rabund = marker_depth.divide(total_marker_depth, axis=0)\n",
    "# plt.hist(marker_depth.sum())\n",
    "sns.clustermap(\n",
    "    marker_rabund.rename(sample_idx_to_id) + 1e-5,\n",
    "    norm=mpl.colors.SymLogNorm(1e-5, vmin=0, vmax=1),\n",
    "    metric=\"cosine\",\n",
    ")"
   ]
  },
  {
   "cell_type": "raw",
   "id": "1b73fcb3-847a-4bf7-b642-6fc4f27eaca2",
   "metadata": {
    "execution": {
     "iopub.execute_input": "2024-08-09T22:19:06.592764Z",
     "iopub.status.busy": "2024-08-09T22:19:06.590058Z",
     "iopub.status.idle": "2024-08-09T22:19:10.964976Z",
     "shell.execute_reply": "2024-08-09T22:19:10.964139Z",
     "shell.execute_reply.started": "2024-08-09T22:19:06.592732Z"
    }
   },
   "source": [
    "# NOTE: Based on xjin samples\n",
    "\n",
    "kraken_read_counts = pd.read_csv('/pollard/home/xiaofanj/microbiomeAdhesion/intermediates/biofilmBeadExpV2/customKrakenOutputs/customKraken2BrackenAbundances.csv').set_index(['Strain_Name', 'sample']).new_est_reads.unstack('Strain_Name', fill_value=0)\n",
    "kraken_rabund = kraken_read_counts.divide(kraken_read_counts.sum(1), axis=0)\n",
    "\n",
    "sns.clustermap(kraken_rabund, norm=mpl.colors.SymLogNorm(1e-5), metric='cosine')"
   ]
  },
  {
   "cell_type": "code",
   "execution_count": null,
   "id": "4a79c398-5367-4545-9104-0b67f748f473",
   "metadata": {},
   "outputs": [],
   "source": [
    "%%time\n",
    "\n",
    "print(\n",
    "    (final_results.length * final_results.total_depth).sum()\n",
    "    / final_results.total_depth.sum()\n",
    ")\n",
    "final_segment_depth = sz.results.extract_segment_depth(final_graph)"
   ]
  },
  {
   "cell_type": "code",
   "execution_count": null,
   "id": "a84bc24d-9f5b-49c8-bdaf-8585ac43d9e9",
   "metadata": {
    "tags": []
   },
   "outputs": [],
   "source": [
    "# Used below for visualizing the graph\n",
    "# This part is slow enough that it's better to cache it and pass it to the get_shortest_distance function.\n",
    "backlinked_unpressed_graph = sz.topology.backlinked_graph(unpressed_graph)"
   ]
  },
  {
   "cell_type": "code",
   "execution_count": null,
   "id": "a6565b2e-8516-4053-9534-381c8a310a2e",
   "metadata": {},
   "outputs": [],
   "source": [
    "%%time\n",
    "\n",
    "y, x = obs_segment_depth.align(final_segment_depth, join=\"left\")\n",
    "\n",
    "left = -3\n",
    "right = np.ceil(np.log10(max(y.max().max(), x.max().max()))) + 1\n",
    "bins = np.concatenate([[0], np.logspace(left, right, num=50)])\n",
    "\n",
    "fig = plt.figure()\n",
    "plt.hist2d(\n",
    "    x.values.ravel(),\n",
    "    y.values.ravel(),\n",
    "    bins=bins,\n",
    "    norm=mpl.colors.SymLogNorm(linthresh=1),\n",
    ")\n",
    "plt.xscale(\"symlog\", linthresh=1e-3, linscale=0.2)\n",
    "plt.yscale(\"symlog\", linthresh=1e-3, linscale=0.2)\n",
    "plt.plot([1e-2, 1e5], [1e-2, 1e5], lw=1, linestyle=\"--\", color=\"r\")\n",
    "plt.colorbar()\n",
    "\n",
    "plt.xticks(np.logspace(-3, 7, num=6))\n",
    "plt.yticks(np.logspace(-3, 7, num=6))\n",
    "plt.xlabel(\"Predicted Depth\")\n",
    "plt.ylabel(\"Observed Depth\")\n",
    "\n",
    "print(sp.stats.pearsonr(x.values.ravel(), y.values.ravel()))\n",
    "\n",
    "fig = plt.figure()\n",
    "plt.scatter(x.sum(), y.sum())"
   ]
  },
  {
   "cell_type": "code",
   "execution_count": null,
   "id": "c5a4c573-7f02-43da-9045-d4d73e3a2da0",
   "metadata": {},
   "outputs": [],
   "source": [
    "sp.stats.pearsonr(x.values.ravel(), y.values.ravel()).statistic ** 2"
   ]
  },
  {
   "cell_type": "code",
   "execution_count": null,
   "id": "511efe8f-5d2b-4cc8-8995-6fccf7af95a0",
   "metadata": {},
   "outputs": [],
   "source": [
    "notips_graph = sz.io.load_graph(\n",
    "    f\"data/group/{group}/r.proc.ggcat-{graph_type}.notips-2.{smoothing}.sz\"\n",
    ")\n",
    "notips_results = sz.results.extract_vertex_data(notips_graph)\n",
    "sz.stats.depth_weighted_mean_tig_length(notips_graph)"
   ]
  },
  {
   "cell_type": "code",
   "execution_count": null,
   "id": "28a32fcc-5857-49e1-b082-7636369e1ce2",
   "metadata": {},
   "outputs": [],
   "source": [
    "notips_unsmoothed_graph = sz.io.load_graph(\n",
    "    f\"data/group/{group}/r.proc.ggcat-{graph_type}.notips-2.sz\"\n",
    ")\n",
    "notips_unsmoothed_results = sz.results.extract_vertex_data(notips_unsmoothed_graph)\n",
    "sz.stats.depth_weighted_mean_tig_length(notips_unsmoothed_graph)"
   ]
  },
  {
   "cell_type": "code",
   "execution_count": null,
   "id": "746be0ed-266a-43e6-88c2-2f155ab5acb0",
   "metadata": {},
   "outputs": [],
   "source": [
    "%%time\n",
    "\n",
    "unsmoothed_segment_depth = sz.results.extract_segment_depth(notips_unsmoothed_graph)\n",
    "smoothed_segment_depth = sz.results.extract_segment_depth(notips_graph)"
   ]
  },
  {
   "cell_type": "code",
   "execution_count": null,
   "id": "3879a6e5-2387-4af7-a460-6c8095c51a00",
   "metadata": {},
   "outputs": [],
   "source": [
    "%%time\n",
    "\n",
    "y, x = unsmoothed_segment_depth.align(smoothed_segment_depth, join=\"left\")\n",
    "\n",
    "left = -3\n",
    "right = np.ceil(np.log10(max(y.max().max(), x.max().max()))) + 1\n",
    "bins = np.concatenate([[0], np.logspace(left, right, num=50)])\n",
    "\n",
    "fig = plt.figure()\n",
    "plt.hist2d(\n",
    "    x.values.ravel(),\n",
    "    y.values.ravel(),\n",
    "    bins=bins,\n",
    "    norm=mpl.colors.SymLogNorm(linthresh=1),\n",
    ")\n",
    "plt.xscale(\"symlog\", linthresh=1e-3, linscale=0.2)\n",
    "plt.yscale(\"symlog\", linthresh=1e-3, linscale=0.2)\n",
    "plt.plot([1e-2, 1e5], [1e-2, 1e5], lw=1, linestyle=\"--\", color=\"r\")\n",
    "plt.colorbar()\n",
    "\n",
    "plt.xticks(np.logspace(-3, 7, num=6))\n",
    "plt.yticks(np.logspace(-3, 7, num=6))\n",
    "plt.xlabel(\"Smoothed Depth\")\n",
    "plt.ylabel(\"Unsmoothed Depth\")\n",
    "\n",
    "print(sp.stats.pearsonr(x.values.ravel(), y.values.ravel()))\n",
    "\n",
    "fig = plt.figure()\n",
    "plt.scatter(x.sum(), y.sum())"
   ]
  },
  {
   "cell_type": "code",
   "execution_count": null,
   "id": "77664643-a144-4b00-a454-f971fb627147",
   "metadata": {},
   "outputs": [],
   "source": [
    "iterative_graphs = []\n",
    "iterative_results = []\n",
    "\n",
    "for round_i in range(10):\n",
    "    inpath = f\"data/group/{group}/r.proc.ggcat-{graph_type}.notips-2.{smoothing}.unzip-{deconv}.checkpoints.d/checkpoint_{round_i}.sz\"\n",
    "\n",
    "    if not os.path.exists(inpath):\n",
    "        break\n",
    "\n",
    "    iterative_graphs.append(sz.io.load_graph(inpath))\n",
    "    iterative_results.append(sz.results.extract_vertex_data(iterative_graphs[-1]))\n",
    "    print(\n",
    "        round_i, sz.stats.depth_weighted_mean_tig_length(iterative_graphs[-1]), sep=\"\\t\"\n",
    "    )"
   ]
  },
  {
   "cell_type": "code",
   "execution_count": null,
   "id": "7596d78b-8250-45ea-b6fb-d95b55256c86",
   "metadata": {},
   "outputs": [],
   "source": [
    "# Overall, we get about 2x as much long sequence depth (distribution of tig lengths of assigned kmers)\n",
    "fig, ax = plt.subplots(figsize=(10, 5))\n",
    "\n",
    "_results_mapping = (\n",
    "    {\n",
    "        \"raw\": unpressed_results,\n",
    "        \"notips\": notips_results,\n",
    "    }\n",
    "    | {f\"round{i}\": res for i, res in enumerate(iterative_results)}\n",
    "    | {\"final\": final_results}\n",
    ")\n",
    "\n",
    "_cmap = lib.plot.construct_ordered_palette(_results_mapping.keys(), cm=\"rainbow\")\n",
    "\n",
    "\n",
    "for _label in _results_mapping:\n",
    "    _results = _results_mapping[_label]\n",
    "    _c = _cmap[_label]\n",
    "    d = _results.sort_values(\"length\", ascending=False).assign(\n",
    "        length_x_depth=lambda x: x.total_depth * x.length,\n",
    "        length_x_depth_cumsum=lambda x: x.length_x_depth.cumsum(),\n",
    "    )\n",
    "    ax.plot(\"length\", \"length_x_depth_cumsum\", data=d, label=_label, color=_c, lw=2)\n",
    "\n",
    "ax.set_xlabel(\"Sequence Length\")\n",
    "ax.set_ylabel(\"Cumulative K-mers Assigned\")\n",
    "ax.set_xscale(\"log\")\n",
    "ax.set_yscale(\"log\")\n",
    "ax.set_xlim(left=1e3)\n",
    "# ax.set_ylim(1e9, 4e10)\n",
    "\n",
    "ax.legend(loc=\"lower left\")  # bbox_to_anchor=(1, 1))\n",
    "# ax.invert_xaxis()\n",
    "\n",
    "\n",
    "depth_weighted_median_tig_length_data = {\"Kmer\": 1}\n",
    "depth_unweighted_median_tig_length_data = {\"Kmer\": 1}\n",
    "depth_weighted_mean_tig_length_data = {\"Kmer\": 1}\n",
    "\n",
    "for round_name in _results_mapping:\n",
    "    d0 = (\n",
    "        _results_mapping[round_name]\n",
    "        .assign(total_kmers=lambda x: x.length * x.total_depth)\n",
    "        .sort_values(\"length\", ascending=False)\n",
    "    )\n",
    "    median_weighted_vertex = (\n",
    "        (d0.total_kmers.cumsum() / d0.total_kmers.sum()) > 0.5\n",
    "    ).idxmax()\n",
    "    median_unweighted_vertex = ((d0.length.cumsum() / d0.length.sum()) > 0.5).idxmax()\n",
    "    depth_weighted_median_tig_length_data[round_name] = d0.loc[\n",
    "        median_weighted_vertex\n",
    "    ].length\n",
    "    depth_unweighted_median_tig_length_data[round_name] = d0.loc[\n",
    "        median_unweighted_vertex\n",
    "    ].length\n",
    "    depth_weighted_mean_tig_length_data[round_name] = (\n",
    "        d0.total_kmers.sum() / d0.total_depth.sum()\n",
    "    )\n",
    "    print(\n",
    "        f\"{round_name:<15}\",\n",
    "        depth_weighted_median_tig_length_data[round_name],\n",
    "        depth_unweighted_median_tig_length_data[round_name],\n",
    "        depth_weighted_mean_tig_length_data[round_name],\n",
    "        sep=\"\\t\",\n",
    "    )\n",
    "\n",
    "depth_weighted_median_tig_length_data = pd.Series(depth_weighted_median_tig_length_data)\n",
    "depth_unweighted_median_tig_length_data = pd.Series(\n",
    "    depth_weighted_median_tig_length_data\n",
    ")\n",
    "depth_weighted_mean_tig_length_data = pd.Series(depth_weighted_mean_tig_length_data)\n",
    "\n",
    "\n",
    "fig, ax = plt.subplots()\n",
    "_color_palette = lib.plot.construct_ordered_palette(\n",
    "    depth_weighted_median_tig_length_data.keys()\n",
    ")\n",
    "plt.plot(depth_weighted_median_tig_length_data)\n",
    "plt.scatter(\n",
    "    range(len(depth_weighted_median_tig_length_data)),\n",
    "    depth_weighted_median_tig_length_data.values,\n",
    "    c=depth_weighted_median_tig_length_data.index.to_series().map(_color_palette),\n",
    "    edgecolor=\"grey\",\n",
    "    zorder=2,\n",
    ")\n",
    "for x, (_label, y) in enumerate(depth_weighted_median_tig_length_data.items()):\n",
    "    plt.annotate(\n",
    "        y,\n",
    "        xy=(x, y),\n",
    "        rotation=-45,\n",
    "        ha=\"left\",\n",
    "        va=\"top\",\n",
    "        xytext=(5, -5),\n",
    "        textcoords=\"offset pixels\",\n",
    "    )\n",
    "lib.plot.rotate_xticklabels(rotation=-45, ha=\"left\", va=\"top\")\n",
    "plt.ylabel(\"Kmer-weighted median path length\")\n",
    "plt.ylim(bottom=-3000)\n",
    "plt.xlim(right=14)\n",
    "\n",
    "fig, ax = plt.subplots()\n",
    "plt.plot(depth_weighted_mean_tig_length_data)\n",
    "plt.scatter(\n",
    "    range(len(depth_weighted_mean_tig_length_data)),\n",
    "    depth_weighted_mean_tig_length_data.values,\n",
    "    c=depth_weighted_mean_tig_length_data.index.to_series().map(_color_palette),\n",
    "    edgecolor=\"grey\",\n",
    "    zorder=2,\n",
    ")\n",
    "for x, (_label, y) in enumerate(depth_weighted_mean_tig_length_data.items()):\n",
    "    plt.annotate(\n",
    "        round(y),\n",
    "        xy=(x, y),\n",
    "        rotation=-45,\n",
    "        ha=\"left\",\n",
    "        va=\"top\",\n",
    "        xytext=(5, -5),\n",
    "        textcoords=\"offset pixels\",\n",
    "    )\n",
    "lib.plot.rotate_xticklabels(rotation=-45, ha=\"left\", va=\"top\")\n",
    "plt.ylabel(\"Kmer-weighted mean path length\")\n",
    "plt.ylim(bottom=-3000)\n",
    "plt.xlim(right=14)"
   ]
  },
  {
   "cell_type": "markdown",
   "id": "96c7fddb-7918-469b-91ae-46a9ad3c59ea",
   "metadata": {},
   "source": [
    "## Test Assumptions"
   ]
  },
  {
   "cell_type": "code",
   "execution_count": null,
   "id": "39b696ec-7d45-4ee5-bc3c-9da012dc8e9c",
   "metadata": {},
   "outputs": [],
   "source": [
    "d = (\n",
    "    obs_segment_depth[[0]]\n",
    "    .rename(columns={0: \"depth\"})\n",
    "    .reset_index()\n",
    "    .assign(strand=lambda x: x.segments.str[-1], unitig=lambda x: x.segments.str[:-1])\n",
    "    .set_index([\"unitig\", \"strand\"])\n",
    "    .depth.unstack()\n",
    ")\n",
    "d.assign(matches=lambda d: d[\"+\"] == d[\"-\"]).matches.mean()"
   ]
  },
  {
   "cell_type": "code",
   "execution_count": null,
   "id": "937fd92f-d698-42b4-87c7-2ed45e043073",
   "metadata": {},
   "outputs": [],
   "source": [
    "d = (\n",
    "    final_segment_depth[[0]]\n",
    "    .rename(columns={0: \"depth\"})\n",
    "    .reset_index()\n",
    "    .assign(strand=lambda x: x.segments.str[-1], unitig=lambda x: x.segments.str[:-1])\n",
    "    .set_index([\"unitig\", \"strand\"])\n",
    "    .depth.unstack()\n",
    ")\n",
    "print(d.assign(matches=lambda d: d[\"+\"] == d[\"-\"]).matches.mean())\n",
    "d\n",
    "# d.assign(matches=lambda d: d['+'] == d['-']).matches.mean()"
   ]
  },
  {
   "cell_type": "code",
   "execution_count": null,
   "id": "99554574-3d06-4f3a-86bd-5b214b3229d4",
   "metadata": {},
   "outputs": [],
   "source": [
    "g = notips_graph\n",
    "\n",
    "d = (\n",
    "    sz.results.extract_segment_depth(g)[[0]]\n",
    "    .rename(columns={0: \"depth\"})\n",
    "    .reset_index()\n",
    "    .assign(strand=lambda x: x.segments.str[-1], unitig=lambda x: x.segments.str[:-1])\n",
    "    .set_index([\"unitig\", \"strand\"])\n",
    "    .depth.unstack()\n",
    ")\n",
    "print((d[\"+\"] == d[\"-\"]).mean())\n",
    "print(np.abs((d[\"+\"] - d[\"-\"])).max())"
   ]
  },
  {
   "cell_type": "code",
   "execution_count": null,
   "id": "165720f6-8889-4a0f-a731-8082797dcfbc",
   "metadata": {},
   "outputs": [],
   "source": [
    "g = notips_unsmoothed_graph\n",
    "\n",
    "d = (\n",
    "    sz.results.extract_segment_depth(g)[[0]]\n",
    "    .rename(columns={0: \"depth\"})\n",
    "    .reset_index()\n",
    "    .assign(strand=lambda x: x.segments.str[-1], unitig=lambda x: x.segments.str[:-1])\n",
    "    .set_index([\"unitig\", \"strand\"])\n",
    "    .depth.unstack()\n",
    ")\n",
    "print((d[\"+\"] == d[\"-\"]).mean())\n",
    "print(np.abs((d[\"+\"] - d[\"-\"])).max())"
   ]
  },
  {
   "cell_type": "code",
   "execution_count": null,
   "id": "4c5431ef-a178-4f7b-a03e-595f941bb77d",
   "metadata": {},
   "outputs": [],
   "source": [
    "obs_segment_depth.unstack().value_counts()"
   ]
  },
  {
   "cell_type": "markdown",
   "id": "f3eb0cf1-8304-46df-92cc-88c9c828647f",
   "metadata": {},
   "source": [
    "## Annotations"
   ]
  },
  {
   "cell_type": "markdown",
   "id": "4c1e6005-6528-4933-8326-5b0e0b57dea1",
   "metadata": {},
   "source": [
    "### CRISPR"
   ]
  },
  {
   "cell_type": "raw",
   "id": "741240da-08a5-4e2d-a523-02c0f08bc86a",
   "metadata": {
    "execution": {
     "iopub.execute_input": "2024-11-13T11:32:38.700702Z",
     "iopub.status.busy": "2024-11-13T11:32:38.700559Z",
     "iopub.status.idle": "2024-11-13T11:32:39.273699Z",
     "shell.execute_reply": "2024-11-13T11:32:39.271990Z",
     "shell.execute_reply.started": "2024-11-13T11:32:38.700688Z"
    }
   },
   "source": [
    "# CRISPR Annotations\n",
    "\n",
    "\n",
    "def _normalize_vals(x):\n",
    "    return (x - x.min()) / (x.max() - x.min())\n",
    "\n",
    "\n",
    "crispr_network = pd.read_table(\n",
    "    f\"data/group/{group}/r.proc.ggcat-{graph_type}.notips-2.{smoothing}.unzip-{deconv}.cctk.d/PROCESSED/Array_network.txt\"\n",
    ")\n",
    "crispr_positions = (\n",
    "    pd.read_table(\n",
    "        f\"data/group/{group}/r.proc.ggcat-{graph_type}.notips-2.{smoothing}.unzip-{deconv}.cctk.d/PROCESSED/Array_locations.bed\"\n",
    "    )\n",
    "    .rename(columns={\"#contig\": \"contig\"})\n",
    "    .assign(\n",
    "        vertex=lambda d: d.contig.str.split(\"_\").str[0].astype(int),\n",
    "        left=lambda x: x.contigStart,\n",
    "        right=lambda x: x.contigEnd,\n",
    "        length=lambda x: x.right - x.left,\n",
    "    )\n",
    ")\n",
    "_all_crispr_indices = list(set(crispr_network.Array_A) | set(crispr_network.Array_B))\n",
    "sim_matrix = (\n",
    "    crispr_network.set_index([\"Array_A\", \"Array_B\"])\n",
    "    .Jaccard_similarity.unstack(fill_value=0)\n",
    "    .reindex(index=_all_crispr_indices, columns=_all_crispr_indices, fill_value=0)\n",
    ")\n",
    "sim_matrix = sim_matrix + sim_matrix.T + np.eye(len(_all_crispr_indices))\n",
    "\n",
    "_crispr_colors = crispr_positions.assign(\n",
    "    c=lambda x: list(mpl.cm.viridis(_normalize_vals(x.length**1)))\n",
    ")[\"c\"]\n",
    "\n",
    "sns.clustermap(\n",
    "    sim_matrix, col_colors=_crispr_colors, row_colors=_crispr_colors, metric=\"cosine\"\n",
    ")\n",
    "\n",
    "_match = idxwhere(sim_matrix.loc[814] > 0)\n",
    "sns.clustermap(\n",
    "    sim_matrix.loc[_match, _match],\n",
    "    row_colors=_crispr_colors.loc[_match],\n",
    "    col_colors=_crispr_colors.loc[_match],\n",
    "    metric=\"cosine\",\n",
    ")"
   ]
  },
  {
   "cell_type": "markdown",
   "id": "45e18e7e-f778-4925-8d75-2c67e8443991",
   "metadata": {},
   "source": [
    "### Phage / Plasmid / AMR"
   ]
  },
  {
   "cell_type": "code",
   "execution_count": null,
   "id": "a1c4dbff-7eef-439d-bcad-b1301a0a6e1d",
   "metadata": {},
   "outputs": [],
   "source": [
    "# Load annotations\n",
    "\n",
    "phage_positions = pd.read_table(\n",
    "    f\"data/group/{group}/r.proc.ggcat-{graph_type}.notips-2.{smoothing}.unzip-{deconv}.genomad.d/contigs_summary/contigs_virus_summary.tsv\"\n",
    ")\n",
    "prophage_positions = phage_positions[lambda x: x.topology.isin([\"Provirus\"])].assign(\n",
    "    vertex=lambda d: d.seq_name.str.split(\"_\").str[0].str.split(\"|\").str[0].astype(int),\n",
    "    left=lambda d: d.coordinates.str.split(\"-\").str[0].astype(int),\n",
    "    right=lambda d: d.coordinates.str.split(\"-\").str[1].astype(int),\n",
    ")\n",
    "\n",
    "non_prophage_positions = phage_positions[\n",
    "    lambda x: ~x.topology.isin([\"Provirus\"])\n",
    "].assign(\n",
    "    vertex=lambda d: d.seq_name.str.split(\"_\").str[0].str.split(\"|\").str[0].astype(int),\n",
    ")\n",
    "\n",
    "all_phage_positions = phage_positions.assign(\n",
    "    vertex=lambda d: d.seq_name.str.split(\"_\").str[0].str.split(\"|\").str[0].astype(int),\n",
    "    # left=lambda d: d.coordinates.str.split(\"-\").str[0].astype(int),\n",
    "    # right=lambda d: d.coordinates.str.split(\"-\").str[1].astype(int),\n",
    ")"
   ]
  },
  {
   "cell_type": "code",
   "execution_count": null,
   "id": "9dfd8170-1fdf-4723-88da-76ec4fb61342",
   "metadata": {},
   "outputs": [],
   "source": [
    "plasmid_vertex_annot = pd.read_table(\n",
    "    f\"data/group/{group}/r.proc.ggcat-{graph_type}.notips-2.{smoothing}.unzip-{deconv}.genomad.d/contigs_summary/contigs_plasmid_summary.tsv\"\n",
    ").assign(\n",
    "    vertex=lambda d: d.seq_name.str.split(\"_\").str[0].str.split(\"|\").str[0].astype(int)\n",
    ")\n",
    "\n",
    "plasmid_vertex_annot[lambda x: ~x.amr_genes.isna()].sort_values(\n",
    "    \"n_hallmarks\", ascending=False\n",
    ").head(20)"
   ]
  },
  {
   "cell_type": "code",
   "execution_count": null,
   "id": "d78f6953-5879-4da3-89f4-f3f25c3543df",
   "metadata": {},
   "outputs": [],
   "source": [
    "plasmid_gene_positions = pd.read_table(\n",
    "    f\"data/group/{group}/r.proc.ggcat-{graph_type}.notips-2.{smoothing}.unzip-{deconv}.genomad.d/contigs_summary/contigs_plasmid_genes.tsv\"\n",
    ")\n",
    "plasmid_gene_positions = plasmid_gene_positions[\n",
    "    lambda x: x.plasmid_hallmark == 1\n",
    "].assign(\n",
    "    vertex=lambda d: d.gene.str.split(\"_\").str[0].astype(int),\n",
    "    left=lambda d: d.start - 1,\n",
    "    right=lambda d: d.end,\n",
    ")\n",
    "\n",
    "plasmid_gene_positions.value_counts(\"vertex\")"
   ]
  },
  {
   "cell_type": "code",
   "execution_count": null,
   "id": "67f7fdf2-f897-4de0-9652-8de034d2dcba",
   "metadata": {},
   "outputs": [],
   "source": [
    "# Load annotations\n",
    "\n",
    "amr_positions = pd.read_table(\n",
    "    f\"data/group/{group}/r.proc.ggcat-{graph_type}.notips-2.{smoothing}.unzip-{deconv}.resfinder.d/ResFinder_results_tab.txt\"\n",
    ")\n",
    "amr_positions = amr_positions.assign(\n",
    "    vertex=lambda d: d[\"Contig\"].str.split(\"_\").str[0].astype(int),\n",
    "    left=lambda d: d[\"Position in contig\"].str.split(\".\").str[0].astype(int),\n",
    "    right=lambda d: d[\"Position in contig\"].str.split(\".\").str[-1].astype(int),\n",
    ")"
   ]
  },
  {
   "cell_type": "raw",
   "id": "8b9277a2-1e93-46b0-ac7e-016361d7ab59",
   "metadata": {
    "execution": {
     "iopub.execute_input": "2024-08-13T15:15:22.288344Z",
     "iopub.status.busy": "2024-08-13T15:15:22.288135Z",
     "iopub.status.idle": "2024-08-13T15:15:22.512931Z",
     "shell.execute_reply": "2024-08-13T15:15:22.512498Z",
     "shell.execute_reply.started": "2024-08-13T15:15:22.288330Z"
    }
   },
   "source": [
    "d = pd.merge(amr_positions, segment_positions, on='vertex', suffixes=('_amr', '_segment'))[lambda x: (x.right_segment > x.left_amr) & (x.left_segment < x.right_amr)]\n",
    "\n",
    "d.segment.value_counts()"
   ]
  },
  {
   "cell_type": "raw",
   "id": "837b500f-6aab-431a-a55c-13cc373acc8f",
   "metadata": {
    "execution": {
     "iopub.execute_input": "2024-08-13T15:27:24.117542Z",
     "iopub.status.busy": "2024-08-13T15:27:24.116922Z",
     "iopub.status.idle": "2024-08-13T15:27:24.128099Z",
     "shell.execute_reply": "2024-08-13T15:27:24.127758Z",
     "shell.execute_reply.started": "2024-08-13T15:27:24.117524Z"
    }
   },
   "source": [
    "vertex_list = d[lambda x: x.segment == '131889+'].vertex.values\n",
    "final_results.loc[vertex_list]"
   ]
  },
  {
   "cell_type": "code",
   "execution_count": null,
   "id": "9050c67e-d906-4da8-a953-ef50aea3bd54",
   "metadata": {},
   "outputs": [],
   "source": [
    "(\n",
    "    amr_positions\n",
    "    # [lambda x: x['Resistance gene'] == 'cepA']\n",
    "    # ['Resistance gene'].value_counts()\n",
    ")"
   ]
  },
  {
   "cell_type": "code",
   "execution_count": null,
   "id": "323df969-d67f-453f-b2a3-4fd666979c05",
   "metadata": {},
   "outputs": [],
   "source": [
    "# Prophage with an encoded AMR gene.\n",
    "pd.merge(\n",
    "    amr_positions,\n",
    "    all_phage_positions,\n",
    "    how=\"inner\",\n",
    "    on=\"vertex\",\n",
    "    suffixes=[\"_amr\", \"_prophage\"],\n",
    ")"
   ]
  },
  {
   "cell_type": "code",
   "execution_count": null,
   "id": "08a10aae-1316-476d-902d-30160cb3f7cd",
   "metadata": {},
   "outputs": [],
   "source": [
    "# Plasmid with an encoded AMR gene.\n",
    "pd.merge(\n",
    "    amr_positions,\n",
    "    plasmid_vertex_annot,\n",
    "    how=\"inner\",\n",
    "    on=\"vertex\",\n",
    "    suffixes=[\"_amr\", \"_plasmid\"],\n",
    ")"
   ]
  },
  {
   "cell_type": "markdown",
   "id": "89de5e7b-4734-489a-b2d5-f66179762531",
   "metadata": {},
   "source": [
    "### CRISPR Plasmids"
   ]
  },
  {
   "cell_type": "raw",
   "id": "a2dc23c5-fc92-4f43-9445-bd80637c478c",
   "metadata": {
    "execution": {
     "iopub.status.busy": "2024-11-13T11:32:39.279634Z",
     "iopub.status.idle": "2024-11-13T11:32:39.279791Z",
     "shell.execute_reply": "2024-11-13T11:32:39.279717Z",
     "shell.execute_reply.started": "2024-11-13T11:32:39.279710Z"
    }
   },
   "source": [
    "# Plasmid with an encoded CRISPR array.\n",
    "pd.merge(\n",
    "    crispr_positions,\n",
    "    plasmid_vertex_annot,\n",
    "    how=\"inner\",\n",
    "    on=\"vertex\",\n",
    "    suffixes=[\"_crispr\", \"_plasmid\"],\n",
    ").join(final_results[['length', 'num_segments', 'total_depth', 'clust']], on='vertex').sort_values('marker_enrichment', ascending=False).head(10)"
   ]
  },
  {
   "cell_type": "markdown",
   "id": "a4145b6f-7bdd-4d54-9286-ff3eca06f775",
   "metadata": {},
   "source": [
    "### Mark segments with annotations"
   ]
  },
  {
   "cell_type": "code",
   "execution_count": null,
   "id": "80f0d2a1-0d84-4848-a889-6e4fbdc56eff",
   "metadata": {},
   "outputs": [],
   "source": [
    "# Compile segments in vertices\n",
    "segment_positions = sz.results.vertex_segment_positions(\n",
    "    final_results, segment_length, final_graph.gp[\"kmer_length\"]\n",
    ")"
   ]
  },
  {
   "cell_type": "raw",
   "id": "48c4bf4b-597a-419c-8d23-3a7c2d9eb193",
   "metadata": {
    "execution": {
     "iopub.execute_input": "2024-11-13T11:33:12.279653Z",
     "iopub.status.busy": "2024-11-13T11:33:12.279486Z",
     "iopub.status.idle": "2024-11-13T11:33:12.293372Z",
     "shell.execute_reply": "2024-11-13T11:33:12.292880Z",
     "shell.execute_reply.started": "2024-11-13T11:33:12.279639Z"
    }
   },
   "source": [
    "crispr_unitig = (\n",
    "    pd.merge(\n",
    "        segment_positions,\n",
    "        crispr_positions,\n",
    "        on=\"vertex\",\n",
    "        how=\"inner\",\n",
    "        suffixes=[\"_segment\", \"_feat\"],\n",
    "    )[lambda x: (x.right_segment > x.left_feat) & (x.left_segment < x.right_feat)]\n",
    "    .segment.str[:-1]\n",
    "    .unique()\n",
    ")\n",
    "len(crispr_unitig)"
   ]
  },
  {
   "cell_type": "code",
   "execution_count": null,
   "id": "4eac1381-9627-4f93-aeff-e53976763a54",
   "metadata": {},
   "outputs": [],
   "source": [
    "prophage_unitig = (\n",
    "    pd.merge(\n",
    "        segment_positions,\n",
    "        prophage_positions,\n",
    "        on=\"vertex\",\n",
    "        how=\"inner\",\n",
    "        suffixes=[\"_segment\", \"_feat\"],\n",
    "    )[lambda x: (x.right_segment > x.left_feat) & (x.left_segment < x.right_feat)]\n",
    "    .segment.str[:-1]\n",
    "    .unique()\n",
    ")\n",
    "len(prophage_unitig)"
   ]
  },
  {
   "cell_type": "code",
   "execution_count": null,
   "id": "4bb007c0-4b02-4995-a9f7-9c544f9e1209",
   "metadata": {},
   "outputs": [],
   "source": [
    "non_prophage_positions"
   ]
  },
  {
   "cell_type": "code",
   "execution_count": null,
   "id": "9348915a-5ad1-4e81-bcaf-1c54794b3cfa",
   "metadata": {},
   "outputs": [],
   "source": [
    "non_prophage_unitig = (\n",
    "    pd.merge(\n",
    "        segment_positions,\n",
    "        non_prophage_positions,\n",
    "        on=\"vertex\",\n",
    "        how=\"inner\",\n",
    "        suffixes=[\"_segment\", \"_feat\"],\n",
    "    )\n",
    "    .segment.str[:-1]\n",
    "    .unique()\n",
    ")\n",
    "len(non_prophage_unitig)"
   ]
  },
  {
   "cell_type": "code",
   "execution_count": null,
   "id": "d1dbc07c-e84a-4234-978f-26019114ce41",
   "metadata": {},
   "outputs": [],
   "source": [
    "phage_vertex_unitig = (\n",
    "    pd.merge(\n",
    "        segment_positions,\n",
    "        non_prophage_positions,\n",
    "        on=\"vertex\",\n",
    "        how=\"inner\",\n",
    "        suffixes=[\"_segment\", \"_feat\"],\n",
    "    )\n",
    "    .segment.str[:-1]\n",
    "    .unique()\n",
    ")\n",
    "\n",
    "len(phage_vertex_unitig)"
   ]
  },
  {
   "cell_type": "code",
   "execution_count": null,
   "id": "dc144824-de82-46b7-bb90-f0b4fb6134e0",
   "metadata": {},
   "outputs": [],
   "source": [
    "amr_unitig = (\n",
    "    pd.merge(\n",
    "        segment_positions,\n",
    "        amr_positions,\n",
    "        on=\"vertex\",\n",
    "        how=\"inner\",\n",
    "        suffixes=[\"_segment\", \"_feat\"],\n",
    "    )[lambda x: (x.right_segment > x.left_feat) & (x.left_segment < x.right_feat)]\n",
    "    .segment.str[:-1]\n",
    "    .unique()\n",
    ")\n",
    "len(amr_unitig)"
   ]
  },
  {
   "cell_type": "code",
   "execution_count": null,
   "id": "b127aee6-a2c3-4d78-bb8f-6f386827d97f",
   "metadata": {},
   "outputs": [],
   "source": [
    "plasmid_hallmark_unitig = (\n",
    "    pd.merge(\n",
    "        segment_positions,\n",
    "        plasmid_gene_positions,\n",
    "        on=\"vertex\",\n",
    "        how=\"inner\",\n",
    "        suffixes=[\"_segment\", \"_feat\"],\n",
    "    )[lambda x: (x.right_segment > x.left_feat) & (x.left_segment < x.right_feat)]\n",
    "    .segment.str[:-1]\n",
    "    .unique()\n",
    ")\n",
    "len(plasmid_hallmark_unitig)"
   ]
  },
  {
   "cell_type": "code",
   "execution_count": null,
   "id": "401577f4-0e99-40ab-ab46-5ea236c37707",
   "metadata": {},
   "outputs": [],
   "source": [
    "amr_prophage_unitig_set = set(amr_unitig) & set(prophage_unitig)\n",
    "amr_prophage_unitig_vertex_list = idxwhere(\n",
    "    final_results.segments.apply(\n",
    "        lambda p: bool(set(s[:-1] for s in p) & amr_prophage_unitig_set)\n",
    "    )\n",
    ")\n",
    "final_results.loc[amr_prophage_unitig_vertex_list]"
   ]
  },
  {
   "cell_type": "code",
   "execution_count": null,
   "id": "c9ec25c2-b6a1-4c6c-bb06-bdc095e3ea3b",
   "metadata": {},
   "outputs": [],
   "source": [
    "phage_positions"
   ]
  },
  {
   "cell_type": "code",
   "execution_count": null,
   "id": "fcac1bb4-6091-42fe-b007-61dba9d641fe",
   "metadata": {},
   "outputs": [],
   "source": [
    "pd.merge(\n",
    "    amr_positions, phage_positions, left_on=\"Contig\", right_on=\"seq_name\"\n",
    ")  # .taxonomy.iloc[2]"
   ]
  },
  {
   "cell_type": "raw",
   "id": "1c17ced8-7ec3-4f80-9282-b9534915065f",
   "metadata": {},
   "source": [
    "d0 = pd.merge(segment_positions, prophage_positions, on='vertex', how='left', suffixes=['_segment', '_prophage']).assign(overlaps_prophage=lambda x: (x.right_segment > x.left_prophage) & (x.left_segment < x.right_prophage))\n",
    "d1 = pd.merge(d0, amr_positions.rename(columns={'left': 'left_amr', 'right': 'right_amr'}), on='vertex', how='left').assign(overlaps_amr=lambda x: (x.right_segment > x.left_amr) & (x.left_segment < x.right_amr))"
   ]
  },
  {
   "cell_type": "raw",
   "id": "75081adb-231a-4cac-a70c-f1741d53953a",
   "metadata": {},
   "source": [
    "vertex = 233370\n",
    "\n",
    "print(final_results.loc[vertex])\n",
    "d1[lambda x: (x.vertex == vertex)][['vertex', 'segment', 'segment_order', 'left_segment', 'right_segment', 'left_prophage', 'right_prophage', 'left_amr', 'right_amr', 'Phenotype', 'overlaps_prophage', 'overlaps_amr']]"
   ]
  },
  {
   "cell_type": "raw",
   "id": "d38bef35-7c82-40e6-b002-88c496a63a22",
   "metadata": {},
   "source": [
    "final_results[lambda x: (x.num_in_neighbors + x.num_out_neighbors) == 0].sort_values('num_segments', ascending=False).head()"
   ]
  },
  {
   "cell_type": "raw",
   "id": "95015442-f589-4d4c-bf71-06ddcc834186",
   "metadata": {
    "execution": {
     "iopub.execute_input": "2024-08-13T06:01:03.350719Z",
     "iopub.status.busy": "2024-08-13T06:01:03.350321Z",
     "iopub.status.idle": "2024-08-13T06:01:03.518161Z",
     "shell.execute_reply": "2024-08-13T06:01:03.517756Z",
     "shell.execute_reply.started": "2024-08-13T06:01:03.350698Z"
    }
   },
   "source": [
    "final_results.sort_values(['num_segments'], ascending=False).head()"
   ]
  },
  {
   "cell_type": "markdown",
   "id": "915eb074-43ef-44a9-8bcd-9f99505d233d",
   "metadata": {},
   "source": [
    "# Find interesting paths"
   ]
  },
  {
   "cell_type": "code",
   "execution_count": null,
   "id": "4ae33604-d2d2-4270-abfe-ff206966c5f6",
   "metadata": {},
   "outputs": [],
   "source": [
    "final_results[\n",
    "    lambda x: x.num_segments.gt(100) & x.total_depth.gt(50) & x.complexity.gt(50)\n",
    "].sort_values(\"length\", ascending=False).head(10)"
   ]
  },
  {
   "cell_type": "code",
   "execution_count": null,
   "id": "3d315763-599e-4ba0-ab85-06ef84d0061d",
   "metadata": {},
   "outputs": [],
   "source": [
    "final_results.sort_values([\"num_segments\"], ascending=False).head(50)"
   ]
  },
  {
   "cell_type": "code",
   "execution_count": null,
   "id": "153d57cf-f2bd-4763-9112-d7a8c1ce261a",
   "metadata": {},
   "outputs": [],
   "source": [
    "final_results.sort_values([\"length\"], ascending=False).head(50)"
   ]
  },
  {
   "cell_type": "code",
   "execution_count": null,
   "id": "ee1921ff-3e39-4ed0-b92f-1de0ddb59820",
   "metadata": {},
   "outputs": [],
   "source": [
    "amr_positions.vertex"
   ]
  },
  {
   "cell_type": "code",
   "execution_count": null,
   "id": "7e0a8eba-7f49-4eb0-aec6-ee6d3cc4e207",
   "metadata": {},
   "outputs": [],
   "source": [
    "final_results.sort_values([\"complexity\"], ascending=False).head(10)"
   ]
  },
  {
   "cell_type": "code",
   "execution_count": null,
   "id": "c95189f5-c69e-4151-a97b-4ee8a38b9eb8",
   "metadata": {},
   "outputs": [],
   "source": [
    "# High complexity paths with AMR genes.\n",
    "final_results.sort_values([\"complexity\"], ascending=False).assign(\n",
    "    has_amr=lambda x: x.index.isin(amr_positions.vertex)\n",
    ")[lambda x: x.has_amr].head(20)"
   ]
  },
  {
   "cell_type": "code",
   "execution_count": null,
   "id": "3892e727-c926-4599-8c47-eaa564c1da7b",
   "metadata": {},
   "outputs": [],
   "source": [
    "final_results.assign(complexity_ratio=lambda x: x.complexity / x.num_segments)[\n",
    "    lambda x: x.length > 100_000\n",
    "].sort_values(\"complexity_ratio\", ascending=False).head(10)"
   ]
  },
  {
   "cell_type": "code",
   "execution_count": null,
   "id": "d7cb4e2e-7541-4b87-89dd-b498754d5aff",
   "metadata": {},
   "outputs": [],
   "source": [
    "final_results[\n",
    "    lambda x: (x.length > 1000) & (x.total_depth > 0.5) & (x.total_depth < 1.5)\n",
    "]"
   ]
  },
  {
   "cell_type": "raw",
   "id": "012fcba2-43bd-41e3-8603-945d913bf188",
   "metadata": {},
   "source": [
    "plt.scatter('num_segments', 'complexity', c='length', s='length_trsfm', data=final_results.assign(length_trsfm=lambda x: np.log10(x.length) * 2).sort_values('length'), norm=mpl.colors.SymLogNorm(linthresh=1000))\n",
    "plt.yscale('log')\n",
    "plt.xscale('log')\n",
    "plt.colorbar()"
   ]
  },
  {
   "cell_type": "raw",
   "id": "1b83770a-fa2d-449d-8093-e385fbcfee18",
   "metadata": {},
   "source": [
    "final_results[lambda x: (x.num_segments > 1e2) & (x.complexity > 10) & (x.length > 1e5) & (x.total_depth < 100)]"
   ]
  },
  {
   "cell_type": "raw",
   "id": "6126b907-c0f2-4fce-acce-9e617d5675a2",
   "metadata": {},
   "source": [
    "final_results.assign(complexity_ratio=lambda x: x.complexity / np.log10(x.num_segments + 1)).sort_values(['complexity_ratio'], ascending=False).head(1000).tail(50)"
   ]
  },
  {
   "cell_type": "raw",
   "id": "5a02ca07-c32d-414d-8e36-028197e230d7",
   "metadata": {},
   "source": [
    "final_results[final_results.apply(lambda x: len(set(x.in_neighbors) & set(x.out_neighbors)) > 0, axis=1)].sort_values('length', ascending=False).head(50)"
   ]
  },
  {
   "cell_type": "raw",
   "id": "91da973c-7889-487c-985f-80d95d956c05",
   "metadata": {},
   "source": [
    "final_results.assign(weight=lambda x: x.length**2 * x.total_depth * x.num_segments).sort_values('weight', ascending=False).head()"
   ]
  },
  {
   "cell_type": "code",
   "execution_count": null,
   "id": "a8358c55-5c37-4490-af53-7a8500ab8fe5",
   "metadata": {
    "tags": []
   },
   "outputs": [],
   "source": [
    "final_results.segments.explode().value_counts().head(10)"
   ]
  },
  {
   "cell_type": "raw",
   "id": "731c4e96-4745-415c-b729-3c0261d9d6b2",
   "metadata": {},
   "source": [
    "unpressed_results[lambda x: (x.num_in_neighbors == 2) & (x.num_out_neighbors == 2)].sort_values('length', ascending=False).head(20)"
   ]
  },
  {
   "cell_type": "raw",
   "id": "d9746306-0cb4-4523-82da-256815ed5355",
   "metadata": {},
   "source": [
    "for v in unpressed_results[lambda x: (x.num_in_neighbors == 2) & (x.num_out_neighbors == 2)].head(15).index:\n",
    "    ss = unpressed_results.loc[v].segments\n",
    "    print(ss, final_results.loc[sz.results.iter_find_vertices_with_any_segment(final_graph, ss)].num_segments)"
   ]
  },
  {
   "cell_type": "raw",
   "id": "dbaf8c05-0bc1-4b0d-a623-e9b3cc3c8a17",
   "metadata": {
    "execution": {
     "iopub.execute_input": "2024-08-19T21:55:31.294156Z",
     "iopub.status.busy": "2024-08-19T21:55:31.293898Z",
     "iopub.status.idle": "2024-08-19T21:55:31.316688Z",
     "shell.execute_reply": "2024-08-19T21:55:31.316323Z",
     "shell.execute_reply.started": "2024-08-19T21:55:31.294136Z"
    }
   },
   "source": [
    "final_results[lambda x: (x.length < 100_000) & (x.length > 50_000)].sort_values(\n",
    "    \"total_depth\", ascending=False\n",
    ")"
   ]
  },
  {
   "cell_type": "code",
   "execution_count": null,
   "id": "97cfe2b3-5919-477a-8a4f-c282c3e8283a",
   "metadata": {
    "tags": []
   },
   "outputs": [],
   "source": [
    "# Use this to find tigs of interest.\n",
    "\n",
    "final_results.loc[\n",
    "    sz.results.iter_find_vertices_with_any_segment(final_graph, [\"607+\"])\n",
    "].sort_values([\"num_segments\", \"total_depth\"], ascending=False)"
   ]
  },
  {
   "cell_type": "code",
   "execution_count": null,
   "id": "ed0697c7-fcfe-41fa-84bd-3bd1380de1d5",
   "metadata": {},
   "outputs": [],
   "source": [
    "d = final_results.assign(\n",
    "    self_loop=lambda x: x.apply(lambda x: x.name in x.in_neighbors, axis=1)\n",
    ")"
   ]
  },
  {
   "cell_type": "code",
   "execution_count": null,
   "id": "b5b9eb33-6c77-45ce-b93a-0291027305a3",
   "metadata": {},
   "outputs": [],
   "source": [
    "d[d.self_loop].sort_values(\"length\", ascending=False)"
   ]
  },
  {
   "cell_type": "markdown",
   "id": "dfac9216-3272-4212-9b7d-be3ea515d19b",
   "metadata": {},
   "source": [
    "# Focus in one a particular path (and its neighbors)"
   ]
  },
  {
   "cell_type": "code",
   "execution_count": null,
   "id": "f7dc41d8-d8af-4f9b-b65a-208c29b5eff8",
   "metadata": {},
   "outputs": [],
   "source": [
    "focal_path = 244\n",
    "\n",
    "final_results.loc[focal_path]"
   ]
  },
  {
   "cell_type": "code",
   "execution_count": null,
   "id": "358b9cf7-3bb4-4bc7-be11-66f6b49863e2",
   "metadata": {
    "tags": []
   },
   "outputs": [],
   "source": [
    "# Select paths that share any vertices with a given path.\n",
    "focal_segments = list(set(final_results.loc[focal_path].segments))\n",
    "related_paths = list(\n",
    "    sz.results.iter_find_vertices_with_any_segment(\n",
    "        final_graph, final_results.loc[focal_path].segments\n",
    "    )\n",
    ")\n",
    "\n",
    "# # Select paths going through a single segment\n",
    "# focal_segments = ['1668157+'] # Single focal segment\n",
    "# related_paths = list(sz.results.iter_find_vertices_with_any_segment(final_graph, focal_segments))\n",
    "\n",
    "related_segments = list(set(chain(*final_results.loc[related_paths].segments)))\n",
    "print(len(related_paths), len(related_segments))\n",
    "\n",
    "# unpressed_graph_focal_vertices = list(sz.results.iter_find_vertices_with_any_segment(unpressed_graph, focal_segments))\n",
    "unpressed_graph_core_vertices = list(\n",
    "    sz.results.iter_find_vertices_with_any_segment(unpressed_graph, related_segments)\n",
    ")\n",
    "pressed_graph_core_vertices = list(\n",
    "    sz.results.iter_find_vertices_with_any_segment(notips_graph, related_segments)\n",
    ")\n",
    "\n",
    "# in_path = unpressed_graph.new_vertex_property('bool', vals=pd.Series(unpressed_graph.get_vertices()).isin(unpressed_graph_focal_vertices).values)\n",
    "# path_graph = gt.GraphView(unpressed_graph, vfilt=in_path)\n",
    "# print(path_graph)\n",
    "\n",
    "in_core = unpressed_graph.new_vertex_property(\n",
    "    \"bool\",\n",
    "    vals=pd.Series(unpressed_graph.get_vertices())\n",
    "    .isin(unpressed_graph_core_vertices)\n",
    "    .values,\n",
    ")\n",
    "core_graph = gt.GraphView(unpressed_graph, vfilt=in_core)\n",
    "print(core_graph)\n",
    "\n",
    "# in_core_pressed = notips_graph.new_vertex_property('bool', vals=pd.Series(notips_graph.get_vertices()).isin(pressed_graph_core_vertices).values)\n",
    "# core_graph_pressed = gt.GraphView(notips_graph, vfilt=in_core_pressed)\n",
    "# print(core_graph_pressed)\n",
    "\n",
    "final_results.loc[related_paths].sort_values(\"num_segments\", ascending=False)"
   ]
  },
  {
   "cell_type": "raw",
   "id": "50a90e5a-e2cb-4995-a8eb-fb3e69bb0b59",
   "metadata": {
    "execution": {
     "iopub.execute_input": "2024-08-28T00:22:50.191889Z",
     "iopub.status.busy": "2024-08-28T00:22:50.191572Z",
     "iopub.status.idle": "2024-08-28T00:22:50.232905Z",
     "shell.execute_reply": "2024-08-28T00:22:50.232595Z",
     "shell.execute_reply.started": "2024-08-28T00:22:50.191873Z"
    }
   },
   "source": [
    "final_results.loc[related_paths].sort_values(\"num_segments\", ascending=False).head(50)"
   ]
  },
  {
   "cell_type": "code",
   "execution_count": null,
   "id": "6a576057-c3ae-4866-81e9-5f5bc5d8a0fd",
   "metadata": {
    "tags": []
   },
   "outputs": [],
   "source": [
    "# # Select paths that share any vertices with a given path.\n",
    "# focal_segments = list(set(final_results.loc[focal_path].segments))\n",
    "# related_paths = list(sz.results.iter_find_vertices_with_any_segment(final_graph, final_results.loc[focal_path].segments))\n",
    "\n",
    "# # # Select paths going through a single segment\n",
    "# # focal_segments = ['1668157+'] # Single focal segment\n",
    "# # related_paths = list(sz.results.iter_find_vertices_with_any_segment(final_graph, focal_segments))\n",
    "\n",
    "# related_segments = list(set(chain(*final_results.loc[related_paths].segments)))\n",
    "# print(len(related_paths), len(related_segments))\n",
    "\n",
    "\n",
    "path_membership = (\n",
    "    final_results.loc[related_paths]\n",
    "    .segments.explode()\n",
    "    .reset_index()\n",
    "    .value_counts()\n",
    "    .unstack(fill_value=0)\n",
    ")\n",
    "_obs_segment_depth = obs_segment_depth.loc[path_membership.columns].T\n",
    "est_path_depth = vertex_depth.T[related_paths]\n",
    "pred_unitig_depth = final_segment_depth.loc[path_membership.columns].T\n",
    "resid_unitig_depth = _obs_segment_depth - pred_unitig_depth\n",
    "relative_resid_unitig_depth = resid_unitig_depth / (pred_unitig_depth + 1)\n",
    "\n",
    "max_obs = _obs_segment_depth.max().max()\n",
    "max_resid = np.abs(relative_resid_unitig_depth).max().max()\n",
    "\n",
    "\n",
    "clust_palette = lib.plot.construct_ordered_palette(\n",
    "    vertex_to_clust.loc[related_paths].values\n",
    ")\n",
    "path_colors = pd.DataFrame(\n",
    "    dict(clust=vertex_to_clust.loc[related_paths].map(clust_palette))\n",
    ")\n",
    "segment_colors = pd.DataFrame(\n",
    "    dict(\n",
    "        prophage=path_membership.columns.to_series()\n",
    "        .str[:-1]\n",
    "        .isin(prophage_unitig)\n",
    "        .map({True: \"black\", False: \"grey\"}),\n",
    "        anyphage=path_membership.columns.to_series()\n",
    "        .str[:-1]\n",
    "        .isin(list(prophage_unitig) + list(non_prophage_unitig))\n",
    "        .map({True: \"black\", False: \"grey\"}),\n",
    "        amr=path_membership.columns.to_series()\n",
    "        .str[:-1]\n",
    "        .isin(amr_unitig)\n",
    "        .map({True: \"black\", False: \"grey\"}),\n",
    "        plasmid=path_membership.columns.to_series()\n",
    "        .str[:-1]\n",
    "        .isin(plasmid_hallmark_unitig)\n",
    "        .map({True: \"black\", False: \"grey\"}),\n",
    "        # crispr=path_membership.columns.to_series()\n",
    "        # .str[:-1]\n",
    "        # .isin(crispr_unitig)\n",
    "        # .map({True: \"black\", False: \"grey\"}),\n",
    "        length=segment_length.loc[path_membership.columns].map(mpl.cm.viridis),\n",
    "    )\n",
    ")\n",
    "\n",
    "# unitig_linkage = fastcluster.linkage(_obs_segment_depth.T, metric='euclidean', method='average')\n",
    "unitig_linkage = fastcluster.linkage(\n",
    "    pred_unitig_depth.T, metric=\"cosine\", method=\"average\"\n",
    ")\n",
    "path_linkage = fastcluster.linkage(est_path_depth.T, metric=\"cosine\", method=\"average\")\n",
    "sample_linkage = fastcluster.linkage(\n",
    "    _obs_segment_depth ** (1 / 3) + 1, metric=\"cosine\", method=\"average\"\n",
    ")\n",
    "\n",
    "try:\n",
    "    sns.clustermap(\n",
    "        est_path_depth,\n",
    "        row_linkage=sample_linkage,\n",
    "        col_linkage=path_linkage,\n",
    "        col_colors=path_colors,\n",
    "        yticklabels=0,\n",
    "        xticklabels=1,\n",
    "        figsize=(3, 3),\n",
    "        norm=mpl.colors.SymLogNorm(1e-1, vmin=0, vmax=max_obs),\n",
    "    )\n",
    "    sns.clustermap(\n",
    "        est_path_depth.T,\n",
    "        col_linkage=sample_linkage,\n",
    "        row_linkage=path_linkage,\n",
    "        row_colors=path_colors,\n",
    "        xticklabels=0,\n",
    "        yticklabels=1,\n",
    "        figsize=(3, 3),\n",
    "        norm=mpl.colors.SymLogNorm(1e-1, vmin=0, vmax=max_obs),\n",
    "    )\n",
    "    sns.clustermap(\n",
    "        path_membership,\n",
    "        row_linkage=path_linkage,\n",
    "        col_linkage=unitig_linkage,\n",
    "        row_colors=path_colors,\n",
    "        col_colors=segment_colors,\n",
    "        figsize=(15, 5),\n",
    "        xticklabels=0,\n",
    "        yticklabels=1,\n",
    "        norm=mpl.colors.SymLogNorm(1, vmin=0),\n",
    "    )\n",
    "except ValueError as err:\n",
    "    print(err)\n",
    "\n",
    "sns.clustermap(\n",
    "    _obs_segment_depth,\n",
    "    row_linkage=sample_linkage,\n",
    "    col_linkage=unitig_linkage,\n",
    "    col_colors=segment_colors,\n",
    "    figsize=(15, 5),\n",
    "    norm=mpl.colors.SymLogNorm(1e-1, vmin=0, vmax=max_obs),\n",
    "    xticklabels=0,\n",
    ")\n",
    "sns.clustermap(\n",
    "    pred_unitig_depth,\n",
    "    row_linkage=sample_linkage,\n",
    "    col_linkage=unitig_linkage,\n",
    "    col_colors=segment_colors,\n",
    "    figsize=(15, 5),\n",
    "    norm=mpl.colors.SymLogNorm(1e-1, vmin=0, vmax=max_obs),\n",
    "    xticklabels=0,\n",
    ")\n",
    "sns.clustermap(\n",
    "    relative_resid_unitig_depth,\n",
    "    row_linkage=sample_linkage,\n",
    "    col_linkage=unitig_linkage,\n",
    "    col_colors=segment_colors,\n",
    "    figsize=(15, 5),\n",
    "    norm=mpl.colors.SymLogNorm(1e-1, vmin=-max_resid, vmax=max_resid),\n",
    "    cmap=\"coolwarm\",\n",
    "    xticklabels=0,\n",
    ")"
   ]
  },
  {
   "cell_type": "code",
   "execution_count": null,
   "id": "e4949ee4-eb3b-411d-a51f-3d0183a344f6",
   "metadata": {},
   "outputs": [],
   "source": [
    "est_path_depth.divide(\n",
    "    total_marker_depth,\n",
    "    axis=0,\n",
    ").loc[\n",
    "    idxwhere(mgen_meta.subject_id == \"DA\")\n",
    "].rename(mgen_meta.collection_date).sort_index().plot.line(color=path_colors.clust)\n",
    "plt.yscale(\"symlog\", linthresh=1e-4)\n",
    "plt.ylim(-1e-5)\n",
    "lib.plot.rotate_xticklabels()\n",
    "plt.legend(bbox_to_anchor=(1, 1))"
   ]
  },
  {
   "cell_type": "code",
   "execution_count": null,
   "id": "4a124f7c-9fcb-4e35-85de-524d034a30c2",
   "metadata": {},
   "outputs": [],
   "source": [
    "est_path_depth.divide(\n",
    "    total_marker_depth,\n",
    "    axis=0,\n",
    ").loc[\n",
    "    idxwhere(mgen_meta.subject_id == \"DAR03\")\n",
    "].rename(mgen_meta.collection_date).sort_index().plot.line(color=path_colors.clust)\n",
    "plt.yscale(\"symlog\", linthresh=1e-4)\n",
    "plt.ylim(-1e-5)\n",
    "lib.plot.rotate_xticklabels()\n",
    "plt.legend(bbox_to_anchor=(1, 1))"
   ]
  },
  {
   "cell_type": "markdown",
   "id": "f35358e8-c789-4fdc-a6ab-c580ff7f923e",
   "metadata": {},
   "source": [
    "### Plot comparative networks"
   ]
  },
  {
   "cell_type": "code",
   "execution_count": null,
   "id": "d4760596-4bd9-45d5-a009-e4b9ebe1cb3c",
   "metadata": {},
   "outputs": [],
   "source": [
    "try:\n",
    "    os.mkdir(f\"{fig_dir}/neighborhood-{focal_path}/\")\n",
    "except FileExistsError:\n",
    "    pass"
   ]
  },
  {
   "cell_type": "code",
   "execution_count": null,
   "id": "96546e00-5db8-499b-b12e-4ce55b83b56a",
   "metadata": {},
   "outputs": [],
   "source": [
    "%%time\n",
    "\n",
    "unpressed_graph_distance_to_core = sz.topology.get_shortest_distance_to_any_vertex(\n",
    "    graph=unpressed_graph,\n",
    "    roots=unpressed_graph_core_vertices,\n",
    "    # length=unpressed_graph.vp[\"length\"],  # NOTE: This line will determine whether it's distance or just count of vertices.\n",
    ")"
   ]
  },
  {
   "cell_type": "code",
   "execution_count": null,
   "id": "829081c1-b257-4f06-8a1d-213eaad704f2",
   "metadata": {},
   "outputs": [],
   "source": [
    "radius = 5\n",
    "\n",
    "in_neighborhood = unpressed_graph.new_vertex_property(\n",
    "    \"bool\", vals=unpressed_graph_distance_to_core.a <= radius\n",
    ")\n",
    "neighborhood_graph = gt.GraphView(unpressed_graph, vfilt=in_neighborhood)\n",
    "neighborhood_graph"
   ]
  },
  {
   "cell_type": "code",
   "execution_count": null,
   "id": "e40eb8f2-c583-4524-9fb8-4b4ecd24635b",
   "metadata": {},
   "outputs": [],
   "source": [
    "_graph = gt.Graph(neighborhood_graph, prune=True)\n",
    "\n",
    "\n",
    "_backlinked_graph = sz.topology.backlinked_graph(_graph)\n",
    "_edge_length = gt.edge_endpoint_property(\n",
    "    _backlinked_graph, _backlinked_graph.vp[\"length\"], \"source\"\n",
    ")\n",
    "_segments = list(_backlinked_graph.vp[\"sequence\"])\n",
    "\n",
    "unitig_shortest_pdist = gt.topology.shortest_distance(\n",
    "    _backlinked_graph, directed=False, weights=_edge_length\n",
    ").get_2d_array(pos=range(len(_backlinked_graph)))\n",
    "\n",
    "unitig_shortest_path_linkage = fastcluster.linkage(\n",
    "    unitig_shortest_pdist, method=\"average\"\n",
    ")\n",
    "\n",
    "sns.clustermap(\n",
    "    pd.DataFrame(unitig_shortest_pdist, index=_segments, columns=_segments),\n",
    "    col_linkage=unitig_shortest_path_linkage,\n",
    "    row_linkage=unitig_shortest_path_linkage,\n",
    "    norm=mpl.colors.SymLogNorm(1),\n",
    ")"
   ]
  },
  {
   "cell_type": "code",
   "execution_count": null,
   "id": "f603e2a4-e84d-4c01-912c-eee966a3bf20",
   "metadata": {},
   "outputs": [],
   "source": [
    "# sample_for_depth = 118\n",
    "\n",
    "_graph = gt.Graph(neighborhood_graph, prune=True)\n",
    "# _graph = gt.Graph(core_graph_pressed, prune=True)\n",
    "# _graph = gt.Graph(path_graph, prune=True)\n",
    "# _graph = gt.Graph(neighborhood_graph_final, prune=True)\n",
    "\n",
    "gt.seed_rng(1)\n",
    "np.random.seed(2)\n",
    "sz.draw.update_xypositions(\n",
    "    _graph, layout=gt.draw.random_layout, shape=(10, 10)\n",
    ")  # NOTE: This allows for reproducible layouts.\n",
    "sz.draw.update_xypositions(_graph, layout=gt.draw.sfdp_layout, p=1.7, K=1)\n",
    "\n",
    "\n",
    "vertex_color = _graph.new_vertex_property(\n",
    "    \"float\", vals=np.log(sz.results.total_depth_property(_graph).a + 1)\n",
    ")\n",
    "vertex_size = _graph.new_vertex_property(\n",
    "    \"float\",\n",
    "    vals=20 + np.log(_graph.vp[\"length\"].a) * 4,\n",
    ")\n",
    "\n",
    "\n",
    "outpath = f\"{fig_dir}/neighborhood-{focal_path}/length.pdf\"\n",
    "sz.draw.draw_graph(\n",
    "    _graph,\n",
    "    vertex_text=_graph.vp[\"length\"],\n",
    "    vertex_size=vertex_size,\n",
    "    vertex_font_size=16,\n",
    "    vertex_fill_color=vertex_color,\n",
    "    output=outpath,\n",
    "    vcmap=(mpl.cm.magma, 1),\n",
    "    output_size=(1000, 1000),\n",
    ")\n",
    "print(outpath)\n",
    "\n",
    "outpath = f\"{fig_dir}/neighborhood-{focal_path}/segment.pdf\"\n",
    "sz.draw.draw_graph(\n",
    "    _graph,\n",
    "    vertex_text=_graph.vp[\"sequence\"],\n",
    "    vertex_size=vertex_size,\n",
    "    vertex_font_size=4,\n",
    "    vertex_fill_color=vertex_color,\n",
    "    output=outpath,\n",
    "    vcmap=(mpl.cm.magma, 1),\n",
    "    output_size=(1000, 1000),\n",
    ")\n",
    "print(outpath)"
   ]
  },
  {
   "cell_type": "code",
   "execution_count": null,
   "id": "f5384784-77f9-45e4-b597-0da760c48d45",
   "metadata": {},
   "outputs": [],
   "source": [
    "# Phage\n",
    "_vertices = list(\n",
    "    sz.results.iter_find_vertices_with_any_segment(\n",
    "        _graph,\n",
    "        [u + \"+\" for u in prophage_unitig]\n",
    "        + [u + \"-\" for u in prophage_unitig]\n",
    "        + [u + \"+\" for u in non_prophage_unitig]\n",
    "        + [u + \"-\" for u in non_prophage_unitig],\n",
    "    )\n",
    ")\n",
    "print(len(_vertices))\n",
    "in_set = _graph.new_vertex_property(\"bool\", val=False)\n",
    "in_set.a[_vertices] = 1\n",
    "\n",
    "outpath = f\"{fig_dir}/neighborhood-{focal_path}/phage.pdf\"\n",
    "sz.draw.draw_graph(\n",
    "    _graph,\n",
    "    vertex_text=\"\",\n",
    "    vertex_halo=in_set,\n",
    "    vertex_size=vertex_size,\n",
    "    vertex_font_size=16,\n",
    "    vertex_fill_color=vertex_color,\n",
    "    output=outpath,\n",
    "    vcmap=(mpl.cm.magma, 1),\n",
    "    output_size=(1000, 1000),\n",
    ")\n",
    "# sz.draw.draw_graph(\n",
    "#     _graph,\n",
    "#     # vertex_text=_graph.vp['sequence'],\n",
    "#     # vertex_text=_graph.vp['length'],\n",
    "#     vertex_text=\"\",\n",
    "#     vertex_halo=in_set,\n",
    "#     vorder=in_set.transform(lambda x: x.astype(float)),\n",
    "#     vertex_font_size=5,\n",
    "#     vertex_fill_color=vertex_color,\n",
    "#     # edge_pen_width=10,\n",
    "#     output=outpath,\n",
    "#     vcmap=(mpl.cm.magma, 1),\n",
    "#     output_size=(400, 400),\n",
    "# )\n",
    "print(outpath)\n",
    "\n",
    "# Phage\n",
    "_vertices = list(\n",
    "    sz.results.iter_find_vertices_with_any_segment(\n",
    "        _graph, [u + \"+\" for u in amr_unitig] + [u + \"-\" for u in amr_unitig]\n",
    "    )\n",
    ")\n",
    "print(len(_vertices))\n",
    "in_set = _graph.new_vertex_property(\"bool\", val=False)\n",
    "in_set.a[_vertices] = 1\n",
    "\n",
    "outpath = f\"{fig_dir}/neighborhood-{focal_path}/amr.pdf\"\n",
    "sz.draw.draw_graph(\n",
    "    _graph,\n",
    "    vertex_text=\"\",\n",
    "    vertex_halo=in_set,\n",
    "    vertex_size=vertex_size,\n",
    "    vertex_font_size=16,\n",
    "    vertex_fill_color=vertex_color,\n",
    "    output=outpath,\n",
    "    vcmap=(mpl.cm.magma, 1),\n",
    "    output_size=(1000, 1000),\n",
    ")\n",
    "print(outpath)\n",
    "\n",
    "\n",
    "# Plasmid\n",
    "_vertices = list(\n",
    "    sz.results.iter_find_vertices_with_any_segment(\n",
    "        _graph,\n",
    "        [u + \"+\" for u in plasmid_hallmark_unitig]\n",
    "        + [u + \"-\" for u in plasmid_hallmark_unitig],\n",
    "    )\n",
    ")\n",
    "print(len(_vertices))\n",
    "in_set = _graph.new_vertex_property(\"bool\", val=False)\n",
    "in_set.a[_vertices] = 1\n",
    "\n",
    "outpath = f\"{fig_dir}/neighborhood-{focal_path}/plasmid.pdf\"\n",
    "sz.draw.draw_graph(\n",
    "    _graph,\n",
    "    vertex_text=\"\",\n",
    "    vertex_halo=in_set,\n",
    "    vertex_size=vertex_size,\n",
    "    vertex_font_size=16,\n",
    "    vertex_fill_color=vertex_color,\n",
    "    output=outpath,\n",
    "    vcmap=(mpl.cm.magma, 1),\n",
    "    output_size=(1000, 1000),\n",
    ")\n",
    "print(outpath)\n",
    "\n",
    "\n",
    "# # CRISPR\n",
    "# _vertices = list(\n",
    "#     sz.results.iter_find_vertices_with_any_segment(\n",
    "#         _graph,\n",
    "#         [u + \"+\" for u in crispr_unitig] + [u + \"-\" for u in crispr_unitig],\n",
    "#     )\n",
    "# )\n",
    "# print(len(_vertices))\n",
    "# in_set = _graph.new_vertex_property(\"bool\", val=False)\n",
    "# in_set.a[_vertices] = 1\n",
    "\n",
    "# outpath = f\"{fig_dir}/neighborhood-{focal_path}/crispr.pdf\"\n",
    "# sz.draw.draw_graph(\n",
    "#     _graph,\n",
    "#     vertex_text=\"\",\n",
    "#     vertex_halo=in_set,\n",
    "#     vertex_size=vertex_size,\n",
    "#     vertex_font_size=16,\n",
    "#     vertex_fill_color=vertex_color,\n",
    "#     output=outpath,\n",
    "#     vcmap=(mpl.cm.magma, 1),\n",
    "#     output_size=(1000, 1000),\n",
    "# )\n",
    "# print(outpath)\n",
    "\n",
    "# Unidentifiable\n",
    "_vertices = list(\n",
    "    set(sz.topology.find_blackbox_vertices(_graph))\n",
    "    | set(sz.topology.find_self_looping_vertices(_graph))\n",
    ")\n",
    "print(len(_vertices))\n",
    "in_set = _graph.new_vertex_property(\"bool\", val=False)\n",
    "in_set.a[_vertices] = 1\n",
    "\n",
    "outpath = f\"{fig_dir}/neighborhood-{focal_path}/unidentifiable.pdf\"\n",
    "sz.draw.draw_graph(\n",
    "    _graph,\n",
    "    vertex_text=\"\",\n",
    "    vertex_halo=in_set,\n",
    "    vertex_size=vertex_size,\n",
    "    vertex_font_size=16,\n",
    "    vertex_fill_color=vertex_color,\n",
    "    output=outpath,\n",
    "    vcmap=(mpl.cm.magma, 1),\n",
    "    output_size=(1000, 1000),\n",
    ")\n",
    "print(outpath)"
   ]
  },
  {
   "cell_type": "code",
   "execution_count": null,
   "id": "017f8ffa-edc0-4259-be7f-68e16cd61911",
   "metadata": {},
   "outputs": [],
   "source": [
    "n_top = 10\n",
    "\n",
    "top_vertex_list = list(\n",
    "    set(\n",
    "        final_results.loc[related_paths]\n",
    "        .sort_values(\"num_segments\", ascending=False)\n",
    "        .head(n_top)\n",
    "        .index\n",
    "    )\n",
    "    | set(\n",
    "        final_results.loc[related_paths]\n",
    "        .sort_values(\"length\", ascending=False)\n",
    "        .head(n_top)\n",
    "        .index\n",
    "    )\n",
    "    | set(\n",
    "        final_results.loc[related_paths]\n",
    "        .sort_values(\"total_depth\", ascending=False)\n",
    "        .head(n_top)\n",
    "        .index\n",
    "    )\n",
    ")\n",
    "\n",
    "for path in top_vertex_list:\n",
    "    _vertices = list(\n",
    "        sz.results.iter_find_vertices_with_any_segment(\n",
    "            _graph, final_results.loc[path].segments\n",
    "        )\n",
    "    )\n",
    "    print(len(_vertices))\n",
    "    in_path = _graph.new_vertex_property(\"bool\", val=False)\n",
    "    in_path.a[_vertices] = 1\n",
    "    outpath = f\"{fig_dir}/neighborhood-{focal_path}/{path}.pdf\"\n",
    "    sz.draw.draw_graph(\n",
    "        _graph,\n",
    "        vertex_text=\"\",\n",
    "        vertex_halo=in_path,\n",
    "        vertex_halo_color=clust_palette[final_results.loc[path, \"clust\"]],\n",
    "        vertex_size=vertex_size,\n",
    "        vertex_font_size=16,\n",
    "        vertex_fill_color=vertex_color,\n",
    "        output=outpath,\n",
    "        vcmap=(mpl.cm.magma, 1),\n",
    "        output_size=(1000, 1000),\n",
    "    )\n",
    "    print(outpath)"
   ]
  },
  {
   "cell_type": "raw",
   "id": "971caf13-2896-4a37-af88-d22d7fb63275",
   "metadata": {},
   "source": [
    "d = est_path_depth.divide(\n",
    "    total_marker_depth,\n",
    "    axis=0,\n",
    ").rename(mgen_meta.collection_date).sort_index()\n",
    "\n",
    "d[[1942083, 2145744]].plot.line()\n",
    "plt.yscale(\"symlog\", linthresh=1e-4)\n",
    "plt.ylim(-1e-5)\n",
    "lib.plot.rotate_xticklabels()\n",
    "plt.legend(bbox_to_anchor=(1, 1))"
   ]
  },
  {
   "cell_type": "raw",
   "id": "1e65812a-7668-4d82-a3d4-c39f9230355e",
   "metadata": {
    "execution": {
     "iopub.execute_input": "2024-08-28T07:30:22.910775Z",
     "iopub.status.busy": "2024-08-28T07:30:22.910394Z",
     "iopub.status.idle": "2024-08-28T07:30:22.919408Z",
     "shell.execute_reply": "2024-08-28T07:30:22.919002Z",
     "shell.execute_reply.started": "2024-08-28T07:30:22.910759Z"
    }
   },
   "source": [
    "phage_positions[lambda x: x.seq_name.str.contains('1784177')]"
   ]
  },
  {
   "cell_type": "raw",
   "id": "63281c91-74e6-4dcc-8582-3c78d851cf6e",
   "metadata": {},
   "source": [
    "phage_positions[lambda x: x.seq_name.str.contains('1898651')]"
   ]
  },
  {
   "cell_type": "raw",
   "id": "9a8d9a93-81ea-4331-adbf-944a4ecb06df",
   "metadata": {
    "execution": {
     "iopub.execute_input": "2024-08-27T23:01:24.717690Z",
     "iopub.status.busy": "2024-08-27T23:01:24.717002Z",
     "iopub.status.idle": "2024-08-27T23:01:25.585391Z",
     "shell.execute_reply": "2024-08-27T23:01:25.584884Z",
     "shell.execute_reply.started": "2024-08-27T23:01:24.717671Z"
    }
   },
   "source": [
    "additional_vertex_list = [1734529, 1735086, 1585050]\n",
    "\n",
    "for path in additional_vertex_list:\n",
    "    _vertices = list(\n",
    "        sz.results.iter_find_vertices_with_any_segment(\n",
    "            _graph, final_results.loc[path].segments\n",
    "        )\n",
    "    )\n",
    "    print(len(_vertices))\n",
    "    in_path = _graph.new_vertex_property(\"bool\", val=False)\n",
    "    in_path.a[_vertices] = 1\n",
    "    outpath = f\"{fig_dir}/neighborhood-{focal_path}/{path}.pdf\"\n",
    "    sz.draw.draw_graph(\n",
    "        _graph,\n",
    "        vertex_text=\"\",\n",
    "        vertex_halo=in_path,\n",
    "        vertex_halo_color=clust_palette[final_results.loc[path, 'clust']],\n",
    "        vertex_size=vertex_size,\n",
    "        vertex_font_size=16,\n",
    "        vertex_fill_color=vertex_color,\n",
    "        output=outpath,\n",
    "        vcmap=(mpl.cm.magma, 1),\n",
    "        output_size=(1000, 1000),\n",
    "    )\n",
    "    print(outpath)"
   ]
  },
  {
   "cell_type": "markdown",
   "id": "5005db3e-3ab9-498d-ae5c-17639339293e",
   "metadata": {},
   "source": [
    "### Visualize complex graph"
   ]
  },
  {
   "cell_type": "code",
   "execution_count": null,
   "id": "e2342c5a-636e-43c5-9a21-952e9167a4bd",
   "metadata": {},
   "outputs": [],
   "source": [
    "radius = 0\n",
    "\n",
    "in_neighborhood = unpressed_graph.new_vertex_property(\n",
    "    \"bool\", vals=unpressed_graph_distance_to_core.a <= radius\n",
    ")\n",
    "big_neighborhood_graph = gt.GraphView(unpressed_graph, vfilt=in_neighborhood)\n",
    "print(big_neighborhood_graph)"
   ]
  },
  {
   "cell_type": "code",
   "execution_count": null,
   "id": "7c061cfb-dfc8-4eed-a634-f0d91acb3dc6",
   "metadata": {},
   "outputs": [],
   "source": [
    "_graph = gt.Graph(big_neighborhood_graph, prune=True)\n",
    "\n",
    "gt.seed_rng(1)\n",
    "np.random.seed(2)\n",
    "sz.draw.update_xypositions(\n",
    "    _graph, layout=gt.draw.random_layout, shape=(10, 10)\n",
    ")  # NOTE: This allows for reproducible layouts.\n",
    "sz.draw.update_xypositions(_graph, layout=gt.draw.sfdp_layout, p=3, K=1)"
   ]
  },
  {
   "cell_type": "code",
   "execution_count": null,
   "id": "e2cf4097-ddeb-40c0-aa36-82576cf9582d",
   "metadata": {},
   "outputs": [],
   "source": [
    "vertex_color = _graph.new_vertex_property(\n",
    "    \"float\", vals=np.log(sz.results.total_depth_property(_graph).a + 1)\n",
    ")\n",
    "\n",
    "\n",
    "outpath = f\"{fig_dir}/neighborhood-{focal_path}/big_neighborhood.pdf\"\n",
    "sz.draw.draw_graph(\n",
    "    _graph,\n",
    "    vertex_text=\"\",\n",
    "    # vertex_fill_color='grey',\n",
    "    output=outpath,\n",
    "    # vcmap=(mpl.cm.magma, 1),\n",
    "    output_size=(1000, 1000),\n",
    "    ink_scale=1.4,\n",
    "    bg_color=\"black\",\n",
    "    edge_color=\"white\",\n",
    "    vertex_fill_color=\"white\",\n",
    ")\n",
    "print(outpath)"
   ]
  },
  {
   "cell_type": "code",
   "execution_count": null,
   "id": "0fb565b6-9f6f-4f86-b4fa-f5431168a07d",
   "metadata": {},
   "outputs": [],
   "source": [
    "_path = 2332452\n",
    "\n",
    "_vertices = list(\n",
    "    sz.results.iter_find_vertices_with_any_segment(\n",
    "        _graph, final_results.loc[_path].segments\n",
    "    )\n",
    ")\n",
    "print(len(_vertices))\n",
    "in_path = _graph.new_vertex_property(\"string\", val=\"grey\")\n",
    "for v in _vertices:\n",
    "    in_path[v] = \"red\"\n",
    "\n",
    "\n",
    "outpath = f\"{fig_dir}/neighborhood-{focal_path}/big_neighborhood-{_path}.pdf\"\n",
    "sz.draw.draw_graph(\n",
    "    _graph,\n",
    "    vertex_text=\"\",\n",
    "    vertex_fill_color=in_path,\n",
    "    # vertex_halo=in_path,\n",
    "    output=outpath,\n",
    "    # vcmap=(mpl.cm.bwr, 1),\n",
    "    output_size=(1000, 1000),\n",
    "    ink_scale=1.4,\n",
    "    bg_color=\"black\",\n",
    "    edge_color=\"white\",\n",
    ")\n",
    "print(outpath)"
   ]
  },
  {
   "cell_type": "code",
   "execution_count": null,
   "id": "1f61b88c-8472-4b0a-9cb3-0fd9e1b7e089",
   "metadata": {},
   "outputs": [],
   "source": [
    "_path = 2355507\n",
    "\n",
    "_vertices = list(\n",
    "    sz.results.iter_find_vertices_with_any_segment(\n",
    "        _graph, final_results.loc[_path].segments\n",
    "    )\n",
    ")\n",
    "print(len(_vertices))\n",
    "in_path = _graph.new_vertex_property(\"string\", val=\"grey\")\n",
    "for v in _vertices:\n",
    "    in_path[v] = \"blue\"\n",
    "\n",
    "\n",
    "outpath = f\"{fig_dir}/neighborhood-{focal_path}/big_neighborhood-{_path}.pdf\"\n",
    "sz.draw.draw_graph(\n",
    "    _graph,\n",
    "    vertex_text=\"\",\n",
    "    vertex_fill_color=in_path,\n",
    "    # vertex_halo=in_path,\n",
    "    output=outpath,\n",
    "    # vcmap=(mpl.cm.bwr, 1),\n",
    "    output_size=(1000, 1000),\n",
    "    ink_scale=1.4,\n",
    "    bg_color=\"black\",\n",
    "    edge_color=\"white\",\n",
    ")\n",
    "print(outpath)"
   ]
  },
  {
   "cell_type": "code",
   "execution_count": null,
   "id": "4ade82dc-8ece-495a-9408-2bef65486985",
   "metadata": {},
   "outputs": [],
   "source": [
    "_path = 2388163\n",
    "\n",
    "_vertices = list(\n",
    "    sz.results.iter_find_vertices_with_any_segment(\n",
    "        _graph, final_results.loc[_path].segments\n",
    "    )\n",
    ")\n",
    "print(len(_vertices))\n",
    "in_path = _graph.new_vertex_property(\"string\", val=\"grey\")\n",
    "for v in _vertices:\n",
    "    in_path[v] = \"green\"\n",
    "\n",
    "\n",
    "outpath = f\"{fig_dir}/neighborhood-{focal_path}/big_neighborhood-{_path}.pdf\"\n",
    "sz.draw.draw_graph(\n",
    "    _graph,\n",
    "    vertex_text=\"\",\n",
    "    vertex_fill_color=in_path,\n",
    "    # vertex_halo=in_path,\n",
    "    output=outpath,\n",
    "    # vcmap=(mpl.cm.bwr, 1),\n",
    "    output_size=(1000, 1000),\n",
    "    ink_scale=1.4,\n",
    "    bg_color=\"black\",\n",
    "    edge_color=\"white\",\n",
    ")\n",
    "print(outpath)"
   ]
  },
  {
   "cell_type": "markdown",
   "id": "780f2331-713a-480a-b112-9b359e63ef59",
   "metadata": {},
   "source": [
    "### Visualize Clusters"
   ]
  },
  {
   "cell_type": "code",
   "execution_count": null,
   "id": "737ada8c-2a28-4432-82ae-8f4daf313dc2",
   "metadata": {},
   "outputs": [],
   "source": [
    "focal_clust = 7732\n",
    "\n",
    "_vertices = idxwhere(final_results.clust == focal_clust)\n",
    "print(len(_vertices))\n",
    "_segments = set(\n",
    "    final_results[lambda x: x.clust == focal_clust].segments.explode().unique()\n",
    ")\n",
    "print(len(_segments))\n",
    "# print(final_results[lambda x: x.clust == focal_clust].length.sum(), len(_segments_list))\n",
    "\n",
    "# sns.clustermap(obs_segment_depth.loc[_segments_list] + 0.001, norm=mpl.colors.SymLogNorm(0.1), metric='cosine')\n",
    "# sns.clustermap(vertex_depth.loc[idxwhere(final_results.clust == focal_clust)] + 0.001, norm=mpl.colors.SymLogNorm(0.1), metric='cosine')\n",
    "\n",
    "if len(_vertices) < 1_000:\n",
    "    sns.clustermap(\n",
    "        vertex_depth.loc[_vertices], norm=mpl.colors.SymLogNorm(1e-2), metric=\"cosine\"\n",
    "    )\n",
    "\n",
    "print(final_results[lambda x: x.clust == focal_clust][[\"length\", \"num_segments\"]].sum())\n",
    "final_results[lambda x: x.clust == focal_clust].sort_values(\n",
    "    \"length\", ascending=False\n",
    ").head()\n",
    "\n",
    "# path_membership = (\n",
    "#     final_results.loc[related_paths]\n",
    "#     .segments.explode()\n",
    "#     .reset_index()\n",
    "#     .value_counts()\n",
    "#     .unstack(fill_value=0)\n",
    "# )\n",
    "# _obs_segment_depth = obs_segment_depth.loc[path_membership.columns].T"
   ]
  },
  {
   "cell_type": "code",
   "execution_count": null,
   "id": "1475a118-9b10-491b-b13d-21e54c8e809f",
   "metadata": {},
   "outputs": [],
   "source": [
    "in_segments = unpressed_graph.new_vertex_property(\"bool\")\n",
    "gt.map_property_values(\n",
    "    unpressed_graph.vp[\"sequence\"], in_segments, lambda x: x in _segments\n",
    ")\n",
    "assert in_segments.a.sum() == len(_segments)"
   ]
  },
  {
   "cell_type": "code",
   "execution_count": null,
   "id": "b73222ea-ffce-4aa3-86a3-94c2db904fa5",
   "metadata": {},
   "outputs": [],
   "source": [
    "clust_segment_graph = gt.GraphView(unpressed_graph, vfilt=in_segments)\n",
    "clust_segment_graph"
   ]
  },
  {
   "cell_type": "code",
   "execution_count": null,
   "id": "64ed0473-d9fc-4b8a-8aca-44232e4fdbc6",
   "metadata": {},
   "outputs": [],
   "source": [
    "_graph = gt.Graph(clust_segment_graph, prune=True)\n",
    "\n",
    "gt.seed_rng(1)\n",
    "np.random.seed(2)\n",
    "sz.draw.update_xypositions(\n",
    "    _graph, layout=gt.draw.random_layout, shape=(10, 10)\n",
    ")  # NOTE: This allows for reproducible layouts.\n",
    "sz.draw.update_xypositions(_graph, layout=gt.draw.sfdp_layout, p=1.7, K=1)\n",
    "print(\"Done with layout.\")\n",
    "\n",
    "vertex_color = _graph.new_vertex_property(\n",
    "    \"float\", vals=np.log(sz.results.total_depth_property(_graph).a + 1)\n",
    ")\n",
    "vertex_size = _graph.new_vertex_property(\n",
    "    \"float\",\n",
    "    vals=np.log(_graph.vp[\"length\"].a + 1) * 4,\n",
    ")\n",
    "\n",
    "# Highlight vertices in the cluster itself.\n",
    "_vertices = list(sz.results.iter_find_vertices_with_any_segment(_graph, _segments))\n",
    "print(len(_vertices))\n",
    "in_path = _graph.new_vertex_property(\"bool\", val=False)\n",
    "in_path.a[_vertices] = 1\n",
    "\n",
    "\n",
    "outpath = f\"{fig_dir}/clust-{focal_clust}.pdf\"\n",
    "sz.draw.draw_graph(\n",
    "    _graph,\n",
    "    vertex_text=_graph.vp[\"length\"],\n",
    "    vertex_halo=in_path,\n",
    "    vertex_size=vertex_size,\n",
    "    vertex_font_size=16,\n",
    "    vertex_fill_color=vertex_color,\n",
    "    output=outpath,\n",
    "    vcmap=(mpl.cm.magma, 1),\n",
    "    output_size=(1000, 1000),\n",
    ")\n",
    "\n",
    "# sz.draw.draw_graph(\n",
    "#     _graph,\n",
    "#     # vertex_text=_graph.vp['length'],\n",
    "#     vertex_text=_graph.vp[\"sequence\"],\n",
    "#     vertex_halo=in_path,\n",
    "#     # vertex_font_size=5,\n",
    "#     vertex_fill_color=vertex_color,\n",
    "#     # edge_pen_width=10,\n",
    "#     output=outpath,\n",
    "#     vcmap=(mpl.cm.magma, 1),\n",
    "#     output_size=(1000, 1000),\n",
    "# )\n",
    "print(outpath)"
   ]
  },
  {
   "cell_type": "raw",
   "id": "a0e76a76-4d1f-41a8-8302-1f36e24140c4",
   "metadata": {
    "execution": {
     "iopub.execute_input": "2024-08-26T05:10:39.817324Z",
     "iopub.status.busy": "2024-08-26T05:10:39.817124Z",
     "iopub.status.idle": "2024-08-26T05:10:41.490907Z",
     "shell.execute_reply": "2024-08-26T05:10:41.490525Z",
     "shell.execute_reply.started": "2024-08-26T05:10:39.817309Z"
    }
   },
   "source": [
    "vertex_size = _graph.new_vertex_property(\n",
    "    \"float\", vals=np.log(_graph.vp[\"length\"].a + 1) * 1,\n",
    ")\n",
    "\n",
    "sz.draw.draw_graph(\n",
    "    _graph,\n",
    "    vertex_text='',\n",
    "    vertex_size=vertex_size,\n",
    "    vertex_fill_color=vertex_color,\n",
    "    vcmap=(mpl.cm.magma, 1),\n",
    "    output_size=(2000, 2000),\n",
    "    ink_scale=2,\n",
    ")"
   ]
  },
  {
   "cell_type": "raw",
   "id": "c6aaa60b-ee41-4712-882b-68ad9bc0391a",
   "metadata": {
    "execution": {
     "iopub.execute_input": "2024-08-19T22:15:30.048475Z",
     "iopub.status.busy": "2024-08-19T22:15:30.048269Z",
     "iopub.status.idle": "2024-08-19T22:15:49.619079Z",
     "shell.execute_reply": "2024-08-19T22:15:49.618641Z",
     "shell.execute_reply.started": "2024-08-19T22:15:30.048461Z"
    }
   },
   "source": [
    "clust_neighborhood_segment_graph = sz.io.load_graph(\n",
    "    f\"data/group/{group}/r.proc.ggcat-{graph_type}.notips-2.{smoothing}.unzip-{deconv}.clust-{clust_params}.unassembled-c{focal_clust}-r0.notips-2-unpressed.sz\"\n",
    ")\n",
    "sz.results.extract_vertex_data(clust_neighborhood_segment_graph).sort_values(\n",
    "    \"length\", ascending=False\n",
    ")  # .head(20)"
   ]
  },
  {
   "cell_type": "raw",
   "id": "3b1d35b8-a934-4041-a731-1c2a20387666",
   "metadata": {
    "execution": {
     "iopub.execute_input": "2024-08-17T06:54:38.482894Z",
     "iopub.status.busy": "2024-08-17T06:54:38.482462Z",
     "iopub.status.idle": "2024-08-17T06:54:38.670324Z",
     "shell.execute_reply": "2024-08-17T06:54:38.668558Z",
     "shell.execute_reply.started": "2024-08-17T06:54:38.482868Z"
    }
   },
   "source": [
    "additional_vertices = [1819185, 1628007]\n",
    "\n",
    "for path in additional_vertices:\n",
    "    _vertices = list(\n",
    "        sz.results.iter_find_vertices_with_any_segment(\n",
    "            _graph, final_results.loc[path].segments\n",
    "        )\n",
    "    )\n",
    "    print(len(_vertices))\n",
    "    in_path = _graph.new_vertex_property(\"bool\", val=False)\n",
    "    in_path.a[_vertices] = 1\n",
    "    outpath = f\"{fig_dir}/neighborhood-{focal_path}/{path}.pdf\"\n",
    "    sz.draw.draw_graph(\n",
    "        _graph,\n",
    "        vertex_text=\"\",\n",
    "        vertex_halo=in_path,\n",
    "        vertex_size=vertex_size,\n",
    "        vertex_font_size=16,\n",
    "        vertex_fill_color=vertex_color,\n",
    "        output=outpath,\n",
    "        vcmap=(mpl.cm.magma, 1),\n",
    "        output_size=(1000, 1000),\n",
    "    )\n",
    "    print(outpath)"
   ]
  },
  {
   "cell_type": "raw",
   "id": "e25ef981-b435-4dd1-8c9d-243075e970de",
   "metadata": {
    "tags": []
   },
   "source": [
    "# NOTE: This version has a subset of samples for easier visualization.\n",
    "\n",
    "np.random.seed(0)\n",
    "_sample_list = np.random.choice(obs_segment_depth.columns, size=10)\n",
    "\n",
    "path_membership = final_results.loc[related_paths].segments.explode().reset_index().value_counts().unstack(fill_value=0)\n",
    "_obs_segment_depth = obs_segment_depth.loc[path_membership.columns, _sample_list].T\n",
    "est_path_depth = vertex_depth.T[related_paths].loc[_sample_list]\n",
    "pred_unitig_depth = final_segment_depth.loc[path_membership.columns, _sample_list].T\n",
    "resid_unitig_depth = _obs_segment_depth - pred_unitig_depth\n",
    "relative_resid_unitig_depth = resid_unitig_depth / (pred_unitig_depth + 1)\n",
    "_segment_length_colors = segment_length.loc[path_membership.columns].map(mpl.cm.viridis)\n",
    "\n",
    "max_obs = _obs_segment_depth.max().max()\n",
    "max_resid = np.abs(relative_resid_unitig_depth).max().max()\n",
    "\n",
    "# unitig_linkage = fastcluster.linkage(_obs_segment_depth.T, metric='euclidean', method='average')\n",
    "unitig_linkage = fastcluster.linkage(path_membership.T, metric='cosine', method='average')\n",
    "path_linkage = fastcluster.linkage(path_membership, metric='cosine', method='average')\n",
    "sample_linkage = fastcluster.linkage(_obs_segment_depth, metric='euclidean', method='average')\n",
    "\n",
    "sns.clustermap(est_path_depth, row_linkage=sample_linkage, col_linkage=path_linkage, yticklabels=0, xticklabels=1, figsize=(3, 3), norm=mpl.colors.SymLogNorm(1e-1, vmin=0, vmax=max_obs))\n",
    "sns.clustermap(est_path_depth.T, col_linkage=sample_linkage, row_linkage=path_linkage, xticklabels=0, yticklabels=1, figsize=(3, 3), norm=mpl.colors.SymLogNorm(1e-1, vmin=0, vmax=max_obs))\n",
    "sns.clustermap(path_membership, row_linkage=path_linkage, col_linkage=unitig_linkage, col_colors=_segment_length_colors, figsize=(15, 5), xticklabels=0, norm=mpl.colors.SymLogNorm(1, vmin=0))\n",
    "sns.clustermap(_obs_segment_depth, row_linkage=sample_linkage, col_linkage=unitig_linkage, col_colors=_segment_length_colors, figsize=(15, 5), norm=mpl.colors.SymLogNorm(1e-1, vmin=0, vmax=max_obs), xticklabels=0)\n",
    "sns.clustermap(pred_unitig_depth, row_linkage=sample_linkage, col_linkage=unitig_linkage, col_colors=_segment_length_colors, figsize=(15, 5), norm=mpl.colors.SymLogNorm(1e-1, vmin=0, vmax=max_obs), xticklabels=0)\n",
    "sns.clustermap(relative_resid_unitig_depth, row_linkage=sample_linkage, col_linkage=unitig_linkage, col_colors=_segment_length_colors, figsize=(15, 5), norm=mpl.colors.SymLogNorm(1e-1, vmin=-max_resid, vmax=max_resid), cmap='coolwarm', xticklabels=0)"
   ]
  },
  {
   "cell_type": "code",
   "execution_count": null,
   "id": "82422573-4d13-4f3a-a802-50f00e0167d7",
   "metadata": {},
   "outputs": [],
   "source": [
    "_cross_correlation.loc[x_id].idxmax()"
   ]
  },
  {
   "cell_type": "code",
   "execution_count": null,
   "id": "9f4114cd-0acd-4c26-82bf-ff3465d5c74a",
   "metadata": {},
   "outputs": [],
   "source": [
    "path_order = [184977, 210689, 187913]\n",
    "_palette = {184977: \"dodgerblue\", 210689: \"limegreen\", 187913: \"hotpink\"}\n",
    "_rename_strain = {\n",
    "    \"Veillonella-sp-3-1-44\": \"Veillonella parvulla Strain A\",\n",
    "    \"Veillonella-sp-6-1-27\": \"Veillonella parvulla Strain B\",\n",
    "    \"Veillonella-dispar-ATCC-17748\": \"Veillonella dispar\",\n",
    "}\n",
    "\n",
    "x = normalized_vertex_depth.loc[path_order]\n",
    "y = kraken_rabund.T\n",
    "_cross_correlation = pd.DataFrame(\n",
    "    1 - sp.spatial.distance.cdist(x, y, metric=\"cosine\"), index=x.index, columns=y.index\n",
    ")\n",
    "\n",
    "\n",
    "fig, axs = lib.plot.subplots_grid(ncols=3, naxes=len(path_order), ax_height=3.5)\n",
    "\n",
    "for x_id, ax in zip(x.index, axs.flatten()):\n",
    "    y_id = _cross_correlation.loc[x_id].idxmax()\n",
    "    print(y_id)\n",
    "\n",
    "    max_val = max(x.loc[x_id].max(), y.loc[y_id].max())\n",
    "\n",
    "    ax.scatter(x.loc[x_id], y.loc[y_id], s=15, color=_palette[x_id])\n",
    "    ax.plot([0, 1], [0, 1], color=\"k\", linestyle=\"--\")\n",
    "    ax.set_xscale(\"symlog\", linthresh=1e-4, linscale=0.25)\n",
    "    ax.set_yscale(\"symlog\", linthresh=1e-4, linscale=0.25)\n",
    "    ax.set_xlabel(f\"Path {x_id}\")\n",
    "    ax.set_ylabel(_rename_strain[y_id], fontstyle=\"italic\")\n",
    "    ax.set_aspect(1)\n",
    "    ax.set_xticks([1e-4, 1e-3, 1e-2, 1e-1, 1e-0])\n",
    "    # ax.annotate('{:0.01e}'.format(clust_meta.loc[clust_id].total_length), xy=(0.6, 0.3), xycoords='axes fraction')\n",
    "    # cross_correlation.loc[strain_id].sort_values(ascending=False).head()\n",
    "\n",
    "fig.tight_layout()"
   ]
  },
  {
   "cell_type": "raw",
   "id": "026689b0-04e1-49db-8904-7e0e45a139aa",
   "metadata": {},
   "source": [
    "normalized_segment_depth = _obs_segment_depth.loc[:, lambda x: x.sum() < 1000].divide(_obs_segment_depth.sum(1), axis=0)\n",
    "sns.clustermap(normalized_segment_depth + 1e-5, metric='cosine', row_colors=_obs_segment_depth.sum(1).pipe(lambda x: x / x.max()).pipe(mpl.cm.viridis), norm=mpl.colors.PowerNorm(1/3))"
   ]
  },
  {
   "cell_type": "raw",
   "id": "6dc079ee-e3c4-42fc-ba03-905889182e69",
   "metadata": {},
   "source": [
    "print(_obs_segment_depth.shape, path_membership.shape)\n",
    "y = _obs_segment_depth.loc[0]\n",
    "x = path_membership.T\n",
    "print(y.shape, x.shape)"
   ]
  },
  {
   "cell_type": "raw",
   "id": "ad8e989f-0870-4fb3-9b8a-d1027f0dfba3",
   "metadata": {},
   "source": [
    "est_path_depth.head(20)"
   ]
  },
  {
   "cell_type": "raw",
   "id": "476937a3-1b83-4ec0-98f9-8e35f237fc41",
   "metadata": {},
   "source": [
    "from sklearn.linear_model import Lasso\n",
    "\n",
    "i = 8\n",
    "y = _obs_segment_depth.loc[i]\n",
    "x = path_membership.T\n",
    "\n",
    "lasso = Lasso(alpha=0.00001, fit_intercept=False, positive=True, max_iter=1000, tol=1e-5)\n",
    "fit = lasso.fit(path_membership.T, y)\n",
    "fit.coef_, print(est_path_depth.loc[i])"
   ]
  },
  {
   "cell_type": "code",
   "execution_count": null,
   "id": "7f7b1091-098c-40a1-b5af-19c1f7a230b4",
   "metadata": {},
   "outputs": [],
   "source": [
    "clust_depth = (\n",
    "    pd.read_table(\n",
    "        f\"data/group/{group}/r.proc.kmtricks-{kmtricks}.ggcat-{graph_type}.notips-2.{smoothing}.unzip-{deconv}.clust-{clust_params}.depth.tsv\"\n",
    "    )\n",
    "    .rename(columns={\"Unnamed: 0\": \"cluster\"})\n",
    "    .set_index(\"cluster\")\n",
    "    .T.rename(int)\n",
    ")\n",
    "sns.clustermap(\n",
    "    clust_depth.rename(sample_idx_to_id).loc[\n",
    "        :, idxwhere(clust_meta.total_length > 1_000_000)\n",
    "    ],\n",
    "    metric=\"cosine\",\n",
    "    norm=mpl.colors.SymLogNorm(1),\n",
    ")"
   ]
  },
  {
   "cell_type": "code",
   "execution_count": null,
   "id": "edb80bb8-fd43-4135-bd34-9dfa034d87bd",
   "metadata": {},
   "outputs": [],
   "source": [
    "clust_rabund = clust_depth.divide(marker_depth.sum(1), axis=0)\n",
    "\n",
    "sns.clustermap(\n",
    "    clust_rabund[idxwhere(clust_meta.total_length > 1_000_000)].rename(\n",
    "        sample_idx_to_id\n",
    "    ),\n",
    "    norm=mpl.colors.SymLogNorm(1e-5),\n",
    "    metric=\"cosine\",\n",
    ")"
   ]
  },
  {
   "cell_type": "code",
   "execution_count": null,
   "id": "d0e92073-56e1-415c-9ac1-99d54c370b47",
   "metadata": {},
   "outputs": [],
   "source": [
    "x = kraken_rabund\n",
    "y = clust_rabund[idxwhere(clust_meta.total_length > 2_000_000)].rename(sample_idx_to_id)\n",
    "\n",
    "x, y = x.align(y, join=\"inner\", axis=\"index\")\n",
    "\n",
    "cross_correlation = pd.DataFrame(\n",
    "    1 - sp.spatial.distance.cdist(x.T, y.T, metric=\"cosine\"),\n",
    "    index=x.columns,\n",
    "    columns=y.columns,\n",
    ")\n",
    "\n",
    "sns.clustermap(cross_correlation)"
   ]
  },
  {
   "cell_type": "code",
   "execution_count": null,
   "id": "2ff3aade-730f-4cd1-8e52-d88c497246df",
   "metadata": {},
   "outputs": [],
   "source": [
    "_strain_id_list = kraken_rabund.columns\n",
    "\n",
    "fig, axs = lib.plot.subplots_grid(ncols=5, naxes=len(_strain_id_list))\n",
    "\n",
    "for strain_id, ax in zip(_strain_id_list, axs.flatten()):\n",
    "    clust_id = cross_correlation.loc[strain_id].idxmax()\n",
    "\n",
    "    max_val = max(x[strain_id].max(), y[clust_id].max())\n",
    "\n",
    "    ax.scatter(x[strain_id], y[clust_id])\n",
    "    ax.plot([0, max_val], [0, max_val])\n",
    "    ax.set_xscale(\"symlog\", linthresh=1e-5)\n",
    "    ax.set_yscale(\"symlog\", linthresh=1e-5)\n",
    "    ax.set_xlabel(strain_id)\n",
    "    ax.set_ylabel(f\"bin {clust_id}\")\n",
    "    ax.set_aspect(1)\n",
    "    ax.annotate(\n",
    "        \"{:0.01e}\".format(clust_meta.loc[clust_id].total_length),\n",
    "        xy=(0.6, 0.3),\n",
    "        xycoords=\"axes fraction\",\n",
    "    )\n",
    "    # cross_correlation.loc[strain_id].sort_values(ascending=False).head()\n",
    "\n",
    "fig.tight_layout()"
   ]
  },
  {
   "cell_type": "code",
   "execution_count": null,
   "id": "fa9fbed5-47b9-4cbe-b152-a0cddf51b672",
   "metadata": {},
   "outputs": [],
   "source": [
    "strain_id = \"Bacteroides-thetaiotaomicron-VPI-5482\"\n",
    "\n",
    "fig, ax = plt.subplots()\n",
    "\n",
    "clust_id = cross_correlation.loc[strain_id].idxmax()\n",
    "\n",
    "max_val = max(x[strain_id].max(), y[clust_id].max())\n",
    "\n",
    "ax.scatter(x[strain_id], y[clust_id])\n",
    "ax.plot([0, max_val], [0, max_val])\n",
    "ax.set_xlabel(strain_id)\n",
    "ax.set_ylabel(f\"bin {clust_id}\")\n",
    "ax.annotate(\n",
    "    \"{:0.01e}\".format(clust_meta.loc[clust_id].total_length),\n",
    "    xy=(0.6, 0.3),\n",
    "    xycoords=\"axes fraction\",\n",
    ")\n",
    "# ax.set_xscale('symlog', linthresh=1e-5)\n",
    "# ax.set_yscale('symlog', linthresh=1e-5)\n",
    "ax.set_aspect(1)\n",
    "# fig.tight_layout()\n",
    "cross_correlation.loc[strain_id].sort_values(ascending=False).head()"
   ]
  },
  {
   "cell_type": "code",
   "execution_count": null,
   "id": "63d00dd4-a970-4260-a155-039fce731bea",
   "metadata": {},
   "outputs": [],
   "source": [
    "focal_clust = 20\n",
    "\n",
    "focal_clusts = [\n",
    "    focal_clust,\n",
    "    # 2383,\n",
    "    338,\n",
    "    332,\n",
    "]\n",
    "\n",
    "clust_palette = lib.plot.construct_ordered_palette(focal_clusts, cm=\"tab20\")\n",
    "\n",
    "focal_clust_segments = idxwhere(segement_x_clust == focal_clust)\n",
    "\n",
    "d = final_results.loc[idxwhere(vertex_to_clust.isin(focal_clusts))].sort_values(\n",
    "    \"length\", ascending=False\n",
    ")  # .head(20)\n",
    "\n",
    "for clust in focal_clusts:\n",
    "    color = clust_palette[clust]\n",
    "    plt.scatter(\n",
    "        \"length\",\n",
    "        \"total_depth\",\n",
    "        data=d.loc[idxwhere(vertex_to_clust == clust)],\n",
    "        s=4,\n",
    "        label=clust,\n",
    "        color=color,\n",
    "    )\n",
    "plt.xscale(\"log\")\n",
    "plt.yscale(\"log\")\n",
    "plt.legend()\n",
    "\n",
    "print(d.length.sum())\n",
    "d.join(vertex_to_clust).sort_values(\"num_segments\", ascending=False)"
   ]
  },
  {
   "cell_type": "code",
   "execution_count": null,
   "id": "2ee4c896-4494-42b8-a3c5-4dfe7d7d7d24",
   "metadata": {},
   "outputs": [],
   "source": [
    "_col_colors = d.length.pipe(np.log10).pipe(lambda x: mpl.cm.viridis(x / x.max()))\n",
    "# _col_colors = d.index.to_series().map(vertex_to_clust).map(clust_palette)\n",
    "\n",
    "sns.clustermap(\n",
    "    vertex_depth.loc[d.index].T.rename(sample_idx_to_id),\n",
    "    col_colors=_col_colors,\n",
    "    metric=\"cosine\",\n",
    "    norm=mpl.colors.SymLogNorm(linthresh=1),\n",
    ")"
   ]
  },
  {
   "cell_type": "code",
   "execution_count": null,
   "id": "875bb02e-c7a0-4171-b562-26bca42a3dc8",
   "metadata": {},
   "outputs": [],
   "source": []
  },
  {
   "cell_type": "code",
   "execution_count": null,
   "id": "584c8502-76fd-4674-957c-f2878d805837",
   "metadata": {},
   "outputs": [],
   "source": [
    "cg = sns.clustermap(\n",
    "    vertex_depth.loc[idxwhere(d.length > 1000)].T.rename(sample_idx_to_id),\n",
    "    metric=\"cosine\",\n",
    "    norm=mpl.colors.SymLogNorm(linthresh=0.01),\n",
    "    figsize=(6, 2.5),\n",
    "    dendrogram_ratio=(0, 0.2),\n",
    "    xticklabels=0,\n",
    "    yticklabels=0,\n",
    ")\n",
    "\n",
    "cg.ax_cbar.set_visible(False)"
   ]
  },
  {
   "cell_type": "code",
   "execution_count": null,
   "id": "5cab28fc-a9f9-47ca-8f67-6bb26743e72c",
   "metadata": {},
   "outputs": [],
   "source": [
    "clust_neighborhood_segment_graph = sz.io.load_graph(\n",
    "    f\"data/group/{group}/r.proc.kmtricks-{kmtricks}.ggcat-{graph_type}.notips-2.{smoothing}.unzip-{deconv}.clust-{clust_params}.unassembled-c{focal_clust}-r100.notips-1-unpressed.sz\"\n",
    ")\n",
    "sz.results.extract_vertex_data(clust_neighborhood_segment_graph).sort_values(\n",
    "    \"length\", ascending=False\n",
    ")  # .head(20)"
   ]
  },
  {
   "cell_type": "code",
   "execution_count": null,
   "id": "801e15e4-8dce-4af2-a6d1-6b3b17004239",
   "metadata": {},
   "outputs": [],
   "source": [
    "_graph = clust_neighborhood_segment_graph\n",
    "\n",
    "\n",
    "sz.draw.update_xypositions(_graph)\n",
    "print(\"Done with layout.\")\n",
    "\n",
    "# Color by depth\n",
    "vertex_color = _graph.new_vertex_property(\n",
    "    \"float\", vals=np.log(sz.results.total_depth_property(_graph).a + 1)\n",
    ")\n",
    "\n",
    "# Highlight vertices in the cluster itself.\n",
    "_vertices = list(\n",
    "    sz.results.iter_find_vertices_with_any_segment(_graph, focal_clust_segments)\n",
    ")\n",
    "print(len(_vertices))\n",
    "in_path = _graph.new_vertex_property(\"bool\", val=False)\n",
    "in_path.a[_vertices] = 1\n",
    "\n",
    "outpath = f\"{fig_dir}/clust-{focal_clust}.pdf\"\n",
    "sz.draw.draw_graph(\n",
    "    _graph,\n",
    "    # vertex_text=_graph.vp['length'],\n",
    "    vertex_text=_graph.vp[\"sequence\"],\n",
    "    vertex_halo=in_path,\n",
    "    # vertex_font_size=5,\n",
    "    vertex_fill_color=vertex_color,\n",
    "    # edge_pen_width=10,\n",
    "    output=outpath,\n",
    "    vcmap=(mpl.cm.magma, 1),\n",
    "    output_size=(1000, 1000),\n",
    ")\n",
    "print(outpath)"
   ]
  },
  {
   "cell_type": "code",
   "execution_count": null,
   "id": "bfa934e7-5ef0-4a71-8cf0-c6e52a8da308",
   "metadata": {},
   "outputs": [],
   "source": [
    "segment_x_cluster = pd.read_table(\n",
    "    f\"data/group/{group}/r.proc.kmtricks-{kmtricks}.ggcat-{graph_type}.notips-2.{smoothing}.unzip-{deconv}.clust-{clust_params}.segment.tsv\"\n",
    ")"
   ]
  },
  {
   "cell_type": "code",
   "execution_count": null,
   "id": "f6a7212a-00b9-49e6-b7d7-5628b8826a9d",
   "metadata": {},
   "outputs": [],
   "source": [
    "%%time\n",
    "radius = 10\n",
    "\n",
    "focal_clusts = [\n",
    "    20,\n",
    "    # 2383,\n",
    "    338,\n",
    "    332,\n",
    "]\n",
    "\n",
    "# Select segments\n",
    "_segment_list = list(\n",
    "    segment_x_cluster[lambda x: x.cluster.isin(focal_clusts)]\n",
    "    .segment.drop_duplicates()\n",
    "    .values\n",
    ")\n",
    "\n",
    "# Select vertices\n",
    "_vertex_list = list(\n",
    "    sz.results.iter_find_vertices_with_any_segment(unpressed_graph, _segment_list)\n",
    ")\n",
    "# Find neighborhood\n",
    "_distance_from_focal = sz.topology.get_shortest_distance_to_any_vertex(\n",
    "    unpressed_graph, _vertex_list, unpressed_graph.vp[\"length\"]\n",
    ")\n",
    "_vertex_mask = unpressed_graph.new_vertex_property(\n",
    "    \"bool\", vals=_distance_from_focal.a <= radius\n",
    ")\n",
    "_neighborhood_vertex_list = idxwhere(\n",
    "    pd.DataFrame(\n",
    "        unpressed_graph.get_vertices(vprops=[_vertex_mask]), columns=[\"vertex\", \"mask\"]\n",
    "    ).set_index(\"vertex\")[\"mask\"]\n",
    "    == 1\n",
    ")\n",
    "_graph0 = gt.Graph(gt.GraphView(unpressed_graph, vfilt=_vertex_mask), prune=True)\n",
    "print(_graph0)\n",
    "\n",
    "# Layout graph\n",
    "gt.seed_rng(1)\n",
    "np.random.seed(2)\n",
    "sz.draw.update_xypositions(\n",
    "    _graph0, layout=gt.draw.random_layout\n",
    ")  # NOTE: This allows for reproducible layouts.\n",
    "print(\"Done with Step 1.\")\n",
    "sz.draw.update_xypositions(\n",
    "    _graph0,\n",
    "    layout=gt.draw.sfdp_layout,\n",
    "    # p=1.4,\n",
    "    # K=1,\n",
    ")\n",
    "print(\"Done with layout!\")"
   ]
  },
  {
   "cell_type": "code",
   "execution_count": null,
   "id": "5d5c8e40-de04-4725-9fda-5784c6e467de",
   "metadata": {},
   "outputs": [],
   "source": [
    "# _palette = {332: 'fuchsia', 2383: 'silver', 20: 'lime', 338: 'cyan'}\n",
    "_palette = {332: \"hotpink\", 2383: \"silver\", 20: \"limegreen\", 338: \"dodgerblue\"}"
   ]
  },
  {
   "cell_type": "code",
   "execution_count": null,
   "id": "84783a33-8054-4b7f-90e4-94e399741e14",
   "metadata": {},
   "outputs": [],
   "source": [
    "# Decorate vertices\n",
    "_results = sz.results.extract_vertex_data(_graph0)\n",
    "_segment_to_vertex = (\n",
    "    _results.segments.str[0]\n",
    "    .reset_index()\n",
    "    .set_index(\"segments\")\n",
    "    .vertex.rename_axis(index=\"segment\")\n",
    ")\n",
    "\n",
    "clust_membership = (\n",
    "    final_results[lambda x: x.clust.isin(focal_clusts)]\n",
    "    .groupby(\"clust\")\n",
    "    .apply(lambda x: x.segments.explode().drop_duplicates(), include_groups=False)\n",
    "    .rename(\"segment\")\n",
    "    .reset_index()\n",
    "    .set_index([\"clust\", \"segment\"])\n",
    "    .assign(tally=1)\n",
    "    .tally.unstack(fill_value=0)\n",
    "    .T.rename(_segment_to_vertex)\n",
    "    .reindex(_graph0.get_vertices(), fill_value=0)\n",
    "    # .sort_index()\n",
    ")"
   ]
  },
  {
   "cell_type": "code",
   "execution_count": null,
   "id": "d8e0d66c-fab4-4bbb-a5bc-135938ec023a",
   "metadata": {},
   "outputs": [],
   "source": [
    "# num_clusts = 3\n",
    "# _clusts1 = focal_clusts[:num_clusts]\n",
    "\n",
    "_clust_order = [\n",
    "    332,\n",
    "    20,\n",
    "    # 2383,\n",
    "    338,\n",
    "]\n",
    "\n",
    "_clusts1 = _clust_order\n",
    "_graph1 = _graph0.copy()\n",
    "\n",
    "# # Select vertices in bin.\n",
    "# _clusts1 = _clust_order[:i + 1]\n",
    "# _mask1 = sz.results.extract_vertex_data(_graph0).segments.str[0].isin(segment_x_cluster[lambda x: x.cluster.isin(_clusts1)].segment)\n",
    "# print(_mask1.mean())\n",
    "# _graph1 = gt.GraphView(_graph0, vfilt=_mask1)\n",
    "\n",
    "# # Decorate vertices\n",
    "# _clust_mem = clust_membership[_mask1][_clusts1]\n",
    "# _clust_frac1 = _clust_mem.divide(_clust_mem.sum(axis=1), axis=0)\n",
    "# _graph1.vp['clust_frac'] = _graph1.new_vertex_property('vector<float>', vals=_clust_frac1.sort_index().values)\n",
    "\n",
    "# Decorate vertices\n",
    "_color_subset = (\n",
    "    sz.results.extract_vertex_data(_graph0)\n",
    "    .segments.str[0]\n",
    "    .isin(segment_x_cluster[lambda x: x.cluster.isin(_clusts1)].segment)\n",
    ")\n",
    "_clust_mem = clust_membership[_color_subset][_clusts1]\n",
    "_clust_frac1 = _clust_mem.divide(_clust_mem.sum(axis=1), axis=0).reindex(\n",
    "    _graph1.get_vertices(), fill_value=0\n",
    ")\n",
    "_clust_frac_vprop = _graph1.new_vertex_property(\n",
    "    \"vector<float>\", vals=_clust_frac1.sort_index().values\n",
    ")\n",
    "\n",
    "outpath = f\"{fig_dir}/Veill-multibin.all.png\"\n",
    "sz.draw.draw_graph(\n",
    "    _graph1,\n",
    "    output=outpath,\n",
    "    vertex_text=\"\",\n",
    "    # vertex_color='k',\n",
    "    vertex_size=30,\n",
    "    vertex_shape=\"pie\",\n",
    "    vertex_pie_fractions=_clust_frac_vprop,\n",
    "    vertex_pie_colors=[_palette[c] for c in _clusts1],\n",
    "    output_size=(2000, 2000),\n",
    ")\n",
    "print(outpath)"
   ]
  },
  {
   "cell_type": "code",
   "execution_count": null,
   "id": "2e811791-17dc-48d0-9a77-0c35b9f10c35",
   "metadata": {},
   "outputs": [],
   "source": [
    "# num_clusts = 3\n",
    "# _clusts1 = focal_clusts[:num_clusts]\n",
    "\n",
    "_clust_order = [\n",
    "    332,\n",
    "    20,\n",
    "    # 2383,\n",
    "    338,\n",
    "]\n",
    "\n",
    "for c in _clust_order:\n",
    "    _clusts1 = [c]\n",
    "    _graph1 = _graph0.copy()\n",
    "\n",
    "    # # Select vertices in bin.\n",
    "    # _clusts1 = _clust_order[:i + 1]\n",
    "    # _mask1 = sz.results.extract_vertex_data(_graph0).segments.str[0].isin(segment_x_cluster[lambda x: x.cluster.isin(_clusts1)].segment)\n",
    "    # print(_mask1.mean())\n",
    "    # _graph1 = gt.GraphView(_graph0, vfilt=_mask1)\n",
    "\n",
    "    # # Decorate vertices\n",
    "    # _clust_mem = clust_membership[_mask1][_clusts1]\n",
    "    # _clust_frac1 = _clust_mem.divide(_clust_mem.sum(axis=1), axis=0)\n",
    "    # _graph1.vp['clust_frac'] = _graph1.new_vertex_property('vector<float>', vals=_clust_frac1.sort_index().values)\n",
    "\n",
    "    # Decorate vertices\n",
    "    _color_subset = (\n",
    "        sz.results.extract_vertex_data(_graph0)\n",
    "        .segments.str[0]\n",
    "        .isin(segment_x_cluster[lambda x: x.cluster.isin(_clusts1)].segment)\n",
    "    )\n",
    "    _clust_mem = clust_membership[_color_subset][_clusts1]\n",
    "    _clust_frac1 = _clust_mem.divide(_clust_mem.sum(axis=1), axis=0).reindex(\n",
    "        _graph1.get_vertices(), fill_value=0\n",
    "    )\n",
    "    _clust_frac_vprop = _graph1.new_vertex_property(\n",
    "        \"vector<float>\", vals=_clust_frac1.sort_index().values\n",
    "    )\n",
    "\n",
    "    outpath = f\"{fig_dir}/Veill-multibin.{c}.png\"\n",
    "    sz.draw.draw_graph(\n",
    "        _graph1,\n",
    "        output=outpath,\n",
    "        vertex_text=\"\",\n",
    "        # vertex_color='k',\n",
    "        vertex_size=30,\n",
    "        vertex_shape=\"pie\",\n",
    "        vertex_pie_fractions=_clust_frac_vprop,\n",
    "        vertex_pie_colors=[_palette[c] for c in _clusts1],\n",
    "        output_size=(2000, 2000),\n",
    "    )\n",
    "    print(outpath)"
   ]
  },
  {
   "cell_type": "raw",
   "id": "35b9eda0-77bf-42d5-bd3b-51ba5d44da98",
   "metadata": {},
   "source": [
    "_graph = multi_clust_neighborhood_segment_graph\n",
    "\n",
    "\n",
    "sz.draw.update_xypositions(_graph)\n",
    "print(\"Done with layout.\")\n",
    "\n",
    "# Color by depth\n",
    "vertex_color = _graph.new_vertex_property('float', vals=np.log(sz.results.total_depth_property(_graph).a + 1))\n",
    "\n",
    "# Highlight vertices in the cluster itself.\n",
    "_vertices = list(sz.results.iter_find_vertices_with_any_segment(_graph, focal_clust_segments))\n",
    "print(len(_vertices))\n",
    "in_path = _graph.new_vertex_property('bool', val=False)\n",
    "in_path.a[_vertices] = 1\n",
    "\n",
    "outpath = f'{fig_dir}/clust-{focal_clust}.pdf'\n",
    "sz.draw.draw_graph(\n",
    "    _graph,\n",
    "    # vertex_text=_graph.vp['length'],\n",
    "    vertex_text=_graph.vp['sequence'],\n",
    "    vertex_halo=in_path,\n",
    "    # vertex_font_size=5,\n",
    "    vertex_fill_color=vertex_color,\n",
    "    # edge_pen_width=10,\n",
    "    output=outpath,\n",
    "    vcmap=(mpl.cm.magma, 1),\n",
    "    output_size=(1000, 1000),\n",
    ")\n",
    "print(outpath)"
   ]
  },
  {
   "cell_type": "code",
   "execution_count": null,
   "id": "1acfac73-8886-4f4b-887b-ccec42403f33",
   "metadata": {},
   "outputs": [],
   "source": [
    "shared_segments = pd.read_table(\n",
    "    f\"data/group/{group}/r.proc.kmtricks-{kmtricks}.ggcat-{graph_type}.notips-2.{smoothing}.unzip-{deconv}.clust-{clust_params}.shared.tsv\"\n",
    ")  # .set_index(['clusterA', 'clusterB']).num_shared_segments.unstack(fill_value=0).reindex(index=clust_meta.index, columns=clust_meta.index, fill_value=0)\n",
    "shared_segments.sort_values(\n",
    "    \"num_shared_segments\", ascending=False\n",
    ")  # [lambda x: x.clusterA.isin([212]) | x.clusterB.isin([212])].head(10)\n",
    "# shared_segments.values[:,:] += shared_segments.values.T\n",
    "# shared_segments.max().sort_values()"
   ]
  },
  {
   "cell_type": "code",
   "execution_count": null,
   "id": "2a819c6e-6de8-443d-924d-080abe37ff4a",
   "metadata": {},
   "outputs": [],
   "source": [
    "shared_segments[lambda x: x.clusterA == 98].sort_values(\n",
    "    \"num_shared_segments\", ascending=False\n",
    ").head()"
   ]
  },
  {
   "cell_type": "code",
   "execution_count": null,
   "id": "233edde9-2ac1-44b6-9bb4-0fdfe7de557b",
   "metadata": {},
   "outputs": [],
   "source": [
    "clust_meta2 = pd.read_table(\n",
    "    f\"data/group/{group}/r.proc.kmtricks-{kmtricks}.ggcat-{graph_type}.notips-2.clust-{clust_params}.meta.tsv\",\n",
    "    index_col=\"cluster\",\n",
    ")\n",
    "clust_depth2 = (\n",
    "    pd.read_table(\n",
    "        f\"data/group/{group}/r.proc.kmtricks-{kmtricks}.ggcat-{graph_type}.notips-2.clust-{clust_params}.depth.tsv\"\n",
    "    )\n",
    "    .rename(columns={\"Unnamed: 0\": \"cluster\"})\n",
    "    .set_index(\"cluster\")\n",
    "    .T.rename(int)\n",
    ")\n",
    "\n",
    "clust_meta2.sort_values(\"total_length\", ascending=False).head(10)"
   ]
  },
  {
   "cell_type": "code",
   "execution_count": null,
   "id": "507aa909-d13d-4e0d-be05-39f747aa17dd",
   "metadata": {},
   "outputs": [],
   "source": [
    "vertex_depth2 = sz.results.depth_table(\n",
    "    notips_unsmoothed_graph, notips_unsmoothed_graph.get_vertices()\n",
    ").T"
   ]
  },
  {
   "cell_type": "code",
   "execution_count": null,
   "id": "a0b28bd3-833a-4c0d-9dd0-416bed82ae35",
   "metadata": {},
   "outputs": [],
   "source": [
    "# Normalize by rpoB depth\n",
    "marker_genes2 = pd.read_table(\n",
    "    f\"data/group/{group}/r.proc.kmtricks-{kmtricks}.ggcat-{graph_type}.notips-2.cds.tran.hmmer-{marker_model}-ga.tsv\",\n",
    "    names=[\"orf\", \"gene_name\", \"bitscore\"],\n",
    ").assign(vertex=lambda x: x.orf.str.split(\"_\").str[0].astype(int))\n",
    "_marker_gene_vertex_list = list(set(marker_genes2.vertex))\n",
    "marker_depth2 = vertex_depth2.loc[_marker_gene_vertex_list].T"
   ]
  },
  {
   "cell_type": "code",
   "execution_count": null,
   "id": "ff38d7e8-d70f-439a-b2d2-be93fd73362b",
   "metadata": {},
   "outputs": [],
   "source": [
    "clust_rabund2 = clust_depth2.divide(marker_depth2.sum(1), axis=0)"
   ]
  },
  {
   "cell_type": "code",
   "execution_count": null,
   "id": "b6ba0033-55ee-4e1d-9c6e-e476d8db06d3",
   "metadata": {},
   "outputs": [],
   "source": [
    "x = kraken_rabund\n",
    "y = clust_rabund2[idxwhere(clust_meta2.total_length > 2_000_000)].rename(\n",
    "    sample_idx_to_id\n",
    ")\n",
    "\n",
    "x, y = x.align(y, join=\"inner\", axis=\"index\")\n",
    "\n",
    "cross_correlation2 = pd.DataFrame(\n",
    "    1 - sp.spatial.distance.cdist(x.T, y.T, metric=\"cosine\"),\n",
    "    index=x.columns,\n",
    "    columns=y.columns,\n",
    ")\n",
    "\n",
    "sns.clustermap(cross_correlation2)"
   ]
  },
  {
   "cell_type": "code",
   "execution_count": null,
   "id": "0b177eea-302d-4148-a480-40fb24229842",
   "metadata": {},
   "outputs": [],
   "source": [
    "x = kraken_rabund\n",
    "y = clust_rabund2[idxwhere(clust_meta2.total_length > 2_000_000)].rename(\n",
    "    sample_idx_to_id\n",
    ")\n",
    "\n",
    "x, y = x.align(y, join=\"inner\", axis=\"index\")\n",
    "\n",
    "_strain_id_list = kraken_rabund.columns\n",
    "fig, axs = lib.plot.subplots_grid(ncols=5, naxes=len(_strain_id_list))\n",
    "for strain_id, ax in zip(_strain_id_list, axs.flatten()):\n",
    "    clust_id = cross_correlation2.loc[strain_id].idxmax()\n",
    "\n",
    "    max_val = max(x[strain_id].max(), y[clust_id].max())\n",
    "\n",
    "    ax.scatter(x[strain_id], y[clust_id])\n",
    "    ax.plot([0, max_val], [0, max_val])\n",
    "    ax.set_xlabel(strain_id)\n",
    "    ax.set_ylabel(f\"bin {clust_id}\")\n",
    "    ax.set_aspect(1)\n",
    "    ax.annotate(\n",
    "        \"{:0.01e}\".format(clust_meta2.loc[clust_id].total_length),\n",
    "        xy=(0.6, 0.3),\n",
    "        xycoords=\"axes fraction\",\n",
    "    )\n",
    "    # cross_correlation.loc[strain_id].sort_values(ascending=False).head()\n",
    "\n",
    "fig.tight_layout()"
   ]
  },
  {
   "cell_type": "code",
   "execution_count": null,
   "id": "ca1331e1-a1da-42d3-92a0-fc31663755ed",
   "metadata": {},
   "outputs": [],
   "source": []
  },
  {
   "cell_type": "raw",
   "id": "56f31470-8e48-4a49-b38b-b1579be485eb",
   "metadata": {},
   "source": [
    "x = clust_depth.loc[212]\n",
    "y = clust_depth.loc[746]\n",
    "\n",
    "plt.scatter(x, y)\n",
    "plt.plot([1e0, 1e2], [1e0, 1e2])\n",
    "plt.plot([1e0, 1e2], [1e0 / 111, 1e2 / 111])\n",
    "plt.yscale('log')\n",
    "plt.xscale('log')"
   ]
  },
  {
   "cell_type": "code",
   "execution_count": null,
   "id": "00633a0f-d701-4eb8-bbb2-576a6475bd53",
   "metadata": {},
   "outputs": [],
   "source": [
    "vertex_to_clust.loc[marker_gene_vertex_list].value_counts().head(20)"
   ]
  },
  {
   "cell_type": "raw",
   "id": "987136ba-bfd5-4cff-ab30-78ad0b82477a",
   "metadata": {},
   "source": [
    "asmbl_clust_graph = sz.io.load_graph(f'data/group/{group}/r.proc.kmtricks-{kmtricks}.ggcat-{graph_type}.notips-2.{smoothing}.unzip-{deconv}.clust-{clust_params}.unassembled-c{focal_clust}-r100.notips-0.sz')\n",
    "sz.results.extract_vertex_data(asmbl_clust_graph).sort_values('length', ascending=False).head(10)"
   ]
  },
  {
   "cell_type": "raw",
   "id": "9876dd1e-fbf5-4521-9128-2ac1fb8d3a17",
   "metadata": {},
   "source": [
    "_graph = asmbl_clust_graph\n",
    "\n",
    "sz.draw.update_xypositions(_graph)\n",
    "print(\"Done with layout.\")\n",
    "vertex_color = _graph.new_vertex_property('float', vals=np.log(sz.results.total_depth_property(_graph).a + 1))\n",
    "\n",
    "outpath = f'{fig_dir}/clust-{focal_clust}.asmbl.pdf'\n",
    "sz.draw.draw_graph(\n",
    "    _graph,\n",
    "    # vertex_text=_graph.vp['sequence'],\n",
    "    # vertex_halo=in_path,\n",
    "    # vertex_font_size=5,\n",
    "    vertex_fill_color=vertex_color,\n",
    "    # edge_pen_width=10,\n",
    "    output=outpath,\n",
    "    vcmap=(mpl.cm.magma, 1),\n",
    "    output_size=(1000, 1000),\n",
    ")\n",
    "print(outpath)"
   ]
  },
  {
   "cell_type": "raw",
   "id": "7ad5ae78-c605-4a24-8bb4-505a1aa1cd97",
   "metadata": {},
   "source": [
    "vertex_x_ref_contig = []\n",
    "with open('data/group/both_ucfmt_d44_xjin_test2/r.proc.kmtricks-k111-m3-r2.ggcat-denovo.notips-2.{smoothing}.deconvolve-norm-2-50.quast-xjin.contig_to_genome.txt') as f:\n",
    "    for line in f:\n",
    "        ref_contig, *contigs = line.strip().split('\\t')\n",
    "        vertex_x_ref_contig.append(pd.Series(contigs).astype(int).to_frame('vertex').assign(ref_contig=ref_contig))\n",
    "        \n",
    "vertex_x_ref_contig = pd.concat(vertex_x_ref_contig)\n",
    "vertex_x_ref_contig"
   ]
  },
  {
   "cell_type": "raw",
   "id": "05b73423-91ca-4473-a575-a49bd678a12b",
   "metadata": {},
   "source": [
    "ref_contig_to_genome = pd.read_table('data/group/xjin/reference_genome_quast_contigs.tsv', index_col='quast_contig').genome\n",
    "ref_contig_to_genome"
   ]
  },
  {
   "cell_type": "raw",
   "id": "c5020494-7090-47a2-b524-05fb8b65dbf1",
   "metadata": {},
   "source": [
    "d = vertex_x_ref_contig.join(ref_contig_to_genome, on='ref_contig').join(vertex_to_clust, on='vertex').join(final_results.length, on='vertex').groupby(['cluster', 'genome']).length.sum().unstack(fill_value=0)\n",
    "sns.clustermap(d, norm=mpl.colors.PowerNorm(1/2, vmin=0, vmax=1e5), figsize=(40, 40), metric='cosine', xticklabels=1, yticklabels=1)"
   ]
  },
  {
   "cell_type": "raw",
   "id": "d87244f8-f7c8-40b2-a7b1-6b40e26d1268",
   "metadata": {},
   "source": [
    "d = (\n",
    "    vertex_x_genome\n",
    "    .join(vertex_to_clust, on='vertex')\n",
    "    [['genome', 'cluster']]\n",
    "    .value_counts()\n",
    "    .unstack('cluster', fill_value=0)\n",
    "    .divide(vertex_to_clust.value_counts())\n",
    "    .fillna(0)\n",
    ")\n",
    "# d.loc['Acidaminococcus-intestini-D21_MAF-2_1'].sort_values(ascending=False)\n",
    "d.T.loc[418].sort_values(ascending=False)"
   ]
  },
  {
   "cell_type": "raw",
   "id": "c1f29c8a-66a8-472e-903b-c52c06865e14",
   "metadata": {},
   "source": [
    "clust_results = sz.results.extract_vertex_data(clust_graph)\n",
    "clust_results.sort_values('length', ascending=False)"
   ]
  },
  {
   "cell_type": "raw",
   "id": "521d99ac-ee44-444f-a683-59de68e40127",
   "metadata": {
    "tags": []
   },
   "source": [
    "%%time\n",
    "# NOTE: Only run this if you want to examine deconvolutions\n",
    "with Pool(processes=22) as pool:\n",
    "    flow_final = sz.app.deconvolve._run_estimate_all_flows(final_graph, mapping_func=pool.imap)"
   ]
  },
  {
   "cell_type": "raw",
   "id": "ea341774-14c7-4a28-b64f-e85d52bec76b",
   "metadata": {
    "tags": []
   },
   "source": [
    "%%time\n",
    "# NOTE: Only run this if you want to examine deconvolutions\n",
    "with Pool(processes=22) as pool:\n",
    "    flow_round0 = sz.app.deconvolve._run_estimate_all_flows(round0_graph, mapping_func=pool.imap)"
   ]
  },
  {
   "cell_type": "raw",
   "id": "771660e4-2753-47ba-ae26-d9dce112cda0",
   "metadata": {
    "tags": []
   },
   "source": [
    "# Use this to find tigs of interest.\n",
    "# WORKHERE\n",
    "\n",
    "round0_results.loc[sz.results.iter_find_vertices_with_any_segment(round0_graph, ['1062567-', '1062567+'])].sort_values('num_segments', ascending=False)"
   ]
  },
  {
   "cell_type": "raw",
   "id": "4203c306-9231-4c0f-9164-624c4528832b",
   "metadata": {},
   "source": [
    "round0_results.loc[[347600, 330555, 325846, 38814, 103240, 43438]]"
   ]
  },
  {
   "cell_type": "raw",
   "id": "eeb4638e-c20b-487a-b8ad-bad1e9e29b89",
   "metadata": {},
   "source": [
    "round0_results.loc[[365139, 354107, 338967, 48455, 108147, 150762]]"
   ]
  },
  {
   "cell_type": "raw",
   "id": "aacfa8ab-b08f-4326-b82c-848bc4f2f2f8",
   "metadata": {},
   "source": [
    "junctions = [347600, 365139]\n",
    "\n",
    "deconv_problems = list(\n",
    "    sz.app.deconvolve._iter_junction_deconvolution_problems(\n",
    "       junctions, round0_graph, flow_round0\n",
    "    )\n",
    ")\n",
    "\n",
    "betas = []\n",
    "for p, _order in zip(deconv_problems, [[3, 0, 2, 1], [2, 3, 0, 1]]):\n",
    "    n, m = len(p.in_neighbors), len(p.out_neighbors)\n",
    "    print(f\"{n} x {m}\")\n",
    "    print()\n",
    "\n",
    "\n",
    "#     fit, paths, named_paths, score_margin = sz.deconvolution.deconvolve_junction_exhaustive(\n",
    "#         p.in_neighbors,\n",
    "#         p.in_flows,\n",
    "#         p.out_neighbors,\n",
    "#         p.out_flows,\n",
    "#         sz.depth_model.NormalDepthModel(maxiter=500),\n",
    "#         verbose=True,\n",
    "#     )\n",
    "\n",
    "#     X, _ = sz.deconvolution.design_all_paths(n, m)\n",
    "#     y = np.concatenate([in_flows, out_flows])\n",
    "    \n",
    "    result = sz.app.deconvolve._calculate_junction_deconvolution((\n",
    "        p,\n",
    "        sz.depth_model.NormalDepthModel(maxiter=1000, tol=1e-3),\n",
    "        'aic',\n",
    "    ))\n",
    "    unzip = result.unzip\n",
    "    \n",
    "    # print(result)\n",
    "    # print([unzip[1][i] for i in _order])\n",
    "    # print(result.absolute_stderr.max())\n",
    "    fig = plt.figure()\n",
    "    sns.heatmap(unzip[2]['path_depths'][_order], norm=mpl.colors.SymLogNorm(1, vmin=-1e3, vmax=1e3), cmap='coolwarm')\n",
    "    # plt.colorbar()\n",
    "    # betas.append(unzip[2]['path_depths'][_order])\n",
    "\n",
    "    \n",
    "    # X, y, labels = sz.deconvolution.formulate_path_deconvolution(in_flows, out_flows)\n",
    "\n",
    "    # print()\n",
    "    # print(f\"score_margin={score_margin}\")\n",
    "    # print(f\"completeness={X[:, paths].sum(1)}\")\n",
    "    # print(f\"minimalism={len(paths)}\")"
   ]
  },
  {
   "cell_type": "raw",
   "id": "29cb8f45-9c0e-497f-afa8-817c812a50a3",
   "metadata": {
    "tags": []
   },
   "source": [
    "fig = plt.figure()\n",
    "sns.heatmap(fit.y, norm=mpl.colors.SymLogNorm(1, vmin=-1e3, vmax=1e3), cmap='coolwarm')\n",
    "\n",
    "fig = plt.figure()\n",
    "sns.heatmap(fit.residual, norm=mpl.colors.SymLogNorm(1, vmin=-1e3, vmax=1e3), cmap='coolwarm')\n",
    "\n",
    "fig = plt.figure()\n",
    "sns.heatmap(fit.beta, norm=mpl.colors.SymLogNorm(1, vmin=-1e3, vmax=1e3), cmap='coolwarm')\n",
    "\n",
    "fig = plt.figure()\n",
    "sns.heatmap(fit.stderr_beta, norm=mpl.colors.SymLogNorm(1, vmin=-1e3, vmax=1e3), cmap='coolwarm')\n",
    "\n",
    "fig = plt.figure()\n",
    "sns.heatmap((fit.stderr_beta) / (fit.beta + 1), norm=mpl.colors.SymLogNorm(1e-1, vmin=-1e1, vmax=1e1), cmap='coolwarm')\n",
    "\n",
    "fig = plt.figure()\n",
    "plt.scatter(fit.beta, fit.stderr_beta)\n",
    "xx = np.concatenate([[0], np.logspace(-2, 2)])\n",
    "plt.plot(xx, xx * 0.1)\n",
    "# plt.plot(xx, (xx + 1) * 0.1)\n",
    "# plt.plot(xx, (xx + 1) * 0.5)\n",
    "plt.yscale('symlog', linthresh=1e-4)\n",
    "plt.xscale('symlog', linthresh=1e-4)"
   ]
  },
  {
   "cell_type": "raw",
   "id": "982deed7-b7bc-47e7-8a68-822f581274b0",
   "metadata": {
    "tags": []
   },
   "source": [
    "final_results.loc[sz.results.iter_find_vertices_with_any_segment(final_graph, ['1062628+'])].sort_values('num_segments', ascending=False)"
   ]
  },
  {
   "cell_type": "raw",
   "id": "239c3a2d-57c0-4a3c-b123-2ba9ec91b62a",
   "metadata": {
    "tags": []
   },
   "source": [
    "final_results.loc[sz.results.iter_find_vertices_with_any_segment(final_graph, ['1062628-'])].sort_values('num_segments', ascending=False)"
   ]
  },
  {
   "cell_type": "raw",
   "id": "83adbbca-3aa6-4a2b-802d-3eba621caef5",
   "metadata": {
    "tags": []
   },
   "source": [
    "notips_results.loc[sz.results.iter_find_vertices_with_any_segment(notips_graph, ['1062628-', '1062628+'])].sort_values('num_segments', ascending=False)"
   ]
  },
  {
   "cell_type": "raw",
   "id": "1b771eb5-32c6-4279-9c21-053a68da8d44",
   "metadata": {},
   "source": [
    "with Pool(processes=22) as pool:\n",
    "    flow0 = _run_estimate_all_flows(notips_graph, mapping_func=pool.imap)"
   ]
  },
  {
   "cell_type": "raw",
   "id": "d8b13943-a051-4f88-91ea-574fd5b9b599",
   "metadata": {},
   "source": [
    "j = 365182\n",
    "\n",
    "_, in_neighbors, in_flows, out_neighbors, out_flows = list(\n",
    "    sz.app.deconvolve._iter_junction_deconvolution_data(\n",
    "        [j], notips_graph, flow0, max_paths=1000\n",
    "    )\n",
    ")[0]\n",
    "\n",
    "\n",
    "n, m = len(in_neighbors), len(out_neighbors)\n",
    "print(f\"{n} x {m}\")\n",
    "print()\n",
    "\n",
    "\n",
    "fit, paths, named_paths, score_margin = sz.deconvolution.deconvolve_junction_exhaustive(\n",
    "    in_neighbors,\n",
    "    in_flows,\n",
    "    out_neighbors,\n",
    "    out_flows,\n",
    "    sz.depth_model.NormalDepthModel(maxiter=500),\n",
    "    verbose=True,\n",
    ")\n",
    "\n",
    "X, _ = sz.deconvolution.design_all_paths(n, m)\n",
    "y = np.concatenate([in_flows, out_flows])\n",
    "\n",
    "# X, y, labels = sz.deconvolution.formulate_path_deconvolution(in_flows, out_flows)\n",
    "\n",
    "print()\n",
    "print(f\"score_margin={score_margin}\")\n",
    "print(f\"completeness={X[:, paths].sum(1)}\")\n",
    "print(f\"minimalism={len(paths)}\")"
   ]
  },
  {
   "cell_type": "raw",
   "id": "b4bc2e40-3837-49bd-99f7-53ab18f97f85",
   "metadata": {},
   "source": []
  },
  {
   "cell_type": "raw",
   "id": "90949ed3-ceaa-4ecb-8a78-3f3f91601400",
   "metadata": {},
   "source": [
    "fit2 = sz.depth_model.LogPlusAlphaLogNormal(alpha=1.0, maxiter=10000).fit(y, sz.deconvolution.pathset_to_design(sz.deconvolution.PathSet(frozenset({\n",
    "    sz.deconvolution.LocalPath(0, 1),\n",
    "    sz.deconvolution.LocalPath(1, 0),\n",
    "    # sz.deconvolution.LocalPath(0, 1),\n",
    "}), n=2, m=2)))\n",
    "\n",
    "fig = plt.figure()\n",
    "sns.heatmap(fit2.y, norm=mpl.colors.SymLogNorm(1, vmin=-1e3, vmax=1e3), cmap='coolwarm')\n",
    "\n",
    "fig = plt.figure()\n",
    "sns.heatmap(fit2.residual, norm=mpl.colors.SymLogNorm(1, vmin=-1e3, vmax=1e3), cmap='coolwarm')\n",
    "\n",
    "fig = plt.figure()\n",
    "sns.heatmap(fit2.beta, norm=mpl.colors.SymLogNorm(1, vmin=-1e3, vmax=1e3), cmap='coolwarm')\n",
    "\n",
    "fig = plt.figure()\n",
    "sns.heatmap(fit2.stderr_beta, norm=mpl.colors.SymLogNorm(1, vmin=-1e3, vmax=1e3), cmap='coolwarm')\n",
    "\n",
    "fig = plt.figure()\n",
    "sns.heatmap((fit2.stderr_beta) / (fit2.beta + 1), norm=mpl.colors.SymLogNorm(1e-1, vmin=-1e1, vmax=1e1), cmap='coolwarm')\n",
    "\n",
    "fig = plt.figure()\n",
    "plt.scatter(fit2.beta, fit2.stderr_beta)\n",
    "xx = np.concatenate([[0], np.logspace(-2, 2)])\n",
    "plt.plot(xx, xx * 0.1)\n",
    "# plt.plot(xx, (xx + 1) * 0.1)\n",
    "# plt.plot(xx, (xx + 1) * 0.5)\n",
    "plt.yscale('symlog', linthresh=1e-4)\n",
    "plt.xscale('symlog', linthresh=1e-4)"
   ]
  },
  {
   "cell_type": "raw",
   "id": "278a75e3-46aa-41e5-8cf2-7894dfb216ef",
   "metadata": {},
   "source": [
    "%%time\n",
    "\n",
    "from collections import defaultdict\n",
    "from scipy.spatial.distance import cosine\n",
    "\n",
    "thresh = 0.1\n",
    "\n",
    "d = vertex_depth\n",
    "d = d.loc[d.sum(1).sort_values(ascending=False).index]\n",
    "preclusters = defaultdict(lambda: [])\n",
    "\n",
    "for v in tqdm(d.index):\n",
    "    for u in preclusters:\n",
    "        if cosine(d.loc[u], d.loc[v]) < thresh:\n",
    "            preclusters[u].append(v)\n",
    "            break\n",
    "    else:\n",
    "        preclusters[v].append(v)\n",
    "        \n",
    "len(preclusters)"
   ]
  },
  {
   "cell_type": "raw",
   "id": "9bf0e62d-0e2b-4892-b04a-44bc5d59c509",
   "metadata": {},
   "source": [
    "d = vertex_depth[(vertex_length > 5000) & (vertex_depth.sum(1) > 0)]\n",
    "d.shape"
   ]
  },
  {
   "cell_type": "raw",
   "id": "2b8a2906-329a-4f16-b3a5-5489aef74b8c",
   "metadata": {},
   "source": [
    "%time fastcluster.linkage(np.log(d + 1), method='average', metric='cosine')"
   ]
  },
  {
   "cell_type": "raw",
   "id": "8b4011ea-0d2e-44fd-bfb7-977cc81b96c8",
   "metadata": {},
   "source": [
    "clust = pd.read_table(f'data/group/{group}/r.proc.kmtricks-{kmtricks}.ggcat-{graph_type}.notips-2.smoothed.deconvolve-log-2-10.clust-100.vertex.tsv', index_col='vertex').cluster"
   ]
  },
  {
   "cell_type": "raw",
   "id": "489d3337-ce4b-4cc7-bcf1-ac82eb2a74c5",
   "metadata": {},
   "source": [
    "clust_segment = pd.read_table(f'data/group/{group}/r.proc.kmtricks-{kmtricks}.ggcat-{graph_type}.notips-2.smoothed.deconvolve-log-2-10.clust-100.segment.tsv', index_col='segment').cluster"
   ]
  },
  {
   "cell_type": "raw",
   "id": "3009cd5f-bbd7-407b-aa3d-8fdf2b6ef27a",
   "metadata": {},
   "source": [
    "segment_list = list(clust_segment.index.unique())\n",
    "segment_index = pd.Series(range(len(segment_list)), index=segment_list)\n",
    "d = clust_segment.to_frame().assign(length=lambda x: segment_length.loc[x.index], segment_index=lambda x: segment_index.loc[x.index])\n",
    "\n",
    "sparse_clust_to_segment_sqrt_length = sp.sparse.csc_array((np.sqrt(d.length), (d.segment_index, d.cluster)))\n",
    "shared_length_matrix = (sparse_clust_to_segment_sqrt_length.T @ sparse_clust_to_segment_sqrt_length)\n",
    "shared_length_matrix"
   ]
  },
  {
   "cell_type": "raw",
   "id": "117c2651-9fb6-472c-9bc9-dbd78b003878",
   "metadata": {},
   "source": [
    "d = clust_segment.reset_index()\n",
    "cluster_list = idxwhere(clust_segment.value_counts() > 50)\n",
    "num_clusters = len(cluster_list)\n",
    "print(num_clusters)\n",
    "shared_segments = np.zeros((num_clusters, num_clusters))\n",
    "\n",
    "grouper = d[lambda x: x.cluster.isin[cluster_list]].groupby('cluster')\n",
    "for (i, (clust_i, data_i)), (j, (clust_j, data_j)) in tqdm(combinations(enumerate(grouper), r=2)):\n",
    "    _shared = list(set(grouper.get_group(clust_i).segment) & set(grouper.get_group(clust_j).segment))\n",
    "    if len(_shared) == 0:\n",
    "        continue\n",
    "    shared_segments[i, j] = shared_segments[j, i] = segment_length.loc[_shared].sum()\n",
    "    \n",
    "shared_segments = pd.DataFrame(shared_segments, index=cluster_list, columns=cluster_list)\n",
    "shared_segments.values[np.diag_indices(num_clusters)] = clust_segment.value_counts().loc[shared_segments.index]"
   ]
  },
  {
   "cell_type": "raw",
   "id": "55749a5b-27cc-41ee-b178-052902782fad",
   "metadata": {},
   "source": [
    "sns.clustermap(shared_segments, norm=mpl.colors.SymLogNorm(linthresh=1), metric='cosine')"
   ]
  },
  {
   "cell_type": "raw",
   "id": "082b5fc6-c052-48f5-b35d-83d531bc63df",
   "metadata": {},
   "source": [
    "clust_segment.value_counts()"
   ]
  },
  {
   "cell_type": "raw",
   "id": "764770fd-14e9-4c79-8b76-cacc316441e9",
   "metadata": {},
   "source": [
    "clust_list = [13]\n",
    "\n",
    "clust_palette = lib.plot.construct_ordered_palette(clust_list)\n",
    "vertex_list = idxwhere(clust.isin(clust_list))\n",
    "d = vertex_depth.loc[vertex_list]\n",
    "col_colors = pd.DataFrame(dict(clust=d.index.to_series().map(clust).map(clust_palette), length=vertex_length.loc[vertex_list].map(lambda x: np.log10(x) / 6).map(mpl.cm.viridis)))\n",
    "\n",
    "sns.clustermap(d.T, metric='cosine', col_colors=col_colors, norm=mpl.colors.SymLogNorm(1e-1), figsize=(8, 4), yticklabels=0, xticklabels=0)"
   ]
  },
  {
   "cell_type": "raw",
   "id": "3881abd5-2cdb-4f5b-92a0-12a236fb754c",
   "metadata": {},
   "source": [
    "focal_clust = 13\n",
    "\n",
    "all_clust_vertices = idxwhere(clust == focal_clust)\n",
    "\n",
    "focal_segments = list(set(chain(*final_results.loc[all_clust_vertices].segments)))\n",
    "print(len(all_clust_vertices), len(focal_segments))\n",
    "\n",
    "unpressed_graph_core_vertices = list(sz.results.iter_find_vertices_with_any_segment(unpressed_graph, focal_segments))\n",
    "in_core = unpressed_graph.new_vertex_property('bool', vals=[v in unpressed_graph_core_vertices for v in unpressed_graph.get_vertices()])\n",
    "core_graph = gt.GraphView(unpressed_graph, vfilt=in_core)\n",
    "print(core_graph)\n",
    "\n",
    "final_results.loc[all_clust_vertices].sort_values('length', ascending=False)"
   ]
  },
  {
   "cell_type": "raw",
   "id": "a4407acd-039b-40c5-9f7e-d02cd93ccba3",
   "metadata": {},
   "source": [
    "radius = 100\n",
    "\n",
    "unpressed_graph_distance_to_core = sz.topology.get_shortest_distance(unpressed_graph, unpressed_graph_core_vertices, unpressed_graph.vp['length'], max_length=radius, backlinked=backlinked_unpressed_graph, verbose=True)\n",
    "in_neighborhood = unpressed_graph.new_vertex_property('bool', vals=unpressed_graph_distance_to_core.a < radius - 1)\n",
    "neighborhood_graph = gt.GraphView(unpressed_graph, vfilt=in_neighborhood)\n",
    "print(neighborhood_graph)"
   ]
  },
  {
   "cell_type": "raw",
   "id": "98877095-a600-487f-9802-e5f3d7aca9bd",
   "metadata": {},
   "source": [
    "d = final_results.loc[all_clust_vertices]\n",
    "plt.scatter('length', 'total_depth', data=d, c='num_segments', s=15, norm=mpl.colors.LogNorm())\n",
    "plt.colorbar()\n",
    "plt.xscale('log')\n",
    "d.sort_values('num_segments', ascending=False)"
   ]
  },
  {
   "cell_type": "raw",
   "id": "5ed6d4f0-e763-44fb-917e-5a140bca71b3",
   "metadata": {},
   "source": [
    "g = core_graph\n",
    "\n",
    "sz.draw.update_xypositions(g)\n",
    "vertex_color = g.new_vertex_property('float', vals=np.log(sz.results.total_depth_property(g).a + 1))\n",
    "\n",
    "unpressed_graph_vertices = list(sz.results.iter_find_vertices_with_any_segment(unpressed_graph, chain(*final_results.loc[all_clust_vertices].segments)))\n",
    "print(len(unpressed_graph_vertices), len(g))\n",
    "not_in_path = unpressed_graph.new_vertex_property('float', val=1)\n",
    "not_in_path.a[unpressed_graph_vertices] = 0\n",
    "\n",
    "outpath = f'{fig_dir}/core-clust{focal_clust}.pdf'\n",
    "sz.draw.draw_graph(\n",
    "    g,\n",
    "    vertex_text=g.vp['sequence'],\n",
    "    vertex_color=not_in_path,\n",
    "    vertex_font_size=5,\n",
    "    vertex_fill_color=vertex_color,\n",
    "    output=outpath,\n",
    "    vcmap=(mpl.cm.magma, 1),\n",
    "    output_size=(2500, 2500),\n",
    ")\n",
    "print(outpath)"
   ]
  },
  {
   "cell_type": "raw",
   "id": "ce23040d-cf96-438e-ae3c-b7766ed264a5",
   "metadata": {},
   "source": [
    "g = neighborhood_graph\n",
    "\n",
    "sz.draw.update_xypositions(g)\n",
    "vertex_color = g.new_vertex_property('float', vals=np.log(sz.results.total_depth_property(g).a + 1))\n",
    "\n",
    "unpressed_graph_vertices = list(sz.results.iter_find_vertices_with_any_segment(unpressed_graph, chain(*final_results.loc[all_clust_vertices].segments)))\n",
    "print(len(unpressed_graph_vertices), len(g))\n",
    "not_in_path = unpressed_graph.new_vertex_property('float', val=1)\n",
    "not_in_path.a[unpressed_graph_vertices] = 0\n",
    "\n",
    "outpath = f'{fig_dir}/neighborhood-clust{focal_clust}.pdf'\n",
    "sz.draw.draw_graph(\n",
    "    g,\n",
    "    vertex_text=g.vp['sequence'],\n",
    "    vertex_color=not_in_path,\n",
    "    vertex_font_size=5,\n",
    "    vertex_fill_color=vertex_color,\n",
    "    output=outpath,\n",
    "    vcmap=(mpl.cm.magma, 1),\n",
    "    output_size=(1500, 1500),\n",
    ")\n",
    "print(outpath)"
   ]
  },
  {
   "cell_type": "raw",
   "id": "d656b650-62d2-459d-922a-a34b3fd3bdb9",
   "metadata": {},
   "source": [
    "d = vertex_depth.loc[final_results[lambda x: (x.length > 500)].index][lambda x: x.sum(1) > 1000]\n",
    "_linkage = linkage((d + 1), method='average', metric='cosine')\n",
    "_clust = pd.Series(fcluster(_linkage, 0.025, criterion='distance'), index=d.index)"
   ]
  },
  {
   "cell_type": "raw",
   "id": "043fc999-5459-4c0f-9897-3d1935c7d27d",
   "metadata": {},
   "source": [
    "from lib.plot import construct_ordered_palette\n",
    "top_clusts = _clust.value_counts()[:50].index\n",
    "top_clusts_palette = construct_ordered_palette(top_clusts, cm=\"rainbow\")"
   ]
  },
  {
   "cell_type": "raw",
   "id": "71ef5a7d-7d84-4b80-8146-f45bb6b01b99",
   "metadata": {},
   "source": [
    "clust_results = final_results.loc[_clust.index].assign(clust=_clust, tally=1).groupby('clust').agg({'length': 'sum', 'num_segments': 'sum', 'total_depth': 'mean', 'segments': 'sum', 'tally': 'sum'}).sort_values('length', ascending=False)\n",
    "clust_results.head(50)"
   ]
  },
  {
   "cell_type": "raw",
   "id": "30995dd5-1e41-45f7-b6b1-a18a0b2b8f2d",
   "metadata": {},
   "source": [
    "segment_length.loc[list(set(clust_results.loc[781].segments))].sum()"
   ]
  },
  {
   "cell_type": "raw",
   "id": "a35c54cf-29c8-4c59-867b-e7462bb80c70",
   "metadata": {},
   "source": [
    "focal_clust = 781\n",
    "radius = 100\n",
    "\n",
    "all_clust_vertices = idxwhere(_clust == focal_clust)\n",
    "\n",
    "focal_segments = list(set(chain(*final_results.loc[all_clust_vertices].segments)))\n",
    "print(len(all_clust_vertices), len(focal_segments))\n",
    "\n",
    "unpressed_graph_core_vertices = list(sz.results.iter_find_vertices_with_any_segment(unpressed_graph, focal_segments))\n",
    "unpressed_graph_distance_to_core = sz.topology.get_shortest_distance(unpressed_graph, unpressed_graph_core_vertices, unpressed_graph.vp['length'], max_length=radius, backlinked=backlinked_unpressed_graph, verbose=True)\n",
    "in_neighborhood = unpressed_graph.new_vertex_property('bool', vals=unpressed_graph_distance_to_core.a < radius - 1)\n",
    "\n",
    "neighborhood_graph = gt.GraphView(unpressed_graph, vfilt=in_neighborhood)\n",
    "print(neighborhood_graph)\n",
    "\n",
    "final_results.loc[all_clust_vertices].sort_values('total_depth')"
   ]
  },
  {
   "cell_type": "raw",
   "id": "4c1145b4-da15-473f-9984-65fbbc083d77",
   "metadata": {},
   "source": [
    "sz.draw.update_xypositions(neighborhood_graph)\n",
    "vertex_color = neighborhood_graph.new_vertex_property('float', vals=np.log(sz.results.total_depth_property(neighborhood_graph).a + 1))\n",
    "\n",
    "unpressed_graph_vertices = list(sz.results.iter_find_vertices_with_any_segment(unpressed_graph, chain(*final_results.loc[all_clust_vertices].segments)))\n",
    "print(len(unpressed_graph_vertices))\n",
    "not_in_path = unpressed_graph.new_vertex_property('bool', val=True)\n",
    "not_in_path.a[unpressed_graph_vertices] = 0\n",
    "\n",
    "outpath = f'{fig_dir}/neighborhood-clust{focal_clust}.pdf'\n",
    "sz.draw.draw_graph(\n",
    "    neighborhood_graph,\n",
    "    vertex_text=neighborhood_graph.vp['sequence'],\n",
    "    vertex_halo=not_in_path,\n",
    "    vertex_halo_size=0.9,\n",
    "    vertex_font_size=5,\n",
    "    vertex_fill_color=vertex_color,\n",
    "    output=outpath,\n",
    "    vcmap=(mpl.cm.magma, 1),\n",
    "    output_size=(1500, 1500),\n",
    ")\n",
    "print(outpath)"
   ]
  },
  {
   "cell_type": "raw",
   "id": "5d443d85-aa6a-4ec6-9a7b-a1496138e210",
   "metadata": {},
   "source": [
    "print(_clust.value_counts()[lambda x: (x > 50) & (x < 150)])\n",
    "print(final_results.loc[_clust.index].assign(clust=_clust)[lambda x: x.clust == 1928][['length', 'num_segments']].sum())\n",
    "final_results.loc[_clust.index].assign(clust=_clust)[lambda x: x.clust == 1928]"
   ]
  },
  {
   "cell_type": "raw",
   "id": "3c0fcc38-268a-4b23-bd80-25d6d88c9dd9",
   "metadata": {},
   "source": [
    "final_results[lambda x: x.length > 1000].sort_values('total_depth', ascending=False).head()"
   ]
  },
  {
   "cell_type": "raw",
   "id": "7b26f62d-1dae-4dc4-9c63-79e4ebeec0d8",
   "metadata": {},
   "source": [
    "focal_path = 242477\n",
    "radius = 100\n",
    "\n",
    "focal_segments = list(set(chain(*final_results.loc[[focal_path]].segments)))\n",
    "print(1, len(focal_segments))\n",
    "\n",
    "unpressed_graph_core_vertices = list(sz.results.iter_find_vertices_with_any_segment(unpressed_graph, focal_segments))\n",
    "unpressed_graph_distance_to_core = sz.topology.get_shortest_distance(unpressed_graph, unpressed_graph_core_vertices, unpressed_graph.vp['length'], max_length=radius, backlinked=backlinked_unpressed_graph, verbose=True)\n",
    "in_neighborhood = unpressed_graph.new_vertex_property('bool', vals=unpressed_graph_distance_to_core.a < radius - 1)\n",
    "\n",
    "neighborhood_graph = gt.GraphView(unpressed_graph, vfilt=in_neighborhood)\n",
    "print(neighborhood_graph)\n",
    "\n",
    "final_results.loc[[focal_path]]"
   ]
  },
  {
   "cell_type": "raw",
   "id": "f9450694-58f4-4409-acec-08bb79153e5e",
   "metadata": {},
   "source": [
    "sz.draw.update_xypositions(neighborhood_graph)\n",
    "vertex_color = neighborhood_graph.new_vertex_property('float', vals=np.log(sz.results.total_depth_property(neighborhood_graph).a + 1))\n",
    "\n",
    "# outpath = f'{fig_dir}/neighborhood-{focal_path}.final.pdf'\n",
    "# sz.draw.draw_graph(\n",
    "#     neighborhood_graph,\n",
    "#     vertex_text=neighborhood_graph.vp['sequence'],\n",
    "#     # vertex_halo=in_path,\n",
    "#     vertex_font_size=5,\n",
    "#     vertex_fill_color=vertex_color,\n",
    "#     output=outpath,\n",
    "#     vcmap=(mpl.cm.magma, 1),\n",
    "#     output_size=(800, 800),\n",
    "# )\n",
    "# print(outpath)\n",
    "\n",
    "# for path in related_paths:\n",
    "for path in [337156]:\n",
    "    unpressed_graph_vertices = list(sz.results.iter_find_vertices_with_any_segment(unpressed_graph, final_results.loc[path].segments))\n",
    "    print(len(unpressed_graph_vertices))\n",
    "    in_path = unpressed_graph.new_vertex_property('bool', val=False)\n",
    "    in_path.a[unpressed_graph_vertices] = 1\n",
    "    outpath = f'{fig_dir}/neighborhood-{focal_path}.final.neighbor-{path}.pdf'\n",
    "    sz.draw.draw_graph(\n",
    "        neighborhood_graph,\n",
    "        vertex_text=neighborhood_graph.vp['sequence'],\n",
    "        vertex_halo=in_path,\n",
    "        vertex_font_size=5,\n",
    "        vertex_fill_color=vertex_color,\n",
    "        output=outpath,\n",
    "        vcmap=(mpl.cm.magma, 1),\n",
    "        output_size=(800, 800),\n",
    "    )\n",
    "    print(outpath)"
   ]
  },
  {
   "cell_type": "raw",
   "id": "cc88399d-21e5-48e5-b55d-4ad56b74a0bf",
   "metadata": {
    "execution": {
     "iopub.execute_input": "2024-05-14T18:06:05.773871Z",
     "iopub.status.busy": "2024-05-14T18:06:05.773001Z",
     "iopub.status.idle": "2024-05-14T18:06:15.891221Z",
     "shell.execute_reply": "2024-05-14T18:06:15.795759Z",
     "shell.execute_reply.started": "2024-05-14T18:06:05.773828Z"
    }
   },
   "source": [
    "# Instead of alternative paths in the final graph, try alternative paths in a previous iteration:\n",
    "\n",
    "previous_graph = alt1_graph\n",
    "previous_results = alt1_results\n",
    "previous_paths = list(sz.results.iter_find_vertices_with_any_segment(previous_graph, final_results.loc[focal_path].segments))\n",
    "\n",
    "for path in previous_paths:\n",
    "    original_graph_vertices = list(sz.results.iter_find_vertices_with_any_segment(original_graph, previous_results.loc[path].segments))\n",
    "    print(len(original_graph_vertices))\n",
    "    in_path = original_graph.new_vertex_property('bool', val=False)\n",
    "    in_path.a[original_graph_vertices] = 1\n",
    "    outpath = f'{fig_dir}/neighborhood-{focal_path}.previous.overlapping-{path}.pdf'\n",
    "    sz.draw.draw_graph(\n",
    "        neighborhood_graph,\n",
    "        vertex_text=neighborhood_graph.vp['sequence'],\n",
    "        vertex_halo=in_path,\n",
    "        vertex_font_size=5,\n",
    "        vertex_fill_color=vertex_color,\n",
    "        output=outpath,\n",
    "        vcmap=(mpl.cm.magma, 1),\n",
    "        output_size=(500, 500),\n",
    "    )\n",
    "    print(outpath)\n",
    "\n",
    "previous_results.loc[previous_paths]"
   ]
  },
  {
   "cell_type": "raw",
   "id": "17b77e37-90c8-4fb0-8f34-152f5889e6a7",
   "metadata": {},
   "source": [
    "fit2.sigma"
   ]
  },
  {
   "cell_type": "raw",
   "id": "3aec5c88-ece7-4793-ba4a-3b5bc8011ced",
   "metadata": {},
   "source": [
    "fit.score, fit2.score"
   ]
  },
  {
   "cell_type": "raw",
   "id": "8e35342d-5514-4df7-a19c-07b7624181e2",
   "metadata": {},
   "source": [
    "j = 196732\n",
    "\n",
    "_, in_neighbors, in_flows, out_neighbors, out_flows = list(\n",
    "    sz.app.assemble._iter_junction_deconvolution_data(\n",
    "        [j], final_graph, final_graph.ep['flow'], max_paths=1000\n",
    "    )\n",
    ")[0]\n",
    "\n",
    "\n",
    "n, m = len(in_neighbors), len(out_neighbors)\n",
    "print(f\"{n} x {m}\")\n",
    "print()\n",
    "\n",
    "\n",
    "fit, paths, named_paths, score_margin = sz.deconvolution2.deconvolve_junction(\n",
    "    in_neighbors,\n",
    "    in_flows,\n",
    "    out_neighbors,\n",
    "    out_flows,\n",
    "    sz.depth_model.LogPlusAlphaLogNormal(alpha=1.0, maxiter=10000),\n",
    "    # forward_stop=-1000,\n",
    "    # backward_stop=0,\n",
    "    verbose=True,\n",
    ")\n",
    "print(paths, score_margin)\n",
    "\n",
    "X, y, labels = sz.deconvolution.formulate_path_deconvolution(in_flows, out_flows)\n",
    "\n",
    "print()\n",
    "print(f\"score_margin={score_margin}\")\n",
    "print(f\"completeness={X[:, paths].sum(1)}\")\n",
    "print(f\"minimalism={len(paths)}\")"
   ]
  },
  {
   "cell_type": "raw",
   "id": "ddf1fe34-9711-4387-a35c-8f6c0c114424",
   "metadata": {
    "tags": []
   },
   "source": [
    "j = 196732\n",
    "\n",
    "_, in_neighbors, in_flows, out_neighbors, out_flows = list(\n",
    "    sz.app.assemble._iter_junction_deconvolution_data(\n",
    "        [j], final_graph, final_graph.ep['flow'], max_paths=1000\n",
    "    )\n",
    ")[0]\n",
    "\n",
    "\n",
    "n, m = len(in_neighbors), len(out_neighbors)\n",
    "print(f\"{n} x {m}\")\n",
    "print()\n",
    "\n",
    "\n",
    "fit, paths, named_paths, score_margin = sz.deconvolution.deconvolve_junction(\n",
    "    in_neighbors,\n",
    "    in_flows,\n",
    "    out_neighbors,\n",
    "    out_flows,\n",
    "    sz.depth_model.LogPlusAlphaLogNormal(alpha=1.0, maxiter=10000),\n",
    "    # forward_stop=-1000,\n",
    "    # backward_stop=0,\n",
    "    verbose=True,\n",
    ")\n",
    "\n",
    "X, y, labels = sz.deconvolution.formulate_path_deconvolution(in_flows, out_flows)\n",
    "\n",
    "print()\n",
    "print(f\"score_margin={score_margin}\")\n",
    "print(f\"completeness={X[:, paths].sum(1)}\")\n",
    "print(f\"minimalism={len(paths)}\")"
   ]
  },
  {
   "cell_type": "raw",
   "id": "dcf592d2-14a1-4d38-b6ed-47f595cc65af",
   "metadata": {},
   "source": [
    "%autoreload"
   ]
  },
  {
   "cell_type": "raw",
   "id": "30e3b473-2ffc-47d3-b331-4151eb2ff771",
   "metadata": {
    "tags": []
   },
   "source": [
    "(\n",
    "    is_converged,\n",
    "    score_margin,\n",
    "    completeness_ratio,\n",
    "    excess_paths,\n",
    "    relative_stderr,\n",
    "    absolute_stderr,\n",
    "    result,\n",
    ") = sz.app.assemble._calculate_junction_deconvolution((\n",
    "        j,\n",
    "        in_neighbors,\n",
    "        in_flows,\n",
    "        out_neighbors,\n",
    "        out_flows,\n",
    "        -0.0,\n",
    "        0.0,\n",
    "        sz.depth_model.LogPlusAlphaLogNormal(alpha=1.0, maxiter=100000)\n",
    "    ))\n",
    "\n",
    "(\n",
    "    is_converged,\n",
    "    score_margin,\n",
    "    completeness_ratio,\n",
    "    excess_paths,\n",
    "    relative_stderr,\n",
    "    absolute_stderr,\n",
    "    result,\n",
    ")"
   ]
  },
  {
   "cell_type": "raw",
   "id": "c9cf3a69-f3ee-48fd-9101-e56d48e5f794",
   "metadata": {
    "execution": {
     "iopub.execute_input": "2024-05-13T16:43:47.832067Z",
     "iopub.status.busy": "2024-05-13T16:43:47.831474Z",
     "iopub.status.idle": "2024-05-13T16:43:51.761315Z",
     "shell.execute_reply": "2024-05-13T16:43:51.760491Z",
     "shell.execute_reply.started": "2024-05-13T16:43:47.832029Z"
    }
   },
   "source": [
    "%autoreload"
   ]
  },
  {
   "cell_type": "raw",
   "id": "2226a0af-9a37-4ed3-bb6d-d8b7e60d6624",
   "metadata": {
    "execution": {
     "iopub.execute_input": "2024-05-13T16:25:58.934813Z",
     "iopub.status.busy": "2024-05-13T16:25:58.934091Z",
     "iopub.status.idle": "2024-05-13T16:25:58.945874Z",
     "shell.execute_reply": "2024-05-13T16:25:58.943675Z",
     "shell.execute_reply.started": "2024-05-13T16:25:58.934764Z"
    }
   },
   "source": [
    "import strainzip.depth_model4"
   ]
  },
  {
   "cell_type": "raw",
   "id": "a655b817-04d8-4364-ba34-d07e2bbbad88",
   "metadata": {
    "execution": {
     "iopub.execute_input": "2024-05-13T16:44:28.176892Z",
     "iopub.status.busy": "2024-05-13T16:44:28.176449Z",
     "iopub.status.idle": "2024-05-13T16:44:28.326735Z",
     "shell.execute_reply": "2024-05-13T16:44:28.323251Z",
     "shell.execute_reply.started": "2024-05-13T16:44:28.176861Z"
    }
   },
   "source": [
    "for paths in [(1, 2, 3), (0, 1, 2, 3), (3,), (0, 3)]:\n",
    "    f = sz.depth_model4.SoftPlusStudentsT().fit(y, X[:, paths])\n",
    "    print(sz.depth_model4.loglik(f.beta, f.sigma, f.df, f.y, f.X), f.score)"
   ]
  },
  {
   "cell_type": "raw",
   "id": "f401f663-3d98-416e-8652-cbf9b645a63e",
   "metadata": {
    "execution": {
     "iopub.execute_input": "2024-05-13T16:32:47.343140Z",
     "iopub.status.busy": "2024-05-13T16:32:47.342647Z",
     "iopub.status.idle": "2024-05-13T16:32:47.352690Z",
     "shell.execute_reply": "2024-05-13T16:32:47.351211Z",
     "shell.execute_reply.started": "2024-05-13T16:32:47.343115Z"
    }
   },
   "source": [
    "from jax.scipy.stats import norm as JaxNormalDistribution\n",
    "\n",
    "JaxNormalDistribution"
   ]
  },
  {
   "cell_type": "raw",
   "id": "9aa06406-ed7a-49be-abc9-999c2dbc07ea",
   "metadata": {
    "execution": {
     "iopub.execute_input": "2024-05-13T16:03:29.209643Z",
     "iopub.status.busy": "2024-05-13T16:03:29.209232Z",
     "iopub.status.idle": "2024-05-13T16:03:29.314551Z",
     "shell.execute_reply": "2024-05-13T16:03:29.288625Z",
     "shell.execute_reply.started": "2024-05-13T16:03:29.209607Z"
    }
   },
   "source": [
    "f = fit2\n",
    "\n",
    "sz.depth_model2.loglik(f.beta, f.sigma, f.y, f.X)"
   ]
  },
  {
   "cell_type": "raw",
   "id": "7407cab3-a92b-4732-bbe0-b2cf36e6576d",
   "metadata": {
    "execution": {
     "iopub.execute_input": "2024-05-13T16:11:28.432945Z",
     "iopub.status.busy": "2024-05-13T16:11:28.432573Z",
     "iopub.status.idle": "2024-05-13T16:11:29.275472Z",
     "shell.execute_reply": "2024-05-13T16:11:29.258526Z",
     "shell.execute_reply.started": "2024-05-13T16:11:28.432921Z"
    }
   },
   "source": [
    "for k, f in {'3path': fit, '2path': fit2}.items():\n",
    "    plt.hist((f.residual / f.sigma).ravel(), label=k, alpha=0.5)\n",
    "plt.legend()"
   ]
  },
  {
   "cell_type": "raw",
   "id": "74c637ff-d1e8-4d30-8a18-22eca73c6e95",
   "metadata": {
    "execution": {
     "iopub.execute_input": "2024-05-13T04:39:37.051072Z",
     "iopub.status.busy": "2024-05-13T04:39:37.050778Z",
     "iopub.status.idle": "2024-05-13T04:39:39.228781Z",
     "shell.execute_reply": "2024-05-13T04:39:39.227641Z",
     "shell.execute_reply.started": "2024-05-13T04:39:37.051051Z"
    }
   },
   "source": [
    "\n",
    "\n",
    "# _fit = sz.depth_model2.fit(fit.y, sz.deconvolution.design_paths(2, 2)[0][:, (0, 3)])\n",
    "# print(_fit.score)\n",
    "# fig = plt.figure()\n",
    "# sns.heatmap(_fit.residual, norm=mpl.colors.SymLogNorm(1, vmin=-1e3, vmax=1e3), cmap='coolwarm')\n",
    "\n",
    "# _fit = sz.depth_model.fit(fit.y, sz.deconvolution.design_paths(2, 2)[0][:,(0, 3)], alpha=1.0)\n",
    "# print(_fit.score)\n",
    "# fig = plt.figure()\n",
    "# sns.heatmap(_fit.residual, norm=mpl.colors.SymLogNorm(1, vmin=-1e2, vmax=1e2), cmap='coolwarm')\n",
    "\n",
    "# _fit = sz.depth_model.fit(fit.y, sz.deconvolution.design_paths(2, 2)[0][:,(1, 2)], alpha=1.0)\n",
    "# print(_fit.score)\n",
    "# fig = plt.figure()\n",
    "# sns.heatmap(_fit.residual, norm=mpl.colors.SymLogNorm(1, vmin=-1e2, vmax=1e2), cmap='coolwarm')"
   ]
  },
  {
   "cell_type": "raw",
   "id": "cb1a9435-fe97-43b5-9761-fb0f416d5c5c",
   "metadata": {},
   "source": [
    "j = 681824\n",
    "\n",
    "condition_thresh = 1e6\n",
    "score_margin_thesh = 10\n",
    "\n",
    "_, in_neighbors, in_flows, out_neighbors, out_flows = list(\n",
    "    _iter_junction_deconvolution_data(\n",
    "        [j], nounzip_graph, flow, max_paths=1000\n",
    "    )\n",
    ")[0]\n",
    "\n",
    "n, m = len(in_neighbors), len(out_neighbors)\n",
    "fit, paths, named_paths, score_margin = sz.deconvolution.deconvolve_junction(\n",
    "    in_neighbors,\n",
    "    in_flows,\n",
    "    out_neighbors,\n",
    "    out_flows,\n",
    "    model=sz.depth_model2.SoftPlusNormal(),\n",
    "    forward_stop=-0,\n",
    "    backward_stop=0,\n",
    "    verbose=True,\n",
    ")\n",
    "\n",
    "X = sz.deconvolution.design_paths(n, m)[0]\n",
    "\n",
    "print()\n",
    "print(f\"{n} x {m}\")\n",
    "print(f\"score_margin={score_margin}\")\n",
    "print(f\"completeness={X[:, paths].sum(1)}\")\n",
    "print(f\"minimalism={len(paths)}\")\n",
    "print(f\"condition={np.linalg.cond(fit.hessian_beta)}\")\n",
    "\n",
    "fim = np.linalg.inv(fit.hessian_beta)\n",
    "stderr = np.diag(fim).reshape(fit.beta.shape)"
   ]
  },
  {
   "cell_type": "raw",
   "id": "eb6ed540-538c-42d7-afb1-ee3c69ac2601",
   "metadata": {
    "execution": {
     "iopub.execute_input": "2024-05-10T19:11:39.511707Z",
     "iopub.status.busy": "2024-05-10T19:11:39.511453Z",
     "iopub.status.idle": "2024-05-10T19:11:39.531879Z",
     "shell.execute_reply": "2024-05-10T19:11:39.526682Z",
     "shell.execute_reply.started": "2024-05-10T19:11:39.511689Z"
    }
   },
   "source": [
    "flow[(680763, 273766)], flow[(680763, 588133)]"
   ]
  },
  {
   "cell_type": "raw",
   "id": "10d563e2-748a-497b-862d-917445aeab10",
   "metadata": {
    "execution": {
     "iopub.execute_input": "2024-05-01T20:06:37.804118Z",
     "iopub.status.busy": "2024-05-01T20:06:37.803529Z",
     "iopub.status.idle": "2024-05-01T20:06:37.863744Z",
     "shell.execute_reply": "2024-05-01T20:06:37.861670Z",
     "shell.execute_reply.started": "2024-05-01T20:06:37.804077Z"
    }
   },
   "source": [
    "final_results[lambda x: (x.num_in_neighbors == 4) & (x.num_out_neighbors == 4)].tail(20)"
   ]
  },
  {
   "cell_type": "raw",
   "id": "c60bb789-0bdb-40cd-9e52-ed1d0bf037fe",
   "metadata": {
    "execution": {
     "iopub.execute_input": "2024-05-01T19:45:16.178461Z",
     "iopub.status.busy": "2024-05-01T19:45:16.178065Z",
     "iopub.status.idle": "2024-05-01T19:45:18.319149Z",
     "shell.execute_reply": "2024-05-01T19:45:18.318183Z",
     "shell.execute_reply.started": "2024-05-01T19:45:16.178432Z"
    }
   },
   "source": [
    "%autoreload"
   ]
  },
  {
   "cell_type": "raw",
   "id": "6471d3f0-8506-42a0-aa29-eb028275ff13",
   "metadata": {
    "execution": {
     "iopub.execute_input": "2024-05-03T19:48:46.292908Z",
     "iopub.status.busy": "2024-05-03T19:48:46.292101Z",
     "iopub.status.idle": "2024-05-03T19:48:46.677477Z",
     "shell.execute_reply": "2024-05-03T19:48:46.676144Z",
     "shell.execute_reply.started": "2024-05-03T19:48:46.292562Z"
    }
   },
   "source": [
    "j = 140422\n",
    "\n",
    "condition_thresh = 1e6\n",
    "score_margin_thesh = 10\n",
    "\n",
    "_, in_neighbors, in_flows, out_neighbors, out_flows = list(\n",
    "    _iter_junction_deconvolution_data(\n",
    "        [j], final_graph, flow, max_paths=1000\n",
    "    )\n",
    ")[0]\n",
    "\n",
    "n, m = len(in_neighbors), len(out_neighbors)\n",
    "fit, paths, named_paths, score_margin = sz.deconvolution.deconvolve_junction(\n",
    "    in_neighbors,\n",
    "    in_flows,\n",
    "    out_neighbors,\n",
    "    out_flows,\n",
    "    model=sz.depth_model2.SoftPlusNormal(),\n",
    "    forward_stop=-0,\n",
    "    backward_stop=0,\n",
    "    verbose=True,\n",
    ")\n",
    "\n",
    "X = sz.deconvolution.design_paths(n, m)[0]\n",
    "\n",
    "print()\n",
    "print(f\"{n} x {m}\")\n",
    "print(f\"score_margin={score_margin}\")\n",
    "print(f\"completeness={X[:, paths].sum(1)}\")\n",
    "print(f\"minimalism={len(paths)}\")\n",
    "print(f\"condition={np.linalg.cond(fit.hessian_beta)}\")\n",
    "\n",
    "fim = np.linalg.inv(fit.hessian_beta)\n",
    "stderr = np.diag(fim).reshape(fit.beta.shape)"
   ]
  },
  {
   "cell_type": "raw",
   "id": "4f529d17-5227-4c75-9871-2c6467a903ee",
   "metadata": {
    "execution": {
     "iopub.execute_input": "2024-05-01T21:02:09.210995Z",
     "iopub.status.busy": "2024-05-01T21:02:09.210493Z",
     "iopub.status.idle": "2024-05-01T21:02:13.798894Z",
     "shell.execute_reply": "2024-05-01T21:02:13.797957Z",
     "shell.execute_reply.started": "2024-05-01T21:02:09.210950Z"
    }
   },
   "source": [
    "g = final_graph.copy()\n",
    "g"
   ]
  },
  {
   "cell_type": "raw",
   "id": "b578c207-36a5-47aa-8fb5-5d6cf22e5cec",
   "metadata": {
    "execution": {
     "iopub.execute_input": "2024-05-01T21:02:16.136729Z",
     "iopub.status.busy": "2024-05-01T21:02:16.136144Z",
     "iopub.status.idle": "2024-05-01T21:02:16.222323Z",
     "shell.execute_reply": "2024-05-01T21:02:16.167156Z",
     "shell.execute_reply.started": "2024-05-01T21:02:16.136693Z"
    }
   },
   "source": [
    "g.add_vertex("
   ]
  },
  {
   "cell_type": "code",
   "execution_count": null,
   "id": "35da67b5-d2b7-4b9d-8482-60e9c8ba7637",
   "metadata": {},
   "outputs": [],
   "source": []
  }
 ],
 "metadata": {
  "kernelspec": {
   "display_name": "strainzip",
   "language": "python",
   "name": "strainzip"
  },
  "language_info": {
   "codemirror_mode": {
    "name": "ipython",
    "version": 3
   },
   "file_extension": ".py",
   "mimetype": "text/x-python",
   "name": "python",
   "nbconvert_exporter": "python",
   "pygments_lexer": "ipython3",
   "version": "3.12.5"
  }
 },
 "nbformat": 4,
 "nbformat_minor": 5
}
