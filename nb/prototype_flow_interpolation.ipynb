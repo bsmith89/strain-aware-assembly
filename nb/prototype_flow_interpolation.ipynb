{
 "cells": [
  {
   "cell_type": "code",
   "execution_count": null,
   "metadata": {},
   "outputs": [],
   "source": [
    "%load_ext autoreload\n",
    "%autoreload"
   ]
  },
  {
   "cell_type": "code",
   "execution_count": null,
   "metadata": {},
   "outputs": [],
   "source": [
    "import os as _os\n",
    "_os.chdir(_os.environ['PROJECT_ROOT'])\n",
    "print(_os.path.realpath(_os.path.curdir))"
   ]
  },
  {
   "cell_type": "code",
   "execution_count": null,
   "metadata": {},
   "outputs": [],
   "source": [
    "import graph_tool as gt\n",
    "import graph_tool.draw\n",
    "import numpy as np\n",
    "import pandas as pd\n",
    "import scipy.sparse\n",
    "import scipy as sp\n",
    "from collections import defaultdict\n",
    "from tqdm import tqdm"
   ]
  },
  {
   "cell_type": "code",
   "execution_count": null,
   "metadata": {},
   "outputs": [],
   "source": [
    "# Functions for constructing graphs\n",
    "def path_to_edgelist(path):\n",
    "    u = path[0]\n",
    "    edges = []\n",
    "    for v in path[1:]:\n",
    "        edges.append((u, v))\n",
    "        u = v\n",
    "    return edges\n",
    "\n",
    "def new_graph_from_merged_paths(paths, lengths, depths):\n",
    "    g = gt.Graph()\n",
    "    for p in paths:\n",
    "        g.add_edge_list(path_to_edgelist(p))\n",
    "    g.vp['depth'] = g.new_vp('vector<float>')\n",
    "    g.vp.depth.set_2d_array(depths)\n",
    "    g.vp['length'] = g.new_vp('int', lengths)  \n",
    "    g.gp['nsample'] = g.new_gp('int', len(depths))\n",
    "    g.vp['sequence'] = g.new_vp('object', vals=[[k] for k in range(g.num_vertices())])\n",
    "    return g\n",
    "\n",
    "def get_depth_matrix(g, vs=None):\n",
    "    if not vs:\n",
    "        return g.vp.depth.get_2d_array(range(g.gp.nsample))\n",
    "    else:\n",
    "        return np.stack([_g.vp.depth[i] for i in vs], axis=1)"
   ]
  },
  {
   "cell_type": "code",
   "execution_count": null,
   "metadata": {},
   "outputs": [],
   "source": [
    "def draw_graph(g, **kwargs):\n",
    "    return gt.draw.graph_draw(g, output_size=(300, 300), ink_scale=0.8, **kwargs)"
   ]
  },
  {
   "cell_type": "code",
   "execution_count": null,
   "metadata": {},
   "outputs": [],
   "source": [
    "paths = [\n",
    "    [0, 1, 3],\n",
    "    [2, 3],\n",
    "    [2, 2],\n",
    "]\n",
    "\n",
    "nsamples = 1\n",
    "nnodes = 4\n",
    "\n",
    "g0 = new_graph_from_merged_paths(\n",
    "    paths,\n",
    "    depths=np.array(np.arange(1, nsamples * nnodes + 1).reshape(nsamples, nnodes)),\n",
    "    lengths=np.array([1] * nnodes),\n",
    ")"
   ]
  },
  {
   "cell_type": "code",
   "execution_count": null,
   "metadata": {},
   "outputs": [],
   "source": [
    "get_depth_matrix(g0)"
   ]
  },
  {
   "cell_type": "code",
   "execution_count": null,
   "metadata": {},
   "outputs": [],
   "source": [
    "g0_pos = draw_graph(g0, vertex_text=g0.vertex_index)\n",
    "draw_graph(g0, pos=g0_pos, vertex_text=g0.vp.depth)"
   ]
  },
  {
   "cell_type": "code",
   "execution_count": null,
   "metadata": {},
   "outputs": [],
   "source": [
    "%%time\n",
    "\n",
    "sample_idx = 0\n",
    "f0 = sp.sparse.csr_array(gt.spectral.adjacency(g0))\n",
    "d = g0.vp.depth.get_2d_array([sample_idx])[0]\n",
    "\n",
    "# print(f0.toarray())\n",
    "f = f0\n",
    "\n",
    "hist = []\n",
    "for _ in range(100):\n",
    "    f_out = f\n",
    "    f_total_out = f_out.sum(1)\n",
    "    d_error_out = f_total_out - d\n",
    "    f_frac_out = (f_out.T * np.nan_to_num(1 / f_total_out, nan=0.0, posinf=1.0)).T\n",
    "    allocated_d_error_out = (d_error_out * f_frac_out.T).T\n",
    "    f_in = f_out.T\n",
    "    f_total_in = f_in.sum(1)\n",
    "    d_error_in = f_total_in - d\n",
    "    f_frac_in = (f_in.T * np.nan_to_num(1 / f_total_in, nan=0.0, posinf=1.0)).T\n",
    "    allocated_d_error_in = (d_error_in * f_frac_in.T).T\n",
    "    mean_allocated_d_error = (allocated_d_error_in.T + allocated_d_error_out) / 2\n",
    "    f = (f_out - mean_allocated_d_error)\n",
    "    hist.append(f)\n",
    "# print(f.toarray())"
   ]
  },
  {
   "cell_type": "code",
   "execution_count": null,
   "metadata": {},
   "outputs": [],
   "source": [
    "np.nan < 1"
   ]
  },
  {
   "cell_type": "code",
   "execution_count": null,
   "metadata": {},
   "outputs": [],
   "source": [
    "def calculated_interpolated_flow(g, sample_idx, eps=1e-2, maxiter=100):\n",
    "    f = sp.sparse.csr_array(gt.spectral.adjacency(g))\n",
    "    d = g.vp.depth.get_2d_array([sample_idx])[0]\n",
    "    loss_hist = [np.inf]\n",
    "    for step_i in range(maxiter):\n",
    "        f_out = f\n",
    "        f_total_out = f_out.sum(1)\n",
    "        d_error_out = f_total_out - d\n",
    "        f_in = f_out.T\n",
    "        f_total_in = f_in.sum(1)\n",
    "        d_error_in = f_total_in - d\n",
    "        loss_hist.append(np.square(d_error_out).sum() + np.square(d_error_in).sum())\n",
    "        loss_ratio = (loss_hist[-2] - loss_hist[-1]) / loss_hist[-2]\n",
    "        # print(loss_ratio)\n",
    "        if loss_ratio < eps:\n",
    "            # print(loss_hist[-1], loss_ratio)\n",
    "            # print(step_i)\n",
    "            break\n",
    "        f_frac_out = (f_out.T * np.nan_to_num(1 / f_total_out, nan=0.0, posinf=1.0)).T\n",
    "        allocated_d_error_out = (d_error_out * f_frac_out.T).T\n",
    "        f_frac_in = (f_in.T * np.nan_to_num(1 / f_total_in, nan=0.0, posinf=1.0)).T\n",
    "        allocated_d_error_in = (d_error_in * f_frac_in.T).T\n",
    "        mean_allocated_d_error = (allocated_d_error_in.T + allocated_d_error_out) / 2\n",
    "        f = (f_out - mean_allocated_d_error)\n",
    "    return f"
   ]
  },
  {
   "cell_type": "code",
   "execution_count": null,
   "metadata": {},
   "outputs": [],
   "source": [
    "nvertices = 1_000_000\n",
    "vs = list(range(nvertices))\n",
    "paths = (\n",
    "    [\n",
    "        vs,  # A long genome\n",
    "        list(np.random.choice(vs, 50000)), # Long-range interconnects\n",
    "        list(np.random.choice(vs, 50000)),\n",
    "        list(np.random.choice(vs, 50000)),\n",
    "    ]\n",
    "    + [[c, c] for c in np.random.choice(vs, 50000)] # Self-loops\n",
    ")\n",
    "g1 = new_graph_from_merged_paths(\n",
    "    paths,\n",
    "    depths=np.random.randint(0, 10, size=(1, nvertices)),\n",
    "    lengths=np.array([1] * nvertices),\n",
    ")\n",
    "g1\n",
    "\n",
    "%prun f = calculated_interpolated_flow(g1, sample_idx=0, maxiter=1000, eps=1e-5)"
   ]
  },
  {
   "cell_type": "code",
   "execution_count": null,
   "metadata": {},
   "outputs": [],
   "source": [
    "paths = [\n",
    "    [0, 1, 2, 0],\n",
    "    [0, 0],\n",
    "    [2, 3],\n",
    "]\n",
    "\n",
    "nsamples = 1\n",
    "nnodes = 4\n",
    "\n",
    "g2 = new_graph_from_merged_paths(\n",
    "    paths,\n",
    "    depths=np.array([[100, 5, 50, 0]]),\n",
    "    lengths=np.array([1] * nnodes),\n",
    ")\n",
    "\n",
    "f2 = calculated_interpolated_flow(g2, sample_idx=0)\n",
    "print(f2.toarray())\n",
    "\n",
    "flow2 = []\n",
    "for sample_idx in range(g2.gp.nsample):\n",
    "    flow = g2.new_edge_property('float', val=0)\n",
    "    for i, j in g2.get_edges():\n",
    "        print((i, j), f2[j, i])\n",
    "        flow[g2.edge(i, j)] = np.round(f2[j, i], 0)\n",
    "    print(flow.a)\n",
    "    flow2.append(flow)\n",
    "    \n",
    "flow2 = gt.group_vector_property(flow2)\n",
    "print(flow2.get_2d_array(pos=[0]))\n",
    "\n",
    "g2.ep['flow'] = flow2\n",
    "\n",
    "\n",
    "g2_pos = gt.draw.graph_draw(g2, output_size=(300, 300), ink_scale=1.0, vertex_text=g2.vertex_index, fit_view_ink=True)\n",
    "gt.draw.graph_draw(g2, output_size=(300, 300), ink_scale=1.0, pos=g2_pos, vertex_text=g2.vp.depth, edge_text=flow2, fit_view_ink=True)"
   ]
  }
 ],
 "metadata": {
  "kernelspec": {
   "display_name": "default",
   "language": "python",
   "name": "default"
  },
  "language_info": {
   "codemirror_mode": {
    "name": "ipython",
    "version": 3
   },
   "file_extension": ".py",
   "mimetype": "text/x-python",
   "name": "python",
   "nbconvert_exporter": "python",
   "pygments_lexer": "ipython3",
   "version": "3.10.6"
  }
 },
 "nbformat": 4,
 "nbformat_minor": 5
}