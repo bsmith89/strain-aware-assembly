{
 "cells": [
  {
   "cell_type": "code",
   "execution_count": null,
   "metadata": {},
   "outputs": [],
   "source": [
    "%load_ext autoreload\n",
    "%autoreload\n",
    "%load_ext line_profiler"
   ]
  },
  {
   "cell_type": "code",
   "execution_count": null,
   "metadata": {},
   "outputs": [],
   "source": [
    "import os as _os\n",
    "_os.chdir(_os.environ['PROJECT_ROOT'])\n",
    "print(_os.path.realpath(_os.path.curdir))"
   ]
  },
  {
   "cell_type": "code",
   "execution_count": null,
   "metadata": {},
   "outputs": [],
   "source": [
    "from lib.saa_prototype import *"
   ]
  },
  {
   "cell_type": "code",
   "execution_count": null,
   "metadata": {},
   "outputs": [],
   "source": [
    "import graph_tool as gt\n",
    "import numpy as np"
   ]
  },
  {
   "cell_type": "code",
   "execution_count": null,
   "metadata": {},
   "outputs": [],
   "source": [
    "nucleotide_sequences = []\n",
    "links = []\n",
    "lengths = []\n",
    "# with open('data/genbank/ecoli.mg1655.bcalm-k191.gfa') as f:\n",
    "# with open('data/genbank/ecoli.o121h19.bcalm-k191.gfa') as f:\n",
    "# with open('data/genbank/bdorei.dsm17855.bcalm-k191.gfa') as f:\n",
    "# with open('data/both_species.bcalm-k191.gfa') as f:\n",
    "with open('data/both_strains.bcalm-k191.gfa') as f:\n",
    "    for line in f:\n",
    "        if line.startswith('S'):\n",
    "            _, idx, nucl, *_ = line.split()\n",
    "            nucleotide_sequences.append(nucl)\n",
    "            lengths.append(len(nucl))\n",
    "        elif line.startswith('L'):\n",
    "            _, left_idx, left_sign, right_idx, right_sign, _ = line.split()\n",
    "            left_idx = int(left_idx)\n",
    "            right_idx = int(right_idx)\n",
    "            left_reverse = left_sign == '-'\n",
    "            right_reverse = right_sign == '-'\n",
    "            links.append(((left_idx, left_reverse), (right_idx, right_reverse)))"
   ]
  },
  {
   "cell_type": "code",
   "execution_count": null,
   "metadata": {},
   "outputs": [],
   "source": [
    "num_nucleotide_sequences = len(nucleotide_sequences)"
   ]
  },
  {
   "cell_type": "code",
   "execution_count": null,
   "metadata": {},
   "outputs": [],
   "source": [
    "print(len(nucleotide_sequences))\n",
    "nucleotide_sequences[:10]"
   ]
  },
  {
   "cell_type": "code",
   "execution_count": null,
   "metadata": {},
   "outputs": [],
   "source": [
    "print(len(links))\n",
    "links[:10]"
   ]
  },
  {
   "cell_type": "code",
   "execution_count": null,
   "metadata": {},
   "outputs": [],
   "source": [
    "def f_idx(i):\n",
    "    return i * 2 + 0\n",
    "\n",
    "\n",
    "def r_idx(i):\n",
    "    return i * 2 + 1\n",
    "\n",
    "\n",
    "def idx(i, reverse):\n",
    "    return i * 2 + reverse"
   ]
  },
  {
   "cell_type": "code",
   "execution_count": null,
   "metadata": {},
   "outputs": [],
   "source": [
    "edges = []\n",
    "for (left_i, left_reverse), (right_i, right_reverse) in links:\n",
    "    edges.append((\n",
    "        idx(left_i, left_reverse),\n",
    "        idx(right_i, right_reverse)\n",
    "    ))\n",
    "    # It's not clear why the reverse edge is already\n",
    "    # in the GFA file, but it is.\n",
    "    edges.append((\n",
    "        idx(right_i, not right_reverse),\n",
    "        idx(left_i, not left_reverse)\n",
    "    ))\n",
    "    \n",
    "print(len(edges))\n",
    "edges = list(set(edges))\n",
    "print(len(edges))\n",
    "edges[:10]"
   ]
  },
  {
   "cell_type": "raw",
   "metadata": {},
   "source": [
    "string = 'CCGCGTCTTATCAGGCCTACGCCAGACAGCGCAATAGCCTGATTTAGCGTGATTTTGTAGGTCGGATAAGGCGTTTATGCCGCATCCGACATCAACGCCTGATGCGACGCTTAACGCGTCTTATCAGGCCTACGCCAGACAGCGCAATAGCCTGATTTAGCGTGATTTTGTAGGTCGGATAAGGCGTTTAC'\n",
    "COMPLEMENT = {'A': 'T', 'C': 'G', 'G': 'C', 'T': 'A'}\n",
    "def reverse_complement(nucl):\n",
    "    out = []\n",
    "    for b in reversed(nucl):\n",
    "        out.append(COMPLEMENT[b])\n",
    "    return ''.join(out)\n",
    "\n",
    "reverse_complement(string)"
   ]
  },
  {
   "cell_type": "code",
   "execution_count": null,
   "metadata": {},
   "outputs": [],
   "source": [
    "g = gt.Graph()\n",
    "g.add_edge_list(edges)\n",
    "g.vp['length'] = g.new_vertex_property('int', val=0)\n",
    "g.vp['sequence'] = g.new_vertex_property('object', val=[])\n",
    "g.vp['depth'] = g.new_vertex_property('vector<float>', val=[0])\n",
    "g.gp['nsample'] = g.new_graph_property('int', val=1)\n",
    "for i, l in enumerate(lengths):\n",
    "    g.vp.length[f_idx(i)] = l\n",
    "    g.vp.length[r_idx(i)] = l\n",
    "    g.vp.depth[f_idx(i)] = np.array([1])\n",
    "    g.vp.depth[r_idx(i)] = np.array([1])\n",
    "    g.vp.sequence[f_idx(i)] = [f_idx(i)]\n",
    "    g.vp.sequence[r_idx(i)] = [r_idx(i)]\n",
    "    \n",
    "gg = [g]\n",
    "gg"
   ]
  },
  {
   "cell_type": "code",
   "execution_count": null,
   "metadata": {},
   "outputs": [],
   "source": [
    "draw_graph(g, output_size=(2000, 2000))"
   ]
  },
  {
   "cell_type": "code",
   "execution_count": null,
   "metadata": {},
   "outputs": [],
   "source": [
    "g.vp.length.a[[65, 670]]"
   ]
  },
  {
   "cell_type": "code",
   "execution_count": null,
   "metadata": {},
   "outputs": [],
   "source": [
    "gg.append(gg[-1].copy())\n",
    "mutate_compress_all_unitigs(gg[-1])\n",
    "assert gg[0].num_edges() == gg[-1].num_edges(), \"Compressing the raw graph SHOULD be a no-op. \"\n",
    "# FIXME: Apparently this isn't actually true?\n",
    "\n",
    "assert (depth_matrix(gg[0]) == depth_matrix(gg[-1])).all()"
   ]
  },
  {
   "cell_type": "code",
   "execution_count": null,
   "metadata": {},
   "outputs": [],
   "source": [
    "bins = np.logspace(0, 7, num=51)\n",
    "plt.hist(gg[-1].vp.length.a, bins=bins)\n",
    "plt.yscale('log')\n",
    "plt.xscale('log')\n",
    "None"
   ]
  },
  {
   "cell_type": "code",
   "execution_count": null,
   "metadata": {},
   "outputs": [],
   "source": [
    "x = (pd.Series(gg[-1].vp.length.a).sort_values(ascending=False).cumsum() / 2)\n",
    "plt.plot(np.arange(1, len(x) + 1) / 2, x.values)\n",
    "plt.xscale('log')"
   ]
  },
  {
   "cell_type": "code",
   "execution_count": null,
   "metadata": {},
   "outputs": [],
   "source": [
    "description = describe_nodes(gg[-1])"
   ]
  },
  {
   "cell_type": "code",
   "execution_count": null,
   "metadata": {},
   "outputs": [],
   "source": [
    "description.sort_values('length', ascending=False)"
   ]
  }
 ],
 "metadata": {
  "kernelspec": {
   "display_name": "default",
   "language": "python",
   "name": "default"
  },
  "language_info": {
   "codemirror_mode": {
    "name": "ipython",
    "version": 3
   },
   "file_extension": ".py",
   "mimetype": "text/x-python",
   "name": "python",
   "nbconvert_exporter": "python",
   "pygments_lexer": "ipython3",
   "version": "3.10.6"
  }
 },
 "nbformat": 4,
 "nbformat_minor": 5
}